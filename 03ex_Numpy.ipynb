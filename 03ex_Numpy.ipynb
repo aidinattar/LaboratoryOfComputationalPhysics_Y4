{
 "cells": [
  {
   "cell_type": "markdown",
   "metadata": {},
   "source": [
    "### Numpy basics"
   ]
  },
  {
   "cell_type": "markdown",
   "metadata": {},
   "source": [
    "1\\. Find the row, column and overall means for the following matrix:\n",
    "\n",
    "```python\n",
    "m = np.arange(12).reshape((3,4))\n",
    "```"
   ]
  },
  {
   "cell_type": "code",
   "execution_count": 19,
   "metadata": {},
   "outputs": [
    {
     "name": "stdout",
     "output_type": "stream",
     "text": [
      "[[ 0  1  2  3]\n",
      " [ 4  5  6  7]\n",
      " [ 8  9 10 11]]\n",
      "Row means\n",
      " [[1.5]\n",
      " [5.5]\n",
      " [9.5]]\n",
      "Column means\n",
      " [4. 5. 6. 7.]\n",
      "Overall mean\n",
      " 5.5\n"
     ]
    }
   ],
   "source": [
    "import numpy as np\n",
    "m = np.arange(12).reshape((3,4))\n",
    "print(m)\n",
    "\n",
    "mrow = np.array([np.average(m[i]) for i in range(m.shape[0])]).reshape(-1,1)\n",
    "print('Row means\\n', mrow)\n",
    "\n",
    "mcol = np.array([np.average(m[:,i]) for i in range(m.shape[1])])\n",
    "print('Column means\\n',mcol)\n",
    "\n",
    "mtot = np.average(m)\n",
    "print('Overall mean\\n', mtot)"
   ]
  },
  {
   "cell_type": "markdown",
   "metadata": {},
   "source": [
    "2\\. Find the outer product of the following two vecotrs\n",
    "\n",
    "```python\n",
    "u = np.array([1,3,5,7])\n",
    "v = np.array([2,4,6,8])\n",
    "```\n",
    "\n",
    "Do this in the following ways:\n",
    "\n",
    "   * Using the function outer in numpy\n",
    "   * Using a nested for loop or list comprehension\n",
    "   * Using numpy broadcasting operatoins\n"
   ]
  },
  {
   "cell_type": "code",
   "execution_count": 20,
   "metadata": {},
   "outputs": [
    {
     "name": "stdout",
     "output_type": "stream",
     "text": [
      "Outer function of numpy\n",
      " [[ 2  4  6  8]\n",
      " [ 6 12 18 24]\n",
      " [10 20 30 40]\n",
      " [14 28 42 56]]\n",
      "List comprehension method\n",
      " [[ 2  4  6  8]\n",
      " [ 6 12 18 24]\n",
      " [10 20 30 40]\n",
      " [14 28 42 56]]\n",
      "Broadcasting operation method\n",
      " [[ 2  4  6  8]\n",
      " [ 6 12 18 24]\n",
      " [10 20 30 40]\n",
      " [14 28 42 56]]\n"
     ]
    }
   ],
   "source": [
    "u = np.array([1,3,5,7])\n",
    "v = np.array([2,4,6,8])\n",
    "\n",
    "\n",
    "print('Outer function of numpy\\n', np.outer(u, v))\n",
    "print('List comprehension method\\n', np.array([u[i] * v[j] for i in range(len(u)) for j in range(len(v))]).reshape(4,4))\n",
    "print('Broadcasting operation method\\n', u.reshape(-1, 1) * v.reshape(1, -1))\n"
   ]
  },
  {
   "cell_type": "markdown",
   "metadata": {},
   "source": [
    "3\\. Create a 10 by 6 matrix of random uniform numbers. Set all rows with any entry less than 0.1 to be zero\n",
    "\n",
    "Hint: Use the following numpy functions - np.random.random, np.any as well as Boolean indexing and the axis argument."
   ]
  },
  {
   "cell_type": "code",
   "execution_count": 21,
   "metadata": {},
   "outputs": [
    {
     "name": "stdout",
     "output_type": "stream",
     "text": [
      "[[0.75383377 0.97883975 0.96150737 0.32925816 0.60951725 0.92231663]\n",
      " [0.52810228 0.59437022 0.52074917 0.         0.24256883 0.47589107]\n",
      " [0.20660128 0.24402128 0.53426832 0.47214822 0.7153759  0.72842774]\n",
      " [0.82771961 0.70200907 0.30102527 0.15827676 0.88888586 0.80022204]\n",
      " [0.97924295 0.54772419 0.2835685  0.         0.19444331 0.54101762]\n",
      " [0.61681836 0.7426734  0.74459821 0.         0.779592   0.72475752]\n",
      " [0.43860918 0.94835747 0.42388201 0.65143147 0.11038031 0.70686719]\n",
      " [0.         0.72518956 0.84764888 0.91242435 0.1259953  0.96555694]\n",
      " [0.         0.9882602  0.35954255 0.61626116 0.39601063 0.42181531]\n",
      " [0.1564776  0.49887197 0.60402164 0.69881241 0.57571115 0.21861983]]\n"
     ]
    }
   ],
   "source": [
    "a = np.random.random_sample((10, 6))\n",
    "for i in range(a.shape[0]):\n",
    "    for j in range(a.shape[1]):\n",
    "        if a[i, j] < 0.1:\n",
    "            a[i, j] = 0\n",
    "print(a)"
   ]
  },
  {
   "cell_type": "markdown",
   "metadata": {},
   "source": [
    "4\\. Use np.linspace to create an array of 100 numbers between 0 and 2π (includsive).\n",
    "\n",
    "  * Extract every 10th element using slice notation\n",
    "  * Reverse the array using slice notation\n",
    "  * Extract elements where the absolute difference between the sine and cosine functions evaluated at that element is less than 0.1\n",
    "  * Make a plot showing the sin and cos functions and indicate where they are close"
   ]
  },
  {
   "cell_type": "code",
   "execution_count": 22,
   "metadata": {},
   "outputs": [
    {
     "name": "stdout",
     "output_type": "stream",
     "text": [
      "[0.         0.06346652 0.12693304 0.19039955 0.25386607 0.31733259\n",
      " 0.38079911 0.44426563 0.50773215 0.57119866 0.63466518 0.6981317\n",
      " 0.76159822 0.82506474 0.88853126 0.95199777 1.01546429 1.07893081\n",
      " 1.14239733 1.20586385 1.26933037 1.33279688 1.3962634  1.45972992\n",
      " 1.52319644 1.58666296 1.65012947 1.71359599 1.77706251 1.84052903\n",
      " 1.90399555 1.96746207 2.03092858 2.0943951  2.15786162 2.22132814\n",
      " 2.28479466 2.34826118 2.41172769 2.47519421 2.53866073 2.60212725\n",
      " 2.66559377 2.72906028 2.7925268  2.85599332 2.91945984 2.98292636\n",
      " 3.04639288 3.10985939 3.17332591 3.23679243 3.30025895 3.36372547\n",
      " 3.42719199 3.4906585  3.55412502 3.61759154 3.68105806 3.74452458\n",
      " 3.8079911  3.87145761 3.93492413 3.99839065 4.06185717 4.12532369\n",
      " 4.1887902  4.25225672 4.31572324 4.37918976 4.44265628 4.5061228\n",
      " 4.56958931 4.63305583 4.69652235 4.75998887 4.82345539 4.88692191\n",
      " 4.95038842 5.01385494 5.07732146 5.14078798 5.2042545  5.26772102\n",
      " 5.33118753 5.39465405 5.45812057 5.52158709 5.58505361 5.64852012\n",
      " 5.71198664 5.77545316 5.83891968 5.9023862  5.96585272 6.02931923\n",
      " 6.09278575 6.15625227 6.21971879 6.28318531]\n",
      "[0.         0.63466518 1.26933037 1.90399555 2.53866073 3.17332591\n",
      " 3.8079911  4.44265628 5.07732146 5.71198664]\n",
      "[6.28318531 6.21971879 6.15625227 6.09278575 6.02931923 5.96585272\n",
      " 5.9023862  5.83891968 5.77545316 5.71198664 5.64852012 5.58505361\n",
      " 5.52158709 5.45812057 5.39465405 5.33118753 5.26772102 5.2042545\n",
      " 5.14078798 5.07732146 5.01385494 4.95038842 4.88692191 4.82345539\n",
      " 4.75998887 4.69652235 4.63305583 4.56958931 4.5061228  4.44265628\n",
      " 4.37918976 4.31572324 4.25225672 4.1887902  4.12532369 4.06185717\n",
      " 3.99839065 3.93492413 3.87145761 3.8079911  3.74452458 3.68105806\n",
      " 3.61759154 3.55412502 3.4906585  3.42719199 3.36372547 3.30025895\n",
      " 3.23679243 3.17332591 3.10985939 3.04639288 2.98292636 2.91945984\n",
      " 2.85599332 2.7925268  2.72906028 2.66559377 2.60212725 2.53866073\n",
      " 2.47519421 2.41172769 2.34826118 2.28479466 2.22132814 2.15786162\n",
      " 2.0943951  2.03092858 1.96746207 1.90399555 1.84052903 1.77706251\n",
      " 1.71359599 1.65012947 1.58666296 1.52319644 1.45972992 1.3962634\n",
      " 1.33279688 1.26933037 1.20586385 1.14239733 1.07893081 1.01546429\n",
      " 0.95199777 0.88853126 0.82506474 0.76159822 0.6981317  0.63466518\n",
      " 0.57119866 0.50773215 0.44426563 0.38079911 0.31733259 0.25386607\n",
      " 0.19039955 0.12693304 0.06346652 0.        ]\n",
      "[0.76159822 0.82506474 3.87145761 3.93492413]\n"
     ]
    },
    {
     "data": {
      "image/png": "[encoded data removed]",
      "text/plain": [
       "<Figure size 432x288 with 1 Axes>"
      ]
     },
     "metadata": {
      "needs_background": "light"
     },
     "output_type": "display_data"
    }
   ],
   "source": [
    "a = np.linspace(0, 2*np.pi, 100)\n",
    "print(a)\n",
    "print(a[::10])\n",
    "print(a[::-1])\n",
    "b = np.abs(np.sin(a) - np.cos(a)) < 0.1\n",
    "print(a[b])\n",
    "\n",
    "\n",
    "import matplotlib.pyplot as plt\n",
    "plt.plot(a, np.sin(a), color = 'C0')\n",
    "plt.plot(a, np.cos(a), color = 'purple')\n",
    "plt.scatter(a[b], np.sin(a[b]), color = 'orange' )\n",
    "plt.scatter(a[b], np.cos(a[b]), color = 'red' )\n",
    "plt.grid()\n",
    "plt.show()"
   ]
  },
  {
   "cell_type": "markdown",
   "metadata": {},
   "source": [
    "5\\. Create a matrix that shows the 10 by 10 multiplication table.\n",
    "\n",
    " * Find the trace of the matrix\n",
    " * Extract the anto-diagonal (this should be ```array([10, 18, 24, 28, 30, 30, 28, 24, 18, 10])```)\n",
    " * Extract the diagnoal offset by 1 upwards (this should be ```array([ 2,  6, 12, 20, 30, 42, 56, 72, 90])```)"
   ]
  },
  {
   "cell_type": "code",
   "execution_count": 23,
   "metadata": {},
   "outputs": [
    {
     "name": "stdout",
     "output_type": "stream",
     "text": [
      "[[  1   2   3   4   5   6   7   8   9  10]\n",
      " [  2   4   6   8  10  12  14  16  18  20]\n",
      " [  3   6   9  12  15  18  21  24  27  30]\n",
      " [  4   8  12  16  20  24  28  32  36  40]\n",
      " [  5  10  15  20  25  30  35  40  45  50]\n",
      " [  6  12  18  24  30  36  42  48  54  60]\n",
      " [  7  14  21  28  35  42  49  56  63  70]\n",
      " [  8  16  24  32  40  48  56  64  72  80]\n",
      " [  9  18  27  36  45  54  63  72  81  90]\n",
      " [ 10  20  30  40  50  60  70  80  90 100]]\n",
      "trace of the matrix:  385\n",
      "antidiagonal of the matrix:  [10 18 24 28 30 30 28 24 18 10]\n",
      "diagonal offset by 1 upwards:  [ 2  6 12 20 30 42 56 72 90]\n"
     ]
    }
   ],
   "source": [
    "tab = np.outer(np.arange(1, 11), np.arange(1, 11))\n",
    "print(tab)\n",
    "\n",
    "print('trace of the matrix: ', np.trace(tab))\n",
    "print('antidiagonal of the matrix: ', np.fliplr(tab).diagonal())\n",
    "print('diagonal offset by 1 upwards: ', np.diagonal(tab, offset=1))\n"
   ]
  },
  {
   "cell_type": "markdown",
   "metadata": {},
   "source": [
    "6\\. Use broadcasting to create a grid of distances\n",
    "\n",
    "Route 66 crosses the following cities in the US: Chicago, Springfield, Saint-Louis, Tulsa, Oklahoma City, Amarillo, Santa Fe, Albuquerque, Flagstaff, Los Angeles\n",
    "The corresponding positions in miles are: 0, 198, 303, 736, 871, 1175, 1475, 1544, 1913, 2448\n",
    "\n",
    "  * Construct a 2D grid of distances among each city along Route 66\n",
    "  * Convert that in km (those savages...)"
   ]
  },
  {
   "cell_type": "code",
   "execution_count": 24,
   "metadata": {},
   "outputs": [
    {
     "name": "stdout",
     "output_type": "stream",
     "text": [
      "[[   0.    318.65  487.63 1184.47 1401.74 1890.97 2373.78 2484.82 3078.67\n",
      "  3939.66]\n",
      " [ 318.65    0.    168.98  865.82 1083.09 1572.33 2055.13 2166.17 2760.02\n",
      "  3621.02]\n",
      " [ 487.63  168.98    0.    696.84  914.11 1403.34 1886.15 1997.19 2591.04\n",
      "  3452.03]\n",
      " [1184.47  865.82  696.84    0.    217.26  706.5  1189.3  1300.35 1894.19\n",
      "  2755.19]\n",
      " [1401.74 1083.09  914.11  217.26    0.    489.24  972.04 1083.09 1676.93\n",
      "  2537.93]\n",
      " [1890.97 1572.33 1403.34  706.5   489.24    0.    482.8   593.85 1187.69\n",
      "  2048.69]\n",
      " [2373.78 2055.13 1886.15 1189.3   972.04  482.8     0.    111.04  704.89\n",
      "  1565.89]\n",
      " [2484.82 2166.17 1997.19 1300.35 1083.09  593.85  111.04    0.    593.85\n",
      "  1454.84]\n",
      " [3078.67 2760.02 2591.04 1894.19 1676.93 1187.69  704.89  593.85    0.\n",
      "   861.  ]\n",
      " [3939.66 3621.02 3452.03 2755.19 2537.93 2048.69 1565.89 1454.84  861.\n",
      "     0.  ]]\n"
     ]
    }
   ],
   "source": [
    "positions = np.array([0, 198, 303, 736, 871, 1175, 1475, 1544, 1913, 2448])\n",
    "distances = np.abs( positions.reshape(1, 10) - positions.reshape(10,1) )\n",
    "print(np.around(distances*1.60934, 2))\n"
   ]
  },
  {
   "cell_type": "markdown",
   "metadata": {},
   "source": [
    "7\\. Prime numbers sieve: compute the prime numbers in the 0-N (N=99 to start with) range with a sieve (mask).\n",
    "  * Constract a shape (100,) boolean array, the mask\n",
    "  * Identify the multiples of each number starting from 2 and set accordingly the corresponding mask element\n",
    "  * Apply the mask to obtain an array of ordered prime numbers\n",
    "  * Check the performances (timeit); how does it scale with N?\n",
    "  * Implement the optimization suggested in the [sieve of Eratosthenes](https://en.wikipedia.org/wiki/Sieve_of_Eratosthenes)"
   ]
  },
  {
   "cell_type": "code",
   "execution_count": 26,
   "metadata": {},
   "outputs": [
    {
     "name": "stdout",
     "output_type": "stream",
     "text": [
      "[0.0006707079992338549, 0.0009608959990146104, 0.0025957910002034623, 0.005695021000065026, 0.013178197999877739, 0.03321281100033957, 0.03713920000154758, 0.06816727800105582, 0.10736984299910546, 0.24384729600024002, 0.6968284160011535, 1.8354541940007039, 3.365546467999593, 6.542428423999809, 12.965121905999695]\n",
      "[3.6175000786897726e-05, 0.00014938099957362283, 0.0002993620000779629, 0.0004623969998647226, 0.0008210769992729183, 0.001363088000289281, 0.0017357609995087842, 0.0028933619996678317, 0.0038450409992947243, 0.005442838999442756, 0.009696226001324249, 0.015282458000001498, 0.018267216999447555, 0.02844459300104063, 0.03930218099958438]\n"
     ]
    },
    {
     "data": {
      "text/plain": [
       "[<matplotlib.lines.Line2D at 0x7fe20e6b8c40>]"
      ]
     },
     "execution_count": 26,
     "metadata": {},
     "output_type": "execute_result"
    },
    {
     "data": {
      "image/png": "[encoded data removed]",
      "text/plain": [
       "<Figure size 432x288 with 1 Axes>"
      ]
     },
     "metadata": {
      "needs_background": "light"
     },
     "output_type": "display_data"
    }
   ],
   "source": [
    "def primes(N):\n",
    "    mask = np.ones([N,], dtype=bool)\n",
    "    for j in range(2, N):\n",
    "        mul = [i for i in range(j + 1, N) if i%j == 0]\n",
    "        #print(mul)\n",
    "        mask[mul] = False\n",
    "    return np.arange(N)[mask]\n",
    "\n",
    "#a = primes(100)\n",
    "\n",
    "'''%timeit primes(   10)\n",
    "%timeit primes(  100)\n",
    "%timeit primes( 1000)\n",
    "%timeit primes(10000)\n",
    "'''\n",
    "\n",
    "import timeit\n",
    "#start_time = timeit.default_timer()\n",
    "primes_time = []\n",
    "iter = [10, 100, 200, 300, 500, 800, 1000, 1500, 2000, 3000, 5000, 8000, 10000, 15000, 20000]\n",
    "for i in iter:\n",
    "    #foo = %timeit -o primes(i)\n",
    "    start_time = timeit.default_timer()\n",
    "    primes(i)\n",
    "    primes_time.append(timeit.default_timer() - start_time)\n",
    "print(primes_time)\n",
    "plt.plot(iter, primes_time)\n",
    "\n",
    "def eratosthenes(N):\n",
    "    mask = np.ones([N,], dtype=bool)\n",
    "    for j in range(2, N):\n",
    "        if j*2 < N:\n",
    "            mul = range(j*2, N, j)\n",
    "            mask[mul] = False\n",
    "        else:\n",
    "            break\n",
    "    return np.arange(N)[mask]\n",
    "\n",
    "eratosthenes_time = []\n",
    "for i in iter:\n",
    "    #foo = %timeit -o primes(i)\n",
    "    start_time = timeit.default_timer()\n",
    "    eratosthenes(i)\n",
    "    eratosthenes_time.append(timeit.default_timer() - start_time)\n",
    "print(eratosthenes_time)\n",
    "plt.plot(iter, eratosthenes_time)"
   ]
  },
  {
   "cell_type": "markdown",
   "metadata": {},
   "source": [
    "**N.B. the following exercises are meant to be solved only if you are familiar with the numpy random library. If not you can skip them (postponed for one of the next exercise sessions)**\n"
   ]
  },
  {
   "cell_type": "markdown",
   "metadata": {},
   "source": [
    "8\\. Diffusion using random walk\n",
    "\n",
    "Consider a simple random walk process: at each step in time, a walker jumps right or left (+1 or -1) with equal probability. The goal is to find the typical distance from the origin of a random walker after a given amount of time. \n",
    "To do that, let's simulate many walkers and create a 2D array with each walker as a raw and the actual time evolution as columns\n",
    "\n",
    "  * Take 1000 walkers and let them walk for 200 steps\n",
    "  * Use randint to create a 2D array of size walkers x steps with values -1 or 1\n",
    "  * Build the actual walking distances for each walker (i.e. another 2D array \"summing on each raw\")\n",
    "  * Take the square of that 2D array (elementwise)\n",
    "  * Compute the mean of the squared distances at each step (i.e. the mean along the columns)\n",
    "  * Plot the average distances (sqrt(distance\\*\\*2)) as a function of time (step)\n",
    "  \n",
    "Did you get what you expected?"
   ]
  },
  {
   "cell_type": "markdown",
   "metadata": {},
   "source": [
    "9\\. Analyze a data file \n",
    "  * Download the population of hares, lynxes and carrots at the beginning of the last century.\n",
    "    ```python\n",
    "    ! wget https://www.dropbox.com/s/3vigxoqayo389uc/populations.txt\n",
    "    ```\n",
    "\n",
    "  * Check the content by looking within the file\n",
    "  * Load the data (use an appropriate numpy method) into a 2D array\n",
    "  * Create arrays out of the columns, the arrays being (in order): *year*, *hares*, *lynxes*, *carrots* \n",
    "  * Plot the 3 populations over the years\n",
    "  * Compute the main statistical properties of the dataset (mean, std, correlations, etc.)\n",
    "  * Which species has the highest population each year?\n",
    "\n",
    "Do you feel there is some evident correlation here? [Studies](https://www.enr.gov.nt.ca/en/services/lynx/lynx-snowshoe-hare-cycle) tend to believe so."
   ]
  },
  {
   "cell_type": "code",
   "execution_count": null,
   "metadata": {},
   "outputs": [],
   "source": []
  }
 ],
 "metadata": {
  "kernelspec": {
   "display_name": "Python 3 (ipykernel)",
   "language": "python",
   "name": "python3"
  },
  "language_info": {
   "codemirror_mode": {
    "name": "ipython",
    "version": 3
   },
   "file_extension": ".py",
   "mimetype": "text/x-python",
   "name": "python",
   "nbconvert_exporter": "python",
   "pygments_lexer": "ipython3",
   "version": "3.8.5"
  }
 },
 "nbformat": 4,
 "nbformat_minor": 2
}
