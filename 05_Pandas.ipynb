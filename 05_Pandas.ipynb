{
 "cells": [
  {
   "cell_type": "markdown",
   "metadata": {},
   "source": [
    "# Pandas\n",
    "\n",
    "The `numpy` module is excellent for numerical computations, but to handle missing data or arrays with mixed types takes more work. The `pandas` module is currently the most widely used tool for data manipulation, providing high-performance, easy-to-use data structures and advanced data analysis tools.\n",
    "\n",
    "In particular `pandas` features:\n",
    "\n",
    "* A fast and efficient \"DataFrame\" object for data manipulation with integrated indexing;\n",
    "* Tools for reading and writing data between in-memory data structures and different formats (CSV, Excel, SQL, HDF5);\n",
    "* Intelligent data alignment and integrated handling of missing data;\n",
    "* Intelligent label-based slicing, fancy indexing, and subsetting of large data sets;\n",
    "* Aggregating or transforming data with a powerful \"group-by\" engine; \n",
    "* High performance merging and joining of data sets;\n",
    "* Hierarchical axis indexing provides an intuitive way of working with high-dimensional data in a lower-dimensional data structure;\n",
    "* Time series-functionalities;\n",
    "* Highly optimized for performance, with critical code paths written in Cython or C.\n"
   ]
  },
  {
   "cell_type": "code",
<<<<<<< HEAD
   "execution_count": 52,
=======
   "execution_count": 1,
>>>>>>> upstream/Attar_Aidin
   "metadata": {},
   "outputs": [],
   "source": [
    "import pandas as pd\n",
    "import numpy as np"
   ]
  },
  {
   "cell_type": "markdown",
   "metadata": {},
   "source": [
    "## Series\n",
    "\n",
    "Series are completely equivalent to 1D array but with axis labels and the possibility to store heterogeneous elements. Of paramount importance are the time-series, used to define time evolutions of a phenomenon. \n"
   ]
  },
  {
   "cell_type": "code",
<<<<<<< HEAD
   "execution_count": 53,
=======
   "execution_count": 2,
>>>>>>> upstream/Attar_Aidin
   "metadata": {},
   "outputs": [
    {
     "name": "stdout",
     "output_type": "stream",
     "text": [
      "xs: a    0.0\n",
      "b    0.5\n",
      "c    1.0\n",
      "d    1.5\n",
      "e    2.0\n",
      "f    2.5\n",
      "g    3.0\n",
      "h    3.5\n",
      "i    4.0\n",
      "j    4.5\n",
      "dtype: float64 \n",
      "\n",
      "xs indexes: Index(['a', 'b', 'c', 'd', 'e', 'f', 'g', 'h', 'i', 'j'], dtype='object') \n",
      "\n",
      "xs values: [0.  0.5 1.  1.5 2.  2.5 3.  3.5 4.  4.5] <class 'numpy.ndarray'> \n",
      "\n",
      "2.5 2.5 3.5 \n",
      "\n",
      "d    1.5\n",
      "f    2.5\n",
      "h    3.5\n",
      "dtype: float64 \n",
      "\n",
      "<class 'pandas.core.series.Series'> \n",
      "\n"
     ]
    }
   ],
   "source": [
    "from string import ascii_lowercase as letters\n",
    "\n",
    "# Creating a series, accessing indexes, values and values by their index \n",
    "xs = pd.Series(np.arange(10)*0.5, index=tuple(letters[:10]))\n",
    "print (\"xs:\", xs,'\\n')\n",
    "print (\"xs indexes:\",xs.index,'\\n')\n",
    "# Values of the Series are actually a numpy array\n",
    "# every series is a method\n",
    "print (\"xs values:\", xs.values, type(xs.values),'\\n')\n",
    "print (xs['f'], xs.f, xs.h, '\\n')\n",
    "print (xs[['d', 'f', 'h']], '\\n')\n",
    "print (type(xs[['d', 'f', 'h']]), '\\n')"
   ]
  },
  {
   "cell_type": "code",
<<<<<<< HEAD
   "execution_count": 54,
=======
   "execution_count": 3,
>>>>>>> upstream/Attar_Aidin
   "metadata": {},
   "outputs": [
    {
     "name": "stdout",
     "output_type": "stream",
     "text": [
      "a    0.0\n",
      "b    0.5\n",
      "c    1.0\n",
      "dtype: float64 \n",
      "\n",
      "h    3.5\n",
      "i    4.0\n",
      "j    4.5\n",
      "dtype: float64 \n",
      "\n",
      "a    0.0\n",
      "d    1.5\n",
      "g    3.0\n",
      "j    4.5\n",
      "dtype: float64 \n",
      "\n",
      "h    3.5\n",
      "i    4.0\n",
      "j    4.5\n",
      "dtype: float64 \n",
      "\n",
      "a     1.000000\n",
      "b     1.648721\n",
      "c     2.718282\n",
      "d     4.481689\n",
      "e     7.389056\n",
      "f    12.182494\n",
      "g    20.085537\n",
      "h    33.115452\n",
      "i    54.598150\n",
      "j    90.017131\n",
      "dtype: float64 \n",
      "\n",
      "2.25 1.4361406616345072 \n",
      "\n"
     ]
    }
   ],
   "source": [
    "# Extracting elements and operations: same as numpy array\n",
    "print (xs[:3],'\\n')\n",
    "print (xs[7:], '\\n')\n",
    "print (xs[::3], '\\n')\n",
    "print (xs[xs>3], '\\n')\n",
    "print (np.exp(xs), '\\n')\n",
    "print (np.mean(xs), np.std(xs), '\\n')"
   ]
  },
  {
   "cell_type": "code",
<<<<<<< HEAD
   "execution_count": 55,
=======
   "execution_count": 4,
>>>>>>> upstream/Attar_Aidin
   "metadata": {},
   "outputs": [
    {
     "data": {
      "text/plain": [
       "b         1\n",
       "a       cat\n",
       "c    [2, 3]\n",
       "dtype: object"
      ]
     },
<<<<<<< HEAD
     "execution_count": 55,
=======
     "execution_count": 4,
>>>>>>> upstream/Attar_Aidin
     "metadata": {},
     "output_type": "execute_result"
    }
   ],
   "source": [
    "# Series can be created from python dictionary too.\n",
    "# Not that the elements can be whatever!\n",
    "d = {'b' : 1, 'a' : 'cat', 'c' : [2,3]}\n",
    "pd.Series(d)\n",
    "\n"
   ]
  },
  {
   "cell_type": "markdown",
   "metadata": {},
   "source": [
    "A key difference between Series and ndarray is that operations between Series automatically align the data based on label. Thus, you can write computations without considering whether the Series involved have the same labels."
   ]
  },
  {
   "cell_type": "code",
<<<<<<< HEAD
   "execution_count": 56,
=======
   "execution_count": 5,
>>>>>>> upstream/Attar_Aidin
   "metadata": {},
   "outputs": [
    {
     "name": "stdout",
     "output_type": "stream",
     "text": [
<<<<<<< HEAD
      "a   -1.242370\n",
      "b    0.393459\n",
      "c   -0.476700\n",
      "d    0.457279\n",
      "e    0.723948\n",
      "dtype: float64\n",
      "a         NaN\n",
      "b    0.786917\n",
      "c   -0.953401\n",
      "d    0.914557\n",
=======
      "a   -1.597030\n",
      "b    1.466260\n",
      "c   -1.022832\n",
      "d    1.592826\n",
      "e    1.672429\n",
      "dtype: float64\n",
      "a         NaN\n",
      "b    2.932520\n",
      "c   -2.045663\n",
      "d    3.185651\n",
>>>>>>> upstream/Attar_Aidin
      "e         NaN\n",
      "dtype: float64\n"
     ]
    }
   ],
   "source": [
    "s = pd.Series(np.random.randn(5), index=tuple(letters[:5]))\n",
    "print(s)\n",
    "s = s[1:] + s[:-1]\n",
    "print(s)"
   ]
  },
  {
   "cell_type": "markdown",
   "metadata": {},
   "source": [
    "### Time series\n",
    "\n",
    "Time series are very often used to profile the behaviour of a quantity as a function of time. Pandas has a special index for that, `DatetimeIndex`, that can be created e.g. with the function `pd.data_range()`"
   ]
  },
  {
   "cell_type": "code",
<<<<<<< HEAD
   "execution_count": 57,
=======
   "execution_count": 6,
>>>>>>> upstream/Attar_Aidin
   "metadata": {},
   "outputs": [
    {
     "name": "stdout",
     "output_type": "stream",
     "text": [
<<<<<<< HEAD
      "2021-11-22\n",
      "2021-11-22 12:45:10.000015\n",
      "Nov 22 2021\n",
      "DatetimeIndex(['2021-11-22', '2021-11-23', '2021-11-24', '2021-11-25',\n",
      "               '2021-11-26', '2021-11-27', '2021-11-28'],\n",
      "              dtype='datetime64[ns]', freq='D')\n",
=======
      "2021-11-24\n",
      "2021-11-22 12:45:10.000015\n",
>>>>>>> upstream/Attar_Aidin
      "22/11/2021 12:45:00\n",
      "DatetimeIndex(['2021-11-22 12:45:00', '2021-11-23 12:45:00',\n",
      "               '2021-11-24 12:45:00', '2021-11-25 12:45:00',\n",
      "               '2021-11-26 12:45:00', '2021-11-27 12:45:00',\n",
      "               '2021-11-28 12:45:00'],\n",
      "              dtype='datetime64[ns]', freq='D')\n",
      "DatetimeIndex(['2021-11-22 12:45:00', '2021-11-22 12:45:01',\n",
      "               '2021-11-22 12:45:02', '2021-11-22 12:45:03',\n",
      "               '2021-11-22 12:45:04', '2021-11-22 12:45:05',\n",
      "               '2021-11-22 12:45:06', '2021-11-22 12:45:07',\n",
      "               '2021-11-22 12:45:08', '2021-11-22 12:45:09',\n",
      "               ...\n",
      "               '2021-11-22 13:44:50', '2021-11-22 13:44:51',\n",
      "               '2021-11-22 13:44:52', '2021-11-22 13:44:53',\n",
      "               '2021-11-22 13:44:54', '2021-11-22 13:44:55',\n",
      "               '2021-11-22 13:44:56', '2021-11-22 13:44:57',\n",
      "               '2021-11-22 13:44:58', '2021-11-22 13:44:59'],\n",
      "              dtype='datetime64[ns]', length=3600, freq='S')\n"
     ]
    }
   ],
   "source": [
    "# to define a date, the datetime module is very useful\n",
    "import datetime as dt\n",
    "date = dt.date.today()\n",
    "print(date)\n",
    "\n",
    "date = dt.datetime(2021,11,22,12,45,10,15)\n",
    "print (date)\n",
    "\n",
    "# otherwise, several notations are interpreted too\n",
    "date = 'Nov 22 2021'\n",
    "print (date)\n",
    "days = pd.date_range(date, periods=7, freq='D')\n",
    "print (days)\n",
    "# or alternatively\n",
    "date = '22/11/2021 12:45:00'\n",
    "print (date)\n",
    "\n",
    "days = pd.date_range(date, periods=7, freq='D')\n",
    "print (days)\n",
    "\n",
    "seconds = pd.date_range(date, periods=3600, freq='s')\n",
    "print (seconds)\n"
   ]
  },
  {
   "cell_type": "markdown",
   "metadata": {},
   "source": [
    "To learn more about the frequency strings, please see this [link](http://pandas.pydata.org/pandas-docs/stable/timeseries.html#offset-aliases)\n",
    "\n",
    "\n",
    "Timestamped data is the most basic type of time series data that associates values with points in time. For pandas objects it means using the points in time.\n",
    "\n",
    "functions like `pd.to_datetime` can be used, for instance, when reading information as string from a dataset.\n",
    "\n",
    "Timestamp is the pandas equivalent of python’s Datetime and is interchangeable with it in most cases. "
   ]
  },
  {
   "cell_type": "code",
<<<<<<< HEAD
   "execution_count": 58,
=======
   "execution_count": 7,
>>>>>>> upstream/Attar_Aidin
   "metadata": {},
   "outputs": [
    {
     "name": "stdout",
     "output_type": "stream",
     "text": [
      "1604880000000000000\n",
<<<<<<< HEAD
      "<bound method Timestamp.day_name of Timestamp('2020-11-09 00:00:00')>\n",
=======
>>>>>>> upstream/Attar_Aidin
      "<class 'pandas._libs.tslibs.timestamps.Timestamp'>\n",
      "1289520000000000000\n",
      "2010-11-12 00:00:00\n",
      "1289520000000000000\n"
     ]
    }
   ],
   "source": [
    "tstamp = pd.Timestamp(dt.datetime(2020, 11, 9))\n",
    "\n",
    "# internally it counts the nanoseconds from January 1st 19\n",
    "#tstamp = pd.Timestamp(dt.datetime(1970, 1, 1, 0, 0, 0, 1))\n",
    "print(tstamp.value)\n",
    "print(tstamp.day_name)\n",
    "\n",
    "# when creating a timestamp the format can be explicitly passed\n",
    "ts = pd.to_datetime('2010/11/12', format='%Y/%m/%d')\n",
    "print (type(ts))\n",
    "print (ts.value)\n",
    "ts = pd.to_datetime('12-11-2010 00:00', format='%d-%m-%Y %H:%M')\n",
    "print (ts)\n",
    "print (ts.value)\n",
    "\n"
   ]
  },
  {
   "cell_type": "markdown",
   "metadata": {},
   "source": [
    "A standard series can be created and (range of) elements can be used as indexes"
   ]
  },
  {
   "cell_type": "code",
<<<<<<< HEAD
   "execution_count": 59,
=======
   "execution_count": 8,
>>>>>>> upstream/Attar_Aidin
   "metadata": {
    "scrolled": true
   },
   "outputs": [
    {
     "name": "stdout",
     "output_type": "stream",
     "text": [
<<<<<<< HEAD
      "2021-11-22 12:45:00     9.701345\n",
      "2021-11-23 12:45:00     9.808371\n",
      "2021-11-24 12:45:00    10.175330\n",
      "2021-11-25 12:45:00     7.904694\n",
      "Freq: D, dtype: float64 \n",
      "\n",
      "2021-11-22 12:45:00    9.701345\n",
      "2021-11-23 12:45:00    9.808371\n",
=======
      "2021-11-22 12:45:00    11.518286\n",
      "2021-11-23 12:45:00    10.670238\n",
      "2021-11-24 12:45:00     9.700275\n",
      "2021-11-25 12:45:00    10.171782\n",
      "Freq: D, dtype: float64 \n",
      "\n",
      "2021-11-22 12:45:00    11.518286\n",
      "2021-11-23 12:45:00    10.670238\n",
>>>>>>> upstream/Attar_Aidin
      "Freq: D, dtype: float64 \n",
      "\n"
     ]
    }
   ],
   "source": [
    "tseries = pd.Series(np.random.normal(10, 1, len(days)), index=days)\n",
    "# Extracting elements\n",
    "print (tseries[0:4], '\\n')\n",
    "print (tseries['2021-11-22':'2021-11-23'], '\\n') # Note - includes end time\n"
   ]
  },
  {
   "cell_type": "markdown",
   "metadata": {},
   "source": [
    "`pd.to_datetime` can also be used to create a `DatetimeIndex`:"
   ]
  },
  {
   "cell_type": "code",
<<<<<<< HEAD
   "execution_count": 60,
=======
   "execution_count": 9,
>>>>>>> upstream/Attar_Aidin
   "metadata": {},
   "outputs": [
    {
     "data": {
      "text/plain": [
       "DatetimeIndex(['1980-02-04', '1980-02-05', '1980-02-06', '1980-02-07'], dtype='datetime64[ns]', freq=None)"
      ]
     },
<<<<<<< HEAD
     "execution_count": 60,
=======
     "execution_count": 9,
>>>>>>> upstream/Attar_Aidin
     "metadata": {},
     "output_type": "execute_result"
    }
   ],
   "source": [
    "pd.to_datetime([1, 2, 3, 4], unit='D', origin=pd.Timestamp('1980-02-03'))"
   ]
  },
  {
   "cell_type": "markdown",
   "metadata": {},
   "source": [
    "## DataFrame\n",
    "\n",
    "A pandas DataFrame is like a simple tabular spreadsheet. For future reference (or for people already familiar with R), a pandas DataFrame is very similar to the R DataFrame.\n",
    "\n",
    "Each column in a DataFrame is a Series object.\n",
    "\n",
    "The element can be whatever, missing data are dealt with too (as NaN)"
   ]
  },
  {
   "cell_type": "markdown",
   "metadata": {},
   "source": [
    "### DataFrame creation\n",
    "\n",
    "A DataFrame can be created implicitly, with, e.g., a DatatimeIndex object as index:"
   ]
  },
  {
   "cell_type": "code",
<<<<<<< HEAD
   "execution_count": 61,
=======
   "execution_count": 10,
>>>>>>> upstream/Attar_Aidin
   "metadata": {},
   "outputs": [
    {
     "data": {
      "text/html": [
       "<div>\n",
       "<style scoped>\n",
       "    .dataframe tbody tr th:only-of-type {\n",
       "        vertical-align: middle;\n",
       "    }\n",
       "\n",
       "    .dataframe tbody tr th {\n",
       "        vertical-align: top;\n",
       "    }\n",
       "\n",
       "    .dataframe thead th {\n",
       "        text-align: right;\n",
       "    }\n",
       "</style>\n",
       "<table border=\"1\" class=\"dataframe\">\n",
       "  <thead>\n",
       "    <tr style=\"text-align: right;\">\n",
       "      <th></th>\n",
       "      <th>A</th>\n",
       "      <th>B</th>\n",
       "      <th>C</th>\n",
       "      <th>D</th>\n",
       "    </tr>\n",
       "  </thead>\n",
       "  <tbody>\n",
       "    <tr>\n",
       "      <th>2021-11-22 12:45:00</th>\n",
<<<<<<< HEAD
       "      <td>-0.726874</td>\n",
       "      <td>0.817315</td>\n",
       "      <td>-0.478015</td>\n",
       "      <td>0.466877</td>\n",
       "    </tr>\n",
       "    <tr>\n",
       "      <th>2021-11-22 13:45:00</th>\n",
       "      <td>1.641790</td>\n",
       "      <td>0.399169</td>\n",
       "      <td>1.054088</td>\n",
       "      <td>0.828877</td>\n",
       "    </tr>\n",
       "    <tr>\n",
       "      <th>2021-11-22 14:45:00</th>\n",
       "      <td>-1.310471</td>\n",
       "      <td>1.132953</td>\n",
       "      <td>-0.172538</td>\n",
       "      <td>-1.372764</td>\n",
       "    </tr>\n",
       "    <tr>\n",
       "      <th>2021-11-22 15:45:00</th>\n",
       "      <td>2.110360</td>\n",
       "      <td>-0.910910</td>\n",
       "      <td>0.129851</td>\n",
       "      <td>0.219313</td>\n",
       "    </tr>\n",
       "    <tr>\n",
       "      <th>2021-11-22 16:45:00</th>\n",
       "      <td>-1.311974</td>\n",
       "      <td>-0.162781</td>\n",
       "      <td>-0.078605</td>\n",
       "      <td>0.270559</td>\n",
       "    </tr>\n",
       "    <tr>\n",
       "      <th>2021-11-22 17:45:00</th>\n",
       "      <td>1.154420</td>\n",
       "      <td>0.624324</td>\n",
       "      <td>-0.813786</td>\n",
       "      <td>1.329151</td>\n",
       "    </tr>\n",
       "    <tr>\n",
       "      <th>2021-11-22 18:45:00</th>\n",
       "      <td>-0.299010</td>\n",
       "      <td>0.168344</td>\n",
       "      <td>1.923140</td>\n",
       "      <td>0.641250</td>\n",
       "    </tr>\n",
       "    <tr>\n",
       "      <th>2021-11-22 19:45:00</th>\n",
       "      <td>-0.818195</td>\n",
       "      <td>-1.936570</td>\n",
       "      <td>-0.820844</td>\n",
       "      <td>-1.323579</td>\n",
       "    </tr>\n",
       "    <tr>\n",
       "      <th>2021-11-22 20:45:00</th>\n",
       "      <td>1.033000</td>\n",
       "      <td>0.766512</td>\n",
       "      <td>-1.327685</td>\n",
       "      <td>-0.704830</td>\n",
       "    </tr>\n",
       "    <tr>\n",
       "      <th>2021-11-22 21:45:00</th>\n",
       "      <td>0.063740</td>\n",
       "      <td>-0.243284</td>\n",
       "      <td>-0.004948</td>\n",
       "      <td>0.489068</td>\n",
=======
       "      <td>0.221715</td>\n",
       "      <td>0.271638</td>\n",
       "      <td>1.073060</td>\n",
       "      <td>1.032407</td>\n",
       "    </tr>\n",
       "    <tr>\n",
       "      <th>2021-11-22 13:45:00</th>\n",
       "      <td>1.069119</td>\n",
       "      <td>0.261487</td>\n",
       "      <td>-0.584936</td>\n",
       "      <td>0.923981</td>\n",
       "    </tr>\n",
       "    <tr>\n",
       "      <th>2021-11-22 14:45:00</th>\n",
       "      <td>-0.853114</td>\n",
       "      <td>-1.128664</td>\n",
       "      <td>-0.372564</td>\n",
       "      <td>0.434111</td>\n",
       "    </tr>\n",
       "    <tr>\n",
       "      <th>2021-11-22 15:45:00</th>\n",
       "      <td>0.193889</td>\n",
       "      <td>0.423385</td>\n",
       "      <td>0.237047</td>\n",
       "      <td>-0.488023</td>\n",
       "    </tr>\n",
       "    <tr>\n",
       "      <th>2021-11-22 16:45:00</th>\n",
       "      <td>-0.592327</td>\n",
       "      <td>-0.324345</td>\n",
       "      <td>0.939298</td>\n",
       "      <td>-1.035246</td>\n",
       "    </tr>\n",
       "    <tr>\n",
       "      <th>2021-11-22 17:45:00</th>\n",
       "      <td>-0.247706</td>\n",
       "      <td>-0.793702</td>\n",
       "      <td>-0.801049</td>\n",
       "      <td>1.284632</td>\n",
       "    </tr>\n",
       "    <tr>\n",
       "      <th>2021-11-22 18:45:00</th>\n",
       "      <td>2.029969</td>\n",
       "      <td>-0.838669</td>\n",
       "      <td>0.785490</td>\n",
       "      <td>1.539324</td>\n",
       "    </tr>\n",
       "    <tr>\n",
       "      <th>2021-11-22 19:45:00</th>\n",
       "      <td>-0.867608</td>\n",
       "      <td>1.419248</td>\n",
       "      <td>0.659899</td>\n",
       "      <td>-1.300290</td>\n",
       "    </tr>\n",
       "    <tr>\n",
       "      <th>2021-11-22 20:45:00</th>\n",
       "      <td>0.131926</td>\n",
       "      <td>0.487907</td>\n",
       "      <td>1.368617</td>\n",
       "      <td>0.375278</td>\n",
       "    </tr>\n",
       "    <tr>\n",
       "      <th>2021-11-22 21:45:00</th>\n",
       "      <td>0.136987</td>\n",
       "      <td>1.449805</td>\n",
       "      <td>-0.121675</td>\n",
       "      <td>-0.437476</td>\n",
>>>>>>> upstream/Attar_Aidin
       "    </tr>\n",
       "  </tbody>\n",
       "</table>\n",
       "</div>"
      ],
      "text/plain": [
       "                            A         B         C         D\n",
<<<<<<< HEAD
       "2021-11-22 12:45:00 -0.726874  0.817315 -0.478015  0.466877\n",
       "2021-11-22 13:45:00  1.641790  0.399169  1.054088  0.828877\n",
       "2021-11-22 14:45:00 -1.310471  1.132953 -0.172538 -1.372764\n",
       "2021-11-22 15:45:00  2.110360 -0.910910  0.129851  0.219313\n",
       "2021-11-22 16:45:00 -1.311974 -0.162781 -0.078605  0.270559\n",
       "2021-11-22 17:45:00  1.154420  0.624324 -0.813786  1.329151\n",
       "2021-11-22 18:45:00 -0.299010  0.168344  1.923140  0.641250\n",
       "2021-11-22 19:45:00 -0.818195 -1.936570 -0.820844 -1.323579\n",
       "2021-11-22 20:45:00  1.033000  0.766512 -1.327685 -0.704830\n",
       "2021-11-22 21:45:00  0.063740 -0.243284 -0.004948  0.489068"
      ]
     },
     "execution_count": 61,
=======
       "2021-11-22 12:45:00  0.221715  0.271638  1.073060  1.032407\n",
       "2021-11-22 13:45:00  1.069119  0.261487 -0.584936  0.923981\n",
       "2021-11-22 14:45:00 -0.853114 -1.128664 -0.372564  0.434111\n",
       "2021-11-22 15:45:00  0.193889  0.423385  0.237047 -0.488023\n",
       "2021-11-22 16:45:00 -0.592327 -0.324345  0.939298 -1.035246\n",
       "2021-11-22 17:45:00 -0.247706 -0.793702 -0.801049  1.284632\n",
       "2021-11-22 18:45:00  2.029969 -0.838669  0.785490  1.539324\n",
       "2021-11-22 19:45:00 -0.867608  1.419248  0.659899 -1.300290\n",
       "2021-11-22 20:45:00  0.131926  0.487907  1.368617  0.375278\n",
       "2021-11-22 21:45:00  0.136987  1.449805 -0.121675 -0.437476"
      ]
     },
     "execution_count": 10,
>>>>>>> upstream/Attar_Aidin
     "metadata": {},
     "output_type": "execute_result"
    }
   ],
   "source": [
    "entries=10\n",
    "dates=pd.date_range('11/22/2021 12:45:00',freq='h', periods=entries)\n",
    "df = pd.DataFrame(np.random.randn(entries,4), index=dates, columns=['A','B','C','D'])\n",
    "df\n"
   ]
  },
  {
   "cell_type": "markdown",
   "metadata": {},
   "source": [
    "or by means of a dictionary:\n"
   ]
  },
  {
   "cell_type": "code",
<<<<<<< HEAD
   "execution_count": 62,
=======
   "execution_count": 11,
>>>>>>> upstream/Attar_Aidin
   "metadata": {},
   "outputs": [
    {
     "data": {
      "text/html": [
       "<div>\n",
       "<style scoped>\n",
       "    .dataframe tbody tr th:only-of-type {\n",
       "        vertical-align: middle;\n",
       "    }\n",
       "\n",
       "    .dataframe tbody tr th {\n",
       "        vertical-align: top;\n",
       "    }\n",
       "\n",
       "    .dataframe thead th {\n",
       "        text-align: right;\n",
       "    }\n",
       "</style>\n",
       "<table border=\"1\" class=\"dataframe\">\n",
       "  <thead>\n",
       "    <tr style=\"text-align: right;\">\n",
       "      <th></th>\n",
       "      <th>A</th>\n",
       "      <th>B</th>\n",
       "      <th>C</th>\n",
       "      <th>D</th>\n",
       "      <th>E</th>\n",
       "    </tr>\n",
       "  </thead>\n",
       "  <tbody>\n",
       "    <tr>\n",
       "      <th>0</th>\n",
       "      <td>1.0</td>\n",
       "      <td>2013-01-02</td>\n",
       "      <td>1.0</td>\n",
       "      <td>7</td>\n",
       "      <td>test</td>\n",
       "    </tr>\n",
       "    <tr>\n",
       "      <th>1</th>\n",
       "      <td>1.0</td>\n",
       "      <td>2013-01-02</td>\n",
       "      <td>1.0</td>\n",
       "      <td>8</td>\n",
       "      <td>train</td>\n",
       "    </tr>\n",
       "    <tr>\n",
       "      <th>2</th>\n",
       "      <td>1.0</td>\n",
       "      <td>2013-01-02</td>\n",
       "      <td>1.0</td>\n",
       "      <td>9</td>\n",
       "      <td>test</td>\n",
       "    </tr>\n",
       "    <tr>\n",
       "      <th>3</th>\n",
       "      <td>1.0</td>\n",
       "      <td>2013-01-02</td>\n",
       "      <td>1.0</td>\n",
       "      <td>10</td>\n",
       "      <td>train</td>\n",
       "    </tr>\n",
       "  </tbody>\n",
       "</table>\n",
       "</div>"
      ],
      "text/plain": [
       "     A          B    C   D      E\n",
       "0  1.0 2013-01-02  1.0   7   test\n",
       "1  1.0 2013-01-02  1.0   8  train\n",
       "2  1.0 2013-01-02  1.0   9   test\n",
       "3  1.0 2013-01-02  1.0  10  train"
      ]
     },
<<<<<<< HEAD
     "execution_count": 62,
=======
     "execution_count": 11,
>>>>>>> upstream/Attar_Aidin
     "metadata": {},
     "output_type": "execute_result"
    }
   ],
   "source": [
    "df2 = pd.DataFrame(\n",
    "    { 'A' : 1.,\n",
    "      'B' : pd.Timestamp('20130102'),\n",
    "      'C' : pd.Series(1,index=range(4),dtype='float32'),\n",
    "      'D' : np.arange(7,11),\n",
    "      'E' : pd.Categorical([\"test\",\"train\",\"test\",\"train\"]),\n",
    "    }\n",
    "    )\n",
    "df2\n",
    "\n",
    "# check what happens if D and E had different lenghts \n",
    "# ValueError: arrays must all be same length"
   ]
  },
  {
   "cell_type": "markdown",
   "metadata": {},
   "source": [
    "### Viewing Data"
   ]
  },
  {
   "cell_type": "code",
<<<<<<< HEAD
   "execution_count": 63,
=======
   "execution_count": 12,
>>>>>>> upstream/Attar_Aidin
   "metadata": {},
   "outputs": [
    {
     "data": {
      "text/html": [
       "<div>\n",
       "<style scoped>\n",
       "    .dataframe tbody tr th:only-of-type {\n",
       "        vertical-align: middle;\n",
       "    }\n",
       "\n",
       "    .dataframe tbody tr th {\n",
       "        vertical-align: top;\n",
       "    }\n",
       "\n",
       "    .dataframe thead th {\n",
       "        text-align: right;\n",
       "    }\n",
       "</style>\n",
       "<table border=\"1\" class=\"dataframe\">\n",
       "  <thead>\n",
       "    <tr style=\"text-align: right;\">\n",
       "      <th></th>\n",
       "      <th>A</th>\n",
       "      <th>B</th>\n",
       "      <th>C</th>\n",
       "      <th>D</th>\n",
       "    </tr>\n",
       "  </thead>\n",
       "  <tbody>\n",
       "    <tr>\n",
       "      <th>2021-11-22 12:45:00</th>\n",
<<<<<<< HEAD
       "      <td>-0.726874</td>\n",
       "      <td>0.817315</td>\n",
       "      <td>-0.478015</td>\n",
       "      <td>0.466877</td>\n",
       "    </tr>\n",
       "    <tr>\n",
       "      <th>2021-11-22 13:45:00</th>\n",
       "      <td>1.641790</td>\n",
       "      <td>0.399169</td>\n",
       "      <td>1.054088</td>\n",
       "      <td>0.828877</td>\n",
=======
       "      <td>0.221715</td>\n",
       "      <td>0.271638</td>\n",
       "      <td>1.073060</td>\n",
       "      <td>1.032407</td>\n",
       "    </tr>\n",
       "    <tr>\n",
       "      <th>2021-11-22 13:45:00</th>\n",
       "      <td>1.069119</td>\n",
       "      <td>0.261487</td>\n",
       "      <td>-0.584936</td>\n",
       "      <td>0.923981</td>\n",
>>>>>>> upstream/Attar_Aidin
       "    </tr>\n",
       "  </tbody>\n",
       "</table>\n",
       "</div>"
      ],
      "text/plain": [
       "                            A         B         C         D\n",
<<<<<<< HEAD
       "2021-11-22 12:45:00 -0.726874  0.817315 -0.478015  0.466877\n",
       "2021-11-22 13:45:00  1.641790  0.399169  1.054088  0.828877"
      ]
     },
     "execution_count": 63,
=======
       "2021-11-22 12:45:00  0.221715  0.271638  1.073060  1.032407\n",
       "2021-11-22 13:45:00  1.069119  0.261487 -0.584936  0.923981"
      ]
     },
     "execution_count": 12,
>>>>>>> upstream/Attar_Aidin
     "metadata": {},
     "output_type": "execute_result"
    }
   ],
   "source": [
    "df.head(2)"
   ]
  },
  {
   "cell_type": "code",
<<<<<<< HEAD
   "execution_count": 64,
=======
   "execution_count": 13,
>>>>>>> upstream/Attar_Aidin
   "metadata": {},
   "outputs": [
    {
     "data": {
      "text/html": [
       "<div>\n",
       "<style scoped>\n",
       "    .dataframe tbody tr th:only-of-type {\n",
       "        vertical-align: middle;\n",
       "    }\n",
       "\n",
       "    .dataframe tbody tr th {\n",
       "        vertical-align: top;\n",
       "    }\n",
       "\n",
       "    .dataframe thead th {\n",
       "        text-align: right;\n",
       "    }\n",
       "</style>\n",
       "<table border=\"1\" class=\"dataframe\">\n",
       "  <thead>\n",
       "    <tr style=\"text-align: right;\">\n",
       "      <th></th>\n",
       "      <th>A</th>\n",
       "      <th>B</th>\n",
       "      <th>C</th>\n",
       "      <th>D</th>\n",
       "    </tr>\n",
       "  </thead>\n",
       "  <tbody>\n",
       "    <tr>\n",
       "      <th>2021-11-22 18:45:00</th>\n",
<<<<<<< HEAD
       "      <td>-0.299010</td>\n",
       "      <td>0.168344</td>\n",
       "      <td>1.923140</td>\n",
       "      <td>0.641250</td>\n",
       "    </tr>\n",
       "    <tr>\n",
       "      <th>2021-11-22 19:45:00</th>\n",
       "      <td>-0.818195</td>\n",
       "      <td>-1.936570</td>\n",
       "      <td>-0.820844</td>\n",
       "      <td>-1.323579</td>\n",
       "    </tr>\n",
       "    <tr>\n",
       "      <th>2021-11-22 20:45:00</th>\n",
       "      <td>1.033000</td>\n",
       "      <td>0.766512</td>\n",
       "      <td>-1.327685</td>\n",
       "      <td>-0.704830</td>\n",
       "    </tr>\n",
       "    <tr>\n",
       "      <th>2021-11-22 21:45:00</th>\n",
       "      <td>0.063740</td>\n",
       "      <td>-0.243284</td>\n",
       "      <td>-0.004948</td>\n",
       "      <td>0.489068</td>\n",
=======
       "      <td>2.029969</td>\n",
       "      <td>-0.838669</td>\n",
       "      <td>0.785490</td>\n",
       "      <td>1.539324</td>\n",
       "    </tr>\n",
       "    <tr>\n",
       "      <th>2021-11-22 19:45:00</th>\n",
       "      <td>-0.867608</td>\n",
       "      <td>1.419248</td>\n",
       "      <td>0.659899</td>\n",
       "      <td>-1.300290</td>\n",
       "    </tr>\n",
       "    <tr>\n",
       "      <th>2021-11-22 20:45:00</th>\n",
       "      <td>0.131926</td>\n",
       "      <td>0.487907</td>\n",
       "      <td>1.368617</td>\n",
       "      <td>0.375278</td>\n",
       "    </tr>\n",
       "    <tr>\n",
       "      <th>2021-11-22 21:45:00</th>\n",
       "      <td>0.136987</td>\n",
       "      <td>1.449805</td>\n",
       "      <td>-0.121675</td>\n",
       "      <td>-0.437476</td>\n",
>>>>>>> upstream/Attar_Aidin
       "    </tr>\n",
       "  </tbody>\n",
       "</table>\n",
       "</div>"
      ],
      "text/plain": [
       "                            A         B         C         D\n",
<<<<<<< HEAD
       "2021-11-22 18:45:00 -0.299010  0.168344  1.923140  0.641250\n",
       "2021-11-22 19:45:00 -0.818195 -1.936570 -0.820844 -1.323579\n",
       "2021-11-22 20:45:00  1.033000  0.766512 -1.327685 -0.704830\n",
       "2021-11-22 21:45:00  0.063740 -0.243284 -0.004948  0.489068"
      ]
     },
     "execution_count": 64,
=======
       "2021-11-22 18:45:00  2.029969 -0.838669  0.785490  1.539324\n",
       "2021-11-22 19:45:00 -0.867608  1.419248  0.659899 -1.300290\n",
       "2021-11-22 20:45:00  0.131926  0.487907  1.368617  0.375278\n",
       "2021-11-22 21:45:00  0.136987  1.449805 -0.121675 -0.437476"
      ]
     },
     "execution_count": 13,
>>>>>>> upstream/Attar_Aidin
     "metadata": {},
     "output_type": "execute_result"
    }
   ],
   "source": [
    "df.tail(4)"
   ]
  },
  {
   "cell_type": "code",
<<<<<<< HEAD
   "execution_count": 65,
=======
   "execution_count": 14,
>>>>>>> upstream/Attar_Aidin
   "metadata": {},
   "outputs": [
    {
     "data": {
      "text/plain": [
       "DatetimeIndex(['2021-11-22 12:45:00', '2021-11-22 13:45:00',\n",
       "               '2021-11-22 14:45:00', '2021-11-22 15:45:00',\n",
       "               '2021-11-22 16:45:00', '2021-11-22 17:45:00',\n",
       "               '2021-11-22 18:45:00', '2021-11-22 19:45:00',\n",
       "               '2021-11-22 20:45:00', '2021-11-22 21:45:00'],\n",
       "              dtype='datetime64[ns]', freq='H')"
      ]
     },
<<<<<<< HEAD
     "execution_count": 65,
=======
     "execution_count": 14,
>>>>>>> upstream/Attar_Aidin
     "metadata": {},
     "output_type": "execute_result"
    }
   ],
   "source": [
    "df.index"
   ]
  },
  {
   "cell_type": "code",
<<<<<<< HEAD
   "execution_count": 66,
=======
   "execution_count": 15,
>>>>>>> upstream/Attar_Aidin
   "metadata": {},
   "outputs": [
    {
     "data": {
      "text/plain": [
       "Index(['A', 'B', 'C', 'D'], dtype='object')"
      ]
     },
<<<<<<< HEAD
     "execution_count": 66,
=======
     "execution_count": 15,
>>>>>>> upstream/Attar_Aidin
     "metadata": {},
     "output_type": "execute_result"
    }
   ],
   "source": [
    "df.columns"
   ]
  },
  {
   "cell_type": "code",
<<<<<<< HEAD
   "execution_count": 67,
=======
   "execution_count": 16,
>>>>>>> upstream/Attar_Aidin
   "metadata": {},
   "outputs": [
    {
     "data": {
      "text/plain": [
<<<<<<< HEAD
       "array([[-0.7268743 ,  0.81731537, -0.47801517,  0.46687676],\n",
       "       [ 1.64178962,  0.39916893,  1.05408831,  0.82887742],\n",
       "       [-1.31047059,  1.13295328, -0.17253814, -1.37276374],\n",
       "       [ 2.11036003, -0.91091019,  0.12985102,  0.21931334],\n",
       "       [-1.31197377, -0.16278135, -0.07860499,  0.27055928],\n",
       "       [ 1.15441962,  0.624324  , -0.8137856 ,  1.32915085],\n",
       "       [-0.29901027,  0.16834418,  1.9231398 ,  0.64125004],\n",
       "       [-0.81819474, -1.93656974, -0.82084402, -1.32357883],\n",
       "       [ 1.03300016,  0.76651211, -1.32768491, -0.70483049],\n",
       "       [ 0.06373963, -0.24328372, -0.00494772,  0.48906775]])"
      ]
     },
     "execution_count": 67,
=======
       "array([[ 0.22171452,  0.27163796,  1.07306047,  1.03240698],\n",
       "       [ 1.06911885,  0.26148743, -0.58493631,  0.92398076],\n",
       "       [-0.85311361, -1.12866361, -0.37256433,  0.43411118],\n",
       "       [ 0.19388854,  0.42338455,  0.23704695, -0.48802307],\n",
       "       [-0.59232729, -0.32434472,  0.9392979 , -1.03524623],\n",
       "       [-0.2477059 , -0.79370198, -0.80104872,  1.28463219],\n",
       "       [ 2.02996932, -0.83866888,  0.78549031,  1.53932408],\n",
       "       [-0.86760807,  1.41924757,  0.65989925, -1.3002904 ],\n",
       "       [ 0.1319264 ,  0.48790699,  1.36861733,  0.37527783],\n",
       "       [ 0.13698733,  1.44980504, -0.12167511, -0.43747632]])"
      ]
     },
     "execution_count": 16,
>>>>>>> upstream/Attar_Aidin
     "metadata": {},
     "output_type": "execute_result"
    }
   ],
   "source": [
    "df.values"
   ]
  },
  {
   "cell_type": "code",
<<<<<<< HEAD
   "execution_count": 68,
=======
   "execution_count": 17,
>>>>>>> upstream/Attar_Aidin
   "metadata": {},
   "outputs": [
    {
     "data": {
      "text/html": [
       "<div>\n",
       "<style scoped>\n",
       "    .dataframe tbody tr th:only-of-type {\n",
       "        vertical-align: middle;\n",
       "    }\n",
       "\n",
       "    .dataframe tbody tr th {\n",
       "        vertical-align: top;\n",
       "    }\n",
       "\n",
       "    .dataframe thead th {\n",
       "        text-align: right;\n",
       "    }\n",
       "</style>\n",
       "<table border=\"1\" class=\"dataframe\">\n",
       "  <thead>\n",
       "    <tr style=\"text-align: right;\">\n",
       "      <th></th>\n",
       "      <th>A</th>\n",
       "      <th>B</th>\n",
       "      <th>C</th>\n",
       "      <th>D</th>\n",
       "    </tr>\n",
       "  </thead>\n",
       "  <tbody>\n",
       "    <tr>\n",
       "      <th>count</th>\n",
       "      <td>10.000000</td>\n",
       "      <td>10.000000</td>\n",
       "      <td>10.000000</td>\n",
       "      <td>10.000000</td>\n",
       "    </tr>\n",
       "    <tr>\n",
       "      <th>mean</th>\n",
<<<<<<< HEAD
       "      <td>0.153679</td>\n",
       "      <td>0.065507</td>\n",
       "      <td>-0.058934</td>\n",
       "      <td>0.084392</td>\n",
       "    </tr>\n",
       "    <tr>\n",
       "      <th>std</th>\n",
       "      <td>1.249114</td>\n",
       "      <td>0.927327</td>\n",
       "      <td>0.951896</td>\n",
       "      <td>0.913190</td>\n",
       "    </tr>\n",
       "    <tr>\n",
       "      <th>min</th>\n",
       "      <td>-1.311974</td>\n",
       "      <td>-1.936570</td>\n",
       "      <td>-1.327685</td>\n",
       "      <td>-1.372764</td>\n",
       "    </tr>\n",
       "    <tr>\n",
       "      <th>25%</th>\n",
       "      <td>-0.795365</td>\n",
       "      <td>-0.223158</td>\n",
       "      <td>-0.729843</td>\n",
       "      <td>-0.473795</td>\n",
       "    </tr>\n",
       "    <tr>\n",
       "      <th>50%</th>\n",
       "      <td>-0.117635</td>\n",
       "      <td>0.283757</td>\n",
       "      <td>-0.125572</td>\n",
       "      <td>0.368718</td>\n",
       "    </tr>\n",
       "    <tr>\n",
       "      <th>75%</th>\n",
       "      <td>1.124065</td>\n",
       "      <td>0.730965</td>\n",
       "      <td>0.096151</td>\n",
       "      <td>0.603204</td>\n",
       "    </tr>\n",
       "    <tr>\n",
       "      <th>max</th>\n",
       "      <td>2.110360</td>\n",
       "      <td>1.132953</td>\n",
       "      <td>1.923140</td>\n",
       "      <td>1.329151</td>\n",
=======
       "      <td>0.122285</td>\n",
       "      <td>0.122809</td>\n",
       "      <td>0.318319</td>\n",
       "      <td>0.232870</td>\n",
       "    </tr>\n",
       "    <tr>\n",
       "      <th>std</th>\n",
       "      <td>0.890064</td>\n",
       "      <td>0.896738</td>\n",
       "      <td>0.755695</td>\n",
       "      <td>0.995459</td>\n",
       "    </tr>\n",
       "    <tr>\n",
       "      <th>min</th>\n",
       "      <td>-0.867608</td>\n",
       "      <td>-1.128664</td>\n",
       "      <td>-0.801049</td>\n",
       "      <td>-1.300290</td>\n",
       "    </tr>\n",
       "    <tr>\n",
       "      <th>25%</th>\n",
       "      <td>-0.506172</td>\n",
       "      <td>-0.676363</td>\n",
       "      <td>-0.309842</td>\n",
       "      <td>-0.475386</td>\n",
       "    </tr>\n",
       "    <tr>\n",
       "      <th>50%</th>\n",
       "      <td>0.134457</td>\n",
       "      <td>0.266563</td>\n",
       "      <td>0.448473</td>\n",
       "      <td>0.404695</td>\n",
       "    </tr>\n",
       "    <tr>\n",
       "      <th>75%</th>\n",
       "      <td>0.214758</td>\n",
       "      <td>0.471776</td>\n",
       "      <td>0.900846</td>\n",
       "      <td>1.005300</td>\n",
       "    </tr>\n",
       "    <tr>\n",
       "      <th>max</th>\n",
       "      <td>2.029969</td>\n",
       "      <td>1.449805</td>\n",
       "      <td>1.368617</td>\n",
       "      <td>1.539324</td>\n",
>>>>>>> upstream/Attar_Aidin
       "    </tr>\n",
       "  </tbody>\n",
       "</table>\n",
       "</div>"
      ],
      "text/plain": [
       "               A          B          C          D\n",
       "count  10.000000  10.000000  10.000000  10.000000\n",
<<<<<<< HEAD
       "mean    0.153679   0.065507  -0.058934   0.084392\n",
       "std     1.249114   0.927327   0.951896   0.913190\n",
       "min    -1.311974  -1.936570  -1.327685  -1.372764\n",
       "25%    -0.795365  -0.223158  -0.729843  -0.473795\n",
       "50%    -0.117635   0.283757  -0.125572   0.368718\n",
       "75%     1.124065   0.730965   0.096151   0.603204\n",
       "max     2.110360   1.132953   1.923140   1.329151"
      ]
     },
     "execution_count": 68,
=======
       "mean    0.122285   0.122809   0.318319   0.232870\n",
       "std     0.890064   0.896738   0.755695   0.995459\n",
       "min    -0.867608  -1.128664  -0.801049  -1.300290\n",
       "25%    -0.506172  -0.676363  -0.309842  -0.475386\n",
       "50%     0.134457   0.266563   0.448473   0.404695\n",
       "75%     0.214758   0.471776   0.900846   1.005300\n",
       "max     2.029969   1.449805   1.368617   1.539324"
      ]
     },
     "execution_count": 17,
>>>>>>> upstream/Attar_Aidin
     "metadata": {},
     "output_type": "execute_result"
    }
   ],
   "source": [
    "df.describe()"
   ]
  },
  {
   "cell_type": "code",
<<<<<<< HEAD
   "execution_count": 69,
=======
   "execution_count": 18,
>>>>>>> upstream/Attar_Aidin
   "metadata": {},
   "outputs": [
    {
     "data": {
      "text/html": [
       "<div>\n",
       "<style scoped>\n",
       "    .dataframe tbody tr th:only-of-type {\n",
       "        vertical-align: middle;\n",
       "    }\n",
       "\n",
       "    .dataframe tbody tr th {\n",
       "        vertical-align: top;\n",
       "    }\n",
       "\n",
       "    .dataframe thead th {\n",
       "        text-align: right;\n",
       "    }\n",
       "</style>\n",
       "<table border=\"1\" class=\"dataframe\">\n",
       "  <thead>\n",
       "    <tr style=\"text-align: right;\">\n",
       "      <th></th>\n",
       "      <th>2021-11-22 12:45:00</th>\n",
       "      <th>2021-11-22 13:45:00</th>\n",
       "      <th>2021-11-22 14:45:00</th>\n",
       "      <th>2021-11-22 15:45:00</th>\n",
       "      <th>2021-11-22 16:45:00</th>\n",
       "      <th>2021-11-22 17:45:00</th>\n",
       "      <th>2021-11-22 18:45:00</th>\n",
       "      <th>2021-11-22 19:45:00</th>\n",
       "      <th>2021-11-22 20:45:00</th>\n",
       "      <th>2021-11-22 21:45:00</th>\n",
       "    </tr>\n",
       "  </thead>\n",
       "  <tbody>\n",
       "    <tr>\n",
       "      <th>A</th>\n",
<<<<<<< HEAD
       "      <td>-0.726874</td>\n",
       "      <td>1.641790</td>\n",
       "      <td>-1.310471</td>\n",
       "      <td>2.110360</td>\n",
       "      <td>-1.311974</td>\n",
       "      <td>1.154420</td>\n",
       "      <td>-0.299010</td>\n",
       "      <td>-0.818195</td>\n",
       "      <td>1.033000</td>\n",
       "      <td>0.063740</td>\n",
       "    </tr>\n",
       "    <tr>\n",
       "      <th>B</th>\n",
       "      <td>0.817315</td>\n",
       "      <td>0.399169</td>\n",
       "      <td>1.132953</td>\n",
       "      <td>-0.910910</td>\n",
       "      <td>-0.162781</td>\n",
       "      <td>0.624324</td>\n",
       "      <td>0.168344</td>\n",
       "      <td>-1.936570</td>\n",
       "      <td>0.766512</td>\n",
       "      <td>-0.243284</td>\n",
       "    </tr>\n",
       "    <tr>\n",
       "      <th>C</th>\n",
       "      <td>-0.478015</td>\n",
       "      <td>1.054088</td>\n",
       "      <td>-0.172538</td>\n",
       "      <td>0.129851</td>\n",
       "      <td>-0.078605</td>\n",
       "      <td>-0.813786</td>\n",
       "      <td>1.923140</td>\n",
       "      <td>-0.820844</td>\n",
       "      <td>-1.327685</td>\n",
       "      <td>-0.004948</td>\n",
       "    </tr>\n",
       "    <tr>\n",
       "      <th>D</th>\n",
       "      <td>0.466877</td>\n",
       "      <td>0.828877</td>\n",
       "      <td>-1.372764</td>\n",
       "      <td>0.219313</td>\n",
       "      <td>0.270559</td>\n",
       "      <td>1.329151</td>\n",
       "      <td>0.641250</td>\n",
       "      <td>-1.323579</td>\n",
       "      <td>-0.704830</td>\n",
       "      <td>0.489068</td>\n",
=======
       "      <td>0.221715</td>\n",
       "      <td>1.069119</td>\n",
       "      <td>-0.853114</td>\n",
       "      <td>0.193889</td>\n",
       "      <td>-0.592327</td>\n",
       "      <td>-0.247706</td>\n",
       "      <td>2.029969</td>\n",
       "      <td>-0.867608</td>\n",
       "      <td>0.131926</td>\n",
       "      <td>0.136987</td>\n",
       "    </tr>\n",
       "    <tr>\n",
       "      <th>B</th>\n",
       "      <td>0.271638</td>\n",
       "      <td>0.261487</td>\n",
       "      <td>-1.128664</td>\n",
       "      <td>0.423385</td>\n",
       "      <td>-0.324345</td>\n",
       "      <td>-0.793702</td>\n",
       "      <td>-0.838669</td>\n",
       "      <td>1.419248</td>\n",
       "      <td>0.487907</td>\n",
       "      <td>1.449805</td>\n",
       "    </tr>\n",
       "    <tr>\n",
       "      <th>C</th>\n",
       "      <td>1.073060</td>\n",
       "      <td>-0.584936</td>\n",
       "      <td>-0.372564</td>\n",
       "      <td>0.237047</td>\n",
       "      <td>0.939298</td>\n",
       "      <td>-0.801049</td>\n",
       "      <td>0.785490</td>\n",
       "      <td>0.659899</td>\n",
       "      <td>1.368617</td>\n",
       "      <td>-0.121675</td>\n",
       "    </tr>\n",
       "    <tr>\n",
       "      <th>D</th>\n",
       "      <td>1.032407</td>\n",
       "      <td>0.923981</td>\n",
       "      <td>0.434111</td>\n",
       "      <td>-0.488023</td>\n",
       "      <td>-1.035246</td>\n",
       "      <td>1.284632</td>\n",
       "      <td>1.539324</td>\n",
       "      <td>-1.300290</td>\n",
       "      <td>0.375278</td>\n",
       "      <td>-0.437476</td>\n",
>>>>>>> upstream/Attar_Aidin
       "    </tr>\n",
       "  </tbody>\n",
       "</table>\n",
       "</div>"
      ],
      "text/plain": [
       "   2021-11-22 12:45:00  2021-11-22 13:45:00  2021-11-22 14:45:00  \\\n",
<<<<<<< HEAD
       "A            -0.726874             1.641790            -1.310471   \n",
       "B             0.817315             0.399169             1.132953   \n",
       "C            -0.478015             1.054088            -0.172538   \n",
       "D             0.466877             0.828877            -1.372764   \n",
       "\n",
       "   2021-11-22 15:45:00  2021-11-22 16:45:00  2021-11-22 17:45:00  \\\n",
       "A             2.110360            -1.311974             1.154420   \n",
       "B            -0.910910            -0.162781             0.624324   \n",
       "C             0.129851            -0.078605            -0.813786   \n",
       "D             0.219313             0.270559             1.329151   \n",
       "\n",
       "   2021-11-22 18:45:00  2021-11-22 19:45:00  2021-11-22 20:45:00  \\\n",
       "A            -0.299010            -0.818195             1.033000   \n",
       "B             0.168344            -1.936570             0.766512   \n",
       "C             1.923140            -0.820844            -1.327685   \n",
       "D             0.641250            -1.323579            -0.704830   \n",
       "\n",
       "   2021-11-22 21:45:00  \n",
       "A             0.063740  \n",
       "B            -0.243284  \n",
       "C            -0.004948  \n",
       "D             0.489068  "
      ]
     },
     "execution_count": 69,
=======
       "A             0.221715             1.069119            -0.853114   \n",
       "B             0.271638             0.261487            -1.128664   \n",
       "C             1.073060            -0.584936            -0.372564   \n",
       "D             1.032407             0.923981             0.434111   \n",
       "\n",
       "   2021-11-22 15:45:00  2021-11-22 16:45:00  2021-11-22 17:45:00  \\\n",
       "A             0.193889            -0.592327            -0.247706   \n",
       "B             0.423385            -0.324345            -0.793702   \n",
       "C             0.237047             0.939298            -0.801049   \n",
       "D            -0.488023            -1.035246             1.284632   \n",
       "\n",
       "   2021-11-22 18:45:00  2021-11-22 19:45:00  2021-11-22 20:45:00  \\\n",
       "A             2.029969            -0.867608             0.131926   \n",
       "B            -0.838669             1.419248             0.487907   \n",
       "C             0.785490             0.659899             1.368617   \n",
       "D             1.539324            -1.300290             0.375278   \n",
       "\n",
       "   2021-11-22 21:45:00  \n",
       "A             0.136987  \n",
       "B             1.449805  \n",
       "C            -0.121675  \n",
       "D            -0.437476  "
      ]
     },
     "execution_count": 18,
>>>>>>> upstream/Attar_Aidin
     "metadata": {},
     "output_type": "execute_result"
    }
   ],
   "source": [
    "df.T"
   ]
  },
  {
   "cell_type": "code",
<<<<<<< HEAD
   "execution_count": 70,
=======
   "execution_count": 19,
>>>>>>> upstream/Attar_Aidin
   "metadata": {},
   "outputs": [
    {
     "data": {
      "text/html": [
       "<div>\n",
       "<style scoped>\n",
       "    .dataframe tbody tr th:only-of-type {\n",
       "        vertical-align: middle;\n",
       "    }\n",
       "\n",
       "    .dataframe tbody tr th {\n",
       "        vertical-align: top;\n",
       "    }\n",
       "\n",
       "    .dataframe thead th {\n",
       "        text-align: right;\n",
       "    }\n",
       "</style>\n",
       "<table border=\"1\" class=\"dataframe\">\n",
       "  <thead>\n",
       "    <tr style=\"text-align: right;\">\n",
       "      <th></th>\n",
       "      <th>A</th>\n",
       "      <th>B</th>\n",
       "      <th>C</th>\n",
       "      <th>D</th>\n",
       "    </tr>\n",
       "  </thead>\n",
       "  <tbody>\n",
       "    <tr>\n",
       "      <th>2021-11-22 12:45:00</th>\n",
<<<<<<< HEAD
       "      <td>-0.726874</td>\n",
       "      <td>0.817315</td>\n",
       "      <td>-0.478015</td>\n",
       "      <td>0.466877</td>\n",
       "    </tr>\n",
       "    <tr>\n",
       "      <th>2021-11-22 13:45:00</th>\n",
       "      <td>1.641790</td>\n",
       "      <td>0.399169</td>\n",
       "      <td>1.054088</td>\n",
       "      <td>0.828877</td>\n",
       "    </tr>\n",
       "    <tr>\n",
       "      <th>2021-11-22 14:45:00</th>\n",
       "      <td>-1.310471</td>\n",
       "      <td>1.132953</td>\n",
       "      <td>-0.172538</td>\n",
       "      <td>-1.372764</td>\n",
       "    </tr>\n",
       "    <tr>\n",
       "      <th>2021-11-22 15:45:00</th>\n",
       "      <td>2.110360</td>\n",
       "      <td>-0.910910</td>\n",
       "      <td>0.129851</td>\n",
       "      <td>0.219313</td>\n",
       "    </tr>\n",
       "    <tr>\n",
       "      <th>2021-11-22 16:45:00</th>\n",
       "      <td>-1.311974</td>\n",
       "      <td>-0.162781</td>\n",
       "      <td>-0.078605</td>\n",
       "      <td>0.270559</td>\n",
       "    </tr>\n",
       "    <tr>\n",
       "      <th>2021-11-22 17:45:00</th>\n",
       "      <td>1.154420</td>\n",
       "      <td>0.624324</td>\n",
       "      <td>-0.813786</td>\n",
       "      <td>1.329151</td>\n",
       "    </tr>\n",
       "    <tr>\n",
       "      <th>2021-11-22 18:45:00</th>\n",
       "      <td>-0.299010</td>\n",
       "      <td>0.168344</td>\n",
       "      <td>1.923140</td>\n",
       "      <td>0.641250</td>\n",
       "    </tr>\n",
       "    <tr>\n",
       "      <th>2021-11-22 19:45:00</th>\n",
       "      <td>-0.818195</td>\n",
       "      <td>-1.936570</td>\n",
       "      <td>-0.820844</td>\n",
       "      <td>-1.323579</td>\n",
       "    </tr>\n",
       "    <tr>\n",
       "      <th>2021-11-22 20:45:00</th>\n",
       "      <td>1.033000</td>\n",
       "      <td>0.766512</td>\n",
       "      <td>-1.327685</td>\n",
       "      <td>-0.704830</td>\n",
       "    </tr>\n",
       "    <tr>\n",
       "      <th>2021-11-22 21:45:00</th>\n",
       "      <td>0.063740</td>\n",
       "      <td>-0.243284</td>\n",
       "      <td>-0.004948</td>\n",
       "      <td>0.489068</td>\n",
=======
       "      <td>0.221715</td>\n",
       "      <td>0.271638</td>\n",
       "      <td>1.073060</td>\n",
       "      <td>1.032407</td>\n",
       "    </tr>\n",
       "    <tr>\n",
       "      <th>2021-11-22 13:45:00</th>\n",
       "      <td>1.069119</td>\n",
       "      <td>0.261487</td>\n",
       "      <td>-0.584936</td>\n",
       "      <td>0.923981</td>\n",
       "    </tr>\n",
       "    <tr>\n",
       "      <th>2021-11-22 14:45:00</th>\n",
       "      <td>-0.853114</td>\n",
       "      <td>-1.128664</td>\n",
       "      <td>-0.372564</td>\n",
       "      <td>0.434111</td>\n",
       "    </tr>\n",
       "    <tr>\n",
       "      <th>2021-11-22 15:45:00</th>\n",
       "      <td>0.193889</td>\n",
       "      <td>0.423385</td>\n",
       "      <td>0.237047</td>\n",
       "      <td>-0.488023</td>\n",
       "    </tr>\n",
       "    <tr>\n",
       "      <th>2021-11-22 16:45:00</th>\n",
       "      <td>-0.592327</td>\n",
       "      <td>-0.324345</td>\n",
       "      <td>0.939298</td>\n",
       "      <td>-1.035246</td>\n",
       "    </tr>\n",
       "    <tr>\n",
       "      <th>2021-11-22 17:45:00</th>\n",
       "      <td>-0.247706</td>\n",
       "      <td>-0.793702</td>\n",
       "      <td>-0.801049</td>\n",
       "      <td>1.284632</td>\n",
       "    </tr>\n",
       "    <tr>\n",
       "      <th>2021-11-22 18:45:00</th>\n",
       "      <td>2.029969</td>\n",
       "      <td>-0.838669</td>\n",
       "      <td>0.785490</td>\n",
       "      <td>1.539324</td>\n",
       "    </tr>\n",
       "    <tr>\n",
       "      <th>2021-11-22 19:45:00</th>\n",
       "      <td>-0.867608</td>\n",
       "      <td>1.419248</td>\n",
       "      <td>0.659899</td>\n",
       "      <td>-1.300290</td>\n",
       "    </tr>\n",
       "    <tr>\n",
       "      <th>2021-11-22 20:45:00</th>\n",
       "      <td>0.131926</td>\n",
       "      <td>0.487907</td>\n",
       "      <td>1.368617</td>\n",
       "      <td>0.375278</td>\n",
       "    </tr>\n",
       "    <tr>\n",
       "      <th>2021-11-22 21:45:00</th>\n",
       "      <td>0.136987</td>\n",
       "      <td>1.449805</td>\n",
       "      <td>-0.121675</td>\n",
       "      <td>-0.437476</td>\n",
>>>>>>> upstream/Attar_Aidin
       "    </tr>\n",
       "  </tbody>\n",
       "</table>\n",
       "</div>"
      ],
      "text/plain": [
       "                            A         B         C         D\n",
<<<<<<< HEAD
       "2021-11-22 12:45:00 -0.726874  0.817315 -0.478015  0.466877\n",
       "2021-11-22 13:45:00  1.641790  0.399169  1.054088  0.828877\n",
       "2021-11-22 14:45:00 -1.310471  1.132953 -0.172538 -1.372764\n",
       "2021-11-22 15:45:00  2.110360 -0.910910  0.129851  0.219313\n",
       "2021-11-22 16:45:00 -1.311974 -0.162781 -0.078605  0.270559\n",
       "2021-11-22 17:45:00  1.154420  0.624324 -0.813786  1.329151\n",
       "2021-11-22 18:45:00 -0.299010  0.168344  1.923140  0.641250\n",
       "2021-11-22 19:45:00 -0.818195 -1.936570 -0.820844 -1.323579\n",
       "2021-11-22 20:45:00  1.033000  0.766512 -1.327685 -0.704830\n",
       "2021-11-22 21:45:00  0.063740 -0.243284 -0.004948  0.489068"
      ]
     },
     "execution_count": 70,
=======
       "2021-11-22 12:45:00  0.221715  0.271638  1.073060  1.032407\n",
       "2021-11-22 13:45:00  1.069119  0.261487 -0.584936  0.923981\n",
       "2021-11-22 14:45:00 -0.853114 -1.128664 -0.372564  0.434111\n",
       "2021-11-22 15:45:00  0.193889  0.423385  0.237047 -0.488023\n",
       "2021-11-22 16:45:00 -0.592327 -0.324345  0.939298 -1.035246\n",
       "2021-11-22 17:45:00 -0.247706 -0.793702 -0.801049  1.284632\n",
       "2021-11-22 18:45:00  2.029969 -0.838669  0.785490  1.539324\n",
       "2021-11-22 19:45:00 -0.867608  1.419248  0.659899 -1.300290\n",
       "2021-11-22 20:45:00  0.131926  0.487907  1.368617  0.375278\n",
       "2021-11-22 21:45:00  0.136987  1.449805 -0.121675 -0.437476"
      ]
     },
     "execution_count": 19,
>>>>>>> upstream/Attar_Aidin
     "metadata": {},
     "output_type": "execute_result"
    }
   ],
   "source": [
    "df.sort_index(axis=0,ascending=True)"
   ]
  },
  {
   "cell_type": "code",
<<<<<<< HEAD
   "execution_count": 71,
=======
   "execution_count": 20,
>>>>>>> upstream/Attar_Aidin
   "metadata": {},
   "outputs": [
    {
     "data": {
      "text/html": [
       "<div>\n",
       "<style scoped>\n",
       "    .dataframe tbody tr th:only-of-type {\n",
       "        vertical-align: middle;\n",
       "    }\n",
       "\n",
       "    .dataframe tbody tr th {\n",
       "        vertical-align: top;\n",
       "    }\n",
       "\n",
       "    .dataframe thead th {\n",
       "        text-align: right;\n",
       "    }\n",
       "</style>\n",
       "<table border=\"1\" class=\"dataframe\">\n",
       "  <thead>\n",
       "    <tr style=\"text-align: right;\">\n",
       "      <th></th>\n",
       "      <th>A</th>\n",
       "      <th>B</th>\n",
       "      <th>C</th>\n",
       "      <th>D</th>\n",
       "    </tr>\n",
       "  </thead>\n",
       "  <tbody>\n",
       "    <tr>\n",
<<<<<<< HEAD
       "      <th>2021-11-22 20:45:00</th>\n",
       "      <td>1.033000</td>\n",
       "      <td>0.766512</td>\n",
       "      <td>-1.327685</td>\n",
       "      <td>-0.704830</td>\n",
       "    </tr>\n",
       "    <tr>\n",
       "      <th>2021-11-22 19:45:00</th>\n",
       "      <td>-0.818195</td>\n",
       "      <td>-1.936570</td>\n",
       "      <td>-0.820844</td>\n",
       "      <td>-1.323579</td>\n",
       "    </tr>\n",
       "    <tr>\n",
       "      <th>2021-11-22 17:45:00</th>\n",
       "      <td>1.154420</td>\n",
       "      <td>0.624324</td>\n",
       "      <td>-0.813786</td>\n",
       "      <td>1.329151</td>\n",
       "    </tr>\n",
       "    <tr>\n",
       "      <th>2021-11-22 12:45:00</th>\n",
       "      <td>-0.726874</td>\n",
       "      <td>0.817315</td>\n",
       "      <td>-0.478015</td>\n",
       "      <td>0.466877</td>\n",
       "    </tr>\n",
       "    <tr>\n",
       "      <th>2021-11-22 14:45:00</th>\n",
       "      <td>-1.310471</td>\n",
       "      <td>1.132953</td>\n",
       "      <td>-0.172538</td>\n",
       "      <td>-1.372764</td>\n",
       "    </tr>\n",
       "    <tr>\n",
       "      <th>2021-11-22 16:45:00</th>\n",
       "      <td>-1.311974</td>\n",
       "      <td>-0.162781</td>\n",
       "      <td>-0.078605</td>\n",
       "      <td>0.270559</td>\n",
       "    </tr>\n",
       "    <tr>\n",
       "      <th>2021-11-22 21:45:00</th>\n",
       "      <td>0.063740</td>\n",
       "      <td>-0.243284</td>\n",
       "      <td>-0.004948</td>\n",
       "      <td>0.489068</td>\n",
       "    </tr>\n",
       "    <tr>\n",
       "      <th>2021-11-22 15:45:00</th>\n",
       "      <td>2.110360</td>\n",
       "      <td>-0.910910</td>\n",
       "      <td>0.129851</td>\n",
       "      <td>0.219313</td>\n",
       "    </tr>\n",
       "    <tr>\n",
       "      <th>2021-11-22 13:45:00</th>\n",
       "      <td>1.641790</td>\n",
       "      <td>0.399169</td>\n",
       "      <td>1.054088</td>\n",
       "      <td>0.828877</td>\n",
       "    </tr>\n",
       "    <tr>\n",
       "      <th>2021-11-22 18:45:00</th>\n",
       "      <td>-0.299010</td>\n",
       "      <td>0.168344</td>\n",
       "      <td>1.923140</td>\n",
       "      <td>0.641250</td>\n",
=======
       "      <th>2021-11-22 17:45:00</th>\n",
       "      <td>-0.247706</td>\n",
       "      <td>-0.793702</td>\n",
       "      <td>-0.801049</td>\n",
       "      <td>1.284632</td>\n",
       "    </tr>\n",
       "    <tr>\n",
       "      <th>2021-11-22 13:45:00</th>\n",
       "      <td>1.069119</td>\n",
       "      <td>0.261487</td>\n",
       "      <td>-0.584936</td>\n",
       "      <td>0.923981</td>\n",
       "    </tr>\n",
       "    <tr>\n",
       "      <th>2021-11-22 14:45:00</th>\n",
       "      <td>-0.853114</td>\n",
       "      <td>-1.128664</td>\n",
       "      <td>-0.372564</td>\n",
       "      <td>0.434111</td>\n",
       "    </tr>\n",
       "    <tr>\n",
       "      <th>2021-11-22 21:45:00</th>\n",
       "      <td>0.136987</td>\n",
       "      <td>1.449805</td>\n",
       "      <td>-0.121675</td>\n",
       "      <td>-0.437476</td>\n",
       "    </tr>\n",
       "    <tr>\n",
       "      <th>2021-11-22 15:45:00</th>\n",
       "      <td>0.193889</td>\n",
       "      <td>0.423385</td>\n",
       "      <td>0.237047</td>\n",
       "      <td>-0.488023</td>\n",
       "    </tr>\n",
       "    <tr>\n",
       "      <th>2021-11-22 19:45:00</th>\n",
       "      <td>-0.867608</td>\n",
       "      <td>1.419248</td>\n",
       "      <td>0.659899</td>\n",
       "      <td>-1.300290</td>\n",
       "    </tr>\n",
       "    <tr>\n",
       "      <th>2021-11-22 18:45:00</th>\n",
       "      <td>2.029969</td>\n",
       "      <td>-0.838669</td>\n",
       "      <td>0.785490</td>\n",
       "      <td>1.539324</td>\n",
       "    </tr>\n",
       "    <tr>\n",
       "      <th>2021-11-22 16:45:00</th>\n",
       "      <td>-0.592327</td>\n",
       "      <td>-0.324345</td>\n",
       "      <td>0.939298</td>\n",
       "      <td>-1.035246</td>\n",
       "    </tr>\n",
       "    <tr>\n",
       "      <th>2021-11-22 12:45:00</th>\n",
       "      <td>0.221715</td>\n",
       "      <td>0.271638</td>\n",
       "      <td>1.073060</td>\n",
       "      <td>1.032407</td>\n",
       "    </tr>\n",
       "    <tr>\n",
       "      <th>2021-11-22 20:45:00</th>\n",
       "      <td>0.131926</td>\n",
       "      <td>0.487907</td>\n",
       "      <td>1.368617</td>\n",
       "      <td>0.375278</td>\n",
>>>>>>> upstream/Attar_Aidin
       "    </tr>\n",
       "  </tbody>\n",
       "</table>\n",
       "</div>"
      ],
      "text/plain": [
       "                            A         B         C         D\n",
<<<<<<< HEAD
       "2021-11-22 20:45:00  1.033000  0.766512 -1.327685 -0.704830\n",
       "2021-11-22 19:45:00 -0.818195 -1.936570 -0.820844 -1.323579\n",
       "2021-11-22 17:45:00  1.154420  0.624324 -0.813786  1.329151\n",
       "2021-11-22 12:45:00 -0.726874  0.817315 -0.478015  0.466877\n",
       "2021-11-22 14:45:00 -1.310471  1.132953 -0.172538 -1.372764\n",
       "2021-11-22 16:45:00 -1.311974 -0.162781 -0.078605  0.270559\n",
       "2021-11-22 21:45:00  0.063740 -0.243284 -0.004948  0.489068\n",
       "2021-11-22 15:45:00  2.110360 -0.910910  0.129851  0.219313\n",
       "2021-11-22 13:45:00  1.641790  0.399169  1.054088  0.828877\n",
       "2021-11-22 18:45:00 -0.299010  0.168344  1.923140  0.641250"
      ]
     },
     "execution_count": 71,
=======
       "2021-11-22 17:45:00 -0.247706 -0.793702 -0.801049  1.284632\n",
       "2021-11-22 13:45:00  1.069119  0.261487 -0.584936  0.923981\n",
       "2021-11-22 14:45:00 -0.853114 -1.128664 -0.372564  0.434111\n",
       "2021-11-22 21:45:00  0.136987  1.449805 -0.121675 -0.437476\n",
       "2021-11-22 15:45:00  0.193889  0.423385  0.237047 -0.488023\n",
       "2021-11-22 19:45:00 -0.867608  1.419248  0.659899 -1.300290\n",
       "2021-11-22 18:45:00  2.029969 -0.838669  0.785490  1.539324\n",
       "2021-11-22 16:45:00 -0.592327 -0.324345  0.939298 -1.035246\n",
       "2021-11-22 12:45:00  0.221715  0.271638  1.073060  1.032407\n",
       "2021-11-22 20:45:00  0.131926  0.487907  1.368617  0.375278"
      ]
     },
     "execution_count": 20,
>>>>>>> upstream/Attar_Aidin
     "metadata": {},
     "output_type": "execute_result"
    }
   ],
   "source": [
    "df.sort_values(by=\"C\")"
   ]
  },
  {
   "cell_type": "markdown",
   "metadata": {},
   "source": [
    "## Selection\n",
    "\n",
    "### Getting slices\n",
    "\n",
    "The following show how to get part of the DataFrame (i.e. not just the elements)"
   ]
  },
  {
   "cell_type": "code",
<<<<<<< HEAD
   "execution_count": 72,
=======
   "execution_count": 21,
>>>>>>> upstream/Attar_Aidin
   "metadata": {},
   "outputs": [
    {
     "name": "stdout",
     "output_type": "stream",
     "text": [
<<<<<<< HEAD
      "2021-11-22 12:45:00   -0.726874\n",
      "2021-11-22 13:45:00    1.641790\n",
      "2021-11-22 14:45:00   -1.310471\n",
      "2021-11-22 15:45:00    2.110360\n",
      "2021-11-22 16:45:00   -1.311974\n",
      "2021-11-22 17:45:00    1.154420\n",
      "2021-11-22 18:45:00   -0.299010\n",
      "2021-11-22 19:45:00   -0.818195\n",
      "2021-11-22 20:45:00    1.033000\n",
      "2021-11-22 21:45:00    0.063740\n",
      "Freq: H, Name: A, dtype: float64 \n",
      "\n",
      "2021-11-22 12:45:00   -0.726874\n",
      "2021-11-22 13:45:00    1.641790\n",
      "2021-11-22 14:45:00   -1.310471\n",
      "2021-11-22 15:45:00    2.110360\n",
      "2021-11-22 16:45:00   -1.311974\n",
      "2021-11-22 17:45:00    1.154420\n",
      "2021-11-22 18:45:00   -0.299010\n",
      "2021-11-22 19:45:00   -0.818195\n",
      "2021-11-22 20:45:00    1.033000\n",
      "2021-11-22 21:45:00    0.063740\n",
=======
      "2021-11-22 12:45:00    0.221715\n",
      "2021-11-22 13:45:00    1.069119\n",
      "2021-11-22 14:45:00   -0.853114\n",
      "2021-11-22 15:45:00    0.193889\n",
      "2021-11-22 16:45:00   -0.592327\n",
      "2021-11-22 17:45:00   -0.247706\n",
      "2021-11-22 18:45:00    2.029969\n",
      "2021-11-22 19:45:00   -0.867608\n",
      "2021-11-22 20:45:00    0.131926\n",
      "2021-11-22 21:45:00    0.136987\n",
      "Freq: H, Name: A, dtype: float64 \n",
      "\n",
      "2021-11-22 12:45:00    0.221715\n",
      "2021-11-22 13:45:00    1.069119\n",
      "2021-11-22 14:45:00   -0.853114\n",
      "2021-11-22 15:45:00    0.193889\n",
      "2021-11-22 16:45:00   -0.592327\n",
      "2021-11-22 17:45:00   -0.247706\n",
      "2021-11-22 18:45:00    2.029969\n",
      "2021-11-22 19:45:00   -0.867608\n",
      "2021-11-22 20:45:00    0.131926\n",
      "2021-11-22 21:45:00    0.136987\n",
>>>>>>> upstream/Attar_Aidin
      "Freq: H, Name: A, dtype: float64\n"
     ]
    }
   ],
   "source": [
    "## standard and safe\n",
    "print (df['A'],'\\n')\n",
    "\n",
    "## equivalent but dangerous (imagine blank spaces in the name of the column..)\n",
    "## like A is Awensome\n",
    "print (df.A)"
   ]
  },
  {
   "cell_type": "code",
<<<<<<< HEAD
   "execution_count": 73,
=======
   "execution_count": 22,
>>>>>>> upstream/Attar_Aidin
   "metadata": {},
   "outputs": [
    {
     "name": "stdout",
     "output_type": "stream",
     "text": [
      "                            A         B         C         D\n",
<<<<<<< HEAD
      "2021-11-22 12:45:00 -0.726874  0.817315 -0.478015  0.466877\n",
      "2021-11-22 13:45:00  1.641790  0.399169  1.054088  0.828877\n",
      "2021-11-22 14:45:00 -1.310471  1.132953 -0.172538 -1.372764\n",
      "                            A         B         C         D\n",
      "2021-11-22 12:45:00 -0.726874  0.817315 -0.478015  0.466877\n",
      "2021-11-22 13:45:00  1.641790  0.399169  1.054088  0.828877\n",
      "2021-11-22 14:45:00 -1.310471  1.132953 -0.172538 -1.372764\n"
=======
      "2021-11-22 12:45:00  0.221715  0.271638  1.073060  1.032407\n",
      "2021-11-22 13:45:00  1.069119  0.261487 -0.584936  0.923981\n",
      "2021-11-22 14:45:00 -0.853114 -1.128664 -0.372564  0.434111\n",
      "                            A         B         C         D\n",
      "2021-11-22 12:45:00  0.221715  0.271638  1.073060  1.032407\n",
      "2021-11-22 13:45:00  1.069119  0.261487 -0.584936  0.923981\n",
      "2021-11-22 14:45:00 -0.853114 -1.128664 -0.372564  0.434111\n"
>>>>>>> upstream/Attar_Aidin
     ]
    }
   ],
   "source": [
    "# selecting rows by counting\n",
    "print (df[0:3])\n",
    "\n",
    "# or by index\n",
    "print (df[\"2021-11-22 12:45:00\":\"2021-11-22 14:45:00\"])"
   ]
  },
  {
   "cell_type": "markdown",
   "metadata": {},
   "source": [
    "### Selection by label"
   ]
  },
  {
   "cell_type": "code",
<<<<<<< HEAD
   "execution_count": 74,
=======
   "execution_count": 23,
>>>>>>> upstream/Attar_Aidin
   "metadata": {},
   "outputs": [
    {
     "data": {
      "text/plain": [
<<<<<<< HEAD
       "A   -0.726874\n",
       "B    0.817315\n",
       "C   -0.478015\n",
       "D    0.466877\n",
       "Name: 2021-11-22 12:45:00, dtype: float64"
      ]
     },
     "execution_count": 74,
=======
       "A    0.221715\n",
       "B    0.271638\n",
       "C    1.073060\n",
       "D    1.032407\n",
       "Name: 2021-11-22 12:45:00, dtype: float64"
      ]
     },
     "execution_count": 23,
>>>>>>> upstream/Attar_Aidin
     "metadata": {},
     "output_type": "execute_result"
    }
   ],
   "source": [
    "# getting a cross section (part of the DataFrame) using a label\n",
    "df.loc[dates[0]]"
   ]
  },
  {
   "cell_type": "code",
<<<<<<< HEAD
   "execution_count": 75,
=======
   "execution_count": 24,
>>>>>>> upstream/Attar_Aidin
   "metadata": {},
   "outputs": [
    {
     "data": {
      "text/html": [
       "<div>\n",
       "<style scoped>\n",
       "    .dataframe tbody tr th:only-of-type {\n",
       "        vertical-align: middle;\n",
       "    }\n",
       "\n",
       "    .dataframe tbody tr th {\n",
       "        vertical-align: top;\n",
       "    }\n",
       "\n",
       "    .dataframe thead th {\n",
       "        text-align: right;\n",
       "    }\n",
       "</style>\n",
       "<table border=\"1\" class=\"dataframe\">\n",
       "  <thead>\n",
       "    <tr style=\"text-align: right;\">\n",
       "      <th></th>\n",
       "      <th>A</th>\n",
       "      <th>B</th>\n",
       "    </tr>\n",
       "  </thead>\n",
       "  <tbody>\n",
       "    <tr>\n",
       "      <th>2021-11-22 12:45:00</th>\n",
<<<<<<< HEAD
       "      <td>-0.726874</td>\n",
       "      <td>0.817315</td>\n",
       "    </tr>\n",
       "    <tr>\n",
       "      <th>2021-11-22 13:45:00</th>\n",
       "      <td>1.641790</td>\n",
       "      <td>0.399169</td>\n",
       "    </tr>\n",
       "    <tr>\n",
       "      <th>2021-11-22 14:45:00</th>\n",
       "      <td>-1.310471</td>\n",
       "      <td>1.132953</td>\n",
       "    </tr>\n",
       "    <tr>\n",
       "      <th>2021-11-22 15:45:00</th>\n",
       "      <td>2.110360</td>\n",
       "      <td>-0.910910</td>\n",
       "    </tr>\n",
       "    <tr>\n",
       "      <th>2021-11-22 16:45:00</th>\n",
       "      <td>-1.311974</td>\n",
       "      <td>-0.162781</td>\n",
       "    </tr>\n",
       "    <tr>\n",
       "      <th>2021-11-22 17:45:00</th>\n",
       "      <td>1.154420</td>\n",
       "      <td>0.624324</td>\n",
       "    </tr>\n",
       "    <tr>\n",
       "      <th>2021-11-22 18:45:00</th>\n",
       "      <td>-0.299010</td>\n",
       "      <td>0.168344</td>\n",
       "    </tr>\n",
       "    <tr>\n",
       "      <th>2021-11-22 19:45:00</th>\n",
       "      <td>-0.818195</td>\n",
       "      <td>-1.936570</td>\n",
       "    </tr>\n",
       "    <tr>\n",
       "      <th>2021-11-22 20:45:00</th>\n",
       "      <td>1.033000</td>\n",
       "      <td>0.766512</td>\n",
       "    </tr>\n",
       "    <tr>\n",
       "      <th>2021-11-22 21:45:00</th>\n",
       "      <td>0.063740</td>\n",
       "      <td>-0.243284</td>\n",
=======
       "      <td>0.221715</td>\n",
       "      <td>0.271638</td>\n",
       "    </tr>\n",
       "    <tr>\n",
       "      <th>2021-11-22 13:45:00</th>\n",
       "      <td>1.069119</td>\n",
       "      <td>0.261487</td>\n",
       "    </tr>\n",
       "    <tr>\n",
       "      <th>2021-11-22 14:45:00</th>\n",
       "      <td>-0.853114</td>\n",
       "      <td>-1.128664</td>\n",
       "    </tr>\n",
       "    <tr>\n",
       "      <th>2021-11-22 15:45:00</th>\n",
       "      <td>0.193889</td>\n",
       "      <td>0.423385</td>\n",
       "    </tr>\n",
       "    <tr>\n",
       "      <th>2021-11-22 16:45:00</th>\n",
       "      <td>-0.592327</td>\n",
       "      <td>-0.324345</td>\n",
       "    </tr>\n",
       "    <tr>\n",
       "      <th>2021-11-22 17:45:00</th>\n",
       "      <td>-0.247706</td>\n",
       "      <td>-0.793702</td>\n",
       "    </tr>\n",
       "    <tr>\n",
       "      <th>2021-11-22 18:45:00</th>\n",
       "      <td>2.029969</td>\n",
       "      <td>-0.838669</td>\n",
       "    </tr>\n",
       "    <tr>\n",
       "      <th>2021-11-22 19:45:00</th>\n",
       "      <td>-0.867608</td>\n",
       "      <td>1.419248</td>\n",
       "    </tr>\n",
       "    <tr>\n",
       "      <th>2021-11-22 20:45:00</th>\n",
       "      <td>0.131926</td>\n",
       "      <td>0.487907</td>\n",
       "    </tr>\n",
       "    <tr>\n",
       "      <th>2021-11-22 21:45:00</th>\n",
       "      <td>0.136987</td>\n",
       "      <td>1.449805</td>\n",
>>>>>>> upstream/Attar_Aidin
       "    </tr>\n",
       "  </tbody>\n",
       "</table>\n",
       "</div>"
      ],
      "text/plain": [
       "                            A         B\n",
<<<<<<< HEAD
       "2021-11-22 12:45:00 -0.726874  0.817315\n",
       "2021-11-22 13:45:00  1.641790  0.399169\n",
       "2021-11-22 14:45:00 -1.310471  1.132953\n",
       "2021-11-22 15:45:00  2.110360 -0.910910\n",
       "2021-11-22 16:45:00 -1.311974 -0.162781\n",
       "2021-11-22 17:45:00  1.154420  0.624324\n",
       "2021-11-22 18:45:00 -0.299010  0.168344\n",
       "2021-11-22 19:45:00 -0.818195 -1.936570\n",
       "2021-11-22 20:45:00  1.033000  0.766512\n",
       "2021-11-22 21:45:00  0.063740 -0.243284"
      ]
     },
     "execution_count": 75,
=======
       "2021-11-22 12:45:00  0.221715  0.271638\n",
       "2021-11-22 13:45:00  1.069119  0.261487\n",
       "2021-11-22 14:45:00 -0.853114 -1.128664\n",
       "2021-11-22 15:45:00  0.193889  0.423385\n",
       "2021-11-22 16:45:00 -0.592327 -0.324345\n",
       "2021-11-22 17:45:00 -0.247706 -0.793702\n",
       "2021-11-22 18:45:00  2.029969 -0.838669\n",
       "2021-11-22 19:45:00 -0.867608  1.419248\n",
       "2021-11-22 20:45:00  0.131926  0.487907\n",
       "2021-11-22 21:45:00  0.136987  1.449805"
      ]
     },
     "execution_count": 24,
>>>>>>> upstream/Attar_Aidin
     "metadata": {},
     "output_type": "execute_result"
    }
   ],
   "source": [
    "# selecting on a multi-axis by label:\n",
    "df.loc[:,['A','B']]\n",
    "#a=df.loc[:,['A','B']]"
   ]
  },
  {
   "cell_type": "code",
<<<<<<< HEAD
   "execution_count": 76,
=======
   "execution_count": 25,
>>>>>>> upstream/Attar_Aidin
   "metadata": {},
   "outputs": [
    {
     "data": {
      "text/html": [
       "<div>\n",
       "<style scoped>\n",
       "    .dataframe tbody tr th:only-of-type {\n",
       "        vertical-align: middle;\n",
       "    }\n",
       "\n",
       "    .dataframe tbody tr th {\n",
       "        vertical-align: top;\n",
       "    }\n",
       "\n",
       "    .dataframe thead th {\n",
       "        text-align: right;\n",
       "    }\n",
       "</style>\n",
       "<table border=\"1\" class=\"dataframe\">\n",
       "  <thead>\n",
       "    <tr style=\"text-align: right;\">\n",
       "      <th></th>\n",
       "      <th>A</th>\n",
       "      <th>B</th>\n",
       "    </tr>\n",
       "  </thead>\n",
       "  <tbody>\n",
       "    <tr>\n",
       "      <th>2021-11-22 16:45:00</th>\n",
<<<<<<< HEAD
       "      <td>-1.311974</td>\n",
       "      <td>-0.162781</td>\n",
       "    </tr>\n",
       "    <tr>\n",
       "      <th>2021-11-22 17:45:00</th>\n",
       "      <td>1.154420</td>\n",
       "      <td>0.624324</td>\n",
       "    </tr>\n",
       "    <tr>\n",
       "      <th>2021-11-22 18:45:00</th>\n",
       "      <td>-0.299010</td>\n",
       "      <td>0.168344</td>\n",
=======
       "      <td>-0.592327</td>\n",
       "      <td>-0.324345</td>\n",
       "    </tr>\n",
       "    <tr>\n",
       "      <th>2021-11-22 17:45:00</th>\n",
       "      <td>-0.247706</td>\n",
       "      <td>-0.793702</td>\n",
       "    </tr>\n",
       "    <tr>\n",
       "      <th>2021-11-22 18:45:00</th>\n",
       "      <td>2.029969</td>\n",
       "      <td>-0.838669</td>\n",
>>>>>>> upstream/Attar_Aidin
       "    </tr>\n",
       "  </tbody>\n",
       "</table>\n",
       "</div>"
      ],
      "text/plain": [
       "                            A         B\n",
<<<<<<< HEAD
       "2021-11-22 16:45:00 -1.311974 -0.162781\n",
       "2021-11-22 17:45:00  1.154420  0.624324\n",
       "2021-11-22 18:45:00 -0.299010  0.168344"
      ]
     },
     "execution_count": 76,
=======
       "2021-11-22 16:45:00 -0.592327 -0.324345\n",
       "2021-11-22 17:45:00 -0.247706 -0.793702\n",
       "2021-11-22 18:45:00  2.029969 -0.838669"
      ]
     },
     "execution_count": 25,
>>>>>>> upstream/Attar_Aidin
     "metadata": {},
     "output_type": "execute_result"
    }
   ],
   "source": [
    "# showing label slicing, both endpoints are included:\n",
    "df.loc['2021-11-22 16:45:00':'2021-11-22 18:45:00',['A','B']]"
   ]
  },
  {
   "cell_type": "code",
<<<<<<< HEAD
   "execution_count": 77,
=======
   "execution_count": 26,
>>>>>>> upstream/Attar_Aidin
   "metadata": {},
   "outputs": [
    {
     "name": "stdout",
     "output_type": "stream",
     "text": [
<<<<<<< HEAD
      "1.6417896154735427\n",
      "1.6417896154735427\n"
=======
      "1.0691188452349765\n",
      "1.0691188452349765\n"
>>>>>>> upstream/Attar_Aidin
     ]
    }
   ],
   "source": [
    "# getting an individual element\n",
    "print (df.loc[dates[1],'A'])\n",
    "\n",
    "# equivalently\n",
    "print (df.at[dates[1],'A'])"
   ]
  },
  {
   "cell_type": "markdown",
   "metadata": {},
   "source": [
    "### Selecting by position"
   ]
  },
  {
   "cell_type": "code",
<<<<<<< HEAD
   "execution_count": 78,
=======
   "execution_count": 27,
>>>>>>> upstream/Attar_Aidin
   "metadata": {},
   "outputs": [
    {
     "name": "stdout",
     "output_type": "stream",
     "text": [
<<<<<<< HEAD
      "A    2.110360\n",
      "B   -0.910910\n",
      "C    0.129851\n",
      "D    0.219313\n",
      "Name: 2021-11-22 15:45:00, dtype: float64 \n",
      "\n",
      "                            A         B\n",
      "2021-11-22 15:45:00  2.110360 -0.910910\n",
      "2021-11-22 16:45:00 -1.311974 -0.162781\n"
=======
      "A    0.193889\n",
      "B    0.423385\n",
      "C    0.237047\n",
      "D   -0.488023\n",
      "Name: 2021-11-22 15:45:00, dtype: float64 \n",
      "\n",
      "                            A         B\n",
      "2021-11-22 15:45:00  0.193889  0.423385\n",
      "2021-11-22 16:45:00 -0.592327 -0.324345\n"
>>>>>>> upstream/Attar_Aidin
     ]
    }
   ],
   "source": [
    "# select via the position of the passed integers:\n",
    "print (df.iloc[3],'\\n')\n",
    "\n",
    "# notation similar to numpy/python\n",
    "print (df.iloc[3:5,0:2])"
   ]
  },
  {
   "cell_type": "code",
<<<<<<< HEAD
   "execution_count": 79,
=======
   "execution_count": 28,
>>>>>>> upstream/Attar_Aidin
   "metadata": {},
   "outputs": [
    {
     "data": {
      "text/html": [
       "<div>\n",
       "<style scoped>\n",
       "    .dataframe tbody tr th:only-of-type {\n",
       "        vertical-align: middle;\n",
       "    }\n",
       "\n",
       "    .dataframe tbody tr th {\n",
       "        vertical-align: top;\n",
       "    }\n",
       "\n",
       "    .dataframe thead th {\n",
       "        text-align: right;\n",
       "    }\n",
       "</style>\n",
       "<table border=\"1\" class=\"dataframe\">\n",
       "  <thead>\n",
       "    <tr style=\"text-align: right;\">\n",
       "      <th></th>\n",
       "      <th>A</th>\n",
       "      <th>C</th>\n",
       "    </tr>\n",
       "  </thead>\n",
       "  <tbody>\n",
       "    <tr>\n",
       "      <th>2021-11-22 13:45:00</th>\n",
<<<<<<< HEAD
       "      <td>1.641790</td>\n",
       "      <td>1.054088</td>\n",
       "    </tr>\n",
       "    <tr>\n",
       "      <th>2021-11-22 14:45:00</th>\n",
       "      <td>-1.310471</td>\n",
       "      <td>-0.172538</td>\n",
       "    </tr>\n",
       "    <tr>\n",
       "      <th>2021-11-22 16:45:00</th>\n",
       "      <td>-1.311974</td>\n",
       "      <td>-0.078605</td>\n",
=======
       "      <td>1.069119</td>\n",
       "      <td>-0.584936</td>\n",
       "    </tr>\n",
       "    <tr>\n",
       "      <th>2021-11-22 14:45:00</th>\n",
       "      <td>-0.853114</td>\n",
       "      <td>-0.372564</td>\n",
       "    </tr>\n",
       "    <tr>\n",
       "      <th>2021-11-22 16:45:00</th>\n",
       "      <td>-0.592327</td>\n",
       "      <td>0.939298</td>\n",
>>>>>>> upstream/Attar_Aidin
       "    </tr>\n",
       "  </tbody>\n",
       "</table>\n",
       "</div>"
      ],
      "text/plain": [
       "                            A         C\n",
<<<<<<< HEAD
       "2021-11-22 13:45:00  1.641790  1.054088\n",
       "2021-11-22 14:45:00 -1.310471 -0.172538\n",
       "2021-11-22 16:45:00 -1.311974 -0.078605"
      ]
     },
     "execution_count": 79,
=======
       "2021-11-22 13:45:00  1.069119 -0.584936\n",
       "2021-11-22 14:45:00 -0.853114 -0.372564\n",
       "2021-11-22 16:45:00 -0.592327  0.939298"
      ]
     },
     "execution_count": 28,
>>>>>>> upstream/Attar_Aidin
     "metadata": {},
     "output_type": "execute_result"
    }
   ],
   "source": [
    "# selecting raws 1,2 and 4 for columns 0 and 2\n",
    "df.iloc[[1,2,4],[0,2]]"
   ]
  },
  {
   "cell_type": "code",
<<<<<<< HEAD
   "execution_count": 80,
=======
   "execution_count": 29,
>>>>>>> upstream/Attar_Aidin
   "metadata": {},
   "outputs": [
    {
     "name": "stdout",
     "output_type": "stream",
     "text": [
      "                            A         B         C         D\n",
<<<<<<< HEAD
      "2021-11-22 13:45:00  1.641790  0.399169  1.054088  0.828877\n",
      "2021-11-22 14:45:00 -1.310471  1.132953 -0.172538 -1.372764 \n",
      "\n",
      "                            B         C\n",
      "2021-11-22 12:45:00  0.817315 -0.478015\n",
      "2021-11-22 13:45:00  0.399169  1.054088\n",
      "2021-11-22 14:45:00  1.132953 -0.172538\n",
      "2021-11-22 15:45:00 -0.910910  0.129851\n",
      "2021-11-22 16:45:00 -0.162781 -0.078605\n",
      "2021-11-22 17:45:00  0.624324 -0.813786\n",
      "2021-11-22 18:45:00  0.168344  1.923140\n",
      "2021-11-22 19:45:00 -1.936570 -0.820844\n",
      "2021-11-22 20:45:00  0.766512 -1.327685\n",
      "2021-11-22 21:45:00 -0.243284 -0.004948\n"
=======
      "2021-11-22 13:45:00  1.069119  0.261487 -0.584936  0.923981\n",
      "2021-11-22 14:45:00 -0.853114 -1.128664 -0.372564  0.434111 \n",
      "\n",
      "                            B         C\n",
      "2021-11-22 12:45:00  0.271638  1.073060\n",
      "2021-11-22 13:45:00  0.261487 -0.584936\n",
      "2021-11-22 14:45:00 -1.128664 -0.372564\n",
      "2021-11-22 15:45:00  0.423385  0.237047\n",
      "2021-11-22 16:45:00 -0.324345  0.939298\n",
      "2021-11-22 17:45:00 -0.793702 -0.801049\n",
      "2021-11-22 18:45:00 -0.838669  0.785490\n",
      "2021-11-22 19:45:00  1.419248  0.659899\n",
      "2021-11-22 20:45:00  0.487907  1.368617\n",
      "2021-11-22 21:45:00  1.449805 -0.121675\n"
>>>>>>> upstream/Attar_Aidin
     ]
    }
   ],
   "source": [
    "# slicing rows explicitly\n",
    "print (df.iloc[1:3,:],'\\n')\n",
    "\n",
    "# slicing columns explicitly\n",
    "print (df.iloc[:,1:3])\n"
   ]
  },
  {
   "cell_type": "code",
<<<<<<< HEAD
   "execution_count": 81,
=======
   "execution_count": 30,
>>>>>>> upstream/Attar_Aidin
   "metadata": {},
   "outputs": [
    {
     "data": {
      "text/plain": [
<<<<<<< HEAD
       "0.3991689336064658"
      ]
     },
     "execution_count": 81,
=======
       "0.2614874269927052"
      ]
     },
     "execution_count": 30,
>>>>>>> upstream/Attar_Aidin
     "metadata": {},
     "output_type": "execute_result"
    }
   ],
   "source": [
    "# selecting an individual element by position\n",
    "df.iloc[1,1]\n",
    "df.iat[1,1]\n"
   ]
  },
  {
   "cell_type": "markdown",
   "metadata": {},
   "source": [
    "### Boolean index\n",
    "\n",
    "Very powerful way of filtering out data with certain features. Notation is very similar to numpy arrays."
   ]
  },
  {
   "cell_type": "code",
<<<<<<< HEAD
   "execution_count": 82,
=======
   "execution_count": 31,
>>>>>>> upstream/Attar_Aidin
   "metadata": {},
   "outputs": [
    {
     "data": {
      "text/html": [
       "<div>\n",
       "<style scoped>\n",
       "    .dataframe tbody tr th:only-of-type {\n",
       "        vertical-align: middle;\n",
       "    }\n",
       "\n",
       "    .dataframe tbody tr th {\n",
       "        vertical-align: top;\n",
       "    }\n",
       "\n",
       "    .dataframe thead th {\n",
       "        text-align: right;\n",
       "    }\n",
       "</style>\n",
       "<table border=\"1\" class=\"dataframe\">\n",
       "  <thead>\n",
       "    <tr style=\"text-align: right;\">\n",
       "      <th></th>\n",
       "      <th>A</th>\n",
       "      <th>B</th>\n",
       "      <th>C</th>\n",
       "      <th>D</th>\n",
       "    </tr>\n",
       "  </thead>\n",
       "  <tbody>\n",
       "    <tr>\n",
       "      <th>2021-11-22 12:45:00</th>\n",
<<<<<<< HEAD
       "      <td>-0.726874</td>\n",
       "      <td>0.817315</td>\n",
       "      <td>-0.478015</td>\n",
       "      <td>0.466877</td>\n",
       "    </tr>\n",
       "    <tr>\n",
       "      <th>2021-11-22 13:45:00</th>\n",
       "      <td>1.641790</td>\n",
       "      <td>0.399169</td>\n",
       "      <td>1.054088</td>\n",
       "      <td>0.828877</td>\n",
       "    </tr>\n",
       "    <tr>\n",
       "      <th>2021-11-22 14:45:00</th>\n",
       "      <td>-1.310471</td>\n",
       "      <td>1.132953</td>\n",
       "      <td>-0.172538</td>\n",
       "      <td>-1.372764</td>\n",
       "    </tr>\n",
       "    <tr>\n",
       "      <th>2021-11-22 17:45:00</th>\n",
       "      <td>1.154420</td>\n",
       "      <td>0.624324</td>\n",
       "      <td>-0.813786</td>\n",
       "      <td>1.329151</td>\n",
       "    </tr>\n",
       "    <tr>\n",
       "      <th>2021-11-22 18:45:00</th>\n",
       "      <td>-0.299010</td>\n",
       "      <td>0.168344</td>\n",
       "      <td>1.923140</td>\n",
       "      <td>0.641250</td>\n",
       "    </tr>\n",
       "    <tr>\n",
       "      <th>2021-11-22 20:45:00</th>\n",
       "      <td>1.033000</td>\n",
       "      <td>0.766512</td>\n",
       "      <td>-1.327685</td>\n",
       "      <td>-0.704830</td>\n",
=======
       "      <td>0.221715</td>\n",
       "      <td>0.271638</td>\n",
       "      <td>1.073060</td>\n",
       "      <td>1.032407</td>\n",
       "    </tr>\n",
       "    <tr>\n",
       "      <th>2021-11-22 13:45:00</th>\n",
       "      <td>1.069119</td>\n",
       "      <td>0.261487</td>\n",
       "      <td>-0.584936</td>\n",
       "      <td>0.923981</td>\n",
       "    </tr>\n",
       "    <tr>\n",
       "      <th>2021-11-22 15:45:00</th>\n",
       "      <td>0.193889</td>\n",
       "      <td>0.423385</td>\n",
       "      <td>0.237047</td>\n",
       "      <td>-0.488023</td>\n",
       "    </tr>\n",
       "    <tr>\n",
       "      <th>2021-11-22 19:45:00</th>\n",
       "      <td>-0.867608</td>\n",
       "      <td>1.419248</td>\n",
       "      <td>0.659899</td>\n",
       "      <td>-1.300290</td>\n",
       "    </tr>\n",
       "    <tr>\n",
       "      <th>2021-11-22 20:45:00</th>\n",
       "      <td>0.131926</td>\n",
       "      <td>0.487907</td>\n",
       "      <td>1.368617</td>\n",
       "      <td>0.375278</td>\n",
       "    </tr>\n",
       "    <tr>\n",
       "      <th>2021-11-22 21:45:00</th>\n",
       "      <td>0.136987</td>\n",
       "      <td>1.449805</td>\n",
       "      <td>-0.121675</td>\n",
       "      <td>-0.437476</td>\n",
>>>>>>> upstream/Attar_Aidin
       "    </tr>\n",
       "  </tbody>\n",
       "</table>\n",
       "</div>"
      ],
      "text/plain": [
       "                            A         B         C         D\n",
<<<<<<< HEAD
       "2021-11-22 12:45:00 -0.726874  0.817315 -0.478015  0.466877\n",
       "2021-11-22 13:45:00  1.641790  0.399169  1.054088  0.828877\n",
       "2021-11-22 14:45:00 -1.310471  1.132953 -0.172538 -1.372764\n",
       "2021-11-22 17:45:00  1.154420  0.624324 -0.813786  1.329151\n",
       "2021-11-22 18:45:00 -0.299010  0.168344  1.923140  0.641250\n",
       "2021-11-22 20:45:00  1.033000  0.766512 -1.327685 -0.704830"
      ]
     },
     "execution_count": 82,
=======
       "2021-11-22 12:45:00  0.221715  0.271638  1.073060  1.032407\n",
       "2021-11-22 13:45:00  1.069119  0.261487 -0.584936  0.923981\n",
       "2021-11-22 15:45:00  0.193889  0.423385  0.237047 -0.488023\n",
       "2021-11-22 19:45:00 -0.867608  1.419248  0.659899 -1.300290\n",
       "2021-11-22 20:45:00  0.131926  0.487907  1.368617  0.375278\n",
       "2021-11-22 21:45:00  0.136987  1.449805 -0.121675 -0.437476"
      ]
     },
     "execution_count": 31,
>>>>>>> upstream/Attar_Aidin
     "metadata": {},
     "output_type": "execute_result"
    }
   ],
   "source": [
    "# Filter by a boolean condition on the values of a single column\n",
    "df[df['B'] > 0]"
   ]
  },
  {
   "cell_type": "code",
<<<<<<< HEAD
   "execution_count": 83,
=======
   "execution_count": 32,
>>>>>>> upstream/Attar_Aidin
   "metadata": {},
   "outputs": [
    {
     "data": {
      "text/html": [
       "<div>\n",
       "<style scoped>\n",
       "    .dataframe tbody tr th:only-of-type {\n",
       "        vertical-align: middle;\n",
       "    }\n",
       "\n",
       "    .dataframe tbody tr th {\n",
       "        vertical-align: top;\n",
       "    }\n",
       "\n",
       "    .dataframe thead th {\n",
       "        text-align: right;\n",
       "    }\n",
       "</style>\n",
       "<table border=\"1\" class=\"dataframe\">\n",
       "  <thead>\n",
       "    <tr style=\"text-align: right;\">\n",
       "      <th></th>\n",
       "      <th>A</th>\n",
       "      <th>B</th>\n",
       "      <th>C</th>\n",
       "      <th>D</th>\n",
       "    </tr>\n",
       "  </thead>\n",
       "  <tbody>\n",
       "    <tr>\n",
       "      <th>2021-11-22 12:45:00</th>\n",
<<<<<<< HEAD
       "      <td>NaN</td>\n",
       "      <td>0.817315</td>\n",
       "      <td>NaN</td>\n",
       "      <td>0.466877</td>\n",
       "    </tr>\n",
       "    <tr>\n",
       "      <th>2021-11-22 13:45:00</th>\n",
       "      <td>1.64179</td>\n",
       "      <td>0.399169</td>\n",
       "      <td>1.054088</td>\n",
       "      <td>0.828877</td>\n",
=======
       "      <td>0.221715</td>\n",
       "      <td>0.271638</td>\n",
       "      <td>1.073060</td>\n",
       "      <td>1.032407</td>\n",
       "    </tr>\n",
       "    <tr>\n",
       "      <th>2021-11-22 13:45:00</th>\n",
       "      <td>1.069119</td>\n",
       "      <td>0.261487</td>\n",
       "      <td>NaN</td>\n",
       "      <td>0.923981</td>\n",
>>>>>>> upstream/Attar_Aidin
       "    </tr>\n",
       "    <tr>\n",
       "      <th>2021-11-22 14:45:00</th>\n",
       "      <td>NaN</td>\n",
<<<<<<< HEAD
       "      <td>1.132953</td>\n",
       "      <td>NaN</td>\n",
       "      <td>NaN</td>\n",
       "    </tr>\n",
       "    <tr>\n",
       "      <th>2021-11-22 15:45:00</th>\n",
       "      <td>2.11036</td>\n",
       "      <td>NaN</td>\n",
       "      <td>0.129851</td>\n",
       "      <td>0.219313</td>\n",
=======
       "      <td>NaN</td>\n",
       "      <td>NaN</td>\n",
       "      <td>0.434111</td>\n",
       "    </tr>\n",
       "    <tr>\n",
       "      <th>2021-11-22 15:45:00</th>\n",
       "      <td>0.193889</td>\n",
       "      <td>0.423385</td>\n",
       "      <td>0.237047</td>\n",
       "      <td>NaN</td>\n",
>>>>>>> upstream/Attar_Aidin
       "    </tr>\n",
       "    <tr>\n",
       "      <th>2021-11-22 16:45:00</th>\n",
       "      <td>NaN</td>\n",
       "      <td>NaN</td>\n",
<<<<<<< HEAD
       "      <td>NaN</td>\n",
       "      <td>0.270559</td>\n",
       "    </tr>\n",
       "    <tr>\n",
       "      <th>2021-11-22 17:45:00</th>\n",
       "      <td>1.15442</td>\n",
       "      <td>0.624324</td>\n",
       "      <td>NaN</td>\n",
       "      <td>1.329151</td>\n",
       "    </tr>\n",
       "    <tr>\n",
       "      <th>2021-11-22 18:45:00</th>\n",
       "      <td>NaN</td>\n",
       "      <td>0.168344</td>\n",
       "      <td>1.923140</td>\n",
       "      <td>0.641250</td>\n",
=======
       "      <td>0.939298</td>\n",
       "      <td>NaN</td>\n",
       "    </tr>\n",
       "    <tr>\n",
       "      <th>2021-11-22 17:45:00</th>\n",
       "      <td>NaN</td>\n",
       "      <td>NaN</td>\n",
       "      <td>NaN</td>\n",
       "      <td>1.284632</td>\n",
       "    </tr>\n",
       "    <tr>\n",
       "      <th>2021-11-22 18:45:00</th>\n",
       "      <td>2.029969</td>\n",
       "      <td>NaN</td>\n",
       "      <td>0.785490</td>\n",
       "      <td>1.539324</td>\n",
>>>>>>> upstream/Attar_Aidin
       "    </tr>\n",
       "    <tr>\n",
       "      <th>2021-11-22 19:45:00</th>\n",
       "      <td>NaN</td>\n",
<<<<<<< HEAD
       "      <td>NaN</td>\n",
       "      <td>NaN</td>\n",
=======
       "      <td>1.419248</td>\n",
       "      <td>0.659899</td>\n",
>>>>>>> upstream/Attar_Aidin
       "      <td>NaN</td>\n",
       "    </tr>\n",
       "    <tr>\n",
       "      <th>2021-11-22 20:45:00</th>\n",
<<<<<<< HEAD
       "      <td>1.03300</td>\n",
       "      <td>0.766512</td>\n",
       "      <td>NaN</td>\n",
       "      <td>NaN</td>\n",
       "    </tr>\n",
       "    <tr>\n",
       "      <th>2021-11-22 21:45:00</th>\n",
       "      <td>0.06374</td>\n",
       "      <td>NaN</td>\n",
       "      <td>NaN</td>\n",
       "      <td>0.489068</td>\n",
=======
       "      <td>0.131926</td>\n",
       "      <td>0.487907</td>\n",
       "      <td>1.368617</td>\n",
       "      <td>0.375278</td>\n",
       "    </tr>\n",
       "    <tr>\n",
       "      <th>2021-11-22 21:45:00</th>\n",
       "      <td>0.136987</td>\n",
       "      <td>1.449805</td>\n",
       "      <td>NaN</td>\n",
       "      <td>NaN</td>\n",
>>>>>>> upstream/Attar_Aidin
       "    </tr>\n",
       "  </tbody>\n",
       "</table>\n",
       "</div>"
      ],
      "text/plain": [
<<<<<<< HEAD
       "                           A         B         C         D\n",
       "2021-11-22 12:45:00      NaN  0.817315       NaN  0.466877\n",
       "2021-11-22 13:45:00  1.64179  0.399169  1.054088  0.828877\n",
       "2021-11-22 14:45:00      NaN  1.132953       NaN       NaN\n",
       "2021-11-22 15:45:00  2.11036       NaN  0.129851  0.219313\n",
       "2021-11-22 16:45:00      NaN       NaN       NaN  0.270559\n",
       "2021-11-22 17:45:00  1.15442  0.624324       NaN  1.329151\n",
       "2021-11-22 18:45:00      NaN  0.168344  1.923140  0.641250\n",
       "2021-11-22 19:45:00      NaN       NaN       NaN       NaN\n",
       "2021-11-22 20:45:00  1.03300  0.766512       NaN       NaN\n",
       "2021-11-22 21:45:00  0.06374       NaN       NaN  0.489068"
      ]
     },
     "execution_count": 83,
=======
       "                            A         B         C         D\n",
       "2021-11-22 12:45:00  0.221715  0.271638  1.073060  1.032407\n",
       "2021-11-22 13:45:00  1.069119  0.261487       NaN  0.923981\n",
       "2021-11-22 14:45:00       NaN       NaN       NaN  0.434111\n",
       "2021-11-22 15:45:00  0.193889  0.423385  0.237047       NaN\n",
       "2021-11-22 16:45:00       NaN       NaN  0.939298       NaN\n",
       "2021-11-22 17:45:00       NaN       NaN       NaN  1.284632\n",
       "2021-11-22 18:45:00  2.029969       NaN  0.785490  1.539324\n",
       "2021-11-22 19:45:00       NaN  1.419248  0.659899       NaN\n",
       "2021-11-22 20:45:00  0.131926  0.487907  1.368617  0.375278\n",
       "2021-11-22 21:45:00  0.136987  1.449805       NaN       NaN"
      ]
     },
     "execution_count": 32,
>>>>>>> upstream/Attar_Aidin
     "metadata": {},
     "output_type": "execute_result"
    }
   ],
   "source": [
    "# Selecting on the basis of boolean conditions applied to the whole DataFrame\n",
    "df[df>0]\n",
    "\n",
    "# a DataFrame with the same shape is returned, with NaN's where condition is not met"
   ]
  },
  {
   "cell_type": "markdown",
   "metadata": {},
   "source": [
    "### Setting\n",
    "\n",
    "Combination of selection and setting of values"
   ]
  },
  {
   "cell_type": "code",
<<<<<<< HEAD
   "execution_count": 84,
=======
   "execution_count": 33,
>>>>>>> upstream/Attar_Aidin
   "metadata": {},
   "outputs": [],
   "source": [
    "# setting values by label (same as by position)\n",
    "df.at[dates[0],'A'] = 0\n",
    "\n",
    "# setting and assigning a numpy array\n",
    "df.loc[:,'D'] = np.array([5] * len(df))\n",
    "\n",
    "# defining a brend new column\n",
    "df['E'] = np.arange(len(df))*0.5\n",
    "\n",
    "# defining a brend new column by means of a pd.Series: indexes must be the same!\n",
    "df['E prime'] = pd.Series(np.arange(len(df))*2, index=df.index)\n"
   ]
  },
  {
   "cell_type": "code",
<<<<<<< HEAD
   "execution_count": 85,
=======
   "execution_count": 34,
>>>>>>> upstream/Attar_Aidin
   "metadata": {},
   "outputs": [
    {
     "data": {
      "text/html": [
       "<div>\n",
       "<style scoped>\n",
       "    .dataframe tbody tr th:only-of-type {\n",
       "        vertical-align: middle;\n",
       "    }\n",
       "\n",
       "    .dataframe tbody tr th {\n",
       "        vertical-align: top;\n",
       "    }\n",
       "\n",
       "    .dataframe thead th {\n",
       "        text-align: right;\n",
       "    }\n",
       "</style>\n",
       "<table border=\"1\" class=\"dataframe\">\n",
       "  <thead>\n",
       "    <tr style=\"text-align: right;\">\n",
       "      <th></th>\n",
       "      <th>A</th>\n",
       "      <th>B</th>\n",
       "      <th>C</th>\n",
       "      <th>D</th>\n",
       "      <th>E</th>\n",
       "      <th>E prime</th>\n",
       "      <th>cosine</th>\n",
       "    </tr>\n",
       "  </thead>\n",
       "  <tbody>\n",
       "    <tr>\n",
       "      <th>2021-11-22 12:45:00</th>\n",
       "      <td>0.000000</td>\n",
<<<<<<< HEAD
       "      <td>0.817315</td>\n",
       "      <td>-0.478015</td>\n",
=======
       "      <td>0.271638</td>\n",
       "      <td>1.073060</td>\n",
>>>>>>> upstream/Attar_Aidin
       "      <td>5</td>\n",
       "      <td>0.0</td>\n",
       "      <td>0</td>\n",
       "      <td>1.000000</td>\n",
       "    </tr>\n",
       "    <tr>\n",
       "      <th>2021-11-22 13:45:00</th>\n",
<<<<<<< HEAD
       "      <td>1.641790</td>\n",
       "      <td>0.399169</td>\n",
       "      <td>1.054088</td>\n",
=======
       "      <td>1.069119</td>\n",
       "      <td>0.261487</td>\n",
       "      <td>-0.584936</td>\n",
>>>>>>> upstream/Attar_Aidin
       "      <td>5</td>\n",
       "      <td>0.5</td>\n",
       "      <td>2</td>\n",
       "      <td>0.999962</td>\n",
       "    </tr>\n",
       "    <tr>\n",
       "      <th>2021-11-22 14:45:00</th>\n",
<<<<<<< HEAD
       "      <td>-1.310471</td>\n",
       "      <td>1.132953</td>\n",
       "      <td>-0.172538</td>\n",
=======
       "      <td>-0.853114</td>\n",
       "      <td>-1.128664</td>\n",
       "      <td>-0.372564</td>\n",
>>>>>>> upstream/Attar_Aidin
       "      <td>5</td>\n",
       "      <td>1.0</td>\n",
       "      <td>4</td>\n",
       "      <td>0.999848</td>\n",
       "    </tr>\n",
       "    <tr>\n",
       "      <th>2021-11-22 15:45:00</th>\n",
<<<<<<< HEAD
       "      <td>2.110360</td>\n",
       "      <td>-0.910910</td>\n",
       "      <td>0.129851</td>\n",
=======
       "      <td>0.193889</td>\n",
       "      <td>0.423385</td>\n",
       "      <td>0.237047</td>\n",
>>>>>>> upstream/Attar_Aidin
       "      <td>5</td>\n",
       "      <td>1.5</td>\n",
       "      <td>6</td>\n",
       "      <td>0.999657</td>\n",
       "    </tr>\n",
       "    <tr>\n",
       "      <th>2021-11-22 16:45:00</th>\n",
<<<<<<< HEAD
       "      <td>-1.311974</td>\n",
       "      <td>-0.162781</td>\n",
       "      <td>-0.078605</td>\n",
=======
       "      <td>-0.592327</td>\n",
       "      <td>-0.324345</td>\n",
       "      <td>0.939298</td>\n",
>>>>>>> upstream/Attar_Aidin
       "      <td>5</td>\n",
       "      <td>2.0</td>\n",
       "      <td>8</td>\n",
       "      <td>0.999391</td>\n",
       "    </tr>\n",
       "    <tr>\n",
       "      <th>2021-11-22 17:45:00</th>\n",
<<<<<<< HEAD
       "      <td>1.154420</td>\n",
       "      <td>0.624324</td>\n",
       "      <td>-0.813786</td>\n",
=======
       "      <td>-0.247706</td>\n",
       "      <td>-0.793702</td>\n",
       "      <td>-0.801049</td>\n",
>>>>>>> upstream/Attar_Aidin
       "      <td>5</td>\n",
       "      <td>2.5</td>\n",
       "      <td>10</td>\n",
       "      <td>0.999048</td>\n",
       "    </tr>\n",
       "    <tr>\n",
       "      <th>2021-11-22 18:45:00</th>\n",
<<<<<<< HEAD
       "      <td>-0.299010</td>\n",
       "      <td>0.168344</td>\n",
       "      <td>1.923140</td>\n",
=======
       "      <td>2.029969</td>\n",
       "      <td>-0.838669</td>\n",
       "      <td>0.785490</td>\n",
>>>>>>> upstream/Attar_Aidin
       "      <td>5</td>\n",
       "      <td>3.0</td>\n",
       "      <td>12</td>\n",
       "      <td>0.998630</td>\n",
       "    </tr>\n",
       "    <tr>\n",
       "      <th>2021-11-22 19:45:00</th>\n",
<<<<<<< HEAD
       "      <td>-0.818195</td>\n",
       "      <td>-1.936570</td>\n",
       "      <td>-0.820844</td>\n",
=======
       "      <td>-0.867608</td>\n",
       "      <td>1.419248</td>\n",
       "      <td>0.659899</td>\n",
>>>>>>> upstream/Attar_Aidin
       "      <td>5</td>\n",
       "      <td>3.5</td>\n",
       "      <td>14</td>\n",
       "      <td>0.998135</td>\n",
       "    </tr>\n",
       "    <tr>\n",
       "      <th>2021-11-22 20:45:00</th>\n",
<<<<<<< HEAD
       "      <td>1.033000</td>\n",
       "      <td>0.766512</td>\n",
       "      <td>-1.327685</td>\n",
=======
       "      <td>0.131926</td>\n",
       "      <td>0.487907</td>\n",
       "      <td>1.368617</td>\n",
>>>>>>> upstream/Attar_Aidin
       "      <td>5</td>\n",
       "      <td>4.0</td>\n",
       "      <td>16</td>\n",
       "      <td>0.997564</td>\n",
       "    </tr>\n",
       "    <tr>\n",
       "      <th>2021-11-22 21:45:00</th>\n",
<<<<<<< HEAD
       "      <td>0.063740</td>\n",
       "      <td>-0.243284</td>\n",
       "      <td>-0.004948</td>\n",
=======
       "      <td>0.136987</td>\n",
       "      <td>1.449805</td>\n",
       "      <td>-0.121675</td>\n",
>>>>>>> upstream/Attar_Aidin
       "      <td>5</td>\n",
       "      <td>4.5</td>\n",
       "      <td>18</td>\n",
       "      <td>0.996917</td>\n",
       "    </tr>\n",
       "  </tbody>\n",
       "</table>\n",
       "</div>"
      ],
      "text/plain": [
       "                            A         B         C  D    E  E prime    cosine\n",
<<<<<<< HEAD
       "2021-11-22 12:45:00  0.000000  0.817315 -0.478015  5  0.0        0  1.000000\n",
       "2021-11-22 13:45:00  1.641790  0.399169  1.054088  5  0.5        2  0.999962\n",
       "2021-11-22 14:45:00 -1.310471  1.132953 -0.172538  5  1.0        4  0.999848\n",
       "2021-11-22 15:45:00  2.110360 -0.910910  0.129851  5  1.5        6  0.999657\n",
       "2021-11-22 16:45:00 -1.311974 -0.162781 -0.078605  5  2.0        8  0.999391\n",
       "2021-11-22 17:45:00  1.154420  0.624324 -0.813786  5  2.5       10  0.999048\n",
       "2021-11-22 18:45:00 -0.299010  0.168344  1.923140  5  3.0       12  0.998630\n",
       "2021-11-22 19:45:00 -0.818195 -1.936570 -0.820844  5  3.5       14  0.998135\n",
       "2021-11-22 20:45:00  1.033000  0.766512 -1.327685  5  4.0       16  0.997564\n",
       "2021-11-22 21:45:00  0.063740 -0.243284 -0.004948  5  4.5       18  0.996917"
      ]
     },
     "execution_count": 85,
=======
       "2021-11-22 12:45:00  0.000000  0.271638  1.073060  5  0.0        0  1.000000\n",
       "2021-11-22 13:45:00  1.069119  0.261487 -0.584936  5  0.5        2  0.999962\n",
       "2021-11-22 14:45:00 -0.853114 -1.128664 -0.372564  5  1.0        4  0.999848\n",
       "2021-11-22 15:45:00  0.193889  0.423385  0.237047  5  1.5        6  0.999657\n",
       "2021-11-22 16:45:00 -0.592327 -0.324345  0.939298  5  2.0        8  0.999391\n",
       "2021-11-22 17:45:00 -0.247706 -0.793702 -0.801049  5  2.5       10  0.999048\n",
       "2021-11-22 18:45:00  2.029969 -0.838669  0.785490  5  3.0       12  0.998630\n",
       "2021-11-22 19:45:00 -0.867608  1.419248  0.659899  5  3.5       14  0.998135\n",
       "2021-11-22 20:45:00  0.131926  0.487907  1.368617  5  4.0       16  0.997564\n",
       "2021-11-22 21:45:00  0.136987  1.449805 -0.121675  5  4.5       18  0.996917"
      ]
     },
     "execution_count": 34,
>>>>>>> upstream/Attar_Aidin
     "metadata": {},
     "output_type": "execute_result"
    }
   ],
   "source": [
    "def dcos(theta):\n",
    "    theta = theta*(np.pi/180)\n",
    "    return np.cos(theta)\n",
    " \n",
    "df['cosine'] = pd.Series(df[\"E\"].apply(dcos), index=df.index)\n",
    "#df['cosine'] = dcos(df['E'])\n",
    "df"
   ]
  },
  {
   "cell_type": "code",
<<<<<<< HEAD
   "execution_count": 50,
=======
   "execution_count": 35,
>>>>>>> upstream/Attar_Aidin
   "metadata": {},
   "outputs": [
    {
     "data": {
      "text/html": [
       "<div>\n",
       "<style scoped>\n",
       "    .dataframe tbody tr th:only-of-type {\n",
       "        vertical-align: middle;\n",
       "    }\n",
       "\n",
       "    .dataframe tbody tr th {\n",
       "        vertical-align: top;\n",
       "    }\n",
       "\n",
       "    .dataframe thead th {\n",
       "        text-align: right;\n",
       "    }\n",
       "</style>\n",
       "<table border=\"1\" class=\"dataframe\">\n",
       "  <thead>\n",
       "    <tr style=\"text-align: right;\">\n",
       "      <th></th>\n",
       "      <th>A</th>\n",
       "      <th>B</th>\n",
       "      <th>C</th>\n",
       "      <th>D</th>\n",
       "      <th>E</th>\n",
       "      <th>E prime</th>\n",
       "      <th>cosine</th>\n",
       "    </tr>\n",
       "  </thead>\n",
       "  <tbody>\n",
       "    <tr>\n",
       "      <th>2021-11-22 12:45:00</th>\n",
       "      <td>0.000000</td>\n",
<<<<<<< HEAD
       "      <td>-0.574961</td>\n",
       "      <td>-0.051893</td>\n",
=======
       "      <td>-0.271638</td>\n",
       "      <td>-1.073060</td>\n",
>>>>>>> upstream/Attar_Aidin
       "      <td>-5</td>\n",
       "      <td>0.0</td>\n",
       "      <td>0</td>\n",
       "      <td>-1.000000</td>\n",
       "    </tr>\n",
       "    <tr>\n",
       "      <th>2021-11-22 13:45:00</th>\n",
<<<<<<< HEAD
       "      <td>-0.415095</td>\n",
       "      <td>-0.000945</td>\n",
       "      <td>-0.309710</td>\n",
=======
       "      <td>-1.069119</td>\n",
       "      <td>-0.261487</td>\n",
       "      <td>-0.584936</td>\n",
>>>>>>> upstream/Attar_Aidin
       "      <td>-5</td>\n",
       "      <td>-0.5</td>\n",
       "      <td>-2</td>\n",
       "      <td>-0.999962</td>\n",
       "    </tr>\n",
       "    <tr>\n",
       "      <th>2021-11-22 14:45:00</th>\n",
<<<<<<< HEAD
       "      <td>-0.816659</td>\n",
       "      <td>-1.549404</td>\n",
       "      <td>-1.810306</td>\n",
=======
       "      <td>-0.853114</td>\n",
       "      <td>-1.128664</td>\n",
       "      <td>-0.372564</td>\n",
>>>>>>> upstream/Attar_Aidin
       "      <td>-5</td>\n",
       "      <td>-1.0</td>\n",
       "      <td>-4</td>\n",
       "      <td>-0.999848</td>\n",
       "    </tr>\n",
       "    <tr>\n",
       "      <th>2021-11-22 15:45:00</th>\n",
<<<<<<< HEAD
       "      <td>-1.420629</td>\n",
       "      <td>-1.495667</td>\n",
       "      <td>-0.173470</td>\n",
=======
       "      <td>-0.193889</td>\n",
       "      <td>-0.423385</td>\n",
       "      <td>-0.237047</td>\n",
>>>>>>> upstream/Attar_Aidin
       "      <td>-5</td>\n",
       "      <td>-1.5</td>\n",
       "      <td>-6</td>\n",
       "      <td>-0.999657</td>\n",
       "    </tr>\n",
       "    <tr>\n",
       "      <th>2021-11-22 16:45:00</th>\n",
<<<<<<< HEAD
       "      <td>-0.835743</td>\n",
       "      <td>-1.447754</td>\n",
       "      <td>-0.844050</td>\n",
=======
       "      <td>-0.592327</td>\n",
       "      <td>-0.324345</td>\n",
       "      <td>-0.939298</td>\n",
>>>>>>> upstream/Attar_Aidin
       "      <td>-5</td>\n",
       "      <td>-2.0</td>\n",
       "      <td>-8</td>\n",
       "      <td>-0.999391</td>\n",
       "    </tr>\n",
       "    <tr>\n",
       "      <th>2021-11-22 17:45:00</th>\n",
<<<<<<< HEAD
       "      <td>-0.772095</td>\n",
       "      <td>-0.597136</td>\n",
       "      <td>-0.905736</td>\n",
=======
       "      <td>-0.247706</td>\n",
       "      <td>-0.793702</td>\n",
       "      <td>-0.801049</td>\n",
>>>>>>> upstream/Attar_Aidin
       "      <td>-5</td>\n",
       "      <td>-2.5</td>\n",
       "      <td>-10</td>\n",
       "      <td>-0.999048</td>\n",
       "    </tr>\n",
       "    <tr>\n",
       "      <th>2021-11-22 18:45:00</th>\n",
<<<<<<< HEAD
       "      <td>-0.876323</td>\n",
       "      <td>-1.796548</td>\n",
       "      <td>-0.708278</td>\n",
=======
       "      <td>-2.029969</td>\n",
       "      <td>-0.838669</td>\n",
       "      <td>-0.785490</td>\n",
>>>>>>> upstream/Attar_Aidin
       "      <td>-5</td>\n",
       "      <td>-3.0</td>\n",
       "      <td>-12</td>\n",
       "      <td>-0.998630</td>\n",
       "    </tr>\n",
       "    <tr>\n",
       "      <th>2021-11-22 19:45:00</th>\n",
<<<<<<< HEAD
       "      <td>-2.275818</td>\n",
       "      <td>-0.614899</td>\n",
       "      <td>-0.800277</td>\n",
=======
       "      <td>-0.867608</td>\n",
       "      <td>-1.419248</td>\n",
       "      <td>-0.659899</td>\n",
>>>>>>> upstream/Attar_Aidin
       "      <td>-5</td>\n",
       "      <td>-3.5</td>\n",
       "      <td>-14</td>\n",
       "      <td>-0.998135</td>\n",
       "    </tr>\n",
       "    <tr>\n",
       "      <th>2021-11-22 20:45:00</th>\n",
<<<<<<< HEAD
       "      <td>-0.364331</td>\n",
       "      <td>-1.288142</td>\n",
       "      <td>-0.644859</td>\n",
=======
       "      <td>-0.131926</td>\n",
       "      <td>-0.487907</td>\n",
       "      <td>-1.368617</td>\n",
>>>>>>> upstream/Attar_Aidin
       "      <td>-5</td>\n",
       "      <td>-4.0</td>\n",
       "      <td>-16</td>\n",
       "      <td>-0.997564</td>\n",
       "    </tr>\n",
       "    <tr>\n",
       "      <th>2021-11-22 21:45:00</th>\n",
<<<<<<< HEAD
       "      <td>-1.026144</td>\n",
       "      <td>-1.181692</td>\n",
       "      <td>-0.094777</td>\n",
=======
       "      <td>-0.136987</td>\n",
       "      <td>-1.449805</td>\n",
       "      <td>-0.121675</td>\n",
>>>>>>> upstream/Attar_Aidin
       "      <td>-5</td>\n",
       "      <td>-4.5</td>\n",
       "      <td>-18</td>\n",
       "      <td>-0.996917</td>\n",
       "    </tr>\n",
       "  </tbody>\n",
       "</table>\n",
       "</div>"
      ],
      "text/plain": [
       "                            A         B         C  D    E  E prime    cosine\n",
<<<<<<< HEAD
       "2021-11-22 12:45:00  0.000000 -0.574961 -0.051893 -5  0.0        0 -1.000000\n",
       "2021-11-22 13:45:00 -0.415095 -0.000945 -0.309710 -5 -0.5       -2 -0.999962\n",
       "2021-11-22 14:45:00 -0.816659 -1.549404 -1.810306 -5 -1.0       -4 -0.999848\n",
       "2021-11-22 15:45:00 -1.420629 -1.495667 -0.173470 -5 -1.5       -6 -0.999657\n",
       "2021-11-22 16:45:00 -0.835743 -1.447754 -0.844050 -5 -2.0       -8 -0.999391\n",
       "2021-11-22 17:45:00 -0.772095 -0.597136 -0.905736 -5 -2.5      -10 -0.999048\n",
       "2021-11-22 18:45:00 -0.876323 -1.796548 -0.708278 -5 -3.0      -12 -0.998630\n",
       "2021-11-22 19:45:00 -2.275818 -0.614899 -0.800277 -5 -3.5      -14 -0.998135\n",
       "2021-11-22 20:45:00 -0.364331 -1.288142 -0.644859 -5 -4.0      -16 -0.997564\n",
       "2021-11-22 21:45:00 -1.026144 -1.181692 -0.094777 -5 -4.5      -18 -0.996917"
      ]
     },
     "execution_count": 50,
=======
       "2021-11-22 12:45:00  0.000000 -0.271638 -1.073060 -5  0.0        0 -1.000000\n",
       "2021-11-22 13:45:00 -1.069119 -0.261487 -0.584936 -5 -0.5       -2 -0.999962\n",
       "2021-11-22 14:45:00 -0.853114 -1.128664 -0.372564 -5 -1.0       -4 -0.999848\n",
       "2021-11-22 15:45:00 -0.193889 -0.423385 -0.237047 -5 -1.5       -6 -0.999657\n",
       "2021-11-22 16:45:00 -0.592327 -0.324345 -0.939298 -5 -2.0       -8 -0.999391\n",
       "2021-11-22 17:45:00 -0.247706 -0.793702 -0.801049 -5 -2.5      -10 -0.999048\n",
       "2021-11-22 18:45:00 -2.029969 -0.838669 -0.785490 -5 -3.0      -12 -0.998630\n",
       "2021-11-22 19:45:00 -0.867608 -1.419248 -0.659899 -5 -3.5      -14 -0.998135\n",
       "2021-11-22 20:45:00 -0.131926 -0.487907 -1.368617 -5 -4.0      -16 -0.997564\n",
       "2021-11-22 21:45:00 -0.136987 -1.449805 -0.121675 -5 -4.5      -18 -0.996917"
      ]
     },
     "execution_count": 35,
>>>>>>> upstream/Attar_Aidin
     "metadata": {},
     "output_type": "execute_result"
    }
   ],
   "source": [
    "# another example of global setting\n",
    "df2=df.copy()\n",
    "\n",
    "df2[df2>0] = -df2\n",
    "df2"
   ]
  },
  {
   "cell_type": "code",
<<<<<<< HEAD
   "execution_count": 51,
=======
   "execution_count": 36,
>>>>>>> upstream/Attar_Aidin
   "metadata": {},
   "outputs": [
    {
     "data": {
      "text/html": [
       "<div>\n",
       "<style scoped>\n",
       "    .dataframe tbody tr th:only-of-type {\n",
       "        vertical-align: middle;\n",
       "    }\n",
       "\n",
       "    .dataframe tbody tr th {\n",
       "        vertical-align: top;\n",
       "    }\n",
       "\n",
       "    .dataframe thead th {\n",
       "        text-align: right;\n",
       "    }\n",
       "</style>\n",
       "<table border=\"1\" class=\"dataframe\">\n",
       "  <thead>\n",
       "    <tr style=\"text-align: right;\">\n",
       "      <th></th>\n",
       "      <th>A</th>\n",
       "      <th>B</th>\n",
       "      <th>C</th>\n",
       "      <th>D</th>\n",
       "      <th>E</th>\n",
       "      <th>E prime</th>\n",
       "      <th>cosine</th>\n",
       "    </tr>\n",
       "  </thead>\n",
       "  <tbody>\n",
       "    <tr>\n",
       "      <th>2021-11-22 12:45:00</th>\n",
       "      <td>0.000000</td>\n",
<<<<<<< HEAD
       "      <td>-0.574961</td>\n",
       "      <td>0.051893</td>\n",
=======
       "      <td>0.271638</td>\n",
       "      <td>1.073060</td>\n",
>>>>>>> upstream/Attar_Aidin
       "      <td>5</td>\n",
       "      <td>0.0</td>\n",
       "      <td>0</td>\n",
       "      <td>1.000000</td>\n",
       "    </tr>\n",
       "    <tr>\n",
       "      <th>2021-11-22 13:45:00</th>\n",
<<<<<<< HEAD
       "      <td>-0.415095</td>\n",
       "      <td>-0.000945</td>\n",
       "      <td>0.309710</td>\n",
=======
       "      <td>1.069119</td>\n",
       "      <td>0.261487</td>\n",
       "      <td>-0.584936</td>\n",
>>>>>>> upstream/Attar_Aidin
       "      <td>5</td>\n",
       "      <td>0.5</td>\n",
       "      <td>2</td>\n",
       "      <td>0.999962</td>\n",
       "    </tr>\n",
       "    <tr>\n",
       "      <th>2021-11-22 14:45:00</th>\n",
<<<<<<< HEAD
       "      <td>0.816659</td>\n",
       "      <td>-1.549404</td>\n",
       "      <td>-1.810306</td>\n",
=======
       "      <td>-0.853114</td>\n",
       "      <td>-1.128664</td>\n",
       "      <td>-0.372564</td>\n",
>>>>>>> upstream/Attar_Aidin
       "      <td>5</td>\n",
       "      <td>1.0</td>\n",
       "      <td>4</td>\n",
       "      <td>0.999848</td>\n",
       "    </tr>\n",
       "    <tr>\n",
       "      <th>2021-11-22 15:45:00</th>\n",
<<<<<<< HEAD
       "      <td>1.420629</td>\n",
       "      <td>1.495667</td>\n",
       "      <td>-0.173470</td>\n",
=======
       "      <td>0.193889</td>\n",
       "      <td>0.423385</td>\n",
       "      <td>0.237047</td>\n",
>>>>>>> upstream/Attar_Aidin
       "      <td>5</td>\n",
       "      <td>1.5</td>\n",
       "      <td>6</td>\n",
       "      <td>0.999657</td>\n",
       "    </tr>\n",
       "    <tr>\n",
       "      <th>2021-11-22 16:45:00</th>\n",
<<<<<<< HEAD
       "      <td>-0.835743</td>\n",
       "      <td>-1.447754</td>\n",
       "      <td>0.844050</td>\n",
=======
       "      <td>-0.592327</td>\n",
       "      <td>-0.324345</td>\n",
       "      <td>0.939298</td>\n",
>>>>>>> upstream/Attar_Aidin
       "      <td>5</td>\n",
       "      <td>2.0</td>\n",
       "      <td>8</td>\n",
       "      <td>0.999391</td>\n",
       "    </tr>\n",
       "    <tr>\n",
       "      <th>2021-11-22 17:45:00</th>\n",
<<<<<<< HEAD
       "      <td>-0.772095</td>\n",
       "      <td>-0.597136</td>\n",
       "      <td>0.905736</td>\n",
=======
       "      <td>-0.247706</td>\n",
       "      <td>-0.793702</td>\n",
       "      <td>-0.801049</td>\n",
>>>>>>> upstream/Attar_Aidin
       "      <td>5</td>\n",
       "      <td>2.5</td>\n",
       "      <td>10</td>\n",
       "      <td>0.999048</td>\n",
       "    </tr>\n",
       "    <tr>\n",
       "      <th>2021-11-22 18:45:00</th>\n",
<<<<<<< HEAD
       "      <td>-0.876323</td>\n",
       "      <td>-1.796548</td>\n",
       "      <td>-0.708278</td>\n",
=======
       "      <td>2.029969</td>\n",
       "      <td>-0.838669</td>\n",
       "      <td>0.785490</td>\n",
>>>>>>> upstream/Attar_Aidin
       "      <td>5</td>\n",
       "      <td>3.0</td>\n",
       "      <td>12</td>\n",
       "      <td>0.998630</td>\n",
       "    </tr>\n",
       "    <tr>\n",
       "      <th>2021-11-22 19:45:00</th>\n",
<<<<<<< HEAD
       "      <td>2.275818</td>\n",
       "      <td>-0.614899</td>\n",
       "      <td>-0.800277</td>\n",
=======
       "      <td>-0.867608</td>\n",
       "      <td>1.419248</td>\n",
       "      <td>0.659899</td>\n",
>>>>>>> upstream/Attar_Aidin
       "      <td>5</td>\n",
       "      <td>3.5</td>\n",
       "      <td>14</td>\n",
       "      <td>0.998135</td>\n",
       "    </tr>\n",
       "    <tr>\n",
       "      <th>2021-11-22 20:45:00</th>\n",
<<<<<<< HEAD
       "      <td>0.364331</td>\n",
       "      <td>1.288142</td>\n",
       "      <td>-0.644859</td>\n",
=======
       "      <td>0.131926</td>\n",
       "      <td>0.487907</td>\n",
       "      <td>1.368617</td>\n",
>>>>>>> upstream/Attar_Aidin
       "      <td>5</td>\n",
       "      <td>4.0</td>\n",
       "      <td>16</td>\n",
       "      <td>0.997564</td>\n",
       "    </tr>\n",
       "    <tr>\n",
       "      <th>2021-11-22 21:45:00</th>\n",
<<<<<<< HEAD
       "      <td>-1.026144</td>\n",
       "      <td>1.181692</td>\n",
       "      <td>0.094777</td>\n",
=======
       "      <td>0.136987</td>\n",
       "      <td>1.449805</td>\n",
       "      <td>-0.121675</td>\n",
>>>>>>> upstream/Attar_Aidin
       "      <td>5</td>\n",
       "      <td>4.5</td>\n",
       "      <td>18</td>\n",
       "      <td>0.996917</td>\n",
       "    </tr>\n",
       "  </tbody>\n",
       "</table>\n",
       "</div>"
      ],
      "text/plain": [
       "                            A         B         C  D    E  E prime    cosine\n",
<<<<<<< HEAD
       "2021-11-22 12:45:00  0.000000 -0.574961  0.051893  5  0.0        0  1.000000\n",
       "2021-11-22 13:45:00 -0.415095 -0.000945  0.309710  5  0.5        2  0.999962\n",
       "2021-11-22 14:45:00  0.816659 -1.549404 -1.810306  5  1.0        4  0.999848\n",
       "2021-11-22 15:45:00  1.420629  1.495667 -0.173470  5  1.5        6  0.999657\n",
       "2021-11-22 16:45:00 -0.835743 -1.447754  0.844050  5  2.0        8  0.999391\n",
       "2021-11-22 17:45:00 -0.772095 -0.597136  0.905736  5  2.5       10  0.999048\n",
       "2021-11-22 18:45:00 -0.876323 -1.796548 -0.708278  5  3.0       12  0.998630\n",
       "2021-11-22 19:45:00  2.275818 -0.614899 -0.800277  5  3.5       14  0.998135\n",
       "2021-11-22 20:45:00  0.364331  1.288142 -0.644859  5  4.0       16  0.997564\n",
       "2021-11-22 21:45:00 -1.026144  1.181692  0.094777  5  4.5       18  0.996917"
      ]
     },
     "execution_count": 51,
=======
       "2021-11-22 12:45:00  0.000000  0.271638  1.073060  5  0.0        0  1.000000\n",
       "2021-11-22 13:45:00  1.069119  0.261487 -0.584936  5  0.5        2  0.999962\n",
       "2021-11-22 14:45:00 -0.853114 -1.128664 -0.372564  5  1.0        4  0.999848\n",
       "2021-11-22 15:45:00  0.193889  0.423385  0.237047  5  1.5        6  0.999657\n",
       "2021-11-22 16:45:00 -0.592327 -0.324345  0.939298  5  2.0        8  0.999391\n",
       "2021-11-22 17:45:00 -0.247706 -0.793702 -0.801049  5  2.5       10  0.999048\n",
       "2021-11-22 18:45:00  2.029969 -0.838669  0.785490  5  3.0       12  0.998630\n",
       "2021-11-22 19:45:00 -0.867608  1.419248  0.659899  5  3.5       14  0.998135\n",
       "2021-11-22 20:45:00  0.131926  0.487907  1.368617  5  4.0       16  0.997564\n",
       "2021-11-22 21:45:00  0.136987  1.449805 -0.121675  5  4.5       18  0.996917"
      ]
     },
     "execution_count": 36,
>>>>>>> upstream/Attar_Aidin
     "metadata": {},
     "output_type": "execute_result"
    }
   ],
   "source": [
    "df"
   ]
  },
  {
   "cell_type": "markdown",
   "metadata": {},
   "source": [
    "### Dropping\n",
    "\n",
    "N.B.: dropping doesn't act permanently on the DataFrame, i.e. to get that do :\n",
    "```python\n",
    "df = df.drop(....)\n",
    "```"
   ]
  },
  {
   "cell_type": "code",
<<<<<<< HEAD
   "execution_count": 86,
=======
   "execution_count": 37,
>>>>>>> upstream/Attar_Aidin
   "metadata": {},
   "outputs": [
    {
     "data": {
      "text/html": [
       "<div>\n",
       "<style scoped>\n",
       "    .dataframe tbody tr th:only-of-type {\n",
       "        vertical-align: middle;\n",
       "    }\n",
       "\n",
       "    .dataframe tbody tr th {\n",
       "        vertical-align: top;\n",
       "    }\n",
       "\n",
       "    .dataframe thead th {\n",
       "        text-align: right;\n",
       "    }\n",
       "</style>\n",
       "<table border=\"1\" class=\"dataframe\">\n",
       "  <thead>\n",
       "    <tr style=\"text-align: right;\">\n",
       "      <th></th>\n",
       "      <th>A</th>\n",
       "      <th>B</th>\n",
       "      <th>C</th>\n",
       "      <th>D</th>\n",
       "      <th>E</th>\n",
       "      <th>cosine</th>\n",
       "    </tr>\n",
       "  </thead>\n",
       "  <tbody>\n",
       "    <tr>\n",
       "      <th>2021-11-22 12:45:00</th>\n",
       "      <td>0.000000</td>\n",
<<<<<<< HEAD
       "      <td>0.817315</td>\n",
       "      <td>-0.478015</td>\n",
=======
       "      <td>0.271638</td>\n",
       "      <td>1.073060</td>\n",
>>>>>>> upstream/Attar_Aidin
       "      <td>5</td>\n",
       "      <td>0.0</td>\n",
       "      <td>1.000000</td>\n",
       "    </tr>\n",
       "    <tr>\n",
       "      <th>2021-11-22 13:45:00</th>\n",
<<<<<<< HEAD
       "      <td>1.641790</td>\n",
       "      <td>0.399169</td>\n",
       "      <td>1.054088</td>\n",
=======
       "      <td>1.069119</td>\n",
       "      <td>0.261487</td>\n",
       "      <td>-0.584936</td>\n",
>>>>>>> upstream/Attar_Aidin
       "      <td>5</td>\n",
       "      <td>0.5</td>\n",
       "      <td>0.999962</td>\n",
       "    </tr>\n",
       "    <tr>\n",
       "      <th>2021-11-22 14:45:00</th>\n",
<<<<<<< HEAD
       "      <td>-1.310471</td>\n",
       "      <td>1.132953</td>\n",
       "      <td>-0.172538</td>\n",
=======
       "      <td>-0.853114</td>\n",
       "      <td>-1.128664</td>\n",
       "      <td>-0.372564</td>\n",
>>>>>>> upstream/Attar_Aidin
       "      <td>5</td>\n",
       "      <td>1.0</td>\n",
       "      <td>0.999848</td>\n",
       "    </tr>\n",
       "    <tr>\n",
       "      <th>2021-11-22 15:45:00</th>\n",
<<<<<<< HEAD
       "      <td>2.110360</td>\n",
       "      <td>-0.910910</td>\n",
       "      <td>0.129851</td>\n",
=======
       "      <td>0.193889</td>\n",
       "      <td>0.423385</td>\n",
       "      <td>0.237047</td>\n",
>>>>>>> upstream/Attar_Aidin
       "      <td>5</td>\n",
       "      <td>1.5</td>\n",
       "      <td>0.999657</td>\n",
       "    </tr>\n",
       "    <tr>\n",
       "      <th>2021-11-22 16:45:00</th>\n",
<<<<<<< HEAD
       "      <td>-1.311974</td>\n",
       "      <td>-0.162781</td>\n",
       "      <td>-0.078605</td>\n",
=======
       "      <td>-0.592327</td>\n",
       "      <td>-0.324345</td>\n",
       "      <td>0.939298</td>\n",
>>>>>>> upstream/Attar_Aidin
       "      <td>5</td>\n",
       "      <td>2.0</td>\n",
       "      <td>0.999391</td>\n",
       "    </tr>\n",
       "    <tr>\n",
       "      <th>2021-11-22 17:45:00</th>\n",
<<<<<<< HEAD
       "      <td>1.154420</td>\n",
       "      <td>0.624324</td>\n",
       "      <td>-0.813786</td>\n",
=======
       "      <td>-0.247706</td>\n",
       "      <td>-0.793702</td>\n",
       "      <td>-0.801049</td>\n",
>>>>>>> upstream/Attar_Aidin
       "      <td>5</td>\n",
       "      <td>2.5</td>\n",
       "      <td>0.999048</td>\n",
       "    </tr>\n",
       "    <tr>\n",
       "      <th>2021-11-22 18:45:00</th>\n",
<<<<<<< HEAD
       "      <td>-0.299010</td>\n",
       "      <td>0.168344</td>\n",
       "      <td>1.923140</td>\n",
=======
       "      <td>2.029969</td>\n",
       "      <td>-0.838669</td>\n",
       "      <td>0.785490</td>\n",
>>>>>>> upstream/Attar_Aidin
       "      <td>5</td>\n",
       "      <td>3.0</td>\n",
       "      <td>0.998630</td>\n",
       "    </tr>\n",
       "    <tr>\n",
       "      <th>2021-11-22 19:45:00</th>\n",
<<<<<<< HEAD
       "      <td>-0.818195</td>\n",
       "      <td>-1.936570</td>\n",
       "      <td>-0.820844</td>\n",
=======
       "      <td>-0.867608</td>\n",
       "      <td>1.419248</td>\n",
       "      <td>0.659899</td>\n",
>>>>>>> upstream/Attar_Aidin
       "      <td>5</td>\n",
       "      <td>3.5</td>\n",
       "      <td>0.998135</td>\n",
       "    </tr>\n",
       "    <tr>\n",
       "      <th>2021-11-22 20:45:00</th>\n",
<<<<<<< HEAD
       "      <td>1.033000</td>\n",
       "      <td>0.766512</td>\n",
       "      <td>-1.327685</td>\n",
=======
       "      <td>0.131926</td>\n",
       "      <td>0.487907</td>\n",
       "      <td>1.368617</td>\n",
>>>>>>> upstream/Attar_Aidin
       "      <td>5</td>\n",
       "      <td>4.0</td>\n",
       "      <td>0.997564</td>\n",
       "    </tr>\n",
       "    <tr>\n",
       "      <th>2021-11-22 21:45:00</th>\n",
<<<<<<< HEAD
       "      <td>0.063740</td>\n",
       "      <td>-0.243284</td>\n",
       "      <td>-0.004948</td>\n",
=======
       "      <td>0.136987</td>\n",
       "      <td>1.449805</td>\n",
       "      <td>-0.121675</td>\n",
>>>>>>> upstream/Attar_Aidin
       "      <td>5</td>\n",
       "      <td>4.5</td>\n",
       "      <td>0.996917</td>\n",
       "    </tr>\n",
       "  </tbody>\n",
       "</table>\n",
       "</div>"
      ],
      "text/plain": [
       "                            A         B         C  D    E    cosine\n",
<<<<<<< HEAD
       "2021-11-22 12:45:00  0.000000  0.817315 -0.478015  5  0.0  1.000000\n",
       "2021-11-22 13:45:00  1.641790  0.399169  1.054088  5  0.5  0.999962\n",
       "2021-11-22 14:45:00 -1.310471  1.132953 -0.172538  5  1.0  0.999848\n",
       "2021-11-22 15:45:00  2.110360 -0.910910  0.129851  5  1.5  0.999657\n",
       "2021-11-22 16:45:00 -1.311974 -0.162781 -0.078605  5  2.0  0.999391\n",
       "2021-11-22 17:45:00  1.154420  0.624324 -0.813786  5  2.5  0.999048\n",
       "2021-11-22 18:45:00 -0.299010  0.168344  1.923140  5  3.0  0.998630\n",
       "2021-11-22 19:45:00 -0.818195 -1.936570 -0.820844  5  3.5  0.998135\n",
       "2021-11-22 20:45:00  1.033000  0.766512 -1.327685  5  4.0  0.997564\n",
       "2021-11-22 21:45:00  0.063740 -0.243284 -0.004948  5  4.5  0.996917"
      ]
     },
     "execution_count": 86,
=======
       "2021-11-22 12:45:00  0.000000  0.271638  1.073060  5  0.0  1.000000\n",
       "2021-11-22 13:45:00  1.069119  0.261487 -0.584936  5  0.5  0.999962\n",
       "2021-11-22 14:45:00 -0.853114 -1.128664 -0.372564  5  1.0  0.999848\n",
       "2021-11-22 15:45:00  0.193889  0.423385  0.237047  5  1.5  0.999657\n",
       "2021-11-22 16:45:00 -0.592327 -0.324345  0.939298  5  2.0  0.999391\n",
       "2021-11-22 17:45:00 -0.247706 -0.793702 -0.801049  5  2.5  0.999048\n",
       "2021-11-22 18:45:00  2.029969 -0.838669  0.785490  5  3.0  0.998630\n",
       "2021-11-22 19:45:00 -0.867608  1.419248  0.659899  5  3.5  0.998135\n",
       "2021-11-22 20:45:00  0.131926  0.487907  1.368617  5  4.0  0.997564\n",
       "2021-11-22 21:45:00  0.136987  1.449805 -0.121675  5  4.5  0.996917"
      ]
     },
     "execution_count": 37,
>>>>>>> upstream/Attar_Aidin
     "metadata": {},
     "output_type": "execute_result"
    }
   ],
   "source": [
    "# Dropping by column\n",
    "df.drop(['E prime'], axis=1)\n",
    "\n",
    "#which is equivalent to\n",
    "new_df=df.drop(columns=['E prime'])\n",
    "new_df"
   ]
  },
  {
   "cell_type": "code",
<<<<<<< HEAD
   "execution_count": 87,
=======
   "execution_count": 38,
>>>>>>> upstream/Attar_Aidin
   "metadata": {},
   "outputs": [
    {
     "data": {
      "text/html": [
       "<div>\n",
       "<style scoped>\n",
       "    .dataframe tbody tr th:only-of-type {\n",
       "        vertical-align: middle;\n",
       "    }\n",
       "\n",
       "    .dataframe tbody tr th {\n",
       "        vertical-align: top;\n",
       "    }\n",
       "\n",
       "    .dataframe thead th {\n",
       "        text-align: right;\n",
       "    }\n",
       "</style>\n",
       "<table border=\"1\" class=\"dataframe\">\n",
       "  <thead>\n",
       "    <tr style=\"text-align: right;\">\n",
       "      <th></th>\n",
       "      <th>A</th>\n",
       "      <th>B</th>\n",
       "      <th>C</th>\n",
       "      <th>D</th>\n",
       "      <th>E</th>\n",
       "      <th>E prime</th>\n",
       "      <th>cosine</th>\n",
       "    </tr>\n",
       "  </thead>\n",
       "  <tbody>\n",
       "    <tr>\n",
       "      <th>2021-11-22 12:45:00</th>\n",
       "      <td>0.000000</td>\n",
<<<<<<< HEAD
       "      <td>0.817315</td>\n",
       "      <td>-0.478015</td>\n",
=======
       "      <td>0.271638</td>\n",
       "      <td>1.073060</td>\n",
>>>>>>> upstream/Attar_Aidin
       "      <td>5</td>\n",
       "      <td>0.0</td>\n",
       "      <td>0</td>\n",
       "      <td>1.000000</td>\n",
       "    </tr>\n",
       "    <tr>\n",
       "      <th>2021-11-22 17:45:00</th>\n",
<<<<<<< HEAD
       "      <td>1.154420</td>\n",
       "      <td>0.624324</td>\n",
       "      <td>-0.813786</td>\n",
=======
       "      <td>-0.247706</td>\n",
       "      <td>-0.793702</td>\n",
       "      <td>-0.801049</td>\n",
>>>>>>> upstream/Attar_Aidin
       "      <td>5</td>\n",
       "      <td>2.5</td>\n",
       "      <td>10</td>\n",
       "      <td>0.999048</td>\n",
       "    </tr>\n",
       "    <tr>\n",
       "      <th>2021-11-22 18:45:00</th>\n",
<<<<<<< HEAD
       "      <td>-0.299010</td>\n",
       "      <td>0.168344</td>\n",
       "      <td>1.923140</td>\n",
=======
       "      <td>2.029969</td>\n",
       "      <td>-0.838669</td>\n",
       "      <td>0.785490</td>\n",
>>>>>>> upstream/Attar_Aidin
       "      <td>5</td>\n",
       "      <td>3.0</td>\n",
       "      <td>12</td>\n",
       "      <td>0.998630</td>\n",
       "    </tr>\n",
       "    <tr>\n",
       "      <th>2021-11-22 19:45:00</th>\n",
<<<<<<< HEAD
       "      <td>-0.818195</td>\n",
       "      <td>-1.936570</td>\n",
       "      <td>-0.820844</td>\n",
=======
       "      <td>-0.867608</td>\n",
       "      <td>1.419248</td>\n",
       "      <td>0.659899</td>\n",
>>>>>>> upstream/Attar_Aidin
       "      <td>5</td>\n",
       "      <td>3.5</td>\n",
       "      <td>14</td>\n",
       "      <td>0.998135</td>\n",
       "    </tr>\n",
       "    <tr>\n",
       "      <th>2021-11-22 20:45:00</th>\n",
<<<<<<< HEAD
       "      <td>1.033000</td>\n",
       "      <td>0.766512</td>\n",
       "      <td>-1.327685</td>\n",
=======
       "      <td>0.131926</td>\n",
       "      <td>0.487907</td>\n",
       "      <td>1.368617</td>\n",
>>>>>>> upstream/Attar_Aidin
       "      <td>5</td>\n",
       "      <td>4.0</td>\n",
       "      <td>16</td>\n",
       "      <td>0.997564</td>\n",
       "    </tr>\n",
       "    <tr>\n",
       "      <th>2021-11-22 21:45:00</th>\n",
<<<<<<< HEAD
       "      <td>0.063740</td>\n",
       "      <td>-0.243284</td>\n",
       "      <td>-0.004948</td>\n",
=======
       "      <td>0.136987</td>\n",
       "      <td>1.449805</td>\n",
       "      <td>-0.121675</td>\n",
>>>>>>> upstream/Attar_Aidin
       "      <td>5</td>\n",
       "      <td>4.5</td>\n",
       "      <td>18</td>\n",
       "      <td>0.996917</td>\n",
       "    </tr>\n",
       "  </tbody>\n",
       "</table>\n",
       "</div>"
      ],
      "text/plain": [
       "                            A         B         C  D    E  E prime    cosine\n",
<<<<<<< HEAD
       "2021-11-22 12:45:00  0.000000  0.817315 -0.478015  5  0.0        0  1.000000\n",
       "2021-11-22 17:45:00  1.154420  0.624324 -0.813786  5  2.5       10  0.999048\n",
       "2021-11-22 18:45:00 -0.299010  0.168344  1.923140  5  3.0       12  0.998630\n",
       "2021-11-22 19:45:00 -0.818195 -1.936570 -0.820844  5  3.5       14  0.998135\n",
       "2021-11-22 20:45:00  1.033000  0.766512 -1.327685  5  4.0       16  0.997564\n",
       "2021-11-22 21:45:00  0.063740 -0.243284 -0.004948  5  4.5       18  0.996917"
      ]
     },
     "execution_count": 87,
=======
       "2021-11-22 12:45:00  0.000000  0.271638  1.073060  5  0.0        0  1.000000\n",
       "2021-11-22 17:45:00 -0.247706 -0.793702 -0.801049  5  2.5       10  0.999048\n",
       "2021-11-22 18:45:00  2.029969 -0.838669  0.785490  5  3.0       12  0.998630\n",
       "2021-11-22 19:45:00 -0.867608  1.419248  0.659899  5  3.5       14  0.998135\n",
       "2021-11-22 20:45:00  0.131926  0.487907  1.368617  5  4.0       16  0.997564\n",
       "2021-11-22 21:45:00  0.136987  1.449805 -0.121675  5  4.5       18  0.996917"
      ]
     },
     "execution_count": 38,
>>>>>>> upstream/Attar_Aidin
     "metadata": {},
     "output_type": "execute_result"
    }
   ],
   "source": [
    "# Dropping by raws\n",
    "# safe and always working\n",
    "df.drop(df.index[[1,2,3,4]])"
   ]
  },
  {
   "cell_type": "code",
<<<<<<< HEAD
   "execution_count": 88,
=======
   "execution_count": 39,
>>>>>>> upstream/Attar_Aidin
   "metadata": {},
   "outputs": [
    {
     "data": {
      "text/html": [
       "<div>\n",
       "<style scoped>\n",
       "    .dataframe tbody tr th:only-of-type {\n",
       "        vertical-align: middle;\n",
       "    }\n",
       "\n",
       "    .dataframe tbody tr th {\n",
       "        vertical-align: top;\n",
       "    }\n",
       "\n",
       "    .dataframe thead th {\n",
       "        text-align: right;\n",
       "    }\n",
       "</style>\n",
       "<table border=\"1\" class=\"dataframe\">\n",
       "  <thead>\n",
       "    <tr style=\"text-align: right;\">\n",
       "      <th></th>\n",
       "      <th>A</th>\n",
       "      <th>B</th>\n",
       "      <th>C</th>\n",
       "      <th>D</th>\n",
       "      <th>E</th>\n",
       "      <th>E prime</th>\n",
       "      <th>cosine</th>\n",
       "    </tr>\n",
       "  </thead>\n",
       "  <tbody>\n",
       "    <tr>\n",
       "      <th>2021-11-22 12:45:00</th>\n",
       "      <td>0.000000</td>\n",
<<<<<<< HEAD
       "      <td>0.817315</td>\n",
       "      <td>-0.478015</td>\n",
=======
       "      <td>0.271638</td>\n",
       "      <td>1.073060</td>\n",
>>>>>>> upstream/Attar_Aidin
       "      <td>5</td>\n",
       "      <td>0.0</td>\n",
       "      <td>0</td>\n",
       "      <td>1.000000</td>\n",
       "    </tr>\n",
       "    <tr>\n",
       "      <th>2021-11-22 13:45:00</th>\n",
<<<<<<< HEAD
       "      <td>1.641790</td>\n",
       "      <td>0.399169</td>\n",
       "      <td>1.054088</td>\n",
=======
       "      <td>1.069119</td>\n",
       "      <td>0.261487</td>\n",
       "      <td>-0.584936</td>\n",
>>>>>>> upstream/Attar_Aidin
       "      <td>5</td>\n",
       "      <td>0.5</td>\n",
       "      <td>2</td>\n",
       "      <td>0.999962</td>\n",
       "    </tr>\n",
       "    <tr>\n",
       "      <th>2021-11-22 14:45:00</th>\n",
<<<<<<< HEAD
       "      <td>-1.310471</td>\n",
       "      <td>1.132953</td>\n",
       "      <td>-0.172538</td>\n",
=======
       "      <td>-0.853114</td>\n",
       "      <td>-1.128664</td>\n",
       "      <td>-0.372564</td>\n",
>>>>>>> upstream/Attar_Aidin
       "      <td>5</td>\n",
       "      <td>1.0</td>\n",
       "      <td>4</td>\n",
       "      <td>0.999848</td>\n",
       "    </tr>\n",
       "    <tr>\n",
       "      <th>2021-11-22 15:45:00</th>\n",
<<<<<<< HEAD
       "      <td>2.110360</td>\n",
       "      <td>-0.910910</td>\n",
       "      <td>0.129851</td>\n",
=======
       "      <td>0.193889</td>\n",
       "      <td>0.423385</td>\n",
       "      <td>0.237047</td>\n",
>>>>>>> upstream/Attar_Aidin
       "      <td>5</td>\n",
       "      <td>1.5</td>\n",
       "      <td>6</td>\n",
       "      <td>0.999657</td>\n",
       "    </tr>\n",
       "    <tr>\n",
       "      <th>2021-11-22 16:45:00</th>\n",
<<<<<<< HEAD
       "      <td>-1.311974</td>\n",
       "      <td>-0.162781</td>\n",
       "      <td>-0.078605</td>\n",
=======
       "      <td>-0.592327</td>\n",
       "      <td>-0.324345</td>\n",
       "      <td>0.939298</td>\n",
>>>>>>> upstream/Attar_Aidin
       "      <td>5</td>\n",
       "      <td>2.0</td>\n",
       "      <td>8</td>\n",
       "      <td>0.999391</td>\n",
       "    </tr>\n",
       "    <tr>\n",
       "      <th>2021-11-22 17:45:00</th>\n",
<<<<<<< HEAD
       "      <td>1.154420</td>\n",
       "      <td>0.624324</td>\n",
       "      <td>-0.813786</td>\n",
=======
       "      <td>-0.247706</td>\n",
       "      <td>-0.793702</td>\n",
       "      <td>-0.801049</td>\n",
>>>>>>> upstream/Attar_Aidin
       "      <td>5</td>\n",
       "      <td>2.5</td>\n",
       "      <td>10</td>\n",
       "      <td>0.999048</td>\n",
       "    </tr>\n",
       "    <tr>\n",
       "      <th>2021-11-22 18:45:00</th>\n",
<<<<<<< HEAD
       "      <td>-0.299010</td>\n",
       "      <td>0.168344</td>\n",
       "      <td>1.923140</td>\n",
=======
       "      <td>2.029969</td>\n",
       "      <td>-0.838669</td>\n",
       "      <td>0.785490</td>\n",
>>>>>>> upstream/Attar_Aidin
       "      <td>5</td>\n",
       "      <td>3.0</td>\n",
       "      <td>12</td>\n",
       "      <td>0.998630</td>\n",
       "    </tr>\n",
       "    <tr>\n",
       "      <th>2021-11-22 19:45:00</th>\n",
<<<<<<< HEAD
       "      <td>-0.818195</td>\n",
       "      <td>-1.936570</td>\n",
       "      <td>-0.820844</td>\n",
=======
       "      <td>-0.867608</td>\n",
       "      <td>1.419248</td>\n",
       "      <td>0.659899</td>\n",
>>>>>>> upstream/Attar_Aidin
       "      <td>5</td>\n",
       "      <td>3.5</td>\n",
       "      <td>14</td>\n",
       "      <td>0.998135</td>\n",
       "    </tr>\n",
       "    <tr>\n",
       "      <th>2021-11-22 20:45:00</th>\n",
<<<<<<< HEAD
       "      <td>1.033000</td>\n",
       "      <td>0.766512</td>\n",
       "      <td>-1.327685</td>\n",
=======
       "      <td>0.131926</td>\n",
       "      <td>0.487907</td>\n",
       "      <td>1.368617</td>\n",
>>>>>>> upstream/Attar_Aidin
       "      <td>5</td>\n",
       "      <td>4.0</td>\n",
       "      <td>16</td>\n",
       "      <td>0.997564</td>\n",
       "    </tr>\n",
       "    <tr>\n",
       "      <th>2021-11-22 21:45:00</th>\n",
<<<<<<< HEAD
       "      <td>0.063740</td>\n",
       "      <td>-0.243284</td>\n",
       "      <td>-0.004948</td>\n",
=======
       "      <td>0.136987</td>\n",
       "      <td>1.449805</td>\n",
       "      <td>-0.121675</td>\n",
>>>>>>> upstream/Attar_Aidin
       "      <td>5</td>\n",
       "      <td>4.5</td>\n",
       "      <td>18</td>\n",
       "      <td>0.996917</td>\n",
       "    </tr>\n",
       "  </tbody>\n",
       "</table>\n",
       "</div>"
      ],
      "text/plain": [
       "                            A         B         C  D    E  E prime    cosine\n",
<<<<<<< HEAD
       "2021-11-22 12:45:00  0.000000  0.817315 -0.478015  5  0.0        0  1.000000\n",
       "2021-11-22 13:45:00  1.641790  0.399169  1.054088  5  0.5        2  0.999962\n",
       "2021-11-22 14:45:00 -1.310471  1.132953 -0.172538  5  1.0        4  0.999848\n",
       "2021-11-22 15:45:00  2.110360 -0.910910  0.129851  5  1.5        6  0.999657\n",
       "2021-11-22 16:45:00 -1.311974 -0.162781 -0.078605  5  2.0        8  0.999391\n",
       "2021-11-22 17:45:00  1.154420  0.624324 -0.813786  5  2.5       10  0.999048\n",
       "2021-11-22 18:45:00 -0.299010  0.168344  1.923140  5  3.0       12  0.998630\n",
       "2021-11-22 19:45:00 -0.818195 -1.936570 -0.820844  5  3.5       14  0.998135\n",
       "2021-11-22 20:45:00  1.033000  0.766512 -1.327685  5  4.0       16  0.997564\n",
       "2021-11-22 21:45:00  0.063740 -0.243284 -0.004948  5  4.5       18  0.996917"
      ]
     },
     "execution_count": 88,
=======
       "2021-11-22 12:45:00  0.000000  0.271638  1.073060  5  0.0        0  1.000000\n",
       "2021-11-22 13:45:00  1.069119  0.261487 -0.584936  5  0.5        2  0.999962\n",
       "2021-11-22 14:45:00 -0.853114 -1.128664 -0.372564  5  1.0        4  0.999848\n",
       "2021-11-22 15:45:00  0.193889  0.423385  0.237047  5  1.5        6  0.999657\n",
       "2021-11-22 16:45:00 -0.592327 -0.324345  0.939298  5  2.0        8  0.999391\n",
       "2021-11-22 17:45:00 -0.247706 -0.793702 -0.801049  5  2.5       10  0.999048\n",
       "2021-11-22 18:45:00  2.029969 -0.838669  0.785490  5  3.0       12  0.998630\n",
       "2021-11-22 19:45:00 -0.867608  1.419248  0.659899  5  3.5       14  0.998135\n",
       "2021-11-22 20:45:00  0.131926  0.487907  1.368617  5  4.0       16  0.997564\n",
       "2021-11-22 21:45:00  0.136987  1.449805 -0.121675  5  4.5       18  0.996917"
      ]
     },
     "execution_count": 39,
>>>>>>> upstream/Attar_Aidin
     "metadata": {},
     "output_type": "execute_result"
    }
   ],
   "source": [
    "df\n"
   ]
  },
  {
   "cell_type": "code",
<<<<<<< HEAD
   "execution_count": 89,
=======
   "execution_count": 40,
>>>>>>> upstream/Attar_Aidin
   "metadata": {},
   "outputs": [
    {
     "data": {
      "text/html": [
       "<div>\n",
       "<style scoped>\n",
       "    .dataframe tbody tr th:only-of-type {\n",
       "        vertical-align: middle;\n",
       "    }\n",
       "\n",
       "    .dataframe tbody tr th {\n",
       "        vertical-align: top;\n",
       "    }\n",
       "\n",
       "    .dataframe thead th {\n",
       "        text-align: right;\n",
       "    }\n",
       "</style>\n",
       "<table border=\"1\" class=\"dataframe\">\n",
       "  <thead>\n",
       "    <tr style=\"text-align: right;\">\n",
       "      <th></th>\n",
       "      <th>A</th>\n",
       "      <th>B</th>\n",
       "      <th>C</th>\n",
       "      <th>D</th>\n",
       "      <th>E</th>\n",
       "      <th>E prime</th>\n",
       "      <th>cosine</th>\n",
       "    </tr>\n",
       "  </thead>\n",
       "  <tbody>\n",
       "    <tr>\n",
       "      <th>2021-11-22 12:45:00</th>\n",
       "      <td>0.000000</td>\n",
<<<<<<< HEAD
       "      <td>0.817315</td>\n",
       "      <td>-0.478015</td>\n",
=======
       "      <td>0.271638</td>\n",
       "      <td>1.073060</td>\n",
>>>>>>> upstream/Attar_Aidin
       "      <td>5</td>\n",
       "      <td>0.0</td>\n",
       "      <td>0</td>\n",
       "      <td>1.000000</td>\n",
       "    </tr>\n",
       "    <tr>\n",
       "      <th>2021-11-22 13:45:00</th>\n",
<<<<<<< HEAD
       "      <td>1.641790</td>\n",
       "      <td>0.399169</td>\n",
       "      <td>1.054088</td>\n",
=======
       "      <td>1.069119</td>\n",
       "      <td>0.261487</td>\n",
       "      <td>-0.584936</td>\n",
>>>>>>> upstream/Attar_Aidin
       "      <td>5</td>\n",
       "      <td>0.5</td>\n",
       "      <td>2</td>\n",
       "      <td>0.999962</td>\n",
       "    </tr>\n",
       "    <tr>\n",
       "      <th>2021-11-22 14:45:00</th>\n",
<<<<<<< HEAD
       "      <td>-1.310471</td>\n",
       "      <td>1.132953</td>\n",
       "      <td>-0.172538</td>\n",
=======
       "      <td>-0.853114</td>\n",
       "      <td>-1.128664</td>\n",
       "      <td>-0.372564</td>\n",
>>>>>>> upstream/Attar_Aidin
       "      <td>5</td>\n",
       "      <td>1.0</td>\n",
       "      <td>4</td>\n",
       "      <td>0.999848</td>\n",
       "    </tr>\n",
       "    <tr>\n",
       "      <th>2021-11-22 15:45:00</th>\n",
<<<<<<< HEAD
       "      <td>2.110360</td>\n",
       "      <td>-0.910910</td>\n",
       "      <td>0.129851</td>\n",
=======
       "      <td>0.193889</td>\n",
       "      <td>0.423385</td>\n",
       "      <td>0.237047</td>\n",
>>>>>>> upstream/Attar_Aidin
       "      <td>5</td>\n",
       "      <td>1.5</td>\n",
       "      <td>6</td>\n",
       "      <td>0.999657</td>\n",
       "    </tr>\n",
       "    <tr>\n",
       "      <th>2021-11-22 16:45:00</th>\n",
<<<<<<< HEAD
       "      <td>-1.311974</td>\n",
       "      <td>-0.162781</td>\n",
       "      <td>-0.078605</td>\n",
=======
       "      <td>-0.592327</td>\n",
       "      <td>-0.324345</td>\n",
       "      <td>0.939298</td>\n",
>>>>>>> upstream/Attar_Aidin
       "      <td>5</td>\n",
       "      <td>2.0</td>\n",
       "      <td>8</td>\n",
       "      <td>0.999391</td>\n",
       "    </tr>\n",
       "    <tr>\n",
       "      <th>2021-11-22 17:45:00</th>\n",
<<<<<<< HEAD
       "      <td>1.154420</td>\n",
       "      <td>0.624324</td>\n",
       "      <td>-0.813786</td>\n",
=======
       "      <td>-0.247706</td>\n",
       "      <td>-0.793702</td>\n",
       "      <td>-0.801049</td>\n",
>>>>>>> upstream/Attar_Aidin
       "      <td>5</td>\n",
       "      <td>2.5</td>\n",
       "      <td>10</td>\n",
       "      <td>0.999048</td>\n",
       "    </tr>\n",
       "    <tr>\n",
       "      <th>2021-11-22 18:45:00</th>\n",
<<<<<<< HEAD
       "      <td>-0.299010</td>\n",
       "      <td>0.168344</td>\n",
       "      <td>1.923140</td>\n",
=======
       "      <td>2.029969</td>\n",
       "      <td>-0.838669</td>\n",
       "      <td>0.785490</td>\n",
>>>>>>> upstream/Attar_Aidin
       "      <td>5</td>\n",
       "      <td>3.0</td>\n",
       "      <td>12</td>\n",
       "      <td>0.998630</td>\n",
       "    </tr>\n",
       "    <tr>\n",
       "      <th>2021-11-22 19:45:00</th>\n",
<<<<<<< HEAD
       "      <td>-0.818195</td>\n",
       "      <td>-1.936570</td>\n",
       "      <td>-0.820844</td>\n",
=======
       "      <td>-0.867608</td>\n",
       "      <td>1.419248</td>\n",
       "      <td>0.659899</td>\n",
>>>>>>> upstream/Attar_Aidin
       "      <td>5</td>\n",
       "      <td>3.5</td>\n",
       "      <td>14</td>\n",
       "      <td>0.998135</td>\n",
       "    </tr>\n",
       "    <tr>\n",
       "      <th>2021-11-22 21:45:00</th>\n",
<<<<<<< HEAD
       "      <td>0.063740</td>\n",
       "      <td>-0.243284</td>\n",
       "      <td>-0.004948</td>\n",
=======
       "      <td>0.136987</td>\n",
       "      <td>1.449805</td>\n",
       "      <td>-0.121675</td>\n",
>>>>>>> upstream/Attar_Aidin
       "      <td>5</td>\n",
       "      <td>4.5</td>\n",
       "      <td>18</td>\n",
       "      <td>0.996917</td>\n",
       "    </tr>\n",
       "  </tbody>\n",
       "</table>\n",
       "</div>"
      ],
      "text/plain": [
       "                            A         B         C  D    E  E prime    cosine\n",
<<<<<<< HEAD
       "2021-11-22 12:45:00  0.000000  0.817315 -0.478015  5  0.0        0  1.000000\n",
       "2021-11-22 13:45:00  1.641790  0.399169  1.054088  5  0.5        2  0.999962\n",
       "2021-11-22 14:45:00 -1.310471  1.132953 -0.172538  5  1.0        4  0.999848\n",
       "2021-11-22 15:45:00  2.110360 -0.910910  0.129851  5  1.5        6  0.999657\n",
       "2021-11-22 16:45:00 -1.311974 -0.162781 -0.078605  5  2.0        8  0.999391\n",
       "2021-11-22 17:45:00  1.154420  0.624324 -0.813786  5  2.5       10  0.999048\n",
       "2021-11-22 18:45:00 -0.299010  0.168344  1.923140  5  3.0       12  0.998630\n",
       "2021-11-22 19:45:00 -0.818195 -1.936570 -0.820844  5  3.5       14  0.998135\n",
       "2021-11-22 21:45:00  0.063740 -0.243284 -0.004948  5  4.5       18  0.996917"
      ]
     },
     "execution_count": 89,
=======
       "2021-11-22 12:45:00  0.000000  0.271638  1.073060  5  0.0        0  1.000000\n",
       "2021-11-22 13:45:00  1.069119  0.261487 -0.584936  5  0.5        2  0.999962\n",
       "2021-11-22 14:45:00 -0.853114 -1.128664 -0.372564  5  1.0        4  0.999848\n",
       "2021-11-22 15:45:00  0.193889  0.423385  0.237047  5  1.5        6  0.999657\n",
       "2021-11-22 16:45:00 -0.592327 -0.324345  0.939298  5  2.0        8  0.999391\n",
       "2021-11-22 17:45:00 -0.247706 -0.793702 -0.801049  5  2.5       10  0.999048\n",
       "2021-11-22 18:45:00  2.029969 -0.838669  0.785490  5  3.0       12  0.998630\n",
       "2021-11-22 19:45:00 -0.867608  1.419248  0.659899  5  3.5       14  0.998135\n",
       "2021-11-22 21:45:00  0.136987  1.449805 -0.121675  5  4.5       18  0.996917"
      ]
     },
     "execution_count": 40,
>>>>>>> upstream/Attar_Aidin
     "metadata": {},
     "output_type": "execute_result"
    }
   ],
   "source": [
    "# something like df.drop('index_name') \n",
    "# would work but the type of index must be specificed, \n",
    "# in particular with DatetimeIndex\n",
    "df.drop(pd.to_datetime(\"2021-11-22 20:45:00\"))"
   ]
  },
  {
   "cell_type": "markdown",
   "metadata": {},
   "source": [
    "## Missing data\n",
    "\n",
    "pandas primarily uses the value np.nan to represent missing data. It is by default not included in computations."
   ]
  },
  {
   "cell_type": "code",
<<<<<<< HEAD
   "execution_count": 90,
=======
   "execution_count": 41,
>>>>>>> upstream/Attar_Aidin
   "metadata": {},
   "outputs": [
    {
     "data": {
      "text/html": [
       "<div>\n",
       "<style scoped>\n",
       "    .dataframe tbody tr th:only-of-type {\n",
       "        vertical-align: middle;\n",
       "    }\n",
       "\n",
       "    .dataframe tbody tr th {\n",
       "        vertical-align: top;\n",
       "    }\n",
       "\n",
       "    .dataframe thead th {\n",
       "        text-align: right;\n",
       "    }\n",
       "</style>\n",
       "<table border=\"1\" class=\"dataframe\">\n",
       "  <thead>\n",
       "    <tr style=\"text-align: right;\">\n",
       "      <th></th>\n",
       "      <th>A</th>\n",
       "      <th>B</th>\n",
       "      <th>C</th>\n",
       "      <th>D</th>\n",
       "      <th>E</th>\n",
       "      <th>E prime</th>\n",
       "      <th>cosine</th>\n",
       "    </tr>\n",
       "  </thead>\n",
       "  <tbody>\n",
       "    <tr>\n",
       "      <th>2021-11-22 12:45:00</th>\n",
       "      <td>NaN</td>\n",
<<<<<<< HEAD
       "      <td>0.817315</td>\n",
       "      <td>NaN</td>\n",
=======
       "      <td>0.271638</td>\n",
       "      <td>1.073060</td>\n",
>>>>>>> upstream/Attar_Aidin
       "      <td>5</td>\n",
       "      <td>NaN</td>\n",
       "      <td>NaN</td>\n",
       "      <td>1.000000</td>\n",
       "    </tr>\n",
       "    <tr>\n",
       "      <th>2021-11-22 13:45:00</th>\n",
<<<<<<< HEAD
       "      <td>1.64179</td>\n",
       "      <td>0.399169</td>\n",
       "      <td>1.054088</td>\n",
=======
       "      <td>1.069119</td>\n",
       "      <td>0.261487</td>\n",
       "      <td>NaN</td>\n",
>>>>>>> upstream/Attar_Aidin
       "      <td>5</td>\n",
       "      <td>0.5</td>\n",
       "      <td>2.0</td>\n",
       "      <td>0.999962</td>\n",
       "    </tr>\n",
       "    <tr>\n",
       "      <th>2021-11-22 14:45:00</th>\n",
       "      <td>NaN</td>\n",
<<<<<<< HEAD
       "      <td>1.132953</td>\n",
=======
       "      <td>NaN</td>\n",
>>>>>>> upstream/Attar_Aidin
       "      <td>NaN</td>\n",
       "      <td>5</td>\n",
       "      <td>1.0</td>\n",
       "      <td>4.0</td>\n",
       "      <td>0.999848</td>\n",
       "    </tr>\n",
       "    <tr>\n",
       "      <th>2021-11-22 15:45:00</th>\n",
<<<<<<< HEAD
       "      <td>2.11036</td>\n",
       "      <td>NaN</td>\n",
       "      <td>0.129851</td>\n",
=======
       "      <td>0.193889</td>\n",
       "      <td>0.423385</td>\n",
       "      <td>0.237047</td>\n",
>>>>>>> upstream/Attar_Aidin
       "      <td>5</td>\n",
       "      <td>1.5</td>\n",
       "      <td>6.0</td>\n",
       "      <td>0.999657</td>\n",
       "    </tr>\n",
       "    <tr>\n",
       "      <th>2021-11-22 16:45:00</th>\n",
       "      <td>NaN</td>\n",
       "      <td>NaN</td>\n",
<<<<<<< HEAD
       "      <td>NaN</td>\n",
=======
       "      <td>0.939298</td>\n",
>>>>>>> upstream/Attar_Aidin
       "      <td>5</td>\n",
       "      <td>2.0</td>\n",
       "      <td>8.0</td>\n",
       "      <td>0.999391</td>\n",
       "    </tr>\n",
       "    <tr>\n",
       "      <th>2021-11-22 17:45:00</th>\n",
<<<<<<< HEAD
       "      <td>1.15442</td>\n",
       "      <td>0.624324</td>\n",
=======
       "      <td>NaN</td>\n",
       "      <td>NaN</td>\n",
>>>>>>> upstream/Attar_Aidin
       "      <td>NaN</td>\n",
       "      <td>5</td>\n",
       "      <td>2.5</td>\n",
       "      <td>10.0</td>\n",
       "      <td>0.999048</td>\n",
       "    </tr>\n",
       "    <tr>\n",
       "      <th>2021-11-22 18:45:00</th>\n",
<<<<<<< HEAD
       "      <td>NaN</td>\n",
       "      <td>0.168344</td>\n",
       "      <td>1.923140</td>\n",
=======
       "      <td>2.029969</td>\n",
       "      <td>NaN</td>\n",
       "      <td>0.785490</td>\n",
>>>>>>> upstream/Attar_Aidin
       "      <td>5</td>\n",
       "      <td>3.0</td>\n",
       "      <td>12.0</td>\n",
       "      <td>0.998630</td>\n",
       "    </tr>\n",
       "    <tr>\n",
       "      <th>2021-11-22 19:45:00</th>\n",
       "      <td>NaN</td>\n",
<<<<<<< HEAD
       "      <td>NaN</td>\n",
       "      <td>NaN</td>\n",
=======
       "      <td>1.419248</td>\n",
       "      <td>0.659899</td>\n",
>>>>>>> upstream/Attar_Aidin
       "      <td>5</td>\n",
       "      <td>3.5</td>\n",
       "      <td>14.0</td>\n",
       "      <td>0.998135</td>\n",
       "    </tr>\n",
       "    <tr>\n",
       "      <th>2021-11-22 20:45:00</th>\n",
<<<<<<< HEAD
       "      <td>1.03300</td>\n",
       "      <td>0.766512</td>\n",
       "      <td>NaN</td>\n",
=======
       "      <td>0.131926</td>\n",
       "      <td>0.487907</td>\n",
       "      <td>1.368617</td>\n",
>>>>>>> upstream/Attar_Aidin
       "      <td>5</td>\n",
       "      <td>4.0</td>\n",
       "      <td>16.0</td>\n",
       "      <td>0.997564</td>\n",
       "    </tr>\n",
       "    <tr>\n",
       "      <th>2021-11-22 21:45:00</th>\n",
<<<<<<< HEAD
       "      <td>0.06374</td>\n",
       "      <td>NaN</td>\n",
=======
       "      <td>0.136987</td>\n",
       "      <td>1.449805</td>\n",
>>>>>>> upstream/Attar_Aidin
       "      <td>NaN</td>\n",
       "      <td>5</td>\n",
       "      <td>4.5</td>\n",
       "      <td>18.0</td>\n",
       "      <td>0.996917</td>\n",
       "    </tr>\n",
       "  </tbody>\n",
       "</table>\n",
       "</div>"
      ],
      "text/plain": [
<<<<<<< HEAD
       "                           A         B         C  D    E  E prime    cosine\n",
       "2021-11-22 12:45:00      NaN  0.817315       NaN  5  NaN      NaN  1.000000\n",
       "2021-11-22 13:45:00  1.64179  0.399169  1.054088  5  0.5      2.0  0.999962\n",
       "2021-11-22 14:45:00      NaN  1.132953       NaN  5  1.0      4.0  0.999848\n",
       "2021-11-22 15:45:00  2.11036       NaN  0.129851  5  1.5      6.0  0.999657\n",
       "2021-11-22 16:45:00      NaN       NaN       NaN  5  2.0      8.0  0.999391\n",
       "2021-11-22 17:45:00  1.15442  0.624324       NaN  5  2.5     10.0  0.999048\n",
       "2021-11-22 18:45:00      NaN  0.168344  1.923140  5  3.0     12.0  0.998630\n",
       "2021-11-22 19:45:00      NaN       NaN       NaN  5  3.5     14.0  0.998135\n",
       "2021-11-22 20:45:00  1.03300  0.766512       NaN  5  4.0     16.0  0.997564\n",
       "2021-11-22 21:45:00  0.06374       NaN       NaN  5  4.5     18.0  0.996917"
      ]
     },
     "execution_count": 90,
=======
       "                            A         B         C  D    E  E prime    cosine\n",
       "2021-11-22 12:45:00       NaN  0.271638  1.073060  5  NaN      NaN  1.000000\n",
       "2021-11-22 13:45:00  1.069119  0.261487       NaN  5  0.5      2.0  0.999962\n",
       "2021-11-22 14:45:00       NaN       NaN       NaN  5  1.0      4.0  0.999848\n",
       "2021-11-22 15:45:00  0.193889  0.423385  0.237047  5  1.5      6.0  0.999657\n",
       "2021-11-22 16:45:00       NaN       NaN  0.939298  5  2.0      8.0  0.999391\n",
       "2021-11-22 17:45:00       NaN       NaN       NaN  5  2.5     10.0  0.999048\n",
       "2021-11-22 18:45:00  2.029969       NaN  0.785490  5  3.0     12.0  0.998630\n",
       "2021-11-22 19:45:00       NaN  1.419248  0.659899  5  3.5     14.0  0.998135\n",
       "2021-11-22 20:45:00  0.131926  0.487907  1.368617  5  4.0     16.0  0.997564\n",
       "2021-11-22 21:45:00  0.136987  1.449805       NaN  5  4.5     18.0  0.996917"
      ]
     },
     "execution_count": 41,
>>>>>>> upstream/Attar_Aidin
     "metadata": {},
     "output_type": "execute_result"
    }
   ],
   "source": [
    "df_wNan = df[df>0]\n",
    "df_wNan"
   ]
  },
  {
   "cell_type": "code",
<<<<<<< HEAD
   "execution_count": 91,
=======
   "execution_count": 42,
>>>>>>> upstream/Attar_Aidin
   "metadata": {},
   "outputs": [
    {
     "data": {
      "text/html": [
       "<div>\n",
       "<style scoped>\n",
       "    .dataframe tbody tr th:only-of-type {\n",
       "        vertical-align: middle;\n",
       "    }\n",
       "\n",
       "    .dataframe tbody tr th {\n",
       "        vertical-align: top;\n",
       "    }\n",
       "\n",
       "    .dataframe thead th {\n",
       "        text-align: right;\n",
       "    }\n",
       "</style>\n",
       "<table border=\"1\" class=\"dataframe\">\n",
       "  <thead>\n",
       "    <tr style=\"text-align: right;\">\n",
       "      <th></th>\n",
       "      <th>A</th>\n",
       "      <th>B</th>\n",
       "      <th>C</th>\n",
       "      <th>D</th>\n",
       "      <th>E</th>\n",
       "      <th>E prime</th>\n",
       "      <th>cosine</th>\n",
       "    </tr>\n",
       "  </thead>\n",
       "  <tbody>\n",
       "    <tr>\n",
<<<<<<< HEAD
       "      <th>2021-11-22 13:45:00</th>\n",
       "      <td>1.64179</td>\n",
       "      <td>0.399169</td>\n",
       "      <td>1.054088</td>\n",
       "      <td>5</td>\n",
       "      <td>0.5</td>\n",
       "      <td>2.0</td>\n",
       "      <td>0.999962</td>\n",
=======
       "      <th>2021-11-22 15:45:00</th>\n",
       "      <td>0.193889</td>\n",
       "      <td>0.423385</td>\n",
       "      <td>0.237047</td>\n",
       "      <td>5</td>\n",
       "      <td>1.5</td>\n",
       "      <td>6.0</td>\n",
       "      <td>0.999657</td>\n",
       "    </tr>\n",
       "    <tr>\n",
       "      <th>2021-11-22 20:45:00</th>\n",
       "      <td>0.131926</td>\n",
       "      <td>0.487907</td>\n",
       "      <td>1.368617</td>\n",
       "      <td>5</td>\n",
       "      <td>4.0</td>\n",
       "      <td>16.0</td>\n",
       "      <td>0.997564</td>\n",
>>>>>>> upstream/Attar_Aidin
       "    </tr>\n",
       "  </tbody>\n",
       "</table>\n",
       "</div>"
      ],
      "text/plain": [
<<<<<<< HEAD
       "                           A         B         C  D    E  E prime    cosine\n",
       "2021-11-22 13:45:00  1.64179  0.399169  1.054088  5  0.5      2.0  0.999962"
      ]
     },
     "execution_count": 91,
=======
       "                            A         B         C  D    E  E prime    cosine\n",
       "2021-11-22 15:45:00  0.193889  0.423385  0.237047  5  1.5      6.0  0.999657\n",
       "2021-11-22 20:45:00  0.131926  0.487907  1.368617  5  4.0     16.0  0.997564"
      ]
     },
     "execution_count": 42,
>>>>>>> upstream/Attar_Aidin
     "metadata": {},
     "output_type": "execute_result"
    }
   ],
   "source": [
    "# dropping raws with at least a Nan\n",
    "df_wNan.dropna(how='any')"
   ]
  },
  {
   "cell_type": "code",
<<<<<<< HEAD
   "execution_count": 92,
=======
   "execution_count": 43,
>>>>>>> upstream/Attar_Aidin
   "metadata": {},
   "outputs": [
    {
     "data": {
      "text/html": [
       "<div>\n",
       "<style scoped>\n",
       "    .dataframe tbody tr th:only-of-type {\n",
       "        vertical-align: middle;\n",
       "    }\n",
       "\n",
       "    .dataframe tbody tr th {\n",
       "        vertical-align: top;\n",
       "    }\n",
       "\n",
       "    .dataframe thead th {\n",
       "        text-align: right;\n",
       "    }\n",
       "</style>\n",
       "<table border=\"1\" class=\"dataframe\">\n",
       "  <thead>\n",
       "    <tr style=\"text-align: right;\">\n",
       "      <th></th>\n",
       "      <th>A</th>\n",
       "      <th>B</th>\n",
       "      <th>C</th>\n",
       "      <th>D</th>\n",
       "      <th>E</th>\n",
       "      <th>E prime</th>\n",
       "      <th>cosine</th>\n",
       "    </tr>\n",
       "  </thead>\n",
       "  <tbody>\n",
       "    <tr>\n",
       "      <th>2021-11-22 12:45:00</th>\n",
       "      <td>True</td>\n",
       "      <td>False</td>\n",
<<<<<<< HEAD
       "      <td>True</td>\n",
=======
       "      <td>False</td>\n",
>>>>>>> upstream/Attar_Aidin
       "      <td>False</td>\n",
       "      <td>True</td>\n",
       "      <td>True</td>\n",
       "      <td>False</td>\n",
       "    </tr>\n",
       "    <tr>\n",
       "      <th>2021-11-22 13:45:00</th>\n",
       "      <td>False</td>\n",
       "      <td>False</td>\n",
<<<<<<< HEAD
       "      <td>False</td>\n",
=======
       "      <td>True</td>\n",
>>>>>>> upstream/Attar_Aidin
       "      <td>False</td>\n",
       "      <td>False</td>\n",
       "      <td>False</td>\n",
       "      <td>False</td>\n",
       "    </tr>\n",
       "    <tr>\n",
       "      <th>2021-11-22 14:45:00</th>\n",
       "      <td>True</td>\n",
<<<<<<< HEAD
       "      <td>False</td>\n",
=======
       "      <td>True</td>\n",
>>>>>>> upstream/Attar_Aidin
       "      <td>True</td>\n",
       "      <td>False</td>\n",
       "      <td>False</td>\n",
       "      <td>False</td>\n",
       "      <td>False</td>\n",
       "    </tr>\n",
       "    <tr>\n",
       "      <th>2021-11-22 15:45:00</th>\n",
       "      <td>False</td>\n",
<<<<<<< HEAD
       "      <td>True</td>\n",
=======
       "      <td>False</td>\n",
>>>>>>> upstream/Attar_Aidin
       "      <td>False</td>\n",
       "      <td>False</td>\n",
       "      <td>False</td>\n",
       "      <td>False</td>\n",
       "      <td>False</td>\n",
       "    </tr>\n",
       "    <tr>\n",
       "      <th>2021-11-22 16:45:00</th>\n",
       "      <td>True</td>\n",
       "      <td>True</td>\n",
<<<<<<< HEAD
       "      <td>True</td>\n",
=======
       "      <td>False</td>\n",
>>>>>>> upstream/Attar_Aidin
       "      <td>False</td>\n",
       "      <td>False</td>\n",
       "      <td>False</td>\n",
       "      <td>False</td>\n",
       "    </tr>\n",
       "    <tr>\n",
       "      <th>2021-11-22 17:45:00</th>\n",
<<<<<<< HEAD
       "      <td>False</td>\n",
       "      <td>False</td>\n",
=======
       "      <td>True</td>\n",
       "      <td>True</td>\n",
>>>>>>> upstream/Attar_Aidin
       "      <td>True</td>\n",
       "      <td>False</td>\n",
       "      <td>False</td>\n",
       "      <td>False</td>\n",
       "      <td>False</td>\n",
       "    </tr>\n",
       "    <tr>\n",
       "      <th>2021-11-22 18:45:00</th>\n",
<<<<<<< HEAD
       "      <td>True</td>\n",
       "      <td>False</td>\n",
=======
       "      <td>False</td>\n",
       "      <td>True</td>\n",
>>>>>>> upstream/Attar_Aidin
       "      <td>False</td>\n",
       "      <td>False</td>\n",
       "      <td>False</td>\n",
       "      <td>False</td>\n",
       "      <td>False</td>\n",
       "    </tr>\n",
       "    <tr>\n",
       "      <th>2021-11-22 19:45:00</th>\n",
       "      <td>True</td>\n",
<<<<<<< HEAD
       "      <td>True</td>\n",
       "      <td>True</td>\n",
=======
       "      <td>False</td>\n",
       "      <td>False</td>\n",
>>>>>>> upstream/Attar_Aidin
       "      <td>False</td>\n",
       "      <td>False</td>\n",
       "      <td>False</td>\n",
       "      <td>False</td>\n",
       "    </tr>\n",
       "    <tr>\n",
       "      <th>2021-11-22 20:45:00</th>\n",
       "      <td>False</td>\n",
       "      <td>False</td>\n",
<<<<<<< HEAD
       "      <td>True</td>\n",
=======
       "      <td>False</td>\n",
>>>>>>> upstream/Attar_Aidin
       "      <td>False</td>\n",
       "      <td>False</td>\n",
       "      <td>False</td>\n",
       "      <td>False</td>\n",
       "    </tr>\n",
       "    <tr>\n",
       "      <th>2021-11-22 21:45:00</th>\n",
       "      <td>False</td>\n",
<<<<<<< HEAD
       "      <td>True</td>\n",
=======
       "      <td>False</td>\n",
>>>>>>> upstream/Attar_Aidin
       "      <td>True</td>\n",
       "      <td>False</td>\n",
       "      <td>False</td>\n",
       "      <td>False</td>\n",
       "      <td>False</td>\n",
       "    </tr>\n",
       "  </tbody>\n",
       "</table>\n",
       "</div>"
      ],
      "text/plain": [
       "                         A      B      C      D      E  E prime  cosine\n",
<<<<<<< HEAD
       "2021-11-22 12:45:00   True  False   True  False   True     True   False\n",
       "2021-11-22 13:45:00  False  False  False  False  False    False   False\n",
       "2021-11-22 14:45:00   True  False   True  False  False    False   False\n",
       "2021-11-22 15:45:00  False   True  False  False  False    False   False\n",
       "2021-11-22 16:45:00   True   True   True  False  False    False   False\n",
       "2021-11-22 17:45:00  False  False   True  False  False    False   False\n",
       "2021-11-22 18:45:00   True  False  False  False  False    False   False\n",
       "2021-11-22 19:45:00   True   True   True  False  False    False   False\n",
       "2021-11-22 20:45:00  False  False   True  False  False    False   False\n",
       "2021-11-22 21:45:00  False   True   True  False  False    False   False"
      ]
     },
     "execution_count": 92,
=======
       "2021-11-22 12:45:00   True  False  False  False   True     True   False\n",
       "2021-11-22 13:45:00  False  False   True  False  False    False   False\n",
       "2021-11-22 14:45:00   True   True   True  False  False    False   False\n",
       "2021-11-22 15:45:00  False  False  False  False  False    False   False\n",
       "2021-11-22 16:45:00   True   True  False  False  False    False   False\n",
       "2021-11-22 17:45:00   True   True   True  False  False    False   False\n",
       "2021-11-22 18:45:00  False   True  False  False  False    False   False\n",
       "2021-11-22 19:45:00   True  False  False  False  False    False   False\n",
       "2021-11-22 20:45:00  False  False  False  False  False    False   False\n",
       "2021-11-22 21:45:00  False  False   True  False  False    False   False"
      ]
     },
     "execution_count": 43,
>>>>>>> upstream/Attar_Aidin
     "metadata": {},
     "output_type": "execute_result"
    }
   ],
   "source": [
    "# getting a mask\n",
    "df_wNan.isna()\n",
    "#df_wNan.notna()"
   ]
  },
  {
   "cell_type": "code",
<<<<<<< HEAD
   "execution_count": 99,
=======
   "execution_count": 44,
>>>>>>> upstream/Attar_Aidin
   "metadata": {},
   "outputs": [
    {
     "data": {
      "text/html": [
       "<div>\n",
       "<style scoped>\n",
       "    .dataframe tbody tr th:only-of-type {\n",
       "        vertical-align: middle;\n",
       "    }\n",
       "\n",
       "    .dataframe tbody tr th {\n",
       "        vertical-align: top;\n",
       "    }\n",
       "\n",
       "    .dataframe thead th {\n",
       "        text-align: right;\n",
       "    }\n",
       "</style>\n",
       "<table border=\"1\" class=\"dataframe\">\n",
       "  <thead>\n",
       "    <tr style=\"text-align: right;\">\n",
       "      <th></th>\n",
       "      <th>A</th>\n",
       "      <th>B</th>\n",
       "      <th>C</th>\n",
       "      <th>D</th>\n",
       "      <th>E</th>\n",
       "      <th>E prime</th>\n",
       "      <th>cosine</th>\n",
       "    </tr>\n",
       "  </thead>\n",
       "  <tbody>\n",
       "    <tr>\n",
       "      <th>2021-11-22 12:45:00</th>\n",
<<<<<<< HEAD
       "      <td>0.00000</td>\n",
       "      <td>0.817315</td>\n",
       "      <td>0.000000</td>\n",
=======
       "      <td>0.000000</td>\n",
       "      <td>0.271638</td>\n",
       "      <td>1.073060</td>\n",
>>>>>>> upstream/Attar_Aidin
       "      <td>5</td>\n",
       "      <td>0.0</td>\n",
       "      <td>0.0</td>\n",
       "      <td>1.000000</td>\n",
       "    </tr>\n",
       "    <tr>\n",
       "      <th>2021-11-22 13:45:00</th>\n",
<<<<<<< HEAD
       "      <td>1.64179</td>\n",
       "      <td>0.399169</td>\n",
       "      <td>1.054088</td>\n",
=======
       "      <td>1.069119</td>\n",
       "      <td>0.261487</td>\n",
       "      <td>0.000000</td>\n",
>>>>>>> upstream/Attar_Aidin
       "      <td>5</td>\n",
       "      <td>0.5</td>\n",
       "      <td>2.0</td>\n",
       "      <td>0.999962</td>\n",
       "    </tr>\n",
       "    <tr>\n",
       "      <th>2021-11-22 14:45:00</th>\n",
<<<<<<< HEAD
       "      <td>0.00000</td>\n",
       "      <td>1.132953</td>\n",
=======
       "      <td>0.000000</td>\n",
       "      <td>0.000000</td>\n",
>>>>>>> upstream/Attar_Aidin
       "      <td>0.000000</td>\n",
       "      <td>5</td>\n",
       "      <td>1.0</td>\n",
       "      <td>4.0</td>\n",
       "      <td>0.999848</td>\n",
       "    </tr>\n",
       "    <tr>\n",
       "      <th>2021-11-22 15:45:00</th>\n",
<<<<<<< HEAD
       "      <td>2.11036</td>\n",
       "      <td>0.000000</td>\n",
       "      <td>0.129851</td>\n",
=======
       "      <td>0.193889</td>\n",
       "      <td>0.423385</td>\n",
       "      <td>0.237047</td>\n",
>>>>>>> upstream/Attar_Aidin
       "      <td>5</td>\n",
       "      <td>1.5</td>\n",
       "      <td>6.0</td>\n",
       "      <td>0.999657</td>\n",
       "    </tr>\n",
       "    <tr>\n",
       "      <th>2021-11-22 16:45:00</th>\n",
<<<<<<< HEAD
       "      <td>0.00000</td>\n",
       "      <td>0.000000</td>\n",
       "      <td>0.000000</td>\n",
=======
       "      <td>0.000000</td>\n",
       "      <td>0.000000</td>\n",
       "      <td>0.939298</td>\n",
>>>>>>> upstream/Attar_Aidin
       "      <td>5</td>\n",
       "      <td>2.0</td>\n",
       "      <td>8.0</td>\n",
       "      <td>0.999391</td>\n",
       "    </tr>\n",
       "    <tr>\n",
       "      <th>2021-11-22 17:45:00</th>\n",
<<<<<<< HEAD
       "      <td>1.15442</td>\n",
       "      <td>0.624324</td>\n",
=======
       "      <td>0.000000</td>\n",
       "      <td>0.000000</td>\n",
>>>>>>> upstream/Attar_Aidin
       "      <td>0.000000</td>\n",
       "      <td>5</td>\n",
       "      <td>2.5</td>\n",
       "      <td>10.0</td>\n",
       "      <td>0.999048</td>\n",
       "    </tr>\n",
       "    <tr>\n",
       "      <th>2021-11-22 18:45:00</th>\n",
<<<<<<< HEAD
       "      <td>0.00000</td>\n",
       "      <td>0.168344</td>\n",
       "      <td>1.923140</td>\n",
=======
       "      <td>2.029969</td>\n",
       "      <td>0.000000</td>\n",
       "      <td>0.785490</td>\n",
>>>>>>> upstream/Attar_Aidin
       "      <td>5</td>\n",
       "      <td>3.0</td>\n",
       "      <td>12.0</td>\n",
       "      <td>0.998630</td>\n",
       "    </tr>\n",
       "    <tr>\n",
       "      <th>2021-11-22 19:45:00</th>\n",
<<<<<<< HEAD
       "      <td>0.00000</td>\n",
       "      <td>0.000000</td>\n",
       "      <td>0.000000</td>\n",
=======
       "      <td>0.000000</td>\n",
       "      <td>1.419248</td>\n",
       "      <td>0.659899</td>\n",
>>>>>>> upstream/Attar_Aidin
       "      <td>5</td>\n",
       "      <td>3.5</td>\n",
       "      <td>14.0</td>\n",
       "      <td>0.998135</td>\n",
       "    </tr>\n",
       "    <tr>\n",
       "      <th>2021-11-22 20:45:00</th>\n",
<<<<<<< HEAD
       "      <td>1.03300</td>\n",
       "      <td>0.766512</td>\n",
       "      <td>0.000000</td>\n",
=======
       "      <td>0.131926</td>\n",
       "      <td>0.487907</td>\n",
       "      <td>1.368617</td>\n",
>>>>>>> upstream/Attar_Aidin
       "      <td>5</td>\n",
       "      <td>4.0</td>\n",
       "      <td>16.0</td>\n",
       "      <td>0.997564</td>\n",
       "    </tr>\n",
       "    <tr>\n",
       "      <th>2021-11-22 21:45:00</th>\n",
<<<<<<< HEAD
       "      <td>0.06374</td>\n",
       "      <td>0.000000</td>\n",
=======
       "      <td>0.136987</td>\n",
       "      <td>1.449805</td>\n",
>>>>>>> upstream/Attar_Aidin
       "      <td>0.000000</td>\n",
       "      <td>5</td>\n",
       "      <td>4.5</td>\n",
       "      <td>18.0</td>\n",
       "      <td>0.996917</td>\n",
       "    </tr>\n",
       "  </tbody>\n",
       "</table>\n",
       "</div>"
      ],
      "text/plain": [
<<<<<<< HEAD
       "                           A         B         C  D    E  E prime    cosine\n",
       "2021-11-22 12:45:00  0.00000  0.817315  0.000000  5  0.0      0.0  1.000000\n",
       "2021-11-22 13:45:00  1.64179  0.399169  1.054088  5  0.5      2.0  0.999962\n",
       "2021-11-22 14:45:00  0.00000  1.132953  0.000000  5  1.0      4.0  0.999848\n",
       "2021-11-22 15:45:00  2.11036  0.000000  0.129851  5  1.5      6.0  0.999657\n",
       "2021-11-22 16:45:00  0.00000  0.000000  0.000000  5  2.0      8.0  0.999391\n",
       "2021-11-22 17:45:00  1.15442  0.624324  0.000000  5  2.5     10.0  0.999048\n",
       "2021-11-22 18:45:00  0.00000  0.168344  1.923140  5  3.0     12.0  0.998630\n",
       "2021-11-22 19:45:00  0.00000  0.000000  0.000000  5  3.5     14.0  0.998135\n",
       "2021-11-22 20:45:00  1.03300  0.766512  0.000000  5  4.0     16.0  0.997564\n",
       "2021-11-22 21:45:00  0.06374  0.000000  0.000000  5  4.5     18.0  0.996917"
      ]
     },
     "execution_count": 99,
=======
       "                            A         B         C  D    E  E prime    cosine\n",
       "2021-11-22 12:45:00  0.000000  0.271638  1.073060  5  0.0      0.0  1.000000\n",
       "2021-11-22 13:45:00  1.069119  0.261487  0.000000  5  0.5      2.0  0.999962\n",
       "2021-11-22 14:45:00  0.000000  0.000000  0.000000  5  1.0      4.0  0.999848\n",
       "2021-11-22 15:45:00  0.193889  0.423385  0.237047  5  1.5      6.0  0.999657\n",
       "2021-11-22 16:45:00  0.000000  0.000000  0.939298  5  2.0      8.0  0.999391\n",
       "2021-11-22 17:45:00  0.000000  0.000000  0.000000  5  2.5     10.0  0.999048\n",
       "2021-11-22 18:45:00  2.029969  0.000000  0.785490  5  3.0     12.0  0.998630\n",
       "2021-11-22 19:45:00  0.000000  1.419248  0.659899  5  3.5     14.0  0.998135\n",
       "2021-11-22 20:45:00  0.131926  0.487907  1.368617  5  4.0     16.0  0.997564\n",
       "2021-11-22 21:45:00  0.136987  1.449805  0.000000  5  4.5     18.0  0.996917"
      ]
     },
     "execution_count": 44,
>>>>>>> upstream/Attar_Aidin
     "metadata": {},
     "output_type": "execute_result"
    }
   ],
   "source": [
    "# filling missing data\n",
    "df_wNan.fillna(value=0)"
   ]
  },
  {
   "cell_type": "markdown",
   "metadata": {},
   "source": [
    "Fill gaps forward or backward by propagating non-NA values forward or backward:"
   ]
  },
  {
   "cell_type": "code",
<<<<<<< HEAD
   "execution_count": 94,
=======
   "execution_count": 45,
>>>>>>> upstream/Attar_Aidin
   "metadata": {},
   "outputs": [
    {
     "data": {
      "text/html": [
       "<div>\n",
       "<style scoped>\n",
       "    .dataframe tbody tr th:only-of-type {\n",
       "        vertical-align: middle;\n",
       "    }\n",
       "\n",
       "    .dataframe tbody tr th {\n",
       "        vertical-align: top;\n",
       "    }\n",
       "\n",
       "    .dataframe thead th {\n",
       "        text-align: right;\n",
       "    }\n",
       "</style>\n",
       "<table border=\"1\" class=\"dataframe\">\n",
       "  <thead>\n",
       "    <tr style=\"text-align: right;\">\n",
       "      <th></th>\n",
       "      <th>A</th>\n",
       "      <th>B</th>\n",
       "      <th>C</th>\n",
       "      <th>D</th>\n",
       "      <th>E</th>\n",
       "      <th>E prime</th>\n",
       "      <th>cosine</th>\n",
       "    </tr>\n",
       "  </thead>\n",
       "  <tbody>\n",
       "    <tr>\n",
       "      <th>2021-11-22 12:45:00</th>\n",
       "      <td>NaN</td>\n",
<<<<<<< HEAD
       "      <td>0.817315</td>\n",
       "      <td>NaN</td>\n",
=======
       "      <td>0.271638</td>\n",
       "      <td>1.073060</td>\n",
>>>>>>> upstream/Attar_Aidin
       "      <td>5</td>\n",
       "      <td>NaN</td>\n",
       "      <td>NaN</td>\n",
       "      <td>1.000000</td>\n",
       "    </tr>\n",
       "    <tr>\n",
       "      <th>2021-11-22 13:45:00</th>\n",
<<<<<<< HEAD
       "      <td>1.64179</td>\n",
       "      <td>0.399169</td>\n",
       "      <td>1.054088</td>\n",
=======
       "      <td>1.069119</td>\n",
       "      <td>0.261487</td>\n",
       "      <td>1.073060</td>\n",
>>>>>>> upstream/Attar_Aidin
       "      <td>5</td>\n",
       "      <td>0.5</td>\n",
       "      <td>2.0</td>\n",
       "      <td>0.999962</td>\n",
       "    </tr>\n",
       "    <tr>\n",
       "      <th>2021-11-22 14:45:00</th>\n",
<<<<<<< HEAD
       "      <td>1.64179</td>\n",
       "      <td>1.132953</td>\n",
       "      <td>1.054088</td>\n",
=======
       "      <td>1.069119</td>\n",
       "      <td>0.261487</td>\n",
       "      <td>1.073060</td>\n",
>>>>>>> upstream/Attar_Aidin
       "      <td>5</td>\n",
       "      <td>1.0</td>\n",
       "      <td>4.0</td>\n",
       "      <td>0.999848</td>\n",
       "    </tr>\n",
       "    <tr>\n",
       "      <th>2021-11-22 15:45:00</th>\n",
<<<<<<< HEAD
       "      <td>2.11036</td>\n",
       "      <td>1.132953</td>\n",
       "      <td>0.129851</td>\n",
=======
       "      <td>0.193889</td>\n",
       "      <td>0.423385</td>\n",
       "      <td>0.237047</td>\n",
>>>>>>> upstream/Attar_Aidin
       "      <td>5</td>\n",
       "      <td>1.5</td>\n",
       "      <td>6.0</td>\n",
       "      <td>0.999657</td>\n",
       "    </tr>\n",
       "    <tr>\n",
       "      <th>2021-11-22 16:45:00</th>\n",
<<<<<<< HEAD
       "      <td>2.11036</td>\n",
       "      <td>1.132953</td>\n",
       "      <td>0.129851</td>\n",
=======
       "      <td>0.193889</td>\n",
       "      <td>0.423385</td>\n",
       "      <td>0.939298</td>\n",
>>>>>>> upstream/Attar_Aidin
       "      <td>5</td>\n",
       "      <td>2.0</td>\n",
       "      <td>8.0</td>\n",
       "      <td>0.999391</td>\n",
       "    </tr>\n",
       "    <tr>\n",
       "      <th>2021-11-22 17:45:00</th>\n",
<<<<<<< HEAD
       "      <td>1.15442</td>\n",
       "      <td>0.624324</td>\n",
       "      <td>0.129851</td>\n",
=======
       "      <td>0.193889</td>\n",
       "      <td>0.423385</td>\n",
       "      <td>0.939298</td>\n",
>>>>>>> upstream/Attar_Aidin
       "      <td>5</td>\n",
       "      <td>2.5</td>\n",
       "      <td>10.0</td>\n",
       "      <td>0.999048</td>\n",
       "    </tr>\n",
       "    <tr>\n",
       "      <th>2021-11-22 18:45:00</th>\n",
<<<<<<< HEAD
       "      <td>1.15442</td>\n",
       "      <td>0.168344</td>\n",
       "      <td>1.923140</td>\n",
=======
       "      <td>2.029969</td>\n",
       "      <td>0.423385</td>\n",
       "      <td>0.785490</td>\n",
>>>>>>> upstream/Attar_Aidin
       "      <td>5</td>\n",
       "      <td>3.0</td>\n",
       "      <td>12.0</td>\n",
       "      <td>0.998630</td>\n",
       "    </tr>\n",
       "    <tr>\n",
       "      <th>2021-11-22 19:45:00</th>\n",
<<<<<<< HEAD
       "      <td>1.15442</td>\n",
       "      <td>0.168344</td>\n",
       "      <td>1.923140</td>\n",
=======
       "      <td>2.029969</td>\n",
       "      <td>1.419248</td>\n",
       "      <td>0.659899</td>\n",
>>>>>>> upstream/Attar_Aidin
       "      <td>5</td>\n",
       "      <td>3.5</td>\n",
       "      <td>14.0</td>\n",
       "      <td>0.998135</td>\n",
       "    </tr>\n",
       "    <tr>\n",
       "      <th>2021-11-22 20:45:00</th>\n",
<<<<<<< HEAD
       "      <td>1.03300</td>\n",
       "      <td>0.766512</td>\n",
       "      <td>1.923140</td>\n",
=======
       "      <td>0.131926</td>\n",
       "      <td>0.487907</td>\n",
       "      <td>1.368617</td>\n",
>>>>>>> upstream/Attar_Aidin
       "      <td>5</td>\n",
       "      <td>4.0</td>\n",
       "      <td>16.0</td>\n",
       "      <td>0.997564</td>\n",
       "    </tr>\n",
       "    <tr>\n",
       "      <th>2021-11-22 21:45:00</th>\n",
<<<<<<< HEAD
       "      <td>0.06374</td>\n",
       "      <td>0.766512</td>\n",
       "      <td>1.923140</td>\n",
=======
       "      <td>0.136987</td>\n",
       "      <td>1.449805</td>\n",
       "      <td>1.368617</td>\n",
>>>>>>> upstream/Attar_Aidin
       "      <td>5</td>\n",
       "      <td>4.5</td>\n",
       "      <td>18.0</td>\n",
       "      <td>0.996917</td>\n",
       "    </tr>\n",
       "  </tbody>\n",
       "</table>\n",
       "</div>"
      ],
      "text/plain": [
<<<<<<< HEAD
       "                           A         B         C  D    E  E prime    cosine\n",
       "2021-11-22 12:45:00      NaN  0.817315       NaN  5  NaN      NaN  1.000000\n",
       "2021-11-22 13:45:00  1.64179  0.399169  1.054088  5  0.5      2.0  0.999962\n",
       "2021-11-22 14:45:00  1.64179  1.132953  1.054088  5  1.0      4.0  0.999848\n",
       "2021-11-22 15:45:00  2.11036  1.132953  0.129851  5  1.5      6.0  0.999657\n",
       "2021-11-22 16:45:00  2.11036  1.132953  0.129851  5  2.0      8.0  0.999391\n",
       "2021-11-22 17:45:00  1.15442  0.624324  0.129851  5  2.5     10.0  0.999048\n",
       "2021-11-22 18:45:00  1.15442  0.168344  1.923140  5  3.0     12.0  0.998630\n",
       "2021-11-22 19:45:00  1.15442  0.168344  1.923140  5  3.5     14.0  0.998135\n",
       "2021-11-22 20:45:00  1.03300  0.766512  1.923140  5  4.0     16.0  0.997564\n",
       "2021-11-22 21:45:00  0.06374  0.766512  1.923140  5  4.5     18.0  0.996917"
      ]
     },
     "execution_count": 94,
=======
       "                            A         B         C  D    E  E prime    cosine\n",
       "2021-11-22 12:45:00       NaN  0.271638  1.073060  5  NaN      NaN  1.000000\n",
       "2021-11-22 13:45:00  1.069119  0.261487  1.073060  5  0.5      2.0  0.999962\n",
       "2021-11-22 14:45:00  1.069119  0.261487  1.073060  5  1.0      4.0  0.999848\n",
       "2021-11-22 15:45:00  0.193889  0.423385  0.237047  5  1.5      6.0  0.999657\n",
       "2021-11-22 16:45:00  0.193889  0.423385  0.939298  5  2.0      8.0  0.999391\n",
       "2021-11-22 17:45:00  0.193889  0.423385  0.939298  5  2.5     10.0  0.999048\n",
       "2021-11-22 18:45:00  2.029969  0.423385  0.785490  5  3.0     12.0  0.998630\n",
       "2021-11-22 19:45:00  2.029969  1.419248  0.659899  5  3.5     14.0  0.998135\n",
       "2021-11-22 20:45:00  0.131926  0.487907  1.368617  5  4.0     16.0  0.997564\n",
       "2021-11-22 21:45:00  0.136987  1.449805  1.368617  5  4.5     18.0  0.996917"
      ]
     },
     "execution_count": 45,
>>>>>>> upstream/Attar_Aidin
     "metadata": {},
     "output_type": "execute_result"
    }
   ],
   "source": [
    "df_wNan.fillna(method='pad')"
   ]
  },
  {
   "cell_type": "markdown",
   "metadata": {},
   "source": [
    "## Operations\n",
    "\n",
    "Here comes the most relevant advantage of DataFrame. Operations on columns are extremly fast, almost as fast as the actual operation between elements in a raw"
   ]
  },
  {
   "cell_type": "code",
<<<<<<< HEAD
   "execution_count": 100,
=======
   "execution_count": 46,
>>>>>>> upstream/Attar_Aidin
   "metadata": {},
   "outputs": [
    {
     "name": "stdout",
     "output_type": "stream",
     "text": [
<<<<<<< HEAD
      "A          0.226366\n",
      "B          0.065507\n",
      "C         -0.058934\n",
=======
      "A          0.100114\n",
      "B          0.122809\n",
      "C          0.318319\n",
>>>>>>> upstream/Attar_Aidin
      "D          5.000000\n",
      "E          2.250000\n",
      "E prime    9.000000\n",
      "cosine     0.998915\n",
      "dtype: float64 \n",
      "\n",
<<<<<<< HEAD
      "2021-11-22 12:45:00    0.905614\n",
      "2021-11-22 13:45:00    1.656430\n",
      "2021-11-22 14:45:00    1.521399\n",
      "2021-11-22 15:45:00    2.118423\n",
      "2021-11-22 16:45:00    2.063719\n",
      "2021-11-22 17:45:00    2.780572\n",
      "2021-11-22 18:45:00    3.255872\n",
      "2021-11-22 19:45:00    2.846075\n",
      "2021-11-22 20:45:00    3.781342\n",
      "2021-11-22 21:45:00    4.044632\n",
=======
      "2021-11-22 12:45:00    1.049243\n",
      "2021-11-22 13:45:00    1.320805\n",
      "2021-11-22 14:45:00    1.235072\n",
      "2021-11-22 15:45:00    2.050568\n",
      "2021-11-22 16:45:00    2.288860\n",
      "2021-11-22 17:45:00    2.379513\n",
      "2021-11-22 18:45:00    3.282203\n",
      "2021-11-22 19:45:00    3.529953\n",
      "2021-11-22 20:45:00    3.998002\n",
      "2021-11-22 21:45:00    4.280291\n",
>>>>>>> upstream/Attar_Aidin
      "Freq: H, dtype: float64 \n",
      "\n"
     ]
    }
   ],
   "source": [
    "# Some statistics (mean() just as an example)\n",
    "# raws\n",
    "print (df.mean(axis=0),'\\n')\n",
    "# columns\n",
    "print (df.mean(axis=1),'\\n')"
   ]
  },
  {
   "cell_type": "code",
<<<<<<< HEAD
   "execution_count": 101,
=======
   "execution_count": 47,
>>>>>>> upstream/Attar_Aidin
   "metadata": {},
   "outputs": [
    {
     "data": {
      "text/html": [
       "<div>\n",
       "<style scoped>\n",
       "    .dataframe tbody tr th:only-of-type {\n",
       "        vertical-align: middle;\n",
       "    }\n",
       "\n",
       "    .dataframe tbody tr th {\n",
       "        vertical-align: top;\n",
       "    }\n",
       "\n",
       "    .dataframe thead th {\n",
       "        text-align: right;\n",
       "    }\n",
       "</style>\n",
       "<table border=\"1\" class=\"dataframe\">\n",
       "  <thead>\n",
       "    <tr style=\"text-align: right;\">\n",
       "      <th></th>\n",
       "      <th>A</th>\n",
       "      <th>B</th>\n",
       "      <th>C</th>\n",
       "      <th>D</th>\n",
       "      <th>E</th>\n",
       "      <th>E prime</th>\n",
       "      <th>cosine</th>\n",
       "    </tr>\n",
       "  </thead>\n",
       "  <tbody>\n",
       "    <tr>\n",
       "      <th>2021-11-22 12:45:00</th>\n",
       "      <td>0.000000</td>\n",
<<<<<<< HEAD
       "      <td>0.817315</td>\n",
       "      <td>-0.478015</td>\n",
=======
       "      <td>0.271638</td>\n",
       "      <td>1.073060</td>\n",
>>>>>>> upstream/Attar_Aidin
       "      <td>5</td>\n",
       "      <td>0.0</td>\n",
       "      <td>0</td>\n",
       "      <td>1.000000</td>\n",
       "    </tr>\n",
       "    <tr>\n",
       "      <th>2021-11-22 13:45:00</th>\n",
<<<<<<< HEAD
       "      <td>1.641790</td>\n",
       "      <td>1.216484</td>\n",
       "      <td>0.576073</td>\n",
=======
       "      <td>1.069119</td>\n",
       "      <td>0.533125</td>\n",
       "      <td>0.488124</td>\n",
>>>>>>> upstream/Attar_Aidin
       "      <td>10</td>\n",
       "      <td>0.5</td>\n",
       "      <td>2</td>\n",
       "      <td>1.999962</td>\n",
       "    </tr>\n",
       "    <tr>\n",
       "      <th>2021-11-22 14:45:00</th>\n",
<<<<<<< HEAD
       "      <td>0.331319</td>\n",
       "      <td>2.349438</td>\n",
       "      <td>0.403535</td>\n",
=======
       "      <td>0.216005</td>\n",
       "      <td>-0.595538</td>\n",
       "      <td>0.115560</td>\n",
>>>>>>> upstream/Attar_Aidin
       "      <td>15</td>\n",
       "      <td>1.5</td>\n",
       "      <td>6</td>\n",
       "      <td>2.999810</td>\n",
       "    </tr>\n",
       "    <tr>\n",
       "      <th>2021-11-22 15:45:00</th>\n",
<<<<<<< HEAD
       "      <td>2.441679</td>\n",
       "      <td>1.438527</td>\n",
       "      <td>0.533386</td>\n",
=======
       "      <td>0.409894</td>\n",
       "      <td>-0.172154</td>\n",
       "      <td>0.352607</td>\n",
>>>>>>> upstream/Attar_Aidin
       "      <td>20</td>\n",
       "      <td>3.0</td>\n",
       "      <td>12</td>\n",
       "      <td>3.999467</td>\n",
       "    </tr>\n",
       "    <tr>\n",
       "      <th>2021-11-22 16:45:00</th>\n",
<<<<<<< HEAD
       "      <td>1.129705</td>\n",
       "      <td>1.275746</td>\n",
       "      <td>0.454781</td>\n",
=======
       "      <td>-0.182434</td>\n",
       "      <td>-0.496498</td>\n",
       "      <td>1.291905</td>\n",
>>>>>>> upstream/Attar_Aidin
       "      <td>25</td>\n",
       "      <td>5.0</td>\n",
       "      <td>20</td>\n",
       "      <td>4.998858</td>\n",
       "    </tr>\n",
       "    <tr>\n",
       "      <th>2021-11-22 17:45:00</th>\n",
<<<<<<< HEAD
       "      <td>2.284125</td>\n",
       "      <td>1.900070</td>\n",
       "      <td>-0.359005</td>\n",
=======
       "      <td>-0.430139</td>\n",
       "      <td>-1.290200</td>\n",
       "      <td>0.490856</td>\n",
>>>>>>> upstream/Attar_Aidin
       "      <td>30</td>\n",
       "      <td>7.5</td>\n",
       "      <td>30</td>\n",
       "      <td>5.997906</td>\n",
       "    </tr>\n",
       "    <tr>\n",
       "      <th>2021-11-22 18:45:00</th>\n",
<<<<<<< HEAD
       "      <td>1.985115</td>\n",
       "      <td>2.068414</td>\n",
       "      <td>1.564135</td>\n",
=======
       "      <td>1.599830</td>\n",
       "      <td>-2.128869</td>\n",
       "      <td>1.276346</td>\n",
>>>>>>> upstream/Attar_Aidin
       "      <td>35</td>\n",
       "      <td>10.5</td>\n",
       "      <td>42</td>\n",
       "      <td>6.996536</td>\n",
       "    </tr>\n",
       "    <tr>\n",
       "      <th>2021-11-22 19:45:00</th>\n",
<<<<<<< HEAD
       "      <td>1.166920</td>\n",
       "      <td>0.131844</td>\n",
       "      <td>0.743291</td>\n",
=======
       "      <td>0.732222</td>\n",
       "      <td>-0.709622</td>\n",
       "      <td>1.936246</td>\n",
>>>>>>> upstream/Attar_Aidin
       "      <td>40</td>\n",
       "      <td>14.0</td>\n",
       "      <td>56</td>\n",
       "      <td>7.994670</td>\n",
       "    </tr>\n",
       "    <tr>\n",
       "      <th>2021-11-22 20:45:00</th>\n",
<<<<<<< HEAD
       "      <td>2.199920</td>\n",
       "      <td>0.898357</td>\n",
       "      <td>-0.584394</td>\n",
=======
       "      <td>0.864148</td>\n",
       "      <td>-0.221715</td>\n",
       "      <td>3.304863</td>\n",
>>>>>>> upstream/Attar_Aidin
       "      <td>45</td>\n",
       "      <td>18.0</td>\n",
       "      <td>72</td>\n",
       "      <td>8.992234</td>\n",
       "    </tr>\n",
       "    <tr>\n",
       "      <th>2021-11-22 21:45:00</th>\n",
<<<<<<< HEAD
       "      <td>2.263660</td>\n",
       "      <td>0.655073</td>\n",
       "      <td>-0.589341</td>\n",
=======
       "      <td>1.001136</td>\n",
       "      <td>1.228090</td>\n",
       "      <td>3.183188</td>\n",
>>>>>>> upstream/Attar_Aidin
       "      <td>50</td>\n",
       "      <td>22.5</td>\n",
       "      <td>90</td>\n",
       "      <td>9.989152</td>\n",
       "    </tr>\n",
       "  </tbody>\n",
       "</table>\n",
       "</div>"
      ],
      "text/plain": [
       "                            A         B         C   D     E  E prime    cosine\n",
<<<<<<< HEAD
       "2021-11-22 12:45:00  0.000000  0.817315 -0.478015   5   0.0        0  1.000000\n",
       "2021-11-22 13:45:00  1.641790  1.216484  0.576073  10   0.5        2  1.999962\n",
       "2021-11-22 14:45:00  0.331319  2.349438  0.403535  15   1.5        6  2.999810\n",
       "2021-11-22 15:45:00  2.441679  1.438527  0.533386  20   3.0       12  3.999467\n",
       "2021-11-22 16:45:00  1.129705  1.275746  0.454781  25   5.0       20  4.998858\n",
       "2021-11-22 17:45:00  2.284125  1.900070 -0.359005  30   7.5       30  5.997906\n",
       "2021-11-22 18:45:00  1.985115  2.068414  1.564135  35  10.5       42  6.996536\n",
       "2021-11-22 19:45:00  1.166920  0.131844  0.743291  40  14.0       56  7.994670\n",
       "2021-11-22 20:45:00  2.199920  0.898357 -0.584394  45  18.0       72  8.992234\n",
       "2021-11-22 21:45:00  2.263660  0.655073 -0.589341  50  22.5       90  9.989152"
      ]
     },
     "execution_count": 101,
=======
       "2021-11-22 12:45:00  0.000000  0.271638  1.073060   5   0.0        0  1.000000\n",
       "2021-11-22 13:45:00  1.069119  0.533125  0.488124  10   0.5        2  1.999962\n",
       "2021-11-22 14:45:00  0.216005 -0.595538  0.115560  15   1.5        6  2.999810\n",
       "2021-11-22 15:45:00  0.409894 -0.172154  0.352607  20   3.0       12  3.999467\n",
       "2021-11-22 16:45:00 -0.182434 -0.496498  1.291905  25   5.0       20  4.998858\n",
       "2021-11-22 17:45:00 -0.430139 -1.290200  0.490856  30   7.5       30  5.997906\n",
       "2021-11-22 18:45:00  1.599830 -2.128869  1.276346  35  10.5       42  6.996536\n",
       "2021-11-22 19:45:00  0.732222 -0.709622  1.936246  40  14.0       56  7.994670\n",
       "2021-11-22 20:45:00  0.864148 -0.221715  3.304863  45  18.0       72  8.992234\n",
       "2021-11-22 21:45:00  1.001136  1.228090  3.183188  50  22.5       90  9.989152"
      ]
     },
     "execution_count": 47,
>>>>>>> upstream/Attar_Aidin
     "metadata": {},
     "output_type": "execute_result"
    }
   ],
   "source": [
    "# global operations on columns\n",
    "df.apply(np.cumsum)"
   ]
  },
  {
   "cell_type": "code",
<<<<<<< HEAD
   "execution_count": 102,
=======
   "execution_count": 48,
>>>>>>> upstream/Attar_Aidin
   "metadata": {},
   "outputs": [
    {
     "data": {
      "text/html": [
       "<div>\n",
       "<style scoped>\n",
       "    .dataframe tbody tr th:only-of-type {\n",
       "        vertical-align: middle;\n",
       "    }\n",
       "\n",
       "    .dataframe tbody tr th {\n",
       "        vertical-align: top;\n",
       "    }\n",
       "\n",
       "    .dataframe thead th {\n",
       "        text-align: right;\n",
       "    }\n",
       "</style>\n",
       "<table border=\"1\" class=\"dataframe\">\n",
       "  <thead>\n",
       "    <tr style=\"text-align: right;\">\n",
       "      <th></th>\n",
       "      <th>A</th>\n",
       "      <th>B</th>\n",
       "      <th>C</th>\n",
       "      <th>D</th>\n",
       "      <th>E</th>\n",
       "      <th>E prime</th>\n",
       "      <th>cosine</th>\n",
       "    </tr>\n",
       "  </thead>\n",
       "  <tbody>\n",
       "    <tr>\n",
       "      <th>2021-11-22 12:45:00</th>\n",
       "      <td>0.000000</td>\n",
<<<<<<< HEAD
       "      <td>0.817315</td>\n",
       "      <td>-0.478015</td>\n",
=======
       "      <td>0.271638</td>\n",
       "      <td>1.073060</td>\n",
>>>>>>> upstream/Attar_Aidin
       "      <td>5</td>\n",
       "      <td>0.0</td>\n",
       "      <td>0</td>\n",
       "      <td>1.000000</td>\n",
       "    </tr>\n",
       "    <tr>\n",
       "      <th>2021-11-22 13:45:00</th>\n",
<<<<<<< HEAD
       "      <td>1.641790</td>\n",
       "      <td>0.399169</td>\n",
       "      <td>1.054088</td>\n",
=======
       "      <td>1.069119</td>\n",
       "      <td>0.261487</td>\n",
       "      <td>-0.584936</td>\n",
>>>>>>> upstream/Attar_Aidin
       "      <td>5</td>\n",
       "      <td>0.5</td>\n",
       "      <td>2</td>\n",
       "      <td>0.999962</td>\n",
       "    </tr>\n",
       "    <tr>\n",
       "      <th>2021-11-22 14:45:00</th>\n",
<<<<<<< HEAD
       "      <td>-1.310471</td>\n",
       "      <td>1.132953</td>\n",
       "      <td>-0.172538</td>\n",
=======
       "      <td>-0.853114</td>\n",
       "      <td>-1.128664</td>\n",
       "      <td>-0.372564</td>\n",
>>>>>>> upstream/Attar_Aidin
       "      <td>5</td>\n",
       "      <td>1.0</td>\n",
       "      <td>4</td>\n",
       "      <td>0.999848</td>\n",
       "    </tr>\n",
       "    <tr>\n",
       "      <th>2021-11-22 15:45:00</th>\n",
<<<<<<< HEAD
       "      <td>2.110360</td>\n",
       "      <td>-0.910910</td>\n",
       "      <td>0.129851</td>\n",
=======
       "      <td>0.193889</td>\n",
       "      <td>0.423385</td>\n",
       "      <td>0.237047</td>\n",
>>>>>>> upstream/Attar_Aidin
       "      <td>5</td>\n",
       "      <td>1.5</td>\n",
       "      <td>6</td>\n",
       "      <td>0.999657</td>\n",
       "    </tr>\n",
       "    <tr>\n",
       "      <th>2021-11-22 16:45:00</th>\n",
<<<<<<< HEAD
       "      <td>-1.311974</td>\n",
       "      <td>-0.162781</td>\n",
       "      <td>-0.078605</td>\n",
=======
       "      <td>-0.592327</td>\n",
       "      <td>-0.324345</td>\n",
       "      <td>0.939298</td>\n",
>>>>>>> upstream/Attar_Aidin
       "      <td>5</td>\n",
       "      <td>2.0</td>\n",
       "      <td>8</td>\n",
       "      <td>0.999391</td>\n",
       "    </tr>\n",
       "    <tr>\n",
       "      <th>2021-11-22 17:45:00</th>\n",
<<<<<<< HEAD
       "      <td>1.154420</td>\n",
       "      <td>0.624324</td>\n",
       "      <td>-0.813786</td>\n",
=======
       "      <td>-0.247706</td>\n",
       "      <td>-0.793702</td>\n",
       "      <td>-0.801049</td>\n",
>>>>>>> upstream/Attar_Aidin
       "      <td>5</td>\n",
       "      <td>2.5</td>\n",
       "      <td>10</td>\n",
       "      <td>0.999048</td>\n",
       "    </tr>\n",
       "    <tr>\n",
       "      <th>2021-11-22 18:45:00</th>\n",
<<<<<<< HEAD
       "      <td>-0.299010</td>\n",
       "      <td>0.168344</td>\n",
       "      <td>1.923140</td>\n",
=======
       "      <td>2.029969</td>\n",
       "      <td>-0.838669</td>\n",
       "      <td>0.785490</td>\n",
>>>>>>> upstream/Attar_Aidin
       "      <td>5</td>\n",
       "      <td>3.0</td>\n",
       "      <td>12</td>\n",
       "      <td>0.998630</td>\n",
       "    </tr>\n",
       "    <tr>\n",
       "      <th>2021-11-22 19:45:00</th>\n",
<<<<<<< HEAD
       "      <td>-0.818195</td>\n",
       "      <td>-1.936570</td>\n",
       "      <td>-0.820844</td>\n",
=======
       "      <td>-0.867608</td>\n",
       "      <td>1.419248</td>\n",
       "      <td>0.659899</td>\n",
>>>>>>> upstream/Attar_Aidin
       "      <td>5</td>\n",
       "      <td>3.5</td>\n",
       "      <td>14</td>\n",
       "      <td>0.998135</td>\n",
       "    </tr>\n",
       "    <tr>\n",
       "      <th>2021-11-22 20:45:00</th>\n",
<<<<<<< HEAD
       "      <td>1.033000</td>\n",
       "      <td>0.766512</td>\n",
       "      <td>-1.327685</td>\n",
=======
       "      <td>0.131926</td>\n",
       "      <td>0.487907</td>\n",
       "      <td>1.368617</td>\n",
>>>>>>> upstream/Attar_Aidin
       "      <td>5</td>\n",
       "      <td>4.0</td>\n",
       "      <td>16</td>\n",
       "      <td>0.997564</td>\n",
       "    </tr>\n",
       "    <tr>\n",
       "      <th>2021-11-22 21:45:00</th>\n",
<<<<<<< HEAD
       "      <td>0.063740</td>\n",
       "      <td>-0.243284</td>\n",
       "      <td>-0.004948</td>\n",
=======
       "      <td>0.136987</td>\n",
       "      <td>1.449805</td>\n",
       "      <td>-0.121675</td>\n",
>>>>>>> upstream/Attar_Aidin
       "      <td>5</td>\n",
       "      <td>4.5</td>\n",
       "      <td>18</td>\n",
       "      <td>0.996917</td>\n",
       "    </tr>\n",
       "  </tbody>\n",
       "</table>\n",
       "</div>"
      ],
      "text/plain": [
       "                            A         B         C  D    E  E prime    cosine\n",
<<<<<<< HEAD
       "2021-11-22 12:45:00  0.000000  0.817315 -0.478015  5  0.0        0  1.000000\n",
       "2021-11-22 13:45:00  1.641790  0.399169  1.054088  5  0.5        2  0.999962\n",
       "2021-11-22 14:45:00 -1.310471  1.132953 -0.172538  5  1.0        4  0.999848\n",
       "2021-11-22 15:45:00  2.110360 -0.910910  0.129851  5  1.5        6  0.999657\n",
       "2021-11-22 16:45:00 -1.311974 -0.162781 -0.078605  5  2.0        8  0.999391\n",
       "2021-11-22 17:45:00  1.154420  0.624324 -0.813786  5  2.5       10  0.999048\n",
       "2021-11-22 18:45:00 -0.299010  0.168344  1.923140  5  3.0       12  0.998630\n",
       "2021-11-22 19:45:00 -0.818195 -1.936570 -0.820844  5  3.5       14  0.998135\n",
       "2021-11-22 20:45:00  1.033000  0.766512 -1.327685  5  4.0       16  0.997564\n",
       "2021-11-22 21:45:00  0.063740 -0.243284 -0.004948  5  4.5       18  0.996917"
      ]
     },
     "execution_count": 102,
=======
       "2021-11-22 12:45:00  0.000000  0.271638  1.073060  5  0.0        0  1.000000\n",
       "2021-11-22 13:45:00  1.069119  0.261487 -0.584936  5  0.5        2  0.999962\n",
       "2021-11-22 14:45:00 -0.853114 -1.128664 -0.372564  5  1.0        4  0.999848\n",
       "2021-11-22 15:45:00  0.193889  0.423385  0.237047  5  1.5        6  0.999657\n",
       "2021-11-22 16:45:00 -0.592327 -0.324345  0.939298  5  2.0        8  0.999391\n",
       "2021-11-22 17:45:00 -0.247706 -0.793702 -0.801049  5  2.5       10  0.999048\n",
       "2021-11-22 18:45:00  2.029969 -0.838669  0.785490  5  3.0       12  0.998630\n",
       "2021-11-22 19:45:00 -0.867608  1.419248  0.659899  5  3.5       14  0.998135\n",
       "2021-11-22 20:45:00  0.131926  0.487907  1.368617  5  4.0       16  0.997564\n",
       "2021-11-22 21:45:00  0.136987  1.449805 -0.121675  5  4.5       18  0.996917"
      ]
     },
     "execution_count": 48,
>>>>>>> upstream/Attar_Aidin
     "metadata": {},
     "output_type": "execute_result"
    }
   ],
   "source": [
    "df\n"
   ]
  },
  {
   "cell_type": "code",
<<<<<<< HEAD
   "execution_count": 103,
=======
   "execution_count": 49,
>>>>>>> upstream/Attar_Aidin
   "metadata": {},
   "outputs": [
    {
     "data": {
      "text/plain": [
<<<<<<< HEAD
       "A           3.422334\n",
       "B           3.069523\n",
       "C           3.250825\n",
=======
       "A           2.897577\n",
       "B           2.578469\n",
       "C           2.169666\n",
>>>>>>> upstream/Attar_Aidin
       "D           0.000000\n",
       "E           4.500000\n",
       "E prime    18.000000\n",
       "cosine      0.003083\n",
       "dtype: float64"
      ]
     },
<<<<<<< HEAD
     "execution_count": 103,
=======
     "execution_count": 49,
>>>>>>> upstream/Attar_Aidin
     "metadata": {},
     "output_type": "execute_result"
    }
   ],
   "source": [
    "df.apply(lambda x: x.max() - x.min())"
   ]
  },
  {
   "cell_type": "code",
<<<<<<< HEAD
   "execution_count": 104,
=======
   "execution_count": 50,
>>>>>>> upstream/Attar_Aidin
   "metadata": {},
   "outputs": [
    {
     "data": {
      "text/plain": [
<<<<<<< HEAD
       "2021-11-22 12:45:00    0.817315\n",
       "2021-11-22 13:45:00    2.040959\n",
       "2021-11-22 14:45:00   -0.177517\n",
       "2021-11-22 15:45:00    1.199450\n",
       "2021-11-22 16:45:00   -1.474755\n",
       "2021-11-22 17:45:00    1.778744\n",
       "2021-11-22 18:45:00   -0.130666\n",
       "2021-11-22 19:45:00   -2.754764\n",
       "2021-11-22 20:45:00    1.799512\n",
       "2021-11-22 21:45:00   -0.179544\n",
       "Freq: H, dtype: float64"
      ]
     },
     "execution_count": 104,
=======
       "2021-11-22 12:45:00    0.271638\n",
       "2021-11-22 13:45:00    1.330606\n",
       "2021-11-22 14:45:00   -1.981777\n",
       "2021-11-22 15:45:00    0.617273\n",
       "2021-11-22 16:45:00   -0.916672\n",
       "2021-11-22 17:45:00   -1.041408\n",
       "2021-11-22 18:45:00    1.191300\n",
       "2021-11-22 19:45:00    0.551640\n",
       "2021-11-22 20:45:00    0.619833\n",
       "2021-11-22 21:45:00    1.586792\n",
       "Freq: H, dtype: float64"
      ]
     },
     "execution_count": 50,
>>>>>>> upstream/Attar_Aidin
     "metadata": {},
     "output_type": "execute_result"
    }
   ],
   "source": [
    "# syntax is as usual similar to that of numpy arrays\n",
    "df['A']+df['B']"
   ]
  },
  {
   "cell_type": "markdown",
   "metadata": {},
   "source": [
    "Let's play it hard and load (in memory) a (relatively) large dataset"
   ]
  },
  {
   "cell_type": "code",
<<<<<<< HEAD
   "execution_count": 110,
   "metadata": {
    "scrolled": true
   },
=======
   "execution_count": 52,
   "metadata": {},
>>>>>>> upstream/Attar_Aidin
   "outputs": [
    {
     "name": "stdout",
     "output_type": "stream",
     "text": [
<<<<<<< HEAD
      "--2021-11-22 13:55:42--  https://www.dropbox.com/s/xvjzaxzz3ysphme/data_000637.txt\n",
      "Resolving www.dropbox.com (www.dropbox.com)... 162.125.69.18, 2620:100:6025:18::a27d:4512\n",
      "Connecting to www.dropbox.com (www.dropbox.com)|162.125.69.18|:443... connected.\n",
      "HTTP request sent, awaiting response... 301 Moved Permanently\n",
      "Location: /s/raw/xvjzaxzz3ysphme/data_000637.txt [following]\n",
      "--2021-11-22 13:55:42--  https://www.dropbox.com/s/raw/xvjzaxzz3ysphme/data_000637.txt\n",
      "Reusing existing connection to www.dropbox.com:443.\n",
      "HTTP request sent, awaiting response... 302 Found\n",
      "Location: https://ucc6acb1d2c32eb5be40b7aab35f.dl.dropboxusercontent.com/cd/0/inline/Bafk22bpsFEtwMMEiDNs210uTJ_jKh4-xiQCvVDVApF4kD_rESLlGj_tyAMifujCES7zGfBrcNuJS1rP7Kl4mheRuCMTZTIy6v4ilWEAq1hxHGdImNGykqtlGwvEeEzT3-pCyQfC7vt95c1wQpyQ5d1Y/file# [following]\n",
      "--2021-11-22 13:55:42--  https://ucc6acb1d2c32eb5be40b7aab35f.dl.dropboxusercontent.com/cd/0/inline/Bafk22bpsFEtwMMEiDNs210uTJ_jKh4-xiQCvVDVApF4kD_rESLlGj_tyAMifujCES7zGfBrcNuJS1rP7Kl4mheRuCMTZTIy6v4ilWEAq1hxHGdImNGykqtlGwvEeEzT3-pCyQfC7vt95c1wQpyQ5d1Y/file\n",
      "Resolving ucc6acb1d2c32eb5be40b7aab35f.dl.dropboxusercontent.com (ucc6acb1d2c32eb5be40b7aab35f.dl.dropboxusercontent.com)... 162.125.69.15, 2620:100:6025:15::a27d:450f\n",
      "Connecting to ucc6acb1d2c32eb5be40b7aab35f.dl.dropboxusercontent.com (ucc6acb1d2c32eb5be40b7aab35f.dl.dropboxusercontent.com)|162.125.69.15|:443... connected.\n",
      "HTTP request sent, awaiting response... 200 OK\n",
      "Length: 33179236 (32M) [text/plain]\n",
      "Saving to: ‘data_000637.txt’\n",
      "\n",
      "637.txt             100%[===================>]  31.64M  20.2MB/s    in 1.6s    \n",
      "\n",
      "2021-11-22 13:55:44 (20.2 MB/s) - ‘data_000637.txt’ saved [33179236/33179236]\n",
=======
      "--2021-11-24 14:31:37--  https://www.dropbox.com/s/xvjzaxzz3ysphme/data_000637.txt\n",
      "Resolving www.dropbox.com (www.dropbox.com)... 162.125.4.18, 2620:100:601c:18::a27d:612\n",
      "Connecting to www.dropbox.com (www.dropbox.com)|162.125.4.18|:443... connected.\n",
      "HTTP request sent, awaiting response... 301 Moved Permanently\n",
      "Location: /s/raw/xvjzaxzz3ysphme/data_000637.txt [following]\n",
      "--2021-11-24 14:31:38--  https://www.dropbox.com/s/raw/xvjzaxzz3ysphme/data_000637.txt\n",
      "Reusing existing connection to www.dropbox.com:443.\n",
      "HTTP request sent, awaiting response... 302 Found\n",
      "Location: https://uc14337bc2aa4315991223affed1.dl.dropboxusercontent.com/cd/0/inline/BanD_CEKwxMLvFTkHhZgnMcugzKCZB_68OGD6o9kU8iFWYl27LPx3F4QlrJsH8JuPF82ZUmC55VyW_lB5g7F1Il_-tT0RuhghyxTGLcvGdcpfu8M1VTnwlNeo-PJ6i2DUfczJS23W2ZwzcsBPeqfQHTX/file# [following]\n",
      "--2021-11-24 14:31:38--  https://uc14337bc2aa4315991223affed1.dl.dropboxusercontent.com/cd/0/inline/BanD_CEKwxMLvFTkHhZgnMcugzKCZB_68OGD6o9kU8iFWYl27LPx3F4QlrJsH8JuPF82ZUmC55VyW_lB5g7F1Il_-tT0RuhghyxTGLcvGdcpfu8M1VTnwlNeo-PJ6i2DUfczJS23W2ZwzcsBPeqfQHTX/file\n",
      "Resolving uc14337bc2aa4315991223affed1.dl.dropboxusercontent.com (uc14337bc2aa4315991223affed1.dl.dropboxusercontent.com)... 162.125.4.15, 2620:100:601c:15::a27d:60f\n",
      "Connecting to uc14337bc2aa4315991223affed1.dl.dropboxusercontent.com (uc14337bc2aa4315991223affed1.dl.dropboxusercontent.com)|162.125.4.15|:443... connected.\n",
      "HTTP request sent, awaiting response... 200 OK\n",
      "Length: 33179236 (32M) [text/plain]\n",
      "Saving to: ‘data_000637’\n",
      "\n",
      "637                 100%[===================>]  31.64M  9.20MB/s    in 3.4s    \n",
      "\n",
      "2021-11-24 14:31:43 (9.20 MB/s) - ‘data_000637’ saved [33179236/33179236]\n",
>>>>>>> upstream/Attar_Aidin
      "\n"
     ]
    },
    {
     "data": {
      "text/html": [
       "<div>\n",
       "<style scoped>\n",
       "    .dataframe tbody tr th:only-of-type {\n",
       "        vertical-align: middle;\n",
       "    }\n",
       "\n",
       "    .dataframe tbody tr th {\n",
       "        vertical-align: top;\n",
       "    }\n",
       "\n",
       "    .dataframe thead th {\n",
       "        text-align: right;\n",
       "    }\n",
       "</style>\n",
       "<table border=\"1\" class=\"dataframe\">\n",
       "  <thead>\n",
       "    <tr style=\"text-align: right;\">\n",
       "      <th></th>\n",
       "      <th>HEAD</th>\n",
       "      <th>FPGA</th>\n",
       "      <th>TDC_CHANNEL</th>\n",
       "      <th>ORBIT_CNT</th>\n",
       "      <th>BX_COUNTER</th>\n",
       "      <th>TDC_MEAS</th>\n",
       "    </tr>\n",
       "  </thead>\n",
       "  <tbody>\n",
       "    <tr>\n",
       "      <th>0</th>\n",
       "      <td>1</td>\n",
       "      <td>0</td>\n",
       "      <td>123</td>\n",
       "      <td>3869200167</td>\n",
       "      <td>2374</td>\n",
       "      <td>26</td>\n",
       "    </tr>\n",
       "    <tr>\n",
       "      <th>1</th>\n",
       "      <td>1</td>\n",
       "      <td>0</td>\n",
       "      <td>124</td>\n",
       "      <td>3869200167</td>\n",
       "      <td>2374</td>\n",
       "      <td>27</td>\n",
       "    </tr>\n",
       "    <tr>\n",
       "      <th>2</th>\n",
       "      <td>1</td>\n",
       "      <td>0</td>\n",
       "      <td>63</td>\n",
       "      <td>3869200167</td>\n",
       "      <td>2553</td>\n",
       "      <td>28</td>\n",
       "    </tr>\n",
       "    <tr>\n",
       "      <th>3</th>\n",
       "      <td>1</td>\n",
       "      <td>0</td>\n",
       "      <td>64</td>\n",
       "      <td>3869200167</td>\n",
       "      <td>2558</td>\n",
       "      <td>19</td>\n",
       "    </tr>\n",
       "    <tr>\n",
       "      <th>4</th>\n",
       "      <td>1</td>\n",
       "      <td>0</td>\n",
       "      <td>64</td>\n",
       "      <td>3869200167</td>\n",
       "      <td>2760</td>\n",
       "      <td>25</td>\n",
       "    </tr>\n",
       "    <tr>\n",
<<<<<<< HEAD
       "      <th>5</th>\n",
       "      <td>1</td>\n",
       "      <td>0</td>\n",
       "      <td>63</td>\n",
       "      <td>3869200167</td>\n",
       "      <td>2762</td>\n",
       "      <td>4</td>\n",
       "    </tr>\n",
       "    <tr>\n",
       "      <th>6</th>\n",
       "      <td>1</td>\n",
       "      <td>0</td>\n",
       "      <td>61</td>\n",
       "      <td>3869200167</td>\n",
       "      <td>2772</td>\n",
       "      <td>14</td>\n",
       "    </tr>\n",
       "    <tr>\n",
       "      <th>7</th>\n",
       "      <td>1</td>\n",
       "      <td>0</td>\n",
       "      <td>139</td>\n",
       "      <td>3869200167</td>\n",
       "      <td>2776</td>\n",
       "      <td>0</td>\n",
       "    </tr>\n",
       "    <tr>\n",
       "      <th>8</th>\n",
       "      <td>1</td>\n",
       "      <td>0</td>\n",
       "      <td>62</td>\n",
       "      <td>3869200167</td>\n",
       "      <td>2774</td>\n",
       "      <td>21</td>\n",
       "    </tr>\n",
       "    <tr>\n",
       "      <th>9</th>\n",
       "      <td>1</td>\n",
       "      <td>0</td>\n",
       "      <td>60</td>\n",
       "      <td>3869200167</td>\n",
       "      <td>2788</td>\n",
       "      <td>7</td>\n",
       "    </tr>\n",
       "    <tr>\n",
       "      <th>10</th>\n",
       "      <td>1</td>\n",
       "      <td>1</td>\n",
       "      <td>7</td>\n",
       "      <td>3869200167</td>\n",
       "      <td>2785</td>\n",
       "      <td>4</td>\n",
       "    </tr>\n",
       "    <tr>\n",
       "      <th>11</th>\n",
       "      <td>1</td>\n",
       "      <td>0</td>\n",
       "      <td>64</td>\n",
       "      <td>3869200167</td>\n",
       "      <td>2786</td>\n",
       "      <td>19</td>\n",
       "    </tr>\n",
       "    <tr>\n",
       "      <th>12</th>\n",
       "      <td>1</td>\n",
       "      <td>1</td>\n",
       "      <td>6</td>\n",
       "      <td>3869200167</td>\n",
       "      <td>2792</td>\n",
       "      <td>18</td>\n",
       "    </tr>\n",
       "    <tr>\n",
       "      <th>13</th>\n",
       "      <td>1</td>\n",
       "      <td>0</td>\n",
       "      <td>36</td>\n",
       "      <td>3869200167</td>\n",
       "      <td>2791</td>\n",
       "      <td>23</td>\n",
       "    </tr>\n",
       "    <tr>\n",
       "      <th>14</th>\n",
       "      <td>1</td>\n",
       "      <td>0</td>\n",
       "      <td>56</td>\n",
       "      <td>3869200167</td>\n",
       "      <td>2789</td>\n",
       "      <td>3</td>\n",
       "    </tr>\n",
       "    <tr>\n",
       "      <th>15</th>\n",
       "      <td>1</td>\n",
       "      <td>1</td>\n",
       "      <td>139</td>\n",
       "      <td>3869200167</td>\n",
       "      <td>2797</td>\n",
       "      <td>0</td>\n",
       "    </tr>\n",
       "    <tr>\n",
       "      <th>16</th>\n",
       "      <td>1</td>\n",
       "      <td>1</td>\n",
       "      <td>8</td>\n",
       "      <td>3869200167</td>\n",
       "      <td>2787</td>\n",
       "      <td>14</td>\n",
       "    </tr>\n",
       "    <tr>\n",
       "      <th>17</th>\n",
       "      <td>1</td>\n",
       "      <td>0</td>\n",
       "      <td>63</td>\n",
       "      <td>3869200167</td>\n",
       "      <td>2790</td>\n",
       "      <td>10</td>\n",
       "    </tr>\n",
       "    <tr>\n",
       "      <th>18</th>\n",
       "      <td>1</td>\n",
       "      <td>1</td>\n",
       "      <td>5</td>\n",
       "      <td>3869200167</td>\n",
       "      <td>2795</td>\n",
       "      <td>4</td>\n",
       "    </tr>\n",
       "    <tr>\n",
       "      <th>19</th>\n",
       "      <td>1</td>\n",
       "      <td>0</td>\n",
       "      <td>53</td>\n",
       "      <td>3869200167</td>\n",
       "      <td>2796</td>\n",
       "      <td>26</td>\n",
       "    </tr>\n",
       "    <tr>\n",
       "      <th>20</th>\n",
       "      <td>1</td>\n",
       "      <td>1</td>\n",
       "      <td>10</td>\n",
       "      <td>3869200167</td>\n",
       "      <td>2789</td>\n",
       "      <td>14</td>\n",
       "    </tr>\n",
       "    <tr>\n",
       "      <th>21</th>\n",
       "      <td>1</td>\n",
       "      <td>0</td>\n",
       "      <td>57</td>\n",
       "      <td>3869200167</td>\n",
       "      <td>2789</td>\n",
       "      <td>10</td>\n",
       "    </tr>\n",
       "    <tr>\n",
       "      <th>22</th>\n",
       "      <td>1</td>\n",
       "      <td>0</td>\n",
       "      <td>61</td>\n",
       "      <td>3869200167</td>\n",
       "      <td>2790</td>\n",
       "      <td>23</td>\n",
       "    </tr>\n",
       "    <tr>\n",
       "      <th>23</th>\n",
       "      <td>1</td>\n",
       "      <td>0</td>\n",
       "      <td>38</td>\n",
       "      <td>3869200167</td>\n",
       "      <td>2799</td>\n",
       "      <td>15</td>\n",
       "    </tr>\n",
       "    <tr>\n",
       "      <th>24</th>\n",
       "      <td>1</td>\n",
       "      <td>0</td>\n",
       "      <td>58</td>\n",
       "      <td>3869200167</td>\n",
       "      <td>2795</td>\n",
       "      <td>19</td>\n",
       "    </tr>\n",
       "    <tr>\n",
       "      <th>25</th>\n",
       "      <td>1</td>\n",
       "      <td>0</td>\n",
       "      <td>62</td>\n",
       "      <td>3869200167</td>\n",
       "      <td>2797</td>\n",
       "      <td>14</td>\n",
       "    </tr>\n",
       "    <tr>\n",
       "      <th>26</th>\n",
       "      <td>1</td>\n",
       "      <td>0</td>\n",
       "      <td>59</td>\n",
       "      <td>3869200167</td>\n",
       "      <td>2799</td>\n",
       "      <td>14</td>\n",
       "    </tr>\n",
       "    <tr>\n",
       "      <th>27</th>\n",
       "      <td>1</td>\n",
       "      <td>0</td>\n",
       "      <td>59</td>\n",
       "      <td>3869200167</td>\n",
       "      <td>3081</td>\n",
       "      <td>21</td>\n",
       "    </tr>\n",
       "    <tr>\n",
       "      <th>28</th>\n",
       "      <td>1</td>\n",
       "      <td>0</td>\n",
       "      <td>61</td>\n",
       "      <td>3869200167</td>\n",
       "      <td>3081</td>\n",
       "      <td>1</td>\n",
       "    </tr>\n",
       "    <tr>\n",
       "      <th>29</th>\n",
       "      <td>1</td>\n",
       "      <td>0</td>\n",
       "      <td>60</td>\n",
       "      <td>3869200167</td>\n",
       "      <td>3083</td>\n",
       "      <td>20</td>\n",
       "    </tr>\n",
       "    <tr>\n",
=======
>>>>>>> upstream/Attar_Aidin
       "      <th>...</th>\n",
       "      <td>...</td>\n",
       "      <td>...</td>\n",
       "      <td>...</td>\n",
       "      <td>...</td>\n",
       "      <td>...</td>\n",
       "      <td>...</td>\n",
       "    </tr>\n",
       "    <tr>\n",
<<<<<<< HEAD
       "      <th>1310690</th>\n",
       "      <td>1</td>\n",
       "      <td>1</td>\n",
       "      <td>1</td>\n",
       "      <td>3869211170</td>\n",
       "      <td>3517</td>\n",
       "      <td>5</td>\n",
       "    </tr>\n",
       "    <tr>\n",
       "      <th>1310691</th>\n",
       "      <td>1</td>\n",
       "      <td>0</td>\n",
       "      <td>56</td>\n",
       "      <td>3869211170</td>\n",
       "      <td>3516</td>\n",
       "      <td>21</td>\n",
       "    </tr>\n",
       "    <tr>\n",
       "      <th>1310692</th>\n",
       "      <td>1</td>\n",
       "      <td>1</td>\n",
       "      <td>8</td>\n",
       "      <td>3869211170</td>\n",
       "      <td>3516</td>\n",
       "      <td>7</td>\n",
       "    </tr>\n",
       "    <tr>\n",
       "      <th>1310693</th>\n",
       "      <td>1</td>\n",
       "      <td>0</td>\n",
       "      <td>58</td>\n",
       "      <td>3869211170</td>\n",
       "      <td>3521</td>\n",
       "      <td>14</td>\n",
       "    </tr>\n",
       "    <tr>\n",
       "      <th>1310694</th>\n",
       "      <td>1</td>\n",
       "      <td>1</td>\n",
       "      <td>12</td>\n",
       "      <td>3869211170</td>\n",
       "      <td>3524</td>\n",
       "      <td>15</td>\n",
       "    </tr>\n",
       "    <tr>\n",
       "      <th>1310695</th>\n",
       "      <td>1</td>\n",
       "      <td>1</td>\n",
       "      <td>2</td>\n",
       "      <td>3869211170</td>\n",
       "      <td>3527</td>\n",
       "      <td>24</td>\n",
       "    </tr>\n",
       "    <tr>\n",
       "      <th>1310696</th>\n",
       "      <td>1</td>\n",
       "      <td>0</td>\n",
       "      <td>63</td>\n",
       "      <td>3869211170</td>\n",
       "      <td>3526</td>\n",
       "      <td>2</td>\n",
       "    </tr>\n",
       "    <tr>\n",
       "      <th>1310697</th>\n",
       "      <td>1</td>\n",
       "      <td>1</td>\n",
       "      <td>10</td>\n",
       "      <td>3869211170</td>\n",
       "      <td>3525</td>\n",
       "      <td>3</td>\n",
       "    </tr>\n",
       "    <tr>\n",
       "      <th>1310698</th>\n",
       "      <td>1</td>\n",
       "      <td>0</td>\n",
       "      <td>60</td>\n",
       "      <td>3869211171</td>\n",
       "      <td>9</td>\n",
       "      <td>9</td>\n",
       "    </tr>\n",
       "    <tr>\n",
       "      <th>1310699</th>\n",
       "      <td>1</td>\n",
       "      <td>0</td>\n",
       "      <td>25</td>\n",
       "      <td>3869211171</td>\n",
       "      <td>11</td>\n",
       "      <td>28</td>\n",
       "    </tr>\n",
       "    <tr>\n",
       "      <th>1310700</th>\n",
       "      <td>1</td>\n",
       "      <td>0</td>\n",
       "      <td>28</td>\n",
       "      <td>3869211171</td>\n",
       "      <td>9</td>\n",
       "      <td>26</td>\n",
       "    </tr>\n",
       "    <tr>\n",
       "      <th>1310701</th>\n",
       "      <td>1</td>\n",
       "      <td>0</td>\n",
       "      <td>139</td>\n",
       "      <td>3869211171</td>\n",
       "      <td>21</td>\n",
       "      <td>0</td>\n",
       "    </tr>\n",
       "    <tr>\n",
       "      <th>1310702</th>\n",
       "      <td>1</td>\n",
       "      <td>0</td>\n",
       "      <td>27</td>\n",
       "      <td>3869211171</td>\n",
       "      <td>18</td>\n",
       "      <td>17</td>\n",
       "    </tr>\n",
       "    <tr>\n",
       "      <th>1310703</th>\n",
       "      <td>1</td>\n",
       "      <td>0</td>\n",
       "      <td>25</td>\n",
       "      <td>3869211171</td>\n",
       "      <td>20</td>\n",
       "      <td>13</td>\n",
       "    </tr>\n",
       "    <tr>\n",
       "      <th>1310704</th>\n",
       "      <td>1</td>\n",
       "      <td>0</td>\n",
       "      <td>26</td>\n",
       "      <td>3869211171</td>\n",
       "      <td>19</td>\n",
       "      <td>15</td>\n",
       "    </tr>\n",
       "    <tr>\n",
       "      <th>1310705</th>\n",
       "      <td>1</td>\n",
       "      <td>0</td>\n",
       "      <td>94</td>\n",
       "      <td>3869211171</td>\n",
       "      <td>43</td>\n",
       "      <td>22</td>\n",
       "    </tr>\n",
       "    <tr>\n",
       "      <th>1310706</th>\n",
       "      <td>1</td>\n",
       "      <td>0</td>\n",
       "      <td>28</td>\n",
       "      <td>3869211171</td>\n",
       "      <td>44</td>\n",
       "      <td>29</td>\n",
       "    </tr>\n",
       "    <tr>\n",
       "      <th>1310707</th>\n",
       "      <td>1</td>\n",
       "      <td>0</td>\n",
       "      <td>57</td>\n",
       "      <td>3869211171</td>\n",
       "      <td>137</td>\n",
       "      <td>29</td>\n",
       "    </tr>\n",
       "    <tr>\n",
       "      <th>1310708</th>\n",
       "      <td>1</td>\n",
       "      <td>0</td>\n",
       "      <td>124</td>\n",
       "      <td>3869211171</td>\n",
       "      <td>199</td>\n",
       "      <td>9</td>\n",
       "    </tr>\n",
       "    <tr>\n",
       "      <th>1310709</th>\n",
       "      <td>1</td>\n",
       "      <td>1</td>\n",
       "      <td>38</td>\n",
       "      <td>3869211171</td>\n",
       "      <td>417</td>\n",
       "      <td>8</td>\n",
       "    </tr>\n",
       "    <tr>\n",
       "      <th>1310710</th>\n",
       "      <td>1</td>\n",
       "      <td>1</td>\n",
       "      <td>36</td>\n",
       "      <td>3869211171</td>\n",
       "      <td>427</td>\n",
       "      <td>13</td>\n",
       "    </tr>\n",
       "    <tr>\n",
       "      <th>1310711</th>\n",
       "      <td>1</td>\n",
       "      <td>1</td>\n",
       "      <td>39</td>\n",
       "      <td>3869211171</td>\n",
       "      <td>430</td>\n",
       "      <td>0</td>\n",
       "    </tr>\n",
       "    <tr>\n",
       "      <th>1310712</th>\n",
       "      <td>1</td>\n",
       "      <td>1</td>\n",
       "      <td>35</td>\n",
       "      <td>3869211171</td>\n",
       "      <td>429</td>\n",
       "      <td>4</td>\n",
       "    </tr>\n",
       "    <tr>\n",
       "      <th>1310713</th>\n",
       "      <td>1</td>\n",
       "      <td>0</td>\n",
       "      <td>64</td>\n",
       "      <td>3869211171</td>\n",
       "      <td>758</td>\n",
       "      <td>18</td>\n",
       "    </tr>\n",
       "    <tr>\n",
       "      <th>1310714</th>\n",
       "      <td>1</td>\n",
       "      <td>0</td>\n",
       "      <td>60</td>\n",
       "      <td>3869211171</td>\n",
       "      <td>762</td>\n",
       "      <td>2</td>\n",
       "    </tr>\n",
       "    <tr>\n",
=======
>>>>>>> upstream/Attar_Aidin
       "      <th>1310715</th>\n",
       "      <td>1</td>\n",
       "      <td>0</td>\n",
       "      <td>62</td>\n",
       "      <td>3869211171</td>\n",
       "      <td>762</td>\n",
       "      <td>14</td>\n",
       "    </tr>\n",
       "    <tr>\n",
       "      <th>1310716</th>\n",
       "      <td>1</td>\n",
       "      <td>1</td>\n",
       "      <td>4</td>\n",
       "      <td>3869211171</td>\n",
       "      <td>763</td>\n",
       "      <td>11</td>\n",
       "    </tr>\n",
       "    <tr>\n",
       "      <th>1310717</th>\n",
       "      <td>1</td>\n",
       "      <td>0</td>\n",
       "      <td>64</td>\n",
       "      <td>3869211171</td>\n",
       "      <td>764</td>\n",
       "      <td>0</td>\n",
       "    </tr>\n",
       "    <tr>\n",
       "      <th>1310718</th>\n",
       "      <td>1</td>\n",
       "      <td>0</td>\n",
       "      <td>139</td>\n",
       "      <td>3869211171</td>\n",
       "      <td>769</td>\n",
       "      <td>0</td>\n",
       "    </tr>\n",
       "    <tr>\n",
       "      <th>1310719</th>\n",
       "      <td>1</td>\n",
       "      <td>0</td>\n",
       "      <td>61</td>\n",
       "      <td>3869211171</td>\n",
       "      <td>762</td>\n",
       "      <td>18</td>\n",
       "    </tr>\n",
       "  </tbody>\n",
       "</table>\n",
       "<p>1310720 rows × 6 columns</p>\n",
       "</div>"
      ],
      "text/plain": [
       "         HEAD  FPGA  TDC_CHANNEL   ORBIT_CNT  BX_COUNTER  TDC_MEAS\n",
       "0           1     0          123  3869200167        2374        26\n",
       "1           1     0          124  3869200167        2374        27\n",
       "2           1     0           63  3869200167        2553        28\n",
       "3           1     0           64  3869200167        2558        19\n",
       "4           1     0           64  3869200167        2760        25\n",
<<<<<<< HEAD
       "5           1     0           63  3869200167        2762         4\n",
       "6           1     0           61  3869200167        2772        14\n",
       "7           1     0          139  3869200167        2776         0\n",
       "8           1     0           62  3869200167        2774        21\n",
       "9           1     0           60  3869200167        2788         7\n",
       "10          1     1            7  3869200167        2785         4\n",
       "11          1     0           64  3869200167        2786        19\n",
       "12          1     1            6  3869200167        2792        18\n",
       "13          1     0           36  3869200167        2791        23\n",
       "14          1     0           56  3869200167        2789         3\n",
       "15          1     1          139  3869200167        2797         0\n",
       "16          1     1            8  3869200167        2787        14\n",
       "17          1     0           63  3869200167        2790        10\n",
       "18          1     1            5  3869200167        2795         4\n",
       "19          1     0           53  3869200167        2796        26\n",
       "20          1     1           10  3869200167        2789        14\n",
       "21          1     0           57  3869200167        2789        10\n",
       "22          1     0           61  3869200167        2790        23\n",
       "23          1     0           38  3869200167        2799        15\n",
       "24          1     0           58  3869200167        2795        19\n",
       "25          1     0           62  3869200167        2797        14\n",
       "26          1     0           59  3869200167        2799        14\n",
       "27          1     0           59  3869200167        3081        21\n",
       "28          1     0           61  3869200167        3081         1\n",
       "29          1     0           60  3869200167        3083        20\n",
       "...       ...   ...          ...         ...         ...       ...\n",
       "1310690     1     1            1  3869211170        3517         5\n",
       "1310691     1     0           56  3869211170        3516        21\n",
       "1310692     1     1            8  3869211170        3516         7\n",
       "1310693     1     0           58  3869211170        3521        14\n",
       "1310694     1     1           12  3869211170        3524        15\n",
       "1310695     1     1            2  3869211170        3527        24\n",
       "1310696     1     0           63  3869211170        3526         2\n",
       "1310697     1     1           10  3869211170        3525         3\n",
       "1310698     1     0           60  3869211171           9         9\n",
       "1310699     1     0           25  3869211171          11        28\n",
       "1310700     1     0           28  3869211171           9        26\n",
       "1310701     1     0          139  3869211171          21         0\n",
       "1310702     1     0           27  3869211171          18        17\n",
       "1310703     1     0           25  3869211171          20        13\n",
       "1310704     1     0           26  3869211171          19        15\n",
       "1310705     1     0           94  3869211171          43        22\n",
       "1310706     1     0           28  3869211171          44        29\n",
       "1310707     1     0           57  3869211171         137        29\n",
       "1310708     1     0          124  3869211171         199         9\n",
       "1310709     1     1           38  3869211171         417         8\n",
       "1310710     1     1           36  3869211171         427        13\n",
       "1310711     1     1           39  3869211171         430         0\n",
       "1310712     1     1           35  3869211171         429         4\n",
       "1310713     1     0           64  3869211171         758        18\n",
       "1310714     1     0           60  3869211171         762         2\n",
=======
       "...       ...   ...          ...         ...         ...       ...\n",
>>>>>>> upstream/Attar_Aidin
       "1310715     1     0           62  3869211171         762        14\n",
       "1310716     1     1            4  3869211171         763        11\n",
       "1310717     1     0           64  3869211171         764         0\n",
       "1310718     1     0          139  3869211171         769         0\n",
       "1310719     1     0           61  3869211171         762        18\n",
       "\n",
       "[1310720 rows x 6 columns]"
      ]
     },
<<<<<<< HEAD
     "execution_count": 110,
=======
     "execution_count": 52,
>>>>>>> upstream/Attar_Aidin
     "metadata": {},
     "output_type": "execute_result"
    }
   ],
   "source": [
    "# WARNING! link in past notebook was wrong!, (if needed) get the right file from:\n",
<<<<<<< HEAD
    "!wget -O data_000637.txt https://www.dropbox.com/s/xvjzaxzz3ysphme/data_000637.txt -P ../data/\n",
=======
    "!wget -O data_000637 https://www.dropbox.com/s/xvjzaxzz3ysphme/data_000637.txt -P ../data/\n",
>>>>>>> upstream/Attar_Aidin
    "\n",
    "file_name=\"../data/data_000637.txt\"\n",
    "data=pd.read_csv(file_name)\n",
    "data"
   ]
  },
  {
   "cell_type": "markdown",
   "metadata": {},
   "source": [
    "Let's now do some operations among (elements of) columns"
   ]
  },
  {
   "cell_type": "code",
<<<<<<< HEAD
   "execution_count": 111,
=======
   "execution_count": 53,
>>>>>>> upstream/Attar_Aidin
   "metadata": {},
   "outputs": [],
   "source": [
    "# the one-liner killing it all\n",
    "data['timens']=data['TDC_MEAS']*25/30+data['BX_COUNTER']*25"
   ]
  },
  {
   "cell_type": "code",
<<<<<<< HEAD
   "execution_count": 112,
   "metadata": {
    "scrolled": true
   },
=======
   "execution_count": 54,
   "metadata": {},
>>>>>>> upstream/Attar_Aidin
   "outputs": [
    {
     "data": {
      "text/plain": [
       "0          59371.666667\n",
       "1          59372.500000\n",
       "2          63848.333333\n",
       "3          63965.833333\n",
       "4          69020.833333\n",
<<<<<<< HEAD
       "5          69053.333333\n",
       "6          69311.666667\n",
       "7          69400.000000\n",
       "8          69367.500000\n",
       "9          69705.833333\n",
       "10         69628.333333\n",
       "11         69665.833333\n",
       "12         69815.000000\n",
       "13         69794.166667\n",
       "14         69727.500000\n",
       "15         69925.000000\n",
       "16         69686.666667\n",
       "17         69758.333333\n",
       "18         69878.333333\n",
       "19         69921.666667\n",
       "20         69736.666667\n",
       "21         69733.333333\n",
       "22         69769.166667\n",
       "23         69987.500000\n",
       "24         69890.833333\n",
       "25         69936.666667\n",
       "26         69986.666667\n",
       "27         77042.500000\n",
       "28         77025.833333\n",
       "29         77091.666667\n",
       "               ...     \n",
       "1310690    87929.166667\n",
       "1310691    87917.500000\n",
       "1310692    87905.833333\n",
       "1310693    88036.666667\n",
       "1310694    88112.500000\n",
       "1310695    88195.000000\n",
       "1310696    88151.666667\n",
       "1310697    88127.500000\n",
       "1310698      232.500000\n",
       "1310699      298.333333\n",
       "1310700      246.666667\n",
       "1310701      525.000000\n",
       "1310702      464.166667\n",
       "1310703      510.833333\n",
       "1310704      487.500000\n",
       "1310705     1093.333333\n",
       "1310706     1124.166667\n",
       "1310707     3449.166667\n",
       "1310708     4982.500000\n",
       "1310709    10431.666667\n",
       "1310710    10685.833333\n",
       "1310711    10750.000000\n",
       "1310712    10728.333333\n",
       "1310713    18965.000000\n",
       "1310714    19051.666667\n",
=======
       "               ...     \n",
>>>>>>> upstream/Attar_Aidin
       "1310715    19061.666667\n",
       "1310716    19084.166667\n",
       "1310717    19100.000000\n",
       "1310718    19225.000000\n",
       "1310719    19065.000000\n",
       "Name: timens, Length: 1310720, dtype: float64"
      ]
     },
<<<<<<< HEAD
     "execution_count": 112,
=======
     "execution_count": 54,
>>>>>>> upstream/Attar_Aidin
     "metadata": {},
     "output_type": "execute_result"
    }
   ],
   "source": [
    "data['timens']"
   ]
  },
  {
   "cell_type": "code",
<<<<<<< HEAD
   "execution_count": 113,
=======
   "execution_count": 55,
>>>>>>> upstream/Attar_Aidin
   "metadata": {},
   "outputs": [],
   "source": [
    "# the old slooow way\n",
    "def conversion(data):\n",
    "    result=[]\n",
    "    for i in range(len(data)): \n",
    "        result.append(data.loc[data.index[i],'TDC_MEAS']*25/30.+data.loc[data.index[i],'BX_COUNTER']*25)\n",
    "    return result\n",
    "\n",
    "data['timens']=conversion(data)"
   ]
  },
  {
   "cell_type": "markdown",
   "metadata": {},
   "source": [
    "## Merge\n",
    "\n",
    "pandas provides various facilities for easily combining together Series, DataFrame, and Panel objects with various kinds of set logic for the indexes and relational algebra functionality in the case of join / merge-type operations.\n",
    "\n",
    "### Concat\n",
    "\n",
    "concatenation (adding rows) is straightforward\n"
   ]
  },
  {
   "cell_type": "code",
<<<<<<< HEAD
   "execution_count": 114,
=======
   "execution_count": 56,
>>>>>>> upstream/Attar_Aidin
   "metadata": {},
   "outputs": [
    {
     "data": {
      "text/html": [
       "<div>\n",
       "<style scoped>\n",
       "    .dataframe tbody tr th:only-of-type {\n",
       "        vertical-align: middle;\n",
       "    }\n",
       "\n",
       "    .dataframe tbody tr th {\n",
       "        vertical-align: top;\n",
       "    }\n",
       "\n",
       "    .dataframe thead th {\n",
       "        text-align: right;\n",
       "    }\n",
       "</style>\n",
       "<table border=\"1\" class=\"dataframe\">\n",
       "  <thead>\n",
       "    <tr style=\"text-align: right;\">\n",
       "      <th></th>\n",
       "      <th>0</th>\n",
       "      <th>1</th>\n",
       "      <th>2</th>\n",
       "      <th>3</th>\n",
       "    </tr>\n",
       "  </thead>\n",
       "  <tbody>\n",
       "    <tr>\n",
       "      <th>0</th>\n",
<<<<<<< HEAD
       "      <td>0.263821</td>\n",
       "      <td>-0.468757</td>\n",
       "      <td>0.962498</td>\n",
       "      <td>0.162557</td>\n",
       "    </tr>\n",
       "    <tr>\n",
       "      <th>1</th>\n",
       "      <td>0.272772</td>\n",
       "      <td>0.514914</td>\n",
       "      <td>-0.139258</td>\n",
       "      <td>-0.121243</td>\n",
       "    </tr>\n",
       "    <tr>\n",
       "      <th>2</th>\n",
       "      <td>1.060741</td>\n",
       "      <td>-0.984563</td>\n",
       "      <td>0.984455</td>\n",
       "      <td>-0.465898</td>\n",
       "    </tr>\n",
       "    <tr>\n",
       "      <th>3</th>\n",
       "      <td>0.079148</td>\n",
       "      <td>-0.149969</td>\n",
       "      <td>0.647866</td>\n",
       "      <td>1.092287</td>\n",
       "    </tr>\n",
       "    <tr>\n",
       "      <th>4</th>\n",
       "      <td>0.209048</td>\n",
       "      <td>-0.269342</td>\n",
       "      <td>2.342098</td>\n",
       "      <td>1.925608</td>\n",
       "    </tr>\n",
       "    <tr>\n",
       "      <th>5</th>\n",
       "      <td>-1.135461</td>\n",
       "      <td>1.409055</td>\n",
       "      <td>1.054803</td>\n",
       "      <td>0.121410</td>\n",
       "    </tr>\n",
       "    <tr>\n",
       "      <th>6</th>\n",
       "      <td>-1.175973</td>\n",
       "      <td>0.005321</td>\n",
       "      <td>0.019801</td>\n",
       "      <td>-0.900795</td>\n",
       "    </tr>\n",
       "    <tr>\n",
       "      <th>7</th>\n",
       "      <td>0.426408</td>\n",
       "      <td>1.005417</td>\n",
       "      <td>0.440137</td>\n",
       "      <td>0.482045</td>\n",
       "    </tr>\n",
       "    <tr>\n",
       "      <th>8</th>\n",
       "      <td>0.192874</td>\n",
       "      <td>0.558377</td>\n",
       "      <td>1.045681</td>\n",
       "      <td>-0.114730</td>\n",
       "    </tr>\n",
       "    <tr>\n",
       "      <th>9</th>\n",
       "      <td>-1.369060</td>\n",
       "      <td>-1.254175</td>\n",
       "      <td>-0.405697</td>\n",
       "      <td>1.025546</td>\n",
=======
       "      <td>-1.345730</td>\n",
       "      <td>0.268793</td>\n",
       "      <td>0.594239</td>\n",
       "      <td>-0.804834</td>\n",
       "    </tr>\n",
       "    <tr>\n",
       "      <th>1</th>\n",
       "      <td>-0.340742</td>\n",
       "      <td>0.805053</td>\n",
       "      <td>-0.126656</td>\n",
       "      <td>0.903780</td>\n",
       "    </tr>\n",
       "    <tr>\n",
       "      <th>2</th>\n",
       "      <td>0.429040</td>\n",
       "      <td>0.688033</td>\n",
       "      <td>1.962774</td>\n",
       "      <td>2.531949</td>\n",
       "    </tr>\n",
       "    <tr>\n",
       "      <th>3</th>\n",
       "      <td>0.882486</td>\n",
       "      <td>0.244168</td>\n",
       "      <td>1.835459</td>\n",
       "      <td>-0.783870</td>\n",
       "    </tr>\n",
       "    <tr>\n",
       "      <th>4</th>\n",
       "      <td>0.229848</td>\n",
       "      <td>-0.830981</td>\n",
       "      <td>0.664160</td>\n",
       "      <td>-0.243984</td>\n",
       "    </tr>\n",
       "    <tr>\n",
       "      <th>5</th>\n",
       "      <td>0.218332</td>\n",
       "      <td>0.477782</td>\n",
       "      <td>-0.411237</td>\n",
       "      <td>-0.739213</td>\n",
       "    </tr>\n",
       "    <tr>\n",
       "      <th>6</th>\n",
       "      <td>0.204853</td>\n",
       "      <td>-0.722165</td>\n",
       "      <td>1.227503</td>\n",
       "      <td>-0.290115</td>\n",
       "    </tr>\n",
       "    <tr>\n",
       "      <th>7</th>\n",
       "      <td>0.074629</td>\n",
       "      <td>0.124110</td>\n",
       "      <td>-2.258097</td>\n",
       "      <td>1.235884</td>\n",
       "    </tr>\n",
       "    <tr>\n",
       "      <th>8</th>\n",
       "      <td>0.593596</td>\n",
       "      <td>0.195949</td>\n",
       "      <td>0.248771</td>\n",
       "      <td>-0.450632</td>\n",
       "    </tr>\n",
       "    <tr>\n",
       "      <th>9</th>\n",
       "      <td>0.891701</td>\n",
       "      <td>0.288881</td>\n",
       "      <td>0.639323</td>\n",
       "      <td>-0.527991</td>\n",
>>>>>>> upstream/Attar_Aidin
       "    </tr>\n",
       "  </tbody>\n",
       "</table>\n",
       "</div>"
      ],
      "text/plain": [
       "          0         1         2         3\n",
<<<<<<< HEAD
       "0  0.263821 -0.468757  0.962498  0.162557\n",
       "1  0.272772  0.514914 -0.139258 -0.121243\n",
       "2  1.060741 -0.984563  0.984455 -0.465898\n",
       "3  0.079148 -0.149969  0.647866  1.092287\n",
       "4  0.209048 -0.269342  2.342098  1.925608\n",
       "5 -1.135461  1.409055  1.054803  0.121410\n",
       "6 -1.175973  0.005321  0.019801 -0.900795\n",
       "7  0.426408  1.005417  0.440137  0.482045\n",
       "8  0.192874  0.558377  1.045681 -0.114730\n",
       "9 -1.369060 -1.254175 -0.405697  1.025546"
      ]
     },
     "execution_count": 114,
=======
       "0 -1.345730  0.268793  0.594239 -0.804834\n",
       "1 -0.340742  0.805053 -0.126656  0.903780\n",
       "2  0.429040  0.688033  1.962774  2.531949\n",
       "3  0.882486  0.244168  1.835459 -0.783870\n",
       "4  0.229848 -0.830981  0.664160 -0.243984\n",
       "5  0.218332  0.477782 -0.411237 -0.739213\n",
       "6  0.204853 -0.722165  1.227503 -0.290115\n",
       "7  0.074629  0.124110 -2.258097  1.235884\n",
       "8  0.593596  0.195949  0.248771 -0.450632\n",
       "9  0.891701  0.288881  0.639323 -0.527991"
      ]
     },
     "execution_count": 56,
>>>>>>> upstream/Attar_Aidin
     "metadata": {},
     "output_type": "execute_result"
    }
   ],
   "source": [
    "rdf = pd.DataFrame(np.random.randn(10, 4))\n",
    "rdf"
   ]
  },
  {
   "cell_type": "code",
<<<<<<< HEAD
   "execution_count": 115,
=======
   "execution_count": 57,
>>>>>>> upstream/Attar_Aidin
   "metadata": {},
   "outputs": [
    {
     "data": {
      "text/plain": [
       "[          0         1         2         3\n",
<<<<<<< HEAD
       " 0  0.263821 -0.468757  0.962498  0.162557\n",
       " 1  0.272772  0.514914 -0.139258 -0.121243\n",
       " 2  1.060741 -0.984563  0.984455 -0.465898,\n",
       "           0         1         2         3\n",
       " 3  0.079148 -0.149969  0.647866  1.092287\n",
       " 4  0.209048 -0.269342  2.342098  1.925608\n",
       " 5 -1.135461  1.409055  1.054803  0.121410\n",
       " 6 -1.175973  0.005321  0.019801 -0.900795,\n",
       "           0         1         2         3\n",
       " 7  0.426408  1.005417  0.440137  0.482045\n",
       " 8  0.192874  0.558377  1.045681 -0.114730\n",
       " 9 -1.369060 -1.254175 -0.405697  1.025546]"
      ]
     },
     "execution_count": 115,
=======
       " 0 -1.345730  0.268793  0.594239 -0.804834\n",
       " 1 -0.340742  0.805053 -0.126656  0.903780\n",
       " 2  0.429040  0.688033  1.962774  2.531949,\n",
       "           0         1         2         3\n",
       " 3  0.882486  0.244168  1.835459 -0.783870\n",
       " 4  0.229848 -0.830981  0.664160 -0.243984\n",
       " 5  0.218332  0.477782 -0.411237 -0.739213\n",
       " 6  0.204853 -0.722165  1.227503 -0.290115,\n",
       "           0         1         2         3\n",
       " 7  0.074629  0.124110 -2.258097  1.235884\n",
       " 8  0.593596  0.195949  0.248771 -0.450632\n",
       " 9  0.891701  0.288881  0.639323 -0.527991]"
      ]
     },
     "execution_count": 57,
>>>>>>> upstream/Attar_Aidin
     "metadata": {},
     "output_type": "execute_result"
    }
   ],
   "source": [
    "# divide it into pieaces raw-wise\n",
    "pieces = [rdf[:3], rdf[3:7], rdf[7:]]\n",
    "pieces"
   ]
  },
  {
   "cell_type": "code",
<<<<<<< HEAD
   "execution_count": 116,
=======
   "execution_count": 58,
>>>>>>> upstream/Attar_Aidin
   "metadata": {},
   "outputs": [
    {
     "data": {
      "text/html": [
       "<div>\n",
       "<style scoped>\n",
       "    .dataframe tbody tr th:only-of-type {\n",
       "        vertical-align: middle;\n",
       "    }\n",
       "\n",
       "    .dataframe tbody tr th {\n",
       "        vertical-align: top;\n",
       "    }\n",
       "\n",
       "    .dataframe thead th {\n",
       "        text-align: right;\n",
       "    }\n",
       "</style>\n",
       "<table border=\"1\" class=\"dataframe\">\n",
       "  <thead>\n",
       "    <tr style=\"text-align: right;\">\n",
       "      <th></th>\n",
       "      <th>0</th>\n",
       "      <th>1</th>\n",
       "      <th>2</th>\n",
       "      <th>3</th>\n",
       "    </tr>\n",
       "  </thead>\n",
       "  <tbody>\n",
       "    <tr>\n",
       "      <th>0</th>\n",
<<<<<<< HEAD
       "      <td>0.263821</td>\n",
       "      <td>-0.468757</td>\n",
       "      <td>0.962498</td>\n",
       "      <td>0.162557</td>\n",
       "    </tr>\n",
       "    <tr>\n",
       "      <th>1</th>\n",
       "      <td>0.272772</td>\n",
       "      <td>0.514914</td>\n",
       "      <td>-0.139258</td>\n",
       "      <td>-0.121243</td>\n",
       "    </tr>\n",
       "    <tr>\n",
       "      <th>2</th>\n",
       "      <td>1.060741</td>\n",
       "      <td>-0.984563</td>\n",
       "      <td>0.984455</td>\n",
       "      <td>-0.465898</td>\n",
       "    </tr>\n",
       "    <tr>\n",
       "      <th>3</th>\n",
       "      <td>0.079148</td>\n",
       "      <td>-0.149969</td>\n",
       "      <td>0.647866</td>\n",
       "      <td>1.092287</td>\n",
       "    </tr>\n",
       "    <tr>\n",
       "      <th>4</th>\n",
       "      <td>0.209048</td>\n",
       "      <td>-0.269342</td>\n",
       "      <td>2.342098</td>\n",
       "      <td>1.925608</td>\n",
       "    </tr>\n",
       "    <tr>\n",
       "      <th>5</th>\n",
       "      <td>-1.135461</td>\n",
       "      <td>1.409055</td>\n",
       "      <td>1.054803</td>\n",
       "      <td>0.121410</td>\n",
       "    </tr>\n",
       "    <tr>\n",
       "      <th>6</th>\n",
       "      <td>-1.175973</td>\n",
       "      <td>0.005321</td>\n",
       "      <td>0.019801</td>\n",
       "      <td>-0.900795</td>\n",
       "    </tr>\n",
       "    <tr>\n",
       "      <th>7</th>\n",
       "      <td>0.426408</td>\n",
       "      <td>1.005417</td>\n",
       "      <td>0.440137</td>\n",
       "      <td>0.482045</td>\n",
       "    </tr>\n",
       "    <tr>\n",
       "      <th>8</th>\n",
       "      <td>0.192874</td>\n",
       "      <td>0.558377</td>\n",
       "      <td>1.045681</td>\n",
       "      <td>-0.114730</td>\n",
       "    </tr>\n",
       "    <tr>\n",
       "      <th>9</th>\n",
       "      <td>-1.369060</td>\n",
       "      <td>-1.254175</td>\n",
       "      <td>-0.405697</td>\n",
       "      <td>1.025546</td>\n",
=======
       "      <td>-1.345730</td>\n",
       "      <td>0.268793</td>\n",
       "      <td>0.594239</td>\n",
       "      <td>-0.804834</td>\n",
       "    </tr>\n",
       "    <tr>\n",
       "      <th>1</th>\n",
       "      <td>-0.340742</td>\n",
       "      <td>0.805053</td>\n",
       "      <td>-0.126656</td>\n",
       "      <td>0.903780</td>\n",
       "    </tr>\n",
       "    <tr>\n",
       "      <th>2</th>\n",
       "      <td>0.429040</td>\n",
       "      <td>0.688033</td>\n",
       "      <td>1.962774</td>\n",
       "      <td>2.531949</td>\n",
       "    </tr>\n",
       "    <tr>\n",
       "      <th>3</th>\n",
       "      <td>0.882486</td>\n",
       "      <td>0.244168</td>\n",
       "      <td>1.835459</td>\n",
       "      <td>-0.783870</td>\n",
       "    </tr>\n",
       "    <tr>\n",
       "      <th>4</th>\n",
       "      <td>0.229848</td>\n",
       "      <td>-0.830981</td>\n",
       "      <td>0.664160</td>\n",
       "      <td>-0.243984</td>\n",
       "    </tr>\n",
       "    <tr>\n",
       "      <th>5</th>\n",
       "      <td>0.218332</td>\n",
       "      <td>0.477782</td>\n",
       "      <td>-0.411237</td>\n",
       "      <td>-0.739213</td>\n",
       "    </tr>\n",
       "    <tr>\n",
       "      <th>6</th>\n",
       "      <td>0.204853</td>\n",
       "      <td>-0.722165</td>\n",
       "      <td>1.227503</td>\n",
       "      <td>-0.290115</td>\n",
       "    </tr>\n",
       "    <tr>\n",
       "      <th>7</th>\n",
       "      <td>0.074629</td>\n",
       "      <td>0.124110</td>\n",
       "      <td>-2.258097</td>\n",
       "      <td>1.235884</td>\n",
       "    </tr>\n",
       "    <tr>\n",
       "      <th>8</th>\n",
       "      <td>0.593596</td>\n",
       "      <td>0.195949</td>\n",
       "      <td>0.248771</td>\n",
       "      <td>-0.450632</td>\n",
       "    </tr>\n",
       "    <tr>\n",
       "      <th>9</th>\n",
       "      <td>0.891701</td>\n",
       "      <td>0.288881</td>\n",
       "      <td>0.639323</td>\n",
       "      <td>-0.527991</td>\n",
>>>>>>> upstream/Attar_Aidin
       "    </tr>\n",
       "  </tbody>\n",
       "</table>\n",
       "</div>"
      ],
      "text/plain": [
       "          0         1         2         3\n",
<<<<<<< HEAD
       "0  0.263821 -0.468757  0.962498  0.162557\n",
       "1  0.272772  0.514914 -0.139258 -0.121243\n",
       "2  1.060741 -0.984563  0.984455 -0.465898\n",
       "3  0.079148 -0.149969  0.647866  1.092287\n",
       "4  0.209048 -0.269342  2.342098  1.925608\n",
       "5 -1.135461  1.409055  1.054803  0.121410\n",
       "6 -1.175973  0.005321  0.019801 -0.900795\n",
       "7  0.426408  1.005417  0.440137  0.482045\n",
       "8  0.192874  0.558377  1.045681 -0.114730\n",
       "9 -1.369060 -1.254175 -0.405697  1.025546"
      ]
     },
     "execution_count": 116,
=======
       "0 -1.345730  0.268793  0.594239 -0.804834\n",
       "1 -0.340742  0.805053 -0.126656  0.903780\n",
       "2  0.429040  0.688033  1.962774  2.531949\n",
       "3  0.882486  0.244168  1.835459 -0.783870\n",
       "4  0.229848 -0.830981  0.664160 -0.243984\n",
       "5  0.218332  0.477782 -0.411237 -0.739213\n",
       "6  0.204853 -0.722165  1.227503 -0.290115\n",
       "7  0.074629  0.124110 -2.258097  1.235884\n",
       "8  0.593596  0.195949  0.248771 -0.450632\n",
       "9  0.891701  0.288881  0.639323 -0.527991"
      ]
     },
     "execution_count": 58,
>>>>>>> upstream/Attar_Aidin
     "metadata": {},
     "output_type": "execute_result"
    }
   ],
   "source": [
    "# put it back together\n",
    "#pd.concat(pieces)\n",
    "\n",
    "# indexes can be ignored\n",
    "pd.concat(pieces, ignore_index=True)\n",
    "\n",
    "# in case of dimension mismatch, Nan are added where needed"
   ]
  },
  {
   "cell_type": "code",
<<<<<<< HEAD
   "execution_count": 117,
=======
   "execution_count": 59,
>>>>>>> upstream/Attar_Aidin
   "metadata": {},
   "outputs": [
    {
     "data": {
      "text/html": [
       "<div>\n",
       "<style scoped>\n",
       "    .dataframe tbody tr th:only-of-type {\n",
       "        vertical-align: middle;\n",
       "    }\n",
       "\n",
       "    .dataframe tbody tr th {\n",
       "        vertical-align: top;\n",
       "    }\n",
       "\n",
       "    .dataframe thead th {\n",
       "        text-align: right;\n",
       "    }\n",
       "</style>\n",
       "<table border=\"1\" class=\"dataframe\">\n",
       "  <thead>\n",
       "    <tr style=\"text-align: right;\">\n",
       "      <th></th>\n",
       "      <th>0</th>\n",
       "      <th>1</th>\n",
       "      <th>2</th>\n",
       "      <th>3</th>\n",
       "    </tr>\n",
       "  </thead>\n",
       "  <tbody>\n",
       "    <tr>\n",
       "      <th>0</th>\n",
<<<<<<< HEAD
       "      <td>0.263821</td>\n",
       "      <td>-0.468757</td>\n",
       "      <td>0.962498</td>\n",
       "      <td>0.162557</td>\n",
       "    </tr>\n",
       "    <tr>\n",
       "      <th>1</th>\n",
       "      <td>0.272772</td>\n",
       "      <td>0.514914</td>\n",
       "      <td>-0.139258</td>\n",
       "      <td>-0.121243</td>\n",
       "    </tr>\n",
       "    <tr>\n",
       "      <th>2</th>\n",
       "      <td>1.060741</td>\n",
       "      <td>-0.984563</td>\n",
       "      <td>0.984455</td>\n",
       "      <td>-0.465898</td>\n",
       "    </tr>\n",
       "    <tr>\n",
       "      <th>3</th>\n",
       "      <td>0.079148</td>\n",
       "      <td>-0.149969</td>\n",
       "      <td>0.647866</td>\n",
       "      <td>1.092287</td>\n",
       "    </tr>\n",
       "    <tr>\n",
       "      <th>4</th>\n",
       "      <td>0.209048</td>\n",
       "      <td>-0.269342</td>\n",
       "      <td>2.342098</td>\n",
       "      <td>1.925608</td>\n",
       "    </tr>\n",
       "    <tr>\n",
       "      <th>5</th>\n",
       "      <td>-1.135461</td>\n",
       "      <td>1.409055</td>\n",
       "      <td>1.054803</td>\n",
       "      <td>0.121410</td>\n",
       "    </tr>\n",
       "    <tr>\n",
       "      <th>6</th>\n",
       "      <td>-1.175973</td>\n",
       "      <td>0.005321</td>\n",
       "      <td>0.019801</td>\n",
       "      <td>-0.900795</td>\n",
       "    </tr>\n",
       "    <tr>\n",
       "      <th>7</th>\n",
       "      <td>0.426408</td>\n",
       "      <td>1.005417</td>\n",
       "      <td>0.440137</td>\n",
       "      <td>0.482045</td>\n",
       "    </tr>\n",
       "    <tr>\n",
       "      <th>8</th>\n",
       "      <td>0.192874</td>\n",
       "      <td>0.558377</td>\n",
       "      <td>1.045681</td>\n",
       "      <td>-0.114730</td>\n",
       "    </tr>\n",
       "    <tr>\n",
       "      <th>9</th>\n",
       "      <td>-1.369060</td>\n",
       "      <td>-1.254175</td>\n",
       "      <td>-0.405697</td>\n",
       "      <td>1.025546</td>\n",
=======
       "      <td>-1.345730</td>\n",
       "      <td>0.268793</td>\n",
       "      <td>0.594239</td>\n",
       "      <td>-0.804834</td>\n",
       "    </tr>\n",
       "    <tr>\n",
       "      <th>1</th>\n",
       "      <td>-0.340742</td>\n",
       "      <td>0.805053</td>\n",
       "      <td>-0.126656</td>\n",
       "      <td>0.903780</td>\n",
       "    </tr>\n",
       "    <tr>\n",
       "      <th>2</th>\n",
       "      <td>0.429040</td>\n",
       "      <td>0.688033</td>\n",
       "      <td>1.962774</td>\n",
       "      <td>2.531949</td>\n",
       "    </tr>\n",
       "    <tr>\n",
       "      <th>3</th>\n",
       "      <td>0.882486</td>\n",
       "      <td>0.244168</td>\n",
       "      <td>1.835459</td>\n",
       "      <td>-0.783870</td>\n",
       "    </tr>\n",
       "    <tr>\n",
       "      <th>4</th>\n",
       "      <td>0.229848</td>\n",
       "      <td>-0.830981</td>\n",
       "      <td>0.664160</td>\n",
       "      <td>-0.243984</td>\n",
       "    </tr>\n",
       "    <tr>\n",
       "      <th>5</th>\n",
       "      <td>0.218332</td>\n",
       "      <td>0.477782</td>\n",
       "      <td>-0.411237</td>\n",
       "      <td>-0.739213</td>\n",
       "    </tr>\n",
       "    <tr>\n",
       "      <th>6</th>\n",
       "      <td>0.204853</td>\n",
       "      <td>-0.722165</td>\n",
       "      <td>1.227503</td>\n",
       "      <td>-0.290115</td>\n",
       "    </tr>\n",
       "    <tr>\n",
       "      <th>7</th>\n",
       "      <td>0.074629</td>\n",
       "      <td>0.124110</td>\n",
       "      <td>-2.258097</td>\n",
       "      <td>1.235884</td>\n",
       "    </tr>\n",
       "    <tr>\n",
       "      <th>8</th>\n",
       "      <td>0.593596</td>\n",
       "      <td>0.195949</td>\n",
       "      <td>0.248771</td>\n",
       "      <td>-0.450632</td>\n",
       "    </tr>\n",
       "    <tr>\n",
       "      <th>9</th>\n",
       "      <td>0.891701</td>\n",
       "      <td>0.288881</td>\n",
       "      <td>0.639323</td>\n",
       "      <td>-0.527991</td>\n",
>>>>>>> upstream/Attar_Aidin
       "    </tr>\n",
       "  </tbody>\n",
       "</table>\n",
       "</div>"
      ],
      "text/plain": [
       "          0         1         2         3\n",
<<<<<<< HEAD
       "0  0.263821 -0.468757  0.962498  0.162557\n",
       "1  0.272772  0.514914 -0.139258 -0.121243\n",
       "2  1.060741 -0.984563  0.984455 -0.465898\n",
       "3  0.079148 -0.149969  0.647866  1.092287\n",
       "4  0.209048 -0.269342  2.342098  1.925608\n",
       "5 -1.135461  1.409055  1.054803  0.121410\n",
       "6 -1.175973  0.005321  0.019801 -0.900795\n",
       "7  0.426408  1.005417  0.440137  0.482045\n",
       "8  0.192874  0.558377  1.045681 -0.114730\n",
       "9 -1.369060 -1.254175 -0.405697  1.025546"
      ]
     },
     "execution_count": 117,
=======
       "0 -1.345730  0.268793  0.594239 -0.804834\n",
       "1 -0.340742  0.805053 -0.126656  0.903780\n",
       "2  0.429040  0.688033  1.962774  2.531949\n",
       "3  0.882486  0.244168  1.835459 -0.783870\n",
       "4  0.229848 -0.830981  0.664160 -0.243984\n",
       "5  0.218332  0.477782 -0.411237 -0.739213\n",
       "6  0.204853 -0.722165  1.227503 -0.290115\n",
       "7  0.074629  0.124110 -2.258097  1.235884\n",
       "8  0.593596  0.195949  0.248771 -0.450632\n",
       "9  0.891701  0.288881  0.639323 -0.527991"
      ]
     },
     "execution_count": 59,
>>>>>>> upstream/Attar_Aidin
     "metadata": {},
     "output_type": "execute_result"
    }
   ],
   "source": [
    "# appending a single row (as a Series)\n",
    "s = rdf.iloc[3]\n",
    "rdf.append(s, ignore_index=True)\n",
    "rdf"
   ]
  },
  {
   "cell_type": "markdown",
   "metadata": {},
   "source": [
    "### Merge/Join\n",
    "\n",
    "SQL like operations on table can be performed on DataFrames. This is all rather sophisticated, refer to the [doc](https://pandas.pydata.org/pandas-docs/stable/merging.html#merging) for more info/examples"
   ]
  },
  {
   "cell_type": "code",
<<<<<<< HEAD
   "execution_count": 118,
=======
   "execution_count": 60,
>>>>>>> upstream/Attar_Aidin
   "metadata": {},
   "outputs": [
    {
     "name": "stdout",
     "output_type": "stream",
     "text": [
      "   key  lval\n",
      "0  foo     1\n",
      "1  bar     2\n",
      "   key  rval\n",
      "0  foo     4\n",
      "1  bar     5\n"
     ]
    },
    {
     "data": {
      "text/html": [
       "<div>\n",
       "<style scoped>\n",
       "    .dataframe tbody tr th:only-of-type {\n",
       "        vertical-align: middle;\n",
       "    }\n",
       "\n",
       "    .dataframe tbody tr th {\n",
       "        vertical-align: top;\n",
       "    }\n",
       "\n",
       "    .dataframe thead th {\n",
       "        text-align: right;\n",
       "    }\n",
       "</style>\n",
       "<table border=\"1\" class=\"dataframe\">\n",
       "  <thead>\n",
       "    <tr style=\"text-align: right;\">\n",
       "      <th></th>\n",
       "      <th>key</th>\n",
       "      <th>lval</th>\n",
       "      <th>rval</th>\n",
       "    </tr>\n",
       "  </thead>\n",
       "  <tbody>\n",
       "    <tr>\n",
       "      <th>0</th>\n",
       "      <td>foo</td>\n",
       "      <td>1</td>\n",
       "      <td>4</td>\n",
       "    </tr>\n",
       "    <tr>\n",
       "      <th>1</th>\n",
       "      <td>bar</td>\n",
       "      <td>2</td>\n",
       "      <td>5</td>\n",
       "    </tr>\n",
       "  </tbody>\n",
       "</table>\n",
       "</div>"
      ],
      "text/plain": [
       "   key  lval  rval\n",
       "0  foo     1     4\n",
       "1  bar     2     5"
      ]
     },
<<<<<<< HEAD
     "execution_count": 118,
=======
     "execution_count": 60,
>>>>>>> upstream/Attar_Aidin
     "metadata": {},
     "output_type": "execute_result"
    }
   ],
   "source": [
    "left = pd.DataFrame({'key': ['foo', 'bar'], 'lval': [1, 2]})\n",
    "print(left)\n",
    "right = pd.DataFrame({'key': ['foo', 'bar'], 'rval': [4, 5]})\n",
    "print(right)\n",
    "pd.merge(left,right,on=\"key\")"
   ]
  },
  {
   "cell_type": "markdown",
   "metadata": {},
   "source": [
    "## Grouping\n",
    "\n",
    "By “group by” we are referring to a process involving one or more of the following steps:\n",
    "\n",
    "* Splitting the data into groups based on some criteria\n",
    "* Applying a function to each group independently\n",
    "* Combining the results into a data structure\n"
   ]
  },
  {
   "cell_type": "code",
<<<<<<< HEAD
   "execution_count": 119,
=======
   "execution_count": 61,
>>>>>>> upstream/Attar_Aidin
   "metadata": {},
   "outputs": [
    {
     "data": {
      "text/html": [
       "<div>\n",
       "<style scoped>\n",
       "    .dataframe tbody tr th:only-of-type {\n",
       "        vertical-align: middle;\n",
       "    }\n",
       "\n",
       "    .dataframe tbody tr th {\n",
       "        vertical-align: top;\n",
       "    }\n",
       "\n",
       "    .dataframe thead th {\n",
       "        text-align: right;\n",
       "    }\n",
       "</style>\n",
       "<table border=\"1\" class=\"dataframe\">\n",
       "  <thead>\n",
       "    <tr style=\"text-align: right;\">\n",
       "      <th></th>\n",
       "      <th>A</th>\n",
       "      <th>B</th>\n",
       "      <th>C</th>\n",
       "      <th>D</th>\n",
       "    </tr>\n",
       "  </thead>\n",
       "  <tbody>\n",
       "    <tr>\n",
       "      <th>0</th>\n",
       "      <td>foo</td>\n",
       "      <td>one</td>\n",
<<<<<<< HEAD
       "      <td>0.086434</td>\n",
       "      <td>-0.289778</td>\n",
=======
       "      <td>1.054397</td>\n",
       "      <td>0.638133</td>\n",
>>>>>>> upstream/Attar_Aidin
       "    </tr>\n",
       "    <tr>\n",
       "      <th>1</th>\n",
       "      <td>bar</td>\n",
       "      <td>one</td>\n",
<<<<<<< HEAD
       "      <td>1.203427</td>\n",
       "      <td>-0.817654</td>\n",
=======
       "      <td>1.498719</td>\n",
       "      <td>-0.489717</td>\n",
>>>>>>> upstream/Attar_Aidin
       "    </tr>\n",
       "    <tr>\n",
       "      <th>2</th>\n",
       "      <td>foo</td>\n",
       "      <td>two</td>\n",
<<<<<<< HEAD
       "      <td>-1.707964</td>\n",
       "      <td>-1.685175</td>\n",
=======
       "      <td>-1.531167</td>\n",
       "      <td>-0.096963</td>\n",
>>>>>>> upstream/Attar_Aidin
       "    </tr>\n",
       "    <tr>\n",
       "      <th>3</th>\n",
       "      <td>bar</td>\n",
       "      <td>three</td>\n",
<<<<<<< HEAD
       "      <td>-1.174782</td>\n",
       "      <td>0.243674</td>\n",
=======
       "      <td>-2.108453</td>\n",
       "      <td>-0.141963</td>\n",
>>>>>>> upstream/Attar_Aidin
       "    </tr>\n",
       "    <tr>\n",
       "      <th>4</th>\n",
       "      <td>foo</td>\n",
       "      <td>two</td>\n",
<<<<<<< HEAD
       "      <td>-0.445316</td>\n",
       "      <td>-0.335333</td>\n",
=======
       "      <td>-0.834559</td>\n",
       "      <td>-0.632537</td>\n",
>>>>>>> upstream/Attar_Aidin
       "    </tr>\n",
       "    <tr>\n",
       "      <th>5</th>\n",
       "      <td>bar</td>\n",
       "      <td>two</td>\n",
<<<<<<< HEAD
       "      <td>0.745953</td>\n",
       "      <td>0.488117</td>\n",
=======
       "      <td>-0.733942</td>\n",
       "      <td>1.162110</td>\n",
>>>>>>> upstream/Attar_Aidin
       "    </tr>\n",
       "    <tr>\n",
       "      <th>6</th>\n",
       "      <td>foo</td>\n",
       "      <td>one</td>\n",
<<<<<<< HEAD
       "      <td>-0.879966</td>\n",
       "      <td>-0.695947</td>\n",
=======
       "      <td>0.235223</td>\n",
       "      <td>-1.317697</td>\n",
>>>>>>> upstream/Attar_Aidin
       "    </tr>\n",
       "    <tr>\n",
       "      <th>7</th>\n",
       "      <td>foo</td>\n",
       "      <td>three</td>\n",
<<<<<<< HEAD
       "      <td>0.367768</td>\n",
       "      <td>1.247469</td>\n",
=======
       "      <td>2.626053</td>\n",
       "      <td>-0.249658</td>\n",
>>>>>>> upstream/Attar_Aidin
       "    </tr>\n",
       "  </tbody>\n",
       "</table>\n",
       "</div>"
      ],
      "text/plain": [
       "     A      B         C         D\n",
<<<<<<< HEAD
       "0  foo    one  0.086434 -0.289778\n",
       "1  bar    one  1.203427 -0.817654\n",
       "2  foo    two -1.707964 -1.685175\n",
       "3  bar  three -1.174782  0.243674\n",
       "4  foo    two -0.445316 -0.335333\n",
       "5  bar    two  0.745953  0.488117\n",
       "6  foo    one -0.879966 -0.695947\n",
       "7  foo  three  0.367768  1.247469"
      ]
     },
     "execution_count": 119,
=======
       "0  foo    one  1.054397  0.638133\n",
       "1  bar    one  1.498719 -0.489717\n",
       "2  foo    two -1.531167 -0.096963\n",
       "3  bar  three -2.108453 -0.141963\n",
       "4  foo    two -0.834559 -0.632537\n",
       "5  bar    two -0.733942  1.162110\n",
       "6  foo    one  0.235223 -1.317697\n",
       "7  foo  three  2.626053 -0.249658"
      ]
     },
     "execution_count": 61,
>>>>>>> upstream/Attar_Aidin
     "metadata": {},
     "output_type": "execute_result"
    }
   ],
   "source": [
    "gdf = pd.DataFrame({'A' : ['foo', 'bar', 'foo', 'bar',\n",
    "                          'foo', 'bar', 'foo', 'foo'],\n",
    "                    'B' : ['one', 'one', 'two', 'three',\n",
    "                           'two', 'two', 'one', 'three'],\n",
    "                    'C' : np.random.randn(8),\n",
    "                    'D' : np.random.randn(8)})\n",
    "gdf"
   ]
  },
  {
   "cell_type": "code",
<<<<<<< HEAD
   "execution_count": 120,
   "metadata": {
    "scrolled": false
   },
=======
   "execution_count": 62,
   "metadata": {},
>>>>>>> upstream/Attar_Aidin
   "outputs": [
    {
     "data": {
      "text/html": [
       "<div>\n",
       "<style scoped>\n",
       "    .dataframe tbody tr th:only-of-type {\n",
       "        vertical-align: middle;\n",
       "    }\n",
       "\n",
       "    .dataframe tbody tr th {\n",
       "        vertical-align: top;\n",
       "    }\n",
       "\n",
       "    .dataframe thead th {\n",
       "        text-align: right;\n",
       "    }\n",
       "</style>\n",
       "<table border=\"1\" class=\"dataframe\">\n",
       "  <thead>\n",
       "    <tr style=\"text-align: right;\">\n",
       "      <th></th>\n",
       "      <th>C</th>\n",
       "      <th>D</th>\n",
       "    </tr>\n",
       "    <tr>\n",
       "      <th>A</th>\n",
       "      <th></th>\n",
       "      <th></th>\n",
       "    </tr>\n",
       "  </thead>\n",
       "  <tbody>\n",
       "    <tr>\n",
       "      <th>bar</th>\n",
<<<<<<< HEAD
       "      <td>0.774598</td>\n",
       "      <td>-0.085862</td>\n",
       "    </tr>\n",
       "    <tr>\n",
       "      <th>foo</th>\n",
       "      <td>-2.579043</td>\n",
       "      <td>-1.758764</td>\n",
=======
       "      <td>-1.343676</td>\n",
       "      <td>0.530431</td>\n",
       "    </tr>\n",
       "    <tr>\n",
       "      <th>foo</th>\n",
       "      <td>1.549947</td>\n",
       "      <td>-1.658721</td>\n",
>>>>>>> upstream/Attar_Aidin
       "    </tr>\n",
       "  </tbody>\n",
       "</table>\n",
       "</div>"
      ],
      "text/plain": [
       "            C         D\n",
       "A                      \n",
<<<<<<< HEAD
       "bar  0.774598 -0.085862\n",
       "foo -2.579043 -1.758764"
      ]
     },
     "execution_count": 120,
=======
       "bar -1.343676  0.530431\n",
       "foo  1.549947 -1.658721"
      ]
     },
     "execution_count": 62,
>>>>>>> upstream/Attar_Aidin
     "metadata": {},
     "output_type": "execute_result"
    }
   ],
   "source": [
    "# Grouping and then applying the sum() \n",
    "# function to the resulting groups (effective only where number are there).\n",
    "gdf.groupby('A').sum()"
   ]
  },
  {
   "cell_type": "markdown",
   "metadata": {},
   "source": [
    "## Multi-indexing\n",
    "\n",
    "\n",
    "Hierarchical / Multi-level indexing allows sophisticated data analysis on higher dimensional data. In essence, it enables you to store and manipulate data with an arbitrary number of dimensions in lower dimensional data structures like Series (1d) and DataFrame (2d)."
   ]
  },
  {
   "cell_type": "code",
<<<<<<< HEAD
   "execution_count": 121,
=======
   "execution_count": 63,
>>>>>>> upstream/Attar_Aidin
   "metadata": {},
   "outputs": [
    {
     "name": "stdout",
     "output_type": "stream",
     "text": [
<<<<<<< HEAD
      "MultiIndex(levels=[['bar', 'baz', 'foo', 'qux'], ['one', 'two']],\n",
      "           labels=[[0, 0, 1, 1, 2, 2, 3, 3], [0, 1, 0, 1, 0, 1, 0, 1]],\n",
      "           names=['first', 'second']) \n",
      "\n",
      "first  second\n",
      "bar    one      -0.351866\n",
      "       two      -0.558991\n",
      "baz    one       0.214185\n",
      "       two      -1.111606\n",
      "foo    one       0.299244\n",
      "       two       0.441497\n",
      "qux    one      -0.572296\n",
      "       two      -0.923188\n",
=======
      "MultiIndex([('bar', 'one'),\n",
      "            ('bar', 'two'),\n",
      "            ('baz', 'one'),\n",
      "            ('baz', 'two'),\n",
      "            ('foo', 'one'),\n",
      "            ('foo', 'two'),\n",
      "            ('qux', 'one'),\n",
      "            ('qux', 'two')],\n",
      "           names=['first', 'second']) \n",
      "\n",
      "first  second\n",
      "bar    one       0.187672\n",
      "       two       1.044432\n",
      "baz    one       0.313609\n",
      "       two       0.347875\n",
      "foo    one       1.186574\n",
      "       two       0.535544\n",
      "qux    one       0.514099\n",
      "       two       0.971161\n",
>>>>>>> upstream/Attar_Aidin
      "dtype: float64\n"
     ]
    }
   ],
   "source": [
    "tuples = list(zip(['bar', 'bar', 'baz', 'baz', 'foo', 'foo', 'qux', 'qux'],\n",
    "          ['one', 'two', 'one', 'two', 'one', 'two', 'one', 'two']))\n",
    "multi_index = pd.MultiIndex.from_tuples(tuples, names=['first', 'second'])\n",
    "print (multi_index,'\\n')\n",
    "\n",
    "s = pd.Series(np.random.randn(8), index=multi_index)\n",
    "print (s)\n"
   ]
  },
  {
   "cell_type": "code",
<<<<<<< HEAD
   "execution_count": 122,
=======
   "execution_count": 64,
>>>>>>> upstream/Attar_Aidin
   "metadata": {},
   "outputs": [
    {
     "data": {
      "text/html": [
       "<div>\n",
       "<style scoped>\n",
       "    .dataframe tbody tr th:only-of-type {\n",
       "        vertical-align: middle;\n",
       "    }\n",
       "\n",
       "    .dataframe tbody tr th {\n",
       "        vertical-align: top;\n",
       "    }\n",
       "\n",
       "    .dataframe thead th {\n",
       "        text-align: right;\n",
       "    }\n",
       "</style>\n",
       "<table border=\"1\" class=\"dataframe\">\n",
       "  <thead>\n",
       "    <tr style=\"text-align: right;\">\n",
       "      <th></th>\n",
       "      <th></th>\n",
       "      <th>C</th>\n",
       "      <th>D</th>\n",
       "    </tr>\n",
       "    <tr>\n",
       "      <th>A</th>\n",
       "      <th>B</th>\n",
       "      <th></th>\n",
       "      <th></th>\n",
       "    </tr>\n",
       "  </thead>\n",
       "  <tbody>\n",
       "    <tr>\n",
       "      <th rowspan=\"3\" valign=\"top\">bar</th>\n",
       "      <th>one</th>\n",
<<<<<<< HEAD
       "      <td>1.203427</td>\n",
       "      <td>-0.817654</td>\n",
       "    </tr>\n",
       "    <tr>\n",
       "      <th>three</th>\n",
       "      <td>-1.174782</td>\n",
       "      <td>0.243674</td>\n",
       "    </tr>\n",
       "    <tr>\n",
       "      <th>two</th>\n",
       "      <td>0.745953</td>\n",
       "      <td>0.488117</td>\n",
=======
       "      <td>1.498719</td>\n",
       "      <td>-0.489717</td>\n",
       "    </tr>\n",
       "    <tr>\n",
       "      <th>three</th>\n",
       "      <td>-2.108453</td>\n",
       "      <td>-0.141963</td>\n",
       "    </tr>\n",
       "    <tr>\n",
       "      <th>two</th>\n",
       "      <td>-0.733942</td>\n",
       "      <td>1.162110</td>\n",
>>>>>>> upstream/Attar_Aidin
       "    </tr>\n",
       "    <tr>\n",
       "      <th rowspan=\"3\" valign=\"top\">foo</th>\n",
       "      <th>one</th>\n",
<<<<<<< HEAD
       "      <td>-0.793531</td>\n",
       "      <td>-0.985725</td>\n",
       "    </tr>\n",
       "    <tr>\n",
       "      <th>three</th>\n",
       "      <td>0.367768</td>\n",
       "      <td>1.247469</td>\n",
       "    </tr>\n",
       "    <tr>\n",
       "      <th>two</th>\n",
       "      <td>-2.153280</td>\n",
       "      <td>-2.020508</td>\n",
=======
       "      <td>1.289620</td>\n",
       "      <td>-0.679563</td>\n",
       "    </tr>\n",
       "    <tr>\n",
       "      <th>three</th>\n",
       "      <td>2.626053</td>\n",
       "      <td>-0.249658</td>\n",
       "    </tr>\n",
       "    <tr>\n",
       "      <th>two</th>\n",
       "      <td>-2.365726</td>\n",
       "      <td>-0.729500</td>\n",
>>>>>>> upstream/Attar_Aidin
       "    </tr>\n",
       "  </tbody>\n",
       "</table>\n",
       "</div>"
      ],
      "text/plain": [
       "                  C         D\n",
       "A   B                        \n",
<<<<<<< HEAD
       "bar one    1.203427 -0.817654\n",
       "    three -1.174782  0.243674\n",
       "    two    0.745953  0.488117\n",
       "foo one   -0.793531 -0.985725\n",
       "    three  0.367768  1.247469\n",
       "    two   -2.153280 -2.020508"
      ]
     },
     "execution_count": 122,
=======
       "bar one    1.498719 -0.489717\n",
       "    three -2.108453 -0.141963\n",
       "    two   -0.733942  1.162110\n",
       "foo one    1.289620 -0.679563\n",
       "    three  2.626053 -0.249658\n",
       "    two   -2.365726 -0.729500"
      ]
     },
     "execution_count": 64,
>>>>>>> upstream/Attar_Aidin
     "metadata": {},
     "output_type": "execute_result"
    }
   ],
   "source": [
    "# it enables further features of the groupby method,\n",
    "# e.g. when group-by by multiple columns\n",
    "gdf.groupby(['A','B']).sum()"
   ]
  },
  {
   "cell_type": "code",
<<<<<<< HEAD
   "execution_count": 123,
=======
   "execution_count": 65,
>>>>>>> upstream/Attar_Aidin
   "metadata": {},
   "outputs": [
    {
     "data": {
      "text/plain": [
       "A    B       \n",
<<<<<<< HEAD
       "bar  one    C    1.203427\n",
       "            D   -0.817654\n",
       "     three  C   -1.174782\n",
       "            D    0.243674\n",
       "     two    C    0.745953\n",
       "            D    0.488117\n",
       "foo  one    C   -0.793531\n",
       "            D   -0.985725\n",
       "     three  C    0.367768\n",
       "            D    1.247469\n",
       "     two    C   -2.153280\n",
       "            D   -2.020508\n",
       "dtype: float64"
      ]
     },
     "execution_count": 123,
=======
       "bar  one    C    1.498719\n",
       "            D   -0.489717\n",
       "     three  C   -2.108453\n",
       "            D   -0.141963\n",
       "     two    C   -0.733942\n",
       "            D    1.162110\n",
       "foo  one    C    1.289620\n",
       "            D   -0.679563\n",
       "     three  C    2.626053\n",
       "            D   -0.249658\n",
       "     two    C   -2.365726\n",
       "            D   -0.729500\n",
       "dtype: float64"
      ]
     },
     "execution_count": 65,
>>>>>>> upstream/Attar_Aidin
     "metadata": {},
     "output_type": "execute_result"
    }
   ],
   "source": [
    "# stack() method “compresses” a level in the DataFrame’s columns\n",
    "gdf.groupby(['A','B']).sum().stack()"
   ]
  },
  {
   "cell_type": "markdown",
   "metadata": {},
   "source": [
    "## Plotting\n",
    "\n",
    "Just a preview, more on the next lab class!"
   ]
  },
  {
   "cell_type": "code",
<<<<<<< HEAD
   "execution_count": 128,
=======
   "execution_count": 66,
>>>>>>> upstream/Attar_Aidin
   "metadata": {},
   "outputs": [
    {
     "data": {
      "text/plain": [
<<<<<<< HEAD
       "<matplotlib.axes._subplots.AxesSubplot at 0x7f540fdf36a0>"
      ]
     },
     "execution_count": 128,
=======
       "<AxesSubplot:>"
      ]
     },
     "execution_count": 66,
>>>>>>> upstream/Attar_Aidin
     "metadata": {},
     "output_type": "execute_result"
    },
    {
     "data": {
<<<<<<< HEAD
      "image/png": "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\n",
=======
      "image/png": "iVBORw0KGgoAAAANSUhEUgAAAXkAAAEECAYAAADNv0QiAAAAOXRFWHRTb2Z0d2FyZQBNYXRwbG90bGliIHZlcnNpb24zLjQuMywgaHR0cHM6Ly9tYXRwbG90bGliLm9yZy/MnkTPAAAACXBIWXMAAAsTAAALEwEAmpwYAABA90lEQVR4nO2deXhU5dn/v8/syWRfSAIBArLLTgTZFEGqgBat1Wr7VmyrvmqrdvnVqlVfu6CotdbtfVutVmutS9XWHRVEQUVWAdmXEEgIhOyZTDL78/vjLHPOzGSWzEzmzOT+XFeunDlzlmdyMt9zn/u5F8Y5B0EQBJGZ6FI9AIIgCCJ5kMgTBEFkMCTyBEEQGQyJPEEQRAZDIk8QBJHBkMgTBEFkMIZUD0BJSUkJr6qqSvUwCIIg0opt27Y1c85LQ72nKZGvqqrC1q1bUz0MgiCItIIxdqy398hdQxAEkcGQyBMEQWQwJPIEQRAZDIk8QRBEBkMiTxAEkcGQyBMEQWQwJPIEQRAJhHMOr087JdxJ5AmCIBLI/316BGfc+R7sTk+qhwKARJ4gCCKhPLPhKACgrduV4pEIkMgTBEEkEJfHBwDoIkueIAgi83B6BZHfWdee2oGIkMgTBEEkCIfbK1vyv3r9a5zqcKDJ5kzpmEjkCYIgEsTx1m7V6yWPrsdZK9egPYX+eRJ5giCIBNEcYLW3dbsBAPtO2lIxHAAk8gRBEAmjqSu0a+aDPadwxZ83YuORln4eEYk8QRBEwmjuEtwy35s1DOV5Fnn9P748hs21rbjpxW39PiYSeYIgiARhcwjumd8un4gNvzoPj145FQvHDYJHzIBt63b3e2gliTxBEESC6HJ4YDXpodcxGPU6LJ86BEMKslTbtPTi0kkWJPIEQRAJosvpQY5F3VW1MNuoem1zkCVPEASRlticHuSY1SJfkG1SvSZ3DUEQhAK31wfOtVPVMRxdDg9yLGrL3WrWB23Tn5DIEwShWTxeH0b/+n3c//7+uI/1xZFm1AUkKyUam8ONnABRzzapLXu7i0SeIAgCAHDnv78GADy1vibuY3336U2Y/+A6+JJY672jx42CLLV7JtskiL7FKMhtJ1nyBEEQAq9urU/4Md/a2ZDwY0p09LiRHzDRKlnyVvG30+1N2vlDQSJPEITm4JzDkSQxPG1zJOW4nHO0d7uDomn8lrzw2ykWMIv3XCc7eqLalkSeIAjNcf/7+zH53g9j3u8PHxxA1e3v4v739qnWe7x+YT3dKcSp97i8ON3pwMp39+KZz47GN2AIUTMeHw9y12SJIm8W3TWJEPk3tp/A7Ps/xvbjbRG3NUTcgiAIop9Zf7AJLq9aDDnnYIyhx+WF2+dDXkAUCwA8se4wAOAv62twx9Lx8nqlsB4TJ1+v+/tWfHa4WV7/o3kj4hpzu1iMLNBdI6FnDCa9Ti5FHA+bj7YCAA6csmH6sMKw25IlTxCE5vCFCJlc8ugGeH0cix/5NGYrXynyH+1txLEWu0rghW3icw9JIl8YEBc/tDAbJTkm3LF0HMwGXdznAQCdqNyh/k5B28Z9NoIgiAQjlehVsv+UDTe/tB31bdH5ogHgrxtqUHX7u3hrxwkAfv/4uQ99ErRtvPHrVz+7CQBQEGDJZ5n02HrXYiwcVwaTITGWPGMMAKKKFCKRJwhCUwgTmKGbbLz39amoj+P0ePHhnkYAwL1v7wUA3L5kXK/bx1Nu4K2dDfKNKXDiVYlgyccv8jpB49HtivxUQCJPEISmsLu8cHv9Fuq48tyQ23kDrNgdAT1VN9W0osiqdp0EvlYSj8gfbbLLy6HmCiQSZclLH72jx419JzvDbksiTxCEpmizC1a8XjRXv3f2cLxy/dlB2wW6Vy558nMAQGWhUPXxhS+PYfUeteVvNuhx5L6luHnhqKDj2ZzBLqJocYh+9kunDUFJjrnX7cwGfZBP3ufjMZdt6OwRxtpqd2HJoxvCbhu3yDPGLIyxzYyxnYyxPYyx34jrixhjHzHGDom/w08BEwRBwD+BaTYI8mQ16UNa4L2J8kWTBwMQJlgB4Kwqv/SYDTrodSyo1AAAtNnjEHm3F7lmAx75zlToJF9KCAIteYfbi5F3vocnPj4c0/laxRvh7oaOiNsmwpJ3AljIOZ8CYCqACxljZwO4HcBazvloAGvF1wRBEGGRknwkkc826eVYcwB4/KppAPw3g0CKA24IBp1f5qRjhqIpjiQph9sHs1EfcbtAn3yn2GTkqQ3Rl22obbbjC7GN4O4T4V01QAJEngt0iS+N4g8HsBzA8+L65wFcEu+5CILIbFbvPoXrXxBa5N2xdDyKrCbMGlGssrxHDcoBANS2+P3gSv/82SOLkaso9+tQuEeksr9GfbC1fdrW92YeDrdXrk0TjkBL3un2qX5HYsOhJiz4wycxjS0hPnnGmJ4xtgPAaQAfcc43ASjjnJ8EAPH3oF72vZ4xtpUxtrWpqSkRwyEIIk3Zo3A/XDptCLbfvRiFVhOyFFbyiBIrdAzYKU607j/ViTe2CzVuqoqzMakyHwVW/+RnjyICRYp8+e6sYbh69nB5Urc8z5IAkY/OklcmeUnRMYGJX73x7q6TMY8tIRmvnHMvgKmMsQIA/2aMTYxh36cAPAUA1dXV6VE0miCIpKAT47/fv3U+jHq/Daq0ki1GPRaOK8O/v2rAd84aigv/5J94/PWyCQD8xcAAtYUuZaNmmwz47fKJ6HZ50Nbtxo3/2IamfrLklVZ7d4xlh5VPNOePL8OafY0R90lodA3nvB3AJwAuBNDIGKsAAPH36USeiyCIzKOjx41cswHjK/JU66XkH4nFEwahucuJFzYek9dZTXqcP15wGCj945J7BxCiW5RkmwwYUpCFQbnmOC15HyyGaCx5PVxeH/7z1Qm8suW46ikjGrIVcxPh5heUxG3JM8ZKAbg55+2MsSwA5wN4AMBbAFYAWCX+fjPecxEEkTl8cuA0GGM4d0ypvK6zx428rNBx5n//4Uy02AUhrsgXwiSVIZJThhbINwOLKIDXzR+BH583CtuPt2Hbsd6LeZXmWoLi7KNlZ107dp/owNRhBRG3FSx5L376yg4AwF+vro7pXCbxc0lRQtGQCEu+AsA6xtguAFsg+OTfgSDuixljhwAsFl8TBDHA6XZ58PH+Rlzzty1Y8exm1Xudjt5F/pwxpbh0WiUAIFdslt3Y6be+zx5ZLC9L70+uLEBBtgkLx5Xhlxf0nu06piwHzV0uHG+JvXPU8ic/h83pkc8ZjkCfvPLpIVyJApvDjf/95LDsw//Pj+fCIIr8A5dNCnvOuC15zvkuANNCrG8BsCje4xMEkVk89MEB/O3z2qD1X9d3oLHTifysyLKUGyKrVOnKkN6Ptib9rBHCDWLXiXYMK86Oah9AXdSsLM8ScXuTQQeHwif/8pbj8nKnwx3U9FviwdUH8MKXxzCkIAu5FsGdNURM+srv5aYoQaWGCYLoV5q71HVpHG4vvD6Oi5/4DABwwZllEY+Rp7gRlOSY0NzlUk1KDhUFMNCX3xuDCwSBPtURW6z8yXb/9tGIvNmgR5fTP9l6+HSXvNzR07vId4gZrs1dTlnUb144GiNKrLjgzPKw5ySRJwii33B7fcgOCDU81eFAjsLVEU2Gv7I+zJTKAqzdf1plyd903ijkZRlxydTBUY0rP8sIs0GHxs7YRF7ZlLs0TDkDCVPAZKmywJgjTKy85H93enzy5zQZdPjW9MqI56TaNQRB9Buz7/8Yr2ytE5ZFH3pDR48qC/R4a2S/uBRZsmL2cDnUUjkRaTHqce38kTDoo5M4xhjK8iwqH380KN1BkdwmQOiIGKnWzRvb6/Hqlrqg92uaulRuoawQJRnCQSJPEES/0dwliOj80SW471vChOHJdodKLMNVcZRgjKHmvqW495tnytaxO8qEot4osprQ1kuJ495QWuK9dYRSEkrkpTIMf1lfg9te36V6z+P1YeHDn6pKLCufWKKBRJ4giH7nnNGlqMgX/eCdDjlBaMHYUvzpyqlRHUOnY2CMydmwnigaaIRDEnm31yfXlImEMs49mptTKJGvb+v9yaW9J3gcJPIEQWiSQ402ebk83wKLUaguWdtsx9LHhKzVFXOqMLggK6bj/vLCsbhseiUumlwR1/gKs03YfaIT339mU8T2gk98fAivbq1Dj+IJJJoQSim+HwDW/PxcAAg7cSqVXVaSFUX5BCU08UoQRNI51mLH4kfWy6+lPqjleRbsqvfXq4k2i1NJSY4ZD18xJe4xSnVtvqwRmmS7PL6gidKv6zuQYzHgDx8eBCCUFpCIRuQnVeYDAG5dNBqjBuVg728vwMkOB9746oS8jc/H5XLFrQqRL8szo7HTqarIGQ0k8gRBJJ3739uvei2FQA4usGD9QX9D7WiKfCWLwCQsu9MDk0Ed0iiFeUpItWOevro6ZOx+IGV5Fmy6c5Hsh882GYIsc7vLg1yLEZxzfP8Zf7LYiBIrGjud5K4hCEJ7SIk7ElJETEV+lioDtC+WfKKwmtU2rzKeHQifWKUszRCJsjyLKuonUOSlmHinxyf/bW67cKx8E8kyUnQNQRAaY9PRFnl54bhBGFMmlPgNtEpTackbAmrBBIr8ocYuhEKvY0FunViQbi4zq4oA+HvVSmGl184bgZsWjJLdSVYzWfIEQWiIhvYeuYPRg9+ejGevOUuOab9gonrSMZUiH5gcGyjyO+vbg/apKs7GX/5rRlznNRl02P+7C/HidbNg0uvkv5VTfHKoKrEC8CeJleZGTrpSQj55giCSijLR6Yrqoar3pg9Tt36OJms0WUgaP6EiD3tPdsIWEEZZ02RXvV4+dTB+dv4YWYTjQbq5DS3KQm2zcB4pA1ZyYUkRoqH604aDLHmCIJKKMlszFL9eOl5ejsftES8jS4W68xdPEUoh/Pbtvar3T7Sr49kfvXJaQgReyehBudhS2wqH2yv/3aQbwC++MQbLJldgycTwtWoCIZEnCCKphKvJAgDXnTMS/3X2MCyeELkwWTKZO6oEq386HzecOxIAUNvSrSr/29DuwBQxBDJZnD+hDC12F+rbeuS/myTygwuy8OR3pwdNEEeCRJ4giKQiRaX889pZvW7z+0sm4ekYG2gkg3HleWCM4Y4lQu15ZRPwVrsLZyi6TCUDKdbe6fFb8vFGHJHIEwSRVCSRN6dwUjVWskVr2e70i3ynwy2XLhhWFH3N+ViQBN3h9gVZ8n2FJl4JgkgKnHO88OUxOSY+mkbXWsEqhnYKjbbN8Pk4upwe5FkM2P2bC4LCLROFJOhOj9d/c4zTkieRJwgiKXxZ04p73twjv05leGSsSBEskiXf5fKAcyErNidGn3gsSILe2eOGlCMW798tfW6tBEGkFQcVBcmA9BJ5KeGoW2wK0ilmoUZTaTIezAbhvDf8Yzu2Hxcajxda4zsniTxBEEmhpUvdgCPW6ompRMrEtYulhNu7RZGPojFIPChdWh/uPQWLURd37gCJPEEQSaFJ0ct1aFEWiqyh+5dqEcld0y1mvUrVIItzkvsZlJPTda09GFqYHXWf2t4gkScIIik0Kyz5WxaOTuFIYscqivz7u4WOTLLIJ/lGZQmYZB2agCgeEnmCIJKCUuQDq1BqnWzRJ//Wzgb4fByba4Ua88XW5JZdCAwzTUSoJok8QRBJoVPRum5oYXLiypOFVVEf5mSnA69tq0dJjkmug58ssgNEflBe/DcVEnmCIBLKmztOwO70wObwYFx5Lq48a2jMLf1SjXICdPeJDrg8Pvxu+cS4/eOR0AXE3yciXJPi5AmCSBh7Gzpx68s7MG9UCWwOD745ZTDuumhCqocVM0oxf3VLHQCgILv/J45jrTgZCrLkiYTBOcc7uxrCdtAhMpu2bmGC8rPDzehxe6Nqiad11u4/DSAxVnU03LXMX5XTGmOrv1CQyBMJY9PRVvzkn1/hgdXqfp4dPW5wznvZKzpa7S488fEhVVVAQnv83ydHVK+jaW6dLuT002e5dv5IeTnWipOhIJEnEkaTTYimqGv1192uaerClN98iFe31sV17Dve2IU/fHgQ28QsQEKbfHa4WfVaavOXjmy47TxVyGSsbfcSQSLOSSJPJIwn1x0GAPQo3DXSl/4/XzXEZYWf7HAA8LdAI7RJnsWA5VMH49DKJfjwZ+dg3uiSVA+pzwwtysa2uxfLr/vLXaOEfPKEZth9ogP7Twm1SjYfbZX7Y7bZhTC6jTUteHpDTZ+PbxePZw/ou0loB6fHi06HB6NKc2DU69LailfyrelDAPRvWYbXb5yDc8aUYngxxckTGuHDvY0AgJ+dPwZuL8eBU0IzYqnAEwB8LE5g9QW3VzDhOwP6bhLaoUUsY1ASY6NprfPgZZOx83++kfTwSSUzhhfi7z+cSZY8oR0cbi8sRh0ur64EIITSAeqO95uOtqKju28iLYUPKxNsCG0hzcmkshl3MjDodchPcmGyZBK3yDPGhjLG1jHG9jHG9jDGbhXXFzHGPmKMHRJ/F0Y6FpG+CCKvR0W+BflZRny8/zRe21aPzUdbVdstfWxDn46vE60oSUgI7SGLfIZZ8ulOIix5D4BfcM7HAzgbwI8ZYxMA3A5gLed8NIC14msiQ3G4vbAY9GCMoao4G+sONOH//WsnDp3uAgDZt3iivQcPfbA/3KFC4vQIHRQe+/gwrvjLxsQNnEgYv3lHaBBCIq8t4hZ5zvlJzvl2cdkGYB+AIQCWA3he3Ox5AJfEey5CuzjcPjkVPFQCjMfrD4t5ct2RoPcjYVP44gOfDghtUNfaAwAoyTB3TbqT0JggxlgVgGkANgEo45yfBIQbAWNsUCLPRaSOQ4025GUZUZZnkdc5PV6580+oBBhfHLGPnAv9NU16HVxSTzRCcwwvzsbkygKY4uxJSiSWhF0NxlgOgNcB/JRz3hnDftczxrYyxrY2NTUlajhEEln8yHrMum+tap3D7ZPLpAaK/ONXTcP4ijzVOqcn+tIH+0/Z4OPAgrGlfRwx0R/0uLzISUHCEBGehIg8Y8wIQeBf5Jy/Ia5uZIxViO9XAAgZP8c5f4pzXs05ry4tpS9xOqGsUSP45EP/O40rz8WfrpyKF6+dhQe/PRkA0NgR/QTqFrGW90/PHxPHaIlk0+P2plUf14FCIqJrGIBnAOzjnP9R8dZbAFaIyysAvBnvuQhtoWwK4fD45C+4y6N2qeRYDMizGDF3VAkq8gUXz80vfxXVOTxeH+55U5jQG1eeiylDC1Tvuzw+KoimERxub1r1cR0oJMKSnwvg+wAWMsZ2iD9LAawCsJgxdgjAYvE1kea4FT7xL460yALrcHlhFi35O5eOxxPfnSZvpyyyJPnxd9a1R3W+1m5/n1CdjmHhWGFqp83uwkWPb8CYu97HuLtX9+3DEAnD7fXB7eUk8hok7olXzvlnAHpLBVsU7/EJbaEsK3Dba7tw22u7UHPfUrTYnZg+XEiFGJRnwUWTB6MiPwtr9jUiVyHyZ5TmyMuOKB7vpeSpkSVWAP5mDm/vasDuE1FP/RBJRrrZZyWgNC6RWGganIiJrhC1Y1q7XWjucqFcEW0DCKnZv7pwnCodXK9jeOCySQCAFrsL4djb0Il1B4SpnN8sPxMA5JuC5MIhtIFUlI588tojc4o9E/2C3Sl8mWePLMbGmhYAwAGxMFl5fnTx0VKHnfZuF4aEaQunzI4tFPdRtmUjtIPDJbjxyF2jPegbQ8SEZMlLE6gAUNNsB+AX4kgUiHVA2mOoY1OQLeyTiCYKROLpIXeNZiGRJ2JC8smXKURemkSNtnOO35IPL/LKhg3SPtOG+Usg/d/3psvLXuoYlVJkkSdLXnOQyBMxIVnyyt6T7+xqAADkmqOr1CdV9OuIoaKkdL4hBVmYUJGHPIsBF5xZjtuXjAMACqNMMT0u8slrFXr2JWJCEvmhRf5mBg634I+N1pKXHul7wggz5xztipuAcvL2tRtnw+3l0OmYnIDlcHvJlZNCKLpGu5AlT0TNaZsDt722CwBwzuhSvH7jHMwY7nefRNuPUpo8DWd9bzjU3KsLJttkkJ8GJMvR4aGaNqmgx+WFy+Mjd42GIdOHiJpttf4m2lazATOGF6q+1NG6a0x6HXQsvMjXtQnNwG9ZNBqVYSJw5KcCF7lr+gu704O6tm6MKLFi/oPrMLLUiu9UDwVAIq9FSOSJqJGaaQMIWWkw2vBGxhgsRj021bRiZ117UKkCwF8a4QdzqlBo7T1qR0qu2ljTglGDcnrdjkgcP3tlBz7c24iXrjsbzV1ONHc55fLPFhM5B7QGXREiaho7HTAZdDi0com8bv8pf9ZpLD0ws4x6bK5txfInPwcAXPHnjVimiIuXyidEKls7cUg+cswGHBGbkxDJxenxyv18r3r6y6D3yZLXHmTJE1Fjd3mQYzbAqPcLr9SWz6SPzV5QRmF0uzzYLFaavOTJzzGy1CqXMTBGcdwiqwmtEbJnicRw5LQ97PuJaDxNJBay5Imo6XYFVxmU2vK9+ZO5MR3LrHDtrHh2s7y8o64db2w/gS2i/9+oj/x00JvI/+8nh3Ht81tjGhcRnh53cFmLf90wW17W66J/miP6BxJ5Imocbm9QiJzU/KM4J7psVwml5b9FMaEr8enBJpj0uqhcQCU5ppB1cB5cfQBr9jXGNC6t8PnhZlT//iNV20Mt0B1igvusqqIUjISIFhJ5IixNNqccG9/t8iI7QOQlsZZCGqMlGvGOttVfkdWEfSc78enBzOks9pu396C5y4WapvDukf4mUOSfWVENAHjsqml47gdnpWJIRARI5ImwnLVyDZY+KkyIhnLX/OuGObh9yTiYDbFNuC0al7iWv9LkrNLtk+6ctgkNWdwa62kbGPY6c4RgxX9zymAsGEttnLUIiTyhYsOhJhxtVluPx1u70elwY/PR1iDf99jyXNxw7hkxn2fuqBLV6yUTy2MfrEhgJ6pAeBxNxFOFFPe/6v39KR6JmkBL3koTrZqHrhCh4vvPbAZjwNH7l6nWv7K5DgBwKEGhihMGqxt7Z5n0mDasAF8db4/5WDqF64dzHuQKktw+sT5tpBLpvrT1WPB8RSqRRH7ppHKU52VBRxOtmocseUJGmkQNZfiufG8fAGDF7OEJOVd+lhG1q5bJ9eSzTXr8+6a5OH98GeacURzTsX7+DX+D71D1cN7a0YCxd63GjihbDmoBn+IiaMll0+MS5mf+9J1puOfiCSkeDRENJPIEAMECXr37VNC6QO795pkJPa80kSvFV/91RTX+ed3ZMR1jUK4F910qdJuSWgK2K3rD/lKst7NJbHKSbpxSZBqnmm6XFwYdi5ikRmgHctcQAIBbX96Bt3Y2qNY5A3zdi8YNiimrNRqkpKh4MyULxaYiV/xlIwBg1ojgsD5PmtScd3t98Pg4RpZaUdNkR11bt6rqZyrpdgWH0RLahm7HBACoBD5PLBkcKPJSn9VEIiXPBIZmVg8vxOgYatFMDqh/s0mspaLE49WeyG880oL1AaGfUp39hWK0Sn1rT7+Pqzcc7uAwWkLbkMgPMH7+yg689/VJ1brAsLg8MeZdGbXyo3kjUFmYeGtSirOX2vtJvHbjHHz083OjPs6QgqyIBdI+3HsKx1q0FXd+1dNf4upnN8vzIYBf5MdV5MFs0GHvyc7edu93QoXREtqGRH4A0djpwBtfncBNL25XrZfiy39/yURcPXs4OnrceH1bPc5auQYA8OBlk3H3RcmZZLOLE3nDi61xH+uWRaPDvr+noRPnPvRJ3OeJF6fHi4se34BJ//OBvK6lS5hD2HasFYse/hSAkEU8Y3ghtmkowkZw15CXN50gkR9A7D9lC1q3/mCT7NrweH0YU5YLm8ODX/xrp7yNOcoSwn3h0mlDACAhZYK7ndHVlL/3rT0pbRd4vKUbu090wub014GRnpquenqTvC4/y4jhxVY0tGvHXdPj9pC7Js2gW/IAolPRTs/n46hptuNqRZbo9OGFCDU3GWuFyVj40bwRuGrmsIS07rt2/gi4vT5MG1aIG/6xDQDw+o2zkWcxYvEj6+XtnvuiFs99UYvaVct6O1RSCfU3dnl9sDncKhdZfpYR5XkWtNhd6NHIhGe3y4scarOYVpAlP4CwKyzHtm4Xzv/jp6r3J1cWoCzPHLRfMi15xljCerMWZJtwx9LxmK2Is58xvAijy3Ll0sVK+sua93h9qnDULmdwJUeXx4c2u7oYWX6WEYMLLACA5zfWJnWM0cA5R2ePm3zyaQaJ/ABCKS51baFdACU5wSI/ubIgWUNKCrniTcOsiOUOVQL3f9cdTvpYbA43Jt37If7fv4RY/Td3nMAnB04Hbefy+uQJV4n8LCMunjIYAPCnNQdxpCk1jVF6XF5U3f4uRtzxHo402eV6NUR6QCI/gLArfNZ3vPE1AMgZpxLKJh0XTxmM12+cE1L4tYxOx/CHy6fg3Vvmy+u+KYrlLQtHyet6u9Elkvq2HvS4vXh9ez2Ot3Tj1pd34PGPg28uLo8P7T3qukBGvc7fqNztww/+tiXp4w3F+kP+EE+9juEHc0ekZBxE3yCRHyBwzmF3eWAy6KDXMewTw/J+d4kQ+/69WcPkba+ZU4XxFXl4/KppmDG8MCXjjZdvz6hUTeb+ZOEovH7jbPxs8RjUrlqGKZX5IWvQJxplQTcpkkjioskVePpqoVSvyxNsyQfS7Qp28yh5fVt9UEJbIlDWBiqymqgxSJpBMygDgMfWHsLT62tQXVWIPIsBZ5TmyBE1pTmWoAnIe795ZlpWbgwHYwwzhvvdDEVWE5q6nEk/r/JG8s9Nx1Xv/f6SiTje2g1AEPnTneHHY4ngC5cioqSnlkTRpigRMaUyP6HHJpIPWfIZSpfTA49Y2OqPHx2EzenBV3XtsJoNuP9bk+TtSnNDu2ISXb5AaxRmm7D7RCfeToLlq6RVcSN54ctjqvfys4xyDRiX14fDTV0oyDbiqe/PwKNXTg06VrjQRY+iiFnV7e9iT0MHjrd0Y0ttcOZvrLSJN6qrZw/HA5dNjvt4RP9ClnyG0eUUmm1PFBNtfnXhOPm99m43BuWaMbLU78aItW1fprBscgXe+OoEnlx3WJ7c7CuNnQ7Mum8tnr66GosnlAEADjXa8O+vTmD78d4TmRhjcniqy+PDoUYbRg/KwTfODF1b36Dr3SZzBJSgWPbYZ/JyvKGiNU125JgN+M03z8z4m38mQiKfITy57jBsDg/+/OkRvHPzPHn9A6vVTScONgoRGrkWA2wOj2qidSCxaHwZlk2uwI4+1K8P5ICYZPbsZ0dlkb/+hW2q5iuM+Us437potNwuUbbkPT4cbOzC0kkVvZ6nrrU7ZL18IHw4qM/H46r7vrm2FXPOKCaBT1MSIvKMsWcBXATgNOd8oriuCMArAKoA1AK4gnOunfzsDMLl8eGhDw7Irz873Bxxn49+di5O27RTwjYVlOVaVAlifcUgCqhyYtQXMKeRbdTD7vLisumV+Nlif/17SeT3nuxER487qJkKANx90QQ89MF+2JweNHQ4giKigPAi397jRpG1b09sDrcXrXZXr249Qvskyox7DsCFAetuB7CWcz4awFrxNZEEbA61UP3nqxMR9ynPt6Rd/HuiMRt1cHj6nhDV0e3GxY9/hv/95AiA4NZ4SqRJ04p8i2q9lD363Be1AIDzxpYG7fujeSPwyBVTAaDXm1JgxVAlzXFMMI+7ezU6etyU5ZrGJETkOefrAQTO8CwH8Ly4/DyASxJxroHEtc9vwbf/74uw23DOMeP3a1TrpBo1f7xiirzuzR/PTfwA0xyLQQ+3l8PbxzrzN/xjG74+0SE/OUkZxac6HDjW0i1v96sLx8ErWvaSm0Yi22RQTaiW5alvAvJYxW1Cdb4Cwlvy8Yi8RKKykon+J5kO2TLO+UkAEH9TK/cYWbPvdMQen66A1nBKEVGKx2Qx9O3skZStKCGVa3AGWPO/eXsPzr5vLXbVt8vrPj/cHHQz2BjQacouWvKBonp5dSXcoqWdH1BSGRDmRyR6myPJkpOiQot5uEqVUoXLeCBLPn1J+awbY+x6xthWxtjWpqamyDsQKpSP6S9ddzauPGuo/FpZEpYxhi9uX4hnrzmrX8enZSyiP/z5L9ShjX/7vBanOh345hOfAwDWHTiN7/11E575rEbe5v739wUdr9vlCcovuGvZeJTkmOH2hrbkAWD6sMgJZ5LIdzmCE6Icbi/ueXMPAOF/YO4ooXaP5LtvSYAlTyKfviRT5BsZYxUAIP4OLtgBgHP+FOe8mnNeXVoa7I/MFE609/Q5wcgVxt/qdPvfy7UYVCnnWUY9Xr9xjhxzPbggS+6lSgBmUTiVEUg9Ifzq9WL5g1qFC+YvnwqCr+xe5fZydDk98pOByaDDtfNHAvDXzgkl8g9+O3LsueTTD4zaAYDDp7sU2+lgMQjbSsXN7n17b8iiaJFQNhAnd036kkyRfwvACnF5BYA3k3guTVPf1o25qz4OWbOkN5Q3BGXGYSBKV8OgXDPKFRN72SY9ZgwvxPKpQ2Ic8cAgVFThiYDa7R6vD15R7AwhdjhfDJmUaOx0yDfeF344U14vRdEEdsACgFyLEW/+eC5ev3F2r2NVVn7cHuCaUYr+sKJsuU69shzBy5vV2bbRoJxIHloUHNFDpAcJEXnG2EsANgIYyxirZ4z9CMAqAIsZY4cALBZfD0jau4WIiDe218e8DwA02Xp/3FZa+YFhbqEEhfDjUDwF+UR/+/NilIuEy+uD1Bo2VM2W6+aPxLRhBfit2P+2sdMpR+yYFcIsiby1lyepKUMLVGUXArGY/F/VwGgqyR2zYvZwFOeYIY3yYKO/SUxfJpeV/v8xZbkx709og0RF11zFOa/gnBs555Wc82c45y2c80Wc89Hi7/jzq9OIo812nOwQrEJJpE+HEetANihi3VvsLnS7PHh318mg7ZQ++cBklWIrxTaHQylipzodWL37ZFAYpNPtk5+W9Iq/r8Wow/XnjESR1YR/3zQXc0eVABCutWTJK3vOPvTtyRhXnttr9EwklJZ8Z4BfvsXugo4B91ws3GjuuVho1aisOurtg6tQ+lusmD08Yt0cQruQoy0JONxenPeHTzCixIp1/28BfvCcUCLW443+i3a605+o1NLlxP+8uQf/2laPYUXzMKkyHy1dTuRnGWWR//N/TQ86hhY6CWkZ5d/niXWHgwqIAYDD45WrQ3pEa5hzDofbJ0/cAv5IJmWIo9ngP/6CsYOwYGzfA8yUIh/oX2/ucqmqQ1bkC64VZeSV8skwWtbsbQQAzD6jJOZ9Ce2Q8uiaTESKkT7abJdL+gIAYsgKtymstZYul9wwosfthdvrw4zfr8Fd/9kNpygqeRa/a4YiIaLjqpnDcNn0SgDA0SZ7yG3sTo88ySrFwUs3VqU7RprsdLi98hOCsmlJvBgUoZWBCVGdDjfyFBO6BeLyoFwz3hNr6ttCROVEQprQlaJ1iPSERD4JKNPbnwjoPvT54Wacced72HAofLhol9MDq0kPk0GHZrtT9qm6PD75S/7yljqF4Pgv5Se/XIBPf7kgER8lozHqdfjxeWcAQK+Zr796/Wt5+WSH8HQl/f2VLgxlcw/pmiTLxfHyljrUt/kjfRwur8rS1+kYnr2mGm/cNAcTBuehqjhb1foxWho6ejClMh+5FprbSWdI5JOA8pFd2QSbAVizrxFeH8eehs4Qe/rZWdeOLJMBJVYTWrpcsqug0+FW+WTf3y346ZWugZIcM4YXB/c0JYKRQgMbFFE148r9k4zKJCNpInPmfWsBqC11abknSZY8APx66Xh5WapDDwg3qMAbysJxZagszAYgZNVGajgSipMdDtn1Q6QvJPJJQPk43RAQkidFw4QrjGV3erD1WBuau5wozjGjyeaUJ287e9yqfV/aXAcg8YIyUJBEvlHRsGPq0AK5Y5PE+Io8nLY5VXXbLQHWs9mgg9PtRWOnE1lGfdj6733hunNGysvKzFiH26ea5A0kx2xQTcJGS0uXEyW5A7MUdSZBypAEbvjHdnn5ZIcD80aVYESJFYwBL4qTe+0RRF4iL8uATw82yZE5HT3ukP7VUOnyRGSyQ7hUTAYd2gNyE741Tcg1UE56BgqrxaiHw+3F8dZuDCvKTkppXilM9vI/b5QL0TncXnlOIBTZZn1Q68FI+HwcHT1uFGaTyKc7JPIJYktta8jM1OOt3ThzcB4unjJYFZcdKCJKJJ/uTQvOUGW0AsD97+8P2QuUvox9I1Sd9YmD83GuohrkbReORaFYqrdNEaVyhqL5CiCIvsPtQ0N7j5xtmmie+4G/LMVPX9mBt3c2CCIfxv9vNRvQbHPGVFra5vDAx0Nn6BLpBYl8Ath3shOX/3kjfvnaTjmpRklFvgXlAfHR4Zo2SyI/tjwX18ytAqD27UvdhlYp2vgN1OYfieb1G+fg8upKDMq14NDKJdhxz2LctGCULHYnFe63wAQhi1EPh8eLTkfyLOCsADG/9eWv4HD7VBPvgVhNejR0ODBz5dqozyNlWZPxkP6QMiSA/aeESdSv6zvwVV170PvnjRuEy6sr5ddFVlPY2uNS8o3ZoMdFkwejdtUyHFy5RH5f+gIOK8pOxPAJkSyjUAZCcrMY9ToUiCKXJ1aKlMoerPrWpKAMWB1jeHNHA+rbelSVJRNJYO0hHxfGFM6SL+iDULfYBfdg0QBtD5lJkMj3Ac453t7ZILtnapuFSAeb04PLAuq/n1VViOHFVhj1OlkohhRkhSyEJeEKERYJAA9fLtSHb7I5wZhQcIxIHOtvO6/X96ReuFJj7FBhhT8Un7oAqOLWE0mgJS8RzievtMbD1Z1XIkXvDC0kQyLd0azIO9xe/PC5LdgRwjJONe/vPoWbX/oKix/5FGPueh+Prj0EQF1j5hdiizeltXfLotEAhGJP4SbC5Nj3ABeMJOpNNidyzQZ6lE4QUremcC3upHDEV7cK9YfGVQTXcrlCUeY5L0mx5VKWrsmgw/RhBVHtU2T1jyWcm1DJ5qOtYAyoLCRDIt3RrMh/frgZH+8/jYc/PBB5435GsnKOtXT3WgZ4iPjlMOj8f+Jr549E7aplKMg2hbXkQyU4Af5ojv2nbMjLMsougV9eMLaPn4QAgHdunidnhvZGoDtkZElwHoIyVyFZ7hqTQYc7lozDOzfPQ47iRjK8uHeLW2kMRFve4KO9p3HO6FKqWZMBaDb/vUZMMw+MYNACoRo3KLlseqXckDlUJ6Zso75Xn7zH65PTyU169RdMLSJG6HQMtauWxTR2IpjiHDOKcyIXc8sy6tHj9mLbXedHDI8cW568qo3/fa6QpWvSC2MYPSgHV84c2uv2yoSmcGWrJTxeH1rsTkwRu4kR6Y1mRf4NMQbYataeJRFu0jQ/y4iHxd6qa35+DkaWBN+ksk2CyPt8XA7hqxFr0/xnRwMeE90/vVnyAFBsJVdNf/PmT+biy5qWqG4Ik4YkXyCliKpbFo1WGQCBVJX4rfzGzshhlK12FzgHSvtYMZPQFpoU+cOnbXJhL08fmywnk96aKQPq4mCjBoW25rLFbRwerxwtsfDhTwEA54zxx2cHZrEqH50LSeT7nTFluRHrqj/3g7OQZdSrCooli+vOGYk1+xoxa0T4vr25FiNKcsxo7nLK9XfCISXelVJkTUagSZ+8sq5LuNZ3qSJcsadofLFSunuoJ4JShZUYaJ0pRb6IMlw1yYKxgzBrZP9UbZw+rBCHVi7FoCgs7q13nY8cswGnohB5KauXCpNlBpoUeWWUipZFfurQAgBASY4JC8QMyWhEXgqDCzX5WiJaTyNLrCjLM4fcDwAsVCueiJFciwF2pwcdPW7c8cbXQR2mJKT/S+pHkBloUuSVFq5TgyLf5fRgZlURrp0vNM2eOaJIniCOppa75KIJFUbZ4/Yi26THO7fMC5rcyzLpUSVGUQwvoiqTRGxkm/Todnvx8IcH8NLm43gnRKcxwP/9S3SBNSI1aFLk7S4PzAYdqoqztWnJuzywmvVYNK4MF08ZjLsvmiD38AwXay2Rbe7dXdPt8qIgyxiU2Sjxtx/MxMVTBuOSaYPj+ATEQMRqNqDb6cFe0R06qJf/VakscW/9aIn0QnNX0eP1yZ14zAa9nOKvBf6+sRYvfnkcLq8PVcUGZJn0ePyqaQD81Qyj6eGZHcZdY3O4w7piRpRY5XMSRCxkGfWwu7xosQthlIFtX10eH+xOjxxYQO6azEBzlvz+U/4O8yaDTlOW/D1v7sGBRht6XN6gR9lr5lbhO9VDcdXMYRGPI7trRN++sqjZB3sa6TGZSApWswE2hwdHm4UcFI9P/d26+z+7Me13H6FDTJii/8PMQHOWvLKtmUHPsDtCB6VUYHd6giJfci1GPPDtyVHtnxXQ9Dmw9VxvrhqCiIdsk17Vc9gd0Fj+04NCS8oNh5sBhK+HQ6QPmrPkjygaKtudHjTZnGizR87S609sTk9cnZikBC8pVC0wg7aAangTSSDQxx5oyUulOPad7ESO2RCy1j6RfmhO5KVyBn/5/gx8e4ZQnrcvneYTTWdAuFm4+t2RkGqJSHVE6trULQIpPplIBjkB4b2BlrwU/mtzeDAoL3IAAZEeaE7k69q6MbOqCBecWS5XXQx0Z6SC/Sdtqtfh0sgjISU1PfTBAbFdnHBju2ZOFQCg1e7sbVeC6DMGsdbN1bOHAwA8ASLvVcwNleVSSYNMQXMib3N45FrckpAGtsBLBYFZrolqnD3u7tU43tIDxoDFE8oAQI5+IIhEwiCIvFQZNdBdo4z2ohLDmYPmRN7u9CBH9FlLBbm0EEbZlSSRB4BjrXaU51kwSaz6t2J2VcKOTRASeVmCO0ZqZRjorlHmbVwiNi4n0h9NirxVzBqVLHmHBiz5IJGPs872LQtHyctHm+2oLMxCnsWI2lXLcNmMyjB7EkTf+OHcEfjF4jGyW9Dj9X+vvD6OvYrImwkVef09PCJJaE7ku5weuTSAZC1rwZJPtLtGWW3yWEt3VOUQCCIeLEY9bl40Wg7hVVZ43VHXJi8XZBupymkGoSll4RBq1ciWvOyu0Z4lH64SZTQoJ25b7S7qwEP0G0ZxAtatsOSltoD/+fFcufAekRloypKXMj8lkZeSMbRiyWcZ9SgXyxYUWeMLMSsIKBVMIk/0F4wx6HVMFV0jhSnTE2XmoakrKlkWUpEvyZLXhk/eC6vZgC/vXISapi6MCNHjMxaGFmXjmRXV+NHzWwGouz4RRLIx6Bjciugafw15TUkCkQA0pSwuUeSHFQnldP0hlNqw5KWon5GlORF7fEbDovFlWDa5Iu7jEESsGPU6lSXfRZZ8xqItkRd970PFGF2Lxnzy1iR8ARaIE7CdPanP6iUGDgY9U0XX3P/+fgBUlCwTSbrIM8YuZIwdYIwdZozdHm5bl8cHq0mPInFm36TXkrsmOSIvlTgI1UCEIJKF1WSQ/fDKTNdEPKES2iKpIs8Y0wN4EsASABMAXMUYm9Db9l1OD4YWZcv/aAa9DgYd08zEazIeZaUbR7cz9Z+RGDiU5ZlxqlPo99oo/v7dJRNTOSQiSSTbkp8J4DDnvIZz7gLwMoDlvW3s9Phw4cRy1TqzQZdSd43H68NfN9TgeEt3Uix5KfuQerYS/Ul5vkUW+bpWobz3cHEujMgski3yQwDUKV7Xi+tkGGPXM8a2Msa2GhjHDeeeoTqAxZja7lBv72rA79/dB5vTgxnDChJ+/PEVubhr2Xj8Icpa9ASRCEpzzGi2CYXw6sUqqENJ5DOSZE+lh3LwqQpmcM6fAvAUAFRXV/PAeHGzQacJnzwAXDo98eUGGGO4dv7IhB+XIMKRYzGg0+HBynf34lSnIPaDC6jyZCaSbJGvBzBU8boSQEMsBzAb9dh+rA09Lm9Kek4quzTlUzMPIkPIMQv/y09vOApA8NHHUz6b0C7JdtdsATCaMTaCMWYCcCWAt2I5gM3hQU2zHePvWR3UuCNWDjbagsoTREIK6zQlsOokQaQaKedDIosyrjOWpCoX59wD4CcAPgCwD8CrnPM9sRyjucvfQOPw6a4+j8Xr4/jGI+txwSPrY9pPmvR95+Z5fT43QWgNHvC6JIc6QWUqSTdPOefvcc7HcM7P4JyvjOdYq97bH9P2da3dcIjZsic7hMmlE+094XYJQrrJUN9VIpNQNuL573NGYuWlk1I4GiKZaN4HcbOi7vrm2tao9zvR3oP5D67Dynf3AQCOt3TL77miDMk8fLoLq8RMwHjrxxOElpD6vf566XjcsXQ8xpbnpnhERLLQfKGKX3xjLB7/+HDM+2042AQAeHnLceRlGTB6kP+fuMXuREV+5PZmUvwwQAXEiMzi8hmV4By4vJoa1GQ6GalcTo8XNc1Cc2y3l+PJdUfw4d5T8vvNtuh6qCrboUklFggiEzDodfjurGEw0v91xpMWV/hP35ka9bZv72zA2LtWY83eRtX69m5/ZE5PlFUtu5z+faimB0EQ6UhaiPzyqYORJ/oQI2W//vUzIe5XsuQl6tr8rpdoM2iPi+6aO5eOi3qsBEEQWiItRJ4xhp8vHgMAsIcp5OXzceysa5dfK/3oUuo2EHri9b2vT+JQo0217sl1RwAAP5pHGakEQaQnaSHyAJBjEUIYpeYGoQh0w/x2+US8+t+zYdAxcEVgcKiCZze9uB2LFTH0yhuBXkeuGoIg0pP0EXkxQy9cxqpyohQAKguyMHNEEQrEmu2SWz3QXdMdopa7VH51SUBVTIIgiHQijUResOQ/O9zU6zY9ASI/+4xiAECRVdh3sBg2GeiuaelSR9vUt3XLSVPfnTUsjlETBEGklrQReatoyd8XJus1sLuSFBEjWfLl+UKVvUB3zYubjsvLG4+0YN4D63DlU18CAAYXRI6nJwiC0CppI/LKrkynOhwht1G6ayZX5svLhdmCJS+LfEDp4gbRah9RYsVpm/rYg6NImiIIgtAq6SPyFr/In/eHT0JuI7lr7lw6Di/8cJa8XuoZWyL+dnnVIu8TZ2UtRj10AfHwqShvTBAEkSjSR+QVlnxvyUySu2bOGSXIz/YXFLtMbPZxefVQMAY43V443F602gVfvNSUpNvlCTkJSxAEka5ovnaNRK7FiH9eOwvf/esmAELp4MDQRrliZLa6YmR1VRGO3r8UjDGh05THh/vf24fnNx5DeZ6/16Xd6UWXGId/ydTBOG/coGR/LIIgiKSSNpY8AMwZVYKFovAq68xL1DbbYTLoQvrRpUnYHLMBdqcHr22rBwBZ4AGgrdsFm9iY5KHLp2D51CFBxyEIgkgn0krkAb/rRVmLRuJoczeqirOhC5O8lGM2oMvpQZYp+CHG6+M40dYDk0FHhZsIgsgI0k7JcsUJWFuIVoC1LXZUFVvD7p9jMYhZs+reONJ94WizHVaabCUIIkNIY5FXT5B6fRzHW7oxoiSCyJsNsIXImpXqy9c021EoxtUTBEGkO2ko8sKk6v5T6mJiDe09cHl9UYi8MegGAfjDLFvtrqCJW4IgiHQl7UReKjn8wOr92HeyE1vFloBHxdLCVRFEPtdiQJfTrSpYBgB5WX4fPVnyBEFkCmkTQimRp2ioveTRDQCA2lXLcNomRNtUiFmtvZFjNsDm8AQVM8uz+I9bQCJPEESGkHaWvMWox7LJFap1W2pb5YnYXEt4V0uOxYD2bjdcHh+WTCzHNXOqAKhFXipoRhAEke6kncgDQK5Z/QCyZl+j7GfPtYR/OFFmzl44sVx2zSjdNWTJEwSRKaSlyI+vyFO9PtXhgM3hhsUYOb49T3ETKM0xw+MTShpkm8gnTxBE5pGWIv/9s4fLy8OKsnGy3QGbwxPRVQOoC52V5Joxrly4YUwa4q9aST27CYLIFNJu4hWAKqN10pB87DvVidJcc0RXDeBvPgIIlvyYslyMLT8XowblyOvHlOWE2pUgCCLtSEuRB4TyBjXNXUJIpMODToc7yFcfipIcvysmX4zUkQS+dtUydDk9Kr89QRBEOpO2avbwFVMAACvf3Qubw4MuZ3TumiGF/uJloWrckMATBJFJpKVPXkmO2Ygetxft3e6o3DWlOWYAQFVxdrKHRhAEkXLS3myVhL2hvQdnVRVG3J4xhvdvnU9t/QiCGBBkjMg7Pb6o3DVAcAgmQRBEppL27pqSXLO8HI27hiAIYiCR9iKvrFUTrSVPEAQxUIhL5BljlzPG9jDGfIyx6oD37mCMHWaMHWCMXRDfMHunIs/vWydLniAIQk28qrgbwLcA/EW5kjE2AcCVAM4EMBjAGsbYGM65N/gQ8aGsORNNnDxBEMRAIi5LnnO+j3N+IMRbywG8zDl3cs6PAjgMYGY85+oNxhimDysAoC5ZQBAEQSTPJz8EQJ3idb24LilIxcW8Ph5hS4IgiIFFRJFnjK1hjO0O8bM83G4h1oVUYMbY9YyxrYyxrU1NTdGOW8V/iQXLxpTl9ml/giCITCWif4Nzfn4fjlsPYKjidSWAhl6O/xSApwCgurq6T6b4hRPLUbtqWV92JQiCyGiS5a55C8CVjDEzY2wEgNEANifpXARBEEQvxBtCeSljrB7AbADvMsY+AADO+R4ArwLYC2A1gB8nI7KGIAiCCE9c4Sic838D+Hcv760EsDKe4xMEQRDxkfYZrwRBEETvkMgTBEFkMCTyBEEQGQyJPEEQRAZDIk8QBJHBMM61UwqAMWYDEKoWTijyAXQkYJtYt03Vdpl27hIAzSk4bzr8bTLps0R7naM9Zjp85lSMcSznPHTKP+dcMz8Atsaw7VOJ2CbWbVO1XQaeO6prTdcl7T9LSr7TmXT9otk23N85nd01bydom1i3TdV2mXbuVJ03Hf42mfRZYiGR3+lMun6xbqtCa+6arZzz6shbEukOXeuBAV3n/iHc31lrlvxTqR4A0W/QtR4Y0HXuH3r9O2vKkicIgiASi9Ys+YyHMdYV4f1PAvvlEukHXeeBQTpcZxJ5giCIDCYlIh/p7pfpMMYWMMbeUbx+gjF2TQqHlDQG8rWm6zww0Pp1JkueIAgig0mZyDPGchhjaxlj2xljX0s9YxljVYyxfYyxpxljexhjHzLGslI1TiJ+6FoPDOg6a5NUWvIOAJdyzqcDOA/Aw4wxqQH4aABPcs7PBNAO4LLUDDFpeKD+21tSNZB+YqBea7rOdJ1TTipFngG4jzG2C8AaAEMAlInvHeWc7xCXtwGo6vfRJZdjACaIPXDzASxK9YCSzEC91nSd6TqnnLja/8XJ9wCUApjBOXczxmrhvwM6Fdt5AWTEox1jzADAyTmvY4y9CmAXgEMAvkrtyJLOgLrWdJ3pOqd2ZGpSKfL5AE6L/wznARiewrH0F2cCOAIAnPPbANwWuAHnfEE/j6k/GGjXmq4zXWeI6xf085iC6HeRl+5+AF4E8DZjbCuAHQD29/dY+hPG2A0AbgHw0xQPpd8YiNearjNdZ63R72UNGGNTADzNOZ/Zrycm+h261gMDus7apl8nXsW730sA7urP8xL9D13rgQFdZ+1DBcoIgiAymKRa8oyxoYyxdWIixB7G2K3i+iLG2EeMsUPi70LFPncwxg4zxg4wxi5QrJ8hJlgcZow9poi/JTRAgq/1SsZY3UBOldcqibrOjLFsxti7jLH94nFWpeozZTzRtp/qyw+ACgDTxeVcAAcBTADwIIDbxfW3A3hAXJ4AYCcAM4AREGau9eJ7mwHMhhCL+z6AJckcO/2k9FqfLR6vK9Wfi36Sc50BZAM4T9zGBGADfaeT85NUS55zfpJzvl1ctgHYByFBYjmA58XNngdwibi8HMDLnHMn5/wogMMAZjLGKgDkcc43cuG/4u+KfQgNkKhrLe7/Jef8ZD8On4iSRF1nznk353ydeBwXgO0AKvvtgwwg+m3ilTFWBWAagE0AyqQvsfh7kLjZEAB1it3qxXVDxOXA9YQGifNaE2lCoq4zY6wAwMUA1iZ3xAOTfhF5xlgOgNcB/JRz3hlu0xDreJj1hMZIwLUm0oBEXWcxxv4lAI9xzmsSO0oC6AeRZ4wZIfwzvMg5f0Nc3Si6YCD+Pi2urwcwVLF7JYAGcX1liPWEhkjQtSY0ToKv81MADnHO/5TUQQ9gkh1dwwA8A2Af5/yPirfeArBCXF4B4E3F+ivFQj8jIFSu2yw+/tkYY2eLx7xasQ+hARJ1rftrvETfSOR1Zoz9HkIphJ/2w9AHLsmc1QUwD8Kj2S4Iac47ACwFUAzB/3ZI/F2k2OfXEGbgD0Ax2w6gGsBu8b0nIMb40482fhJ8rR+EYAH6xN/3pvrz0U9irzMEi55DmLiVjnNtqj9fJv5QMhRBEEQGQ+3/CIIgMhgSeYIgiAyGRJ4gCCKDIZEnCILIYEjkCYIgMhgSeYIgiAyGRJ4gCCKDIZEnCILIYP4/av470tmQfWEAAAAASUVORK5CYII=",
>>>>>>> upstream/Attar_Aidin
      "text/plain": [
       "<Figure size 432x288 with 1 Axes>"
      ]
     },
     "metadata": {
      "needs_background": "light"
     },
     "output_type": "display_data"
    }
   ],
   "source": [
    "%matplotlib inline\n",
    "ts = pd.Series(np.random.randn(1000), index=pd.date_range('1/1/2000', periods=1000))\n",
    "ts.cumsum().plot()"
   ]
  },
  {
   "cell_type": "code",
<<<<<<< HEAD
   "execution_count": 129,
=======
   "execution_count": 67,
>>>>>>> upstream/Attar_Aidin
   "metadata": {},
   "outputs": [
    {
     "data": {
      "text/plain": [
<<<<<<< HEAD
       "<matplotlib.legend.Legend at 0x7f540fc4d6d8>"
      ]
     },
     "execution_count": 129,
=======
       "<matplotlib.legend.Legend at 0x7f0d4bc72160>"
      ]
     },
     "execution_count": 67,
>>>>>>> upstream/Attar_Aidin
     "metadata": {},
     "output_type": "execute_result"
    },
    {
     "data": {
      "text/plain": [
       "<Figure size 432x288 with 0 Axes>"
      ]
     },
     "metadata": {},
     "output_type": "display_data"
    },
    {
     "data": {
<<<<<<< HEAD
      "image/png": "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\n",
=======
      "image/png": "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",
>>>>>>> upstream/Attar_Aidin
      "text/plain": [
       "<Figure size 432x288 with 1 Axes>"
      ]
     },
     "metadata": {
      "needs_background": "light"
     },
     "output_type": "display_data"
    }
   ],
   "source": [
    "import matplotlib.pyplot as plt\n",
    "\n",
    "pdf=pd.DataFrame(np.random.randn(1000, 4), index=ts.index,columns=['A', 'B', 'C', 'D'])\n",
    "pdf = pdf.cumsum()\n",
    "plt.figure(); pdf.plot(); plt.legend(loc='best')"
   ]
  }
 ],
 "metadata": {
  "kernelspec": {
   "display_name": "Python 3",
   "language": "python",
   "name": "python3"
  },
  "language_info": {
   "codemirror_mode": {
    "name": "ipython",
    "version": 3
   },
   "file_extension": ".py",
   "mimetype": "text/x-python",
   "name": "python",
   "nbconvert_exporter": "python",
   "pygments_lexer": "ipython3",
<<<<<<< HEAD
   "version": "3.6.8"
=======
   "version": "3.8.12"
>>>>>>> upstream/Attar_Aidin
  }
 },
 "nbformat": 4,
 "nbformat_minor": 2
}
