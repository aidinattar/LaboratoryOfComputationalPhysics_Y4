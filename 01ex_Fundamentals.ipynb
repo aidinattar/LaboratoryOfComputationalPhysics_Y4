{
 "cells": [
  {
   "cell_type": "markdown",
   "metadata": {},
   "source": [
    "1\\. Write the following as a list comprehension"
   ]
  },
  {
   "cell_type": "code",
   "execution_count": 76,
   "metadata": {},
   "outputs": [
    {
     "name": "stdout",
     "output_type": "stream",
     "text": [
      "[(0, 0), (0, 1), (0, 2), (0, 3), (1, 0), (1, 1), (1, 2), (1, 3), (2, 0), (2, 1), (2, 2), (2, 3)]\n",
      "[0, 4, 16]\n"
     ]
    }
   ],
   "source": [
    "# 1\n",
    "ans = []\n",
    "for i in range(3):\n",
    "    for j in range(4):\n",
    "        ans.append((i, j))\n",
    "print (ans)\n",
    "\n",
    "# 2\n",
    "ans = map(lambda x: x*x, filter(lambda x: x%2 == 0, range(5)))\n",
    "print (list(ans))\n",
    "\n"
   ]
  },
  {
   "cell_type": "code",
   "execution_count": 77,
   "metadata": {},
   "outputs": [
    {
     "name": "stdout",
     "output_type": "stream",
     "text": [
      "[(0, 0), (0, 1), (0, 2), (0, 3), (1, 0), (1, 1), (1, 2), (1, 3), (2, 0), (2, 1), (2, 2), (2, 3)]\n",
      "[0, 4, 16]\n"
     ]
    }
   ],
   "source": [
    "# 1\n",
    "ans = [(i, j) for i in range(3) for j in range(4)]\n",
    "print(ans)\n",
    "\n",
    "#2\n",
    "ans = [i**2 for i in range(5) if i%2==0]\n",
    "print(ans)"
   ]
  },
  {
   "cell_type": "markdown",
   "metadata": {},
   "source": [
    "2\\. Convert the following function into a pure function with no global variables or side effects"
   ]
  },
  {
   "cell_type": "code",
   "execution_count": 78,
   "metadata": {},
   "outputs": [
    {
     "name": "stdout",
     "output_type": "stream",
     "text": [
      "[1, 2, 3, 0, 1, 2, 3, 4]\n",
      "[1, 2, 3, 0, 1, 2, 3, 4]\n"
     ]
    }
   ],
   "source": [
    "x = 5\n",
    "def f(alist):\n",
    "    for i in range(x):\n",
    "         alist.append(i)\n",
    "    return alist\n",
    "\n",
    "alist = [1,2,3]\n",
    "ans = f(alist)\n",
    "print (ans)\n",
    "print (alist) # alist has been changed!"
   ]
  },
  {
   "cell_type": "code",
   "execution_count": 79,
   "metadata": {},
   "outputs": [
    {
     "name": "stdout",
     "output_type": "stream",
     "text": [
      "[1, 2, 3, 0, 1, 2, 3, 4]\n",
      "[1, 2, 3]\n"
     ]
    }
   ],
   "source": [
    "x = 5\n",
    "def f(alist):\n",
    "    blist = alist + [i for i in range(x)]\n",
    "    return blist\n",
    "\n",
    "alist = [1,2,3]\n",
    "ans = f(alist)\n",
    "print (ans)\n",
    "print (alist) # alist hasn't been changed!"
   ]
  },
  {
   "cell_type": "markdown",
   "metadata": {},
   "source": [
    "3\\. Write a `decorator` hello that makes every wrapped function print “Hello!”, i.e. something like:\n",
    "\n",
    "```python\n",
    "@hello\n",
    "def square(x):\n",
    "    return x*x\n",
    "```\n",
    "\n"
   ]
  },
  {
   "cell_type": "code",
   "execution_count": 80,
   "metadata": {},
   "outputs": [
    {
     "name": "stdout",
     "output_type": "stream",
     "text": [
      "Hello!\n",
      "25\n"
     ]
    }
   ],
   "source": [
    "def hello(func):\n",
    "    def wrapper(*args, **kwargs):\n",
    "        print('Hello!')\n",
    "        return func(*args, **kwargs)\n",
    "    return wrapper\n",
    "\n",
    "@hello\n",
    "def square(x):\n",
    "    \"\"\"Square of x.\"\"\"\n",
    "    return x*x\n",
    "\n",
    "print(square(5))"
   ]
  },
  {
   "cell_type": "markdown",
   "metadata": {},
   "source": [
    "4\\. Write the factorial function so that it a) does and b) does not use recursion."
   ]
  },
  {
   "cell_type": "code",
   "execution_count": 81,
   "metadata": {},
   "outputs": [
    {
     "name": "stdout",
     "output_type": "stream",
     "text": [
      "[1, 1, 2, 6, 24, 120, 720, 5040, 40320, 362880]\n"
     ]
    }
   ],
   "source": [
    "def factorial_recursion(n):\n",
    "    \"\"\"Factorial with recursion.\"\"\"\n",
    "    \n",
    "    if n == 0 or n == 1:\n",
    "        return 1\n",
    "    else:\n",
    "        return n * factorial_recursion(n-1)\n",
    "\n",
    "print ([factorial_recursion(i) for i in range(10)])"
   ]
  },
  {
   "cell_type": "code",
   "execution_count": 82,
   "metadata": {},
   "outputs": [
    {
     "name": "stdout",
     "output_type": "stream",
     "text": [
      "[1, 1, 2, 6, 24, 120, 720, 5040, 40320, 362880]\n"
     ]
    }
   ],
   "source": [
    "def factorial_no_recursion(n):\n",
    "    \"\"\"Factorial without recursion.\"\"\"\n",
    "    a = 1\n",
    "    for i in range(1, n+1):\n",
    "        a *= i\n",
    "    return a\n",
    "\n",
    "print ([factorial_no_recursion(i) for i in range(10)])"
   ]
  },
  {
   "cell_type": "code",
   "execution_count": 83,
   "metadata": {},
   "outputs": [
    {
     "name": "stdout",
     "output_type": "stream",
     "text": [
      "2.29 µs ± 172 ns per loop (mean ± std. dev. of 7 runs, 100000 loops each)\n",
      "1.07 µs ± 179 ns per loop (mean ± std. dev. of 7 runs, 1000000 loops each)\n"
     ]
    }
   ],
   "source": [
    "# check indeed the timing:\n",
    "\n",
    "%timeit factorial_recursion(20)\n",
    "%timeit factorial_no_recursion(20)\n"
   ]
  },
  {
   "cell_type": "markdown",
   "metadata": {},
   "source": [
    "5\\. Use HOFs (zip in particular) to compute the weight of a circle, a disk and a sphere, assuming different radii and different densities:\n",
    "\n",
    "```python\n",
    "densities = {\"Al\":[0.5,1,2],\"Fe\":[3,4,5],\"Pb\": [15,20,30]}\n",
    "radii = [1,2,3]\n",
    "```\n",
    "\n",
    "where the entries of the dictionary's values are the linear, superficial and volumetric densities of the materials respectively.\n",
    "\n",
    "In particular define a list of three lambda functions using a comprehension that computes the circumference, the area and the volume for a given radius.\n"
   ]
  },
  {
   "cell_type": "code",
   "execution_count": 84,
   "metadata": {},
   "outputs": [
    {
     "name": "stdout",
     "output_type": "stream",
     "text": [
      "Al , radius:  1 :  [3.141592653589793, 3.141592653589793, 8.377580409572781]\n",
      "Al , radius:  2 :  [6.283185307179586, 12.566370614359172, 67.02064327658225]\n",
      "Al , radius:  3 :  [9.42477796076938, 28.274333882308138, 226.19467105846508]\n",
      "Fe , radius:  1 :  [18.84955592153876, 12.566370614359172, 20.94395102393195]\n",
      "Fe , radius:  2 :  [37.69911184307752, 50.26548245743669, 167.5516081914556]\n",
      "Fe , radius:  3 :  [56.548667764616276, 113.09733552923255, 565.4866776461627]\n",
      "Pb , radius:  1 :  [94.24777960769379, 62.83185307179586, 125.66370614359171]\n",
      "Pb , radius:  2 :  [188.49555921538757, 251.32741228718345, 1005.3096491487337]\n",
      "Pb , radius:  3 :  [282.7433388230814, 565.4866776461628, 3392.920065876976]\n"
     ]
    }
   ],
   "source": [
    "from math import pi\n",
    "\n",
    "circle = lambda r: 2   * pi * r\n",
    "disk   = lambda r:       pi * r**2\n",
    "sphere = lambda r: 4/3 * pi * r**3\n",
    "\n",
    "densities = {\"Al\":[0.5,1,2],\"Fe\":[3,4,5],\"Pb\": [15,20,30]}\n",
    "radii     = [1,2,3]\n",
    "volumes   = [[circle(i), disk(i), sphere(i)] for i in radii]\n",
    "\n",
    "M = {key:[[k*j for k,j in zip(densities[key], volumes[i])] for i in range(len(volumes))] for key in densities}\n",
    "#print(M)\n",
    "\n",
    "for key in M:\n",
    "    for i in range(len(radii)):\n",
    "        print(key, \", radius: \", radii[i], \": \", M[key][i])"
   ]
  },
  {
   "cell_type": "markdown",
   "metadata": {},
   "source": [
    "6\\. Edit the class defintion to add an instance attribute of is_hungry = True to the Dog class. Then add a method called eat() which changes the value of is_hungry to False when called. Figure out the best way to feed each dog and then output “My dogs are hungry.” if all are hungry or “My dogs are not hungry.” if all are not hungry. The final output should look like this:\n",
    "\n",
    "`I have 3 dogs. \n",
    "Tom is 6. \n",
    "Fletcher is 7. \n",
    "Larry is 9. \n",
    "And they're all mammals, of course. \n",
    "My dogs are not hungry.\n",
    "`\n",
    "\n",
    "```python\n",
    "# Parent class\n",
    "class Dog:\n",
    "\n",
    "    # Class attribute\n",
    "    species = 'mammal'\n",
    "\n",
    "    # Initializer / Instance attributes\n",
    "    def __init__(self, name, age):\n",
    "        self.name = name\n",
    "        self.age = age\n",
    "\n",
    "    # instance method\n",
    "    def description(self):\n",
    "        return \"{} is {} years old\".format(self.name, self.age)\n",
    "\n",
    "    # instance method\n",
    "    def speak(self, sound):\n",
    "        return \"{} says {}\".format(self.name, sound)\n",
    "\n",
    "# Child class (inherits from Dog class)\n",
    "class RussellTerrier(Dog):\n",
    "    def run(self, speed):\n",
    "        return \"{} runs {}\".format(self.name, speed)\n",
    "\n",
    "# Child class (inherits from Dog class)\n",
    "class Bulldog(Dog):\n",
    "    def run(self, speed):\n",
    "        return \"{} runs {}\".format(self.name, speed)\n",
    "```"
   ]
  },
  {
   "cell_type": "code",
   "execution_count": 85,
   "metadata": {},
   "outputs": [],
   "source": [
    "class Dog:\n",
    "\n",
    "    # Class attribute\n",
    "    species = 'mammal'\n",
    "    is_hungry = True\n",
    "\n",
    "    # Initializer / Instance attributes\n",
    "    def __init__(self, name, age, species = 'mammal'):\n",
    "        self.name = name\n",
    "        self.age = age\n",
    "        self.species = species\n",
    "\n",
    "    # instance method\n",
    "    def description(self):\n",
    "        return \"{} is {} years old\".format(self.name, self.age)\n",
    "\n",
    "    # instance method\n",
    "    def speak(self, sound):\n",
    "        return \"{} says {}\".format(self.name, sound)\n",
    "    \n",
    "    def eat(self):\n",
    "        self.is_hungry = False\n",
    "\n",
    "# Child class (inherits from Dog class)\n",
    "class RussellTerrier(Dog):\n",
    "    def run(self, speed):\n",
    "        return \"{} runs {}\".format(self.name, speed)\n",
    "\n",
    "# Child class (inherits from Dog class)\n",
    "class Bulldog(Dog):\n",
    "    def run(self, speed):\n",
    "        return \"{} runs {}\".format(self.name, speed)\n",
    "\n",
    "def are_mammals(Dogs):\n",
    "    for d in Dogs:\n",
    "        if d.species != 'mammal':\n",
    "            return \"They are not all mammals, what kind of dogs are that?\"\n",
    "    return \"And they are all mammals, of course.\"\n",
    "\n",
    "def feed(d):\n",
    "    print('... Feeding', d.name, ' ...')\n",
    "    if d.is_hungry == True:\n",
    "        d.eat()\n",
    "        \n",
    "def all_true(ans):\n",
    "    for a in ans:\n",
    "        if a == False:\n",
    "            return False\n",
    "    return True\n",
    "\n",
    "def all_false(ans):\n",
    "    for a in ans:\n",
    "        if a == True:\n",
    "            return False\n",
    "    return True\n",
    "    \n",
    "def are_hungry(Dogs):\n",
    "    ans = [d.is_hungry for d in Dogs]\n",
    "    if all_true(ans) == True:\n",
    "        return 'My dogs are all hungry.'\n",
    "    elif all_false(ans) == True:\n",
    "        return 'My dogs are not hungry.'\n",
    "    else:\n",
    "        return 'There is at least a hungry and a not hungry dog.'"
   ]
  },
  {
   "cell_type": "code",
   "execution_count": 86,
   "metadata": {},
   "outputs": [
    {
     "name": "stdout",
     "output_type": "stream",
     "text": [
      "I have 3 dogs.\n",
      "Tom is 6 years old\n",
      "Fletcher is 7 years old\n",
      "Larry is 9 years old\n",
      "And they are all mammals, of course.\n",
      "My dogs are all hungry.\n",
      "... Feeding Tom  ...\n",
      "... Feeding Fletcher  ...\n",
      "... Feeding Larry  ...\n",
      "My dogs are not hungry.\n"
     ]
    }
   ],
   "source": [
    "Tom      = Dog(\"Tom\",      6)\n",
    "Fletcher = Dog(\"Fletcher\", 7)\n",
    "Larry    = Dog(\"Larry\",    9)\n",
    "\n",
    "Dogs = [Tom, Fletcher, Larry]\n",
    "print('I have', len(Dogs), 'dogs.')\n",
    "for d in Dogs:\n",
    "    print(d.description())\n",
    "print(are_mammals(Dogs))\n",
    "print(are_hungry(Dogs))\n",
    "for d in Dogs:\n",
    "    feed(d)\n",
    "print(are_hungry(Dogs))"
   ]
  },
  {
   "cell_type": "code",
   "execution_count": 89,
   "metadata": {},
   "outputs": [
    {
     "name": "stdout",
     "output_type": "stream",
     "text": [
      "I have 3 dogs.\n",
      "Tom is 6 years old\n",
      "Fletcher is 7 years old\n",
      "Larry is 9 years old\n",
      "Tom says oof\n",
      "Fletcher says ....\n",
      "Larry says Oof\n",
      "Larry runs 45 km/h\n",
      "They are not all mammals, what kind of dogs are that?\n",
      "My dogs are all hungry.\n",
      "... Feeding Fletcher  ...\n",
      "But Fletcher, you ate all of it! There is no more food for your comrades!\n",
      "There is at least a hungry and a not hungry dog.\n"
     ]
    }
   ],
   "source": [
    "Tom      = Dog(\"Tom\",      6)\n",
    "Fletcher = Dog(\"Fletcher\", 7, 'reptile')\n",
    "Larry    = Bulldog(\"Larry\",    9)\n",
    "\n",
    "Dogs = [Tom, Fletcher, Larry]\n",
    "print('I have', len(Dogs), 'dogs.')\n",
    "for d in Dogs:\n",
    "    print(d.description())\n",
    "\n",
    "print(Tom.speak('oof'))\n",
    "print(Fletcher.speak('....'))\n",
    "print(Larry.speak('Oof'))\n",
    "\n",
    "print(Larry.run('45 km/h'))\n",
    "\n",
    "print(are_mammals(Dogs))\n",
    "print(are_hungry(Dogs))\n",
    "feed(Fletcher)\n",
    "print('But {}, you ate all of it! There is no more food for your comrades!'.format(Fletcher.name))\n",
    "print(are_hungry(Dogs))"
   ]
  },
  {
   "cell_type": "code",
   "execution_count": null,
   "metadata": {},
   "outputs": [],
   "source": []
  }
 ],
 "metadata": {
  "kernelspec": {
   "display_name": "Python 3 (ipykernel)",
   "language": "python",
   "name": "python3"
  },
  "language_info": {
   "codemirror_mode": {
    "name": "ipython",
    "version": 3
   },
   "file_extension": ".py",
   "mimetype": "text/x-python",
   "name": "python",
   "nbconvert_exporter": "python",
   "pygments_lexer": "ipython3",
   "version": "3.8.5"
  }
 },
 "nbformat": 4,
 "nbformat_minor": 4
}
