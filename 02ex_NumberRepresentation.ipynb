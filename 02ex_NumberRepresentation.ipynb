{
 "cells": [
  {
   "cell_type": "markdown",
   "metadata": {},
   "source": [
    "1\\. Write a function that converts number representation (bin<->dec<->hex)"
   ]
  },
  {
   "cell_type": "code",
   "execution_count": 2,
   "metadata": {},
   "outputs": [
    {
     "name": "stdout",
     "output_type": "stream",
     "text": [
      "2662492504\n",
      "38DEB72\n",
      "240\n",
      "F0\n",
      "010011110101100100110100101011000\n"
     ]
    }
   ],
   "source": [
    "def decbin(x):\n",
    "    '''converts from decimal to binary'''\n",
    "    a = ''\n",
    "    if x < 0:\n",
    "        sign = 1\n",
    "        x = -x\n",
    "    else:\n",
    "        sign = 0\n",
    "    while x != 0:\n",
    "        a += str(x % 2)\n",
    "        x = x // 2\n",
    "        #print(x)\n",
    "    while len(a) < 7:\n",
    "        a += '0'\n",
    "    a += str(sign)\n",
    "    return a[::-1]\n",
    "\n",
    "def bindec(x):\n",
    "    '''converts binary tro decimal'''\n",
    "    strx = str(x)[::-1]\n",
    "    b = 0\n",
    "    for i in range(len(strx)):\n",
    "        b += int(strx[i]) * 2**i\n",
    "    return b\n",
    "\n",
    "def dechex(x):\n",
    "    '''converts decimal to hexadecimal'''\n",
    "    a = ''\n",
    "    hexa = ['0', '1', '2', '3', '4', '5', '6', '7',\n",
    "            '8', '9', 'A', 'B', 'C', 'D', 'E', 'F']\n",
    "    if x < 16 and x >= 0:\n",
    "        return hexa[x]\n",
    "    elif x >= 16:\n",
    "        while x != 0:\n",
    "            a += str(hexa[x % 16])\n",
    "            x = x // 16\n",
    "            #print(str(x % 16))\n",
    "        return a[::-1]\n",
    "    else:\n",
    "        return \"Don't know how to handle the sign yet.\"\n",
    "    \n",
    "def hexdec(x):\n",
    "    '''converts hexadecimal to decimal'''\n",
    "    hexa = ['0', '1', '2', '3', '4', '5', '6', '7',\n",
    "            '8', '9', 'A', 'B', 'C', 'D', 'E', 'F']\n",
    "    strx = str(x)[::-1].upper()\n",
    "    deca = []\n",
    "    for i in strx:\n",
    "        for j in range(len(hexa)):\n",
    "            if i == hexa[j]:\n",
    "                deca.append(j)\n",
    "    b = 0\n",
    "    for i in range(len(strx)):\n",
    "        b += int(deca[i]) * 16**i\n",
    "    return b \n",
    "\n",
    "def convert(x, ini = 'dec', fin = 'bin'):\n",
    "    if ini == 'dec' and fin == 'bin':\n",
    "        return decbin(x)\n",
    "    \n",
    "    elif ini == 'bin' and fin == 'dec':\n",
    "        return bindec(x)    \n",
    "            \n",
    "    elif ini == 'dec' and fin == 'hex':\n",
    "        return dechex(x)    \n",
    "    \n",
    "    elif ini == 'hex' and fin == 'dec':\n",
    "        return hexdec(x)\n",
    "    \n",
    "    elif ini == 'bin' and fin == 'hex':\n",
    "        return dechex(bindec(x))\n",
    "    \n",
    "    elif ini == 'hex' and fin == 'bin':\n",
    "        return decbin(hexdec(x))\n",
    "        \n",
    "    else:\n",
    "        return 'Wrong arguments, check again'\n",
    "\n",
    "print(convert('9eb26958', 'hex', 'dec'))\n",
    "print(convert( 59632498 , 'dec', 'hex'))\n",
    "print(convert( 11110000 , 'bin', 'dec'))\n",
    "print(convert( 11110000 , 'bin', 'hex'))\n",
    "print(convert('9eb26958', 'hex', 'bin'))"
   ]
  },
  {
   "cell_type": "markdown",
   "metadata": {},
   "source": [
    "2\\. Write a function that converts a 32 bit word into a single precision floating point (i.e. interprets the various bits as sign, mantissa and exponent)"
   ]
  },
  {
   "cell_type": "code",
   "execution_count": 3,
   "metadata": {},
   "outputs": [
    {
     "name": "stdout",
     "output_type": "stream",
     "text": [
      "11511746527232.0\n"
     ]
    }
   ],
   "source": [
    "def reader_32_bit(string):\n",
    "    '''converts 32 bit numbers to decimal'''\n",
    "    if len(string) != 32:\n",
    "        return 'Error: wrong number of bits ' + str(len(string))\n",
    "    if string[0] == '0':\n",
    "        s = 1\n",
    "    else:\n",
    "        s = -1\n",
    "    e = int(string[1:9],2)-127\n",
    "    M = string[9:]\n",
    "    m = 1\n",
    "    for i in range(len(M)):\n",
    "        m += int(M[i],10)*2**(-i-1)\n",
    "    return s*m*2**e\n",
    "\n",
    "a = '01010101001001111000010010011001'\n",
    "print(reader_32_bit(a))"
   ]
  },
  {
   "cell_type": "markdown",
   "metadata": {},
   "source": [
    "3\\. Write a program to determine the underflow and overflow limits (within a factor of 2) for python on your computer. \n",
    "\n",
    "**Tips**: define two variables inizialized to 1 and halve/double them enough time to exceed the under/over-flow limits  "
   ]
  },
  {
   "cell_type": "code",
   "execution_count": 4,
   "metadata": {},
   "outputs": [
    {
     "name": "stdout",
     "output_type": "stream",
     "text": [
      "Overflow:  8.98846567431158e+307\n",
      "Underflow:  5e-324\n"
     ]
    }
   ],
   "source": [
    "a = 1.\n",
    "\n",
    "while a - a == 0:\n",
    "    b  = a\n",
    "    a *= 2\n",
    "print('Overflow: ', b)\n",
    "\n",
    "a = 1.\n",
    "\n",
    "while a != 0:\n",
    "    b = a\n",
    "    a /= 2\n",
    "\n",
    "print('Underflow: ', b)"
   ]
  },
  {
   "cell_type": "markdown",
   "metadata": {},
   "source": [
    "4\\. Write a program to determine the machine precision\n",
    "\n",
    "**Tips**: define a new variable by adding a smaller and smaller value (proceeding similarly to prob. 2) to an original variable and check the point where the two are the same "
   ]
  },
  {
   "cell_type": "code",
   "execution_count": 11,
   "metadata": {},
   "outputs": [
    {
     "name": "stdout",
     "output_type": "stream",
     "text": [
      "Machine precision:  1.1102230246251565e-16\n"
     ]
    }
   ],
   "source": [
    "prc = 1\n",
    "while prc + 1 != 1:\n",
    "    prc /= 2\n",
    "print('Machine precision: ', prc)"
   ]
  },
  {
   "cell_type": "markdown",
   "metadata": {},
   "source": [
    "5\\. Write a function that takes in input three parameters $a$, $b$ and $c$ and prints out the two solutions to the quadratic equation $ax^2+bx+c=0$ using the standard formula:\n",
    "$$\n",
    "x=\\frac{-b\\pm\\sqrt{b^2-4ac}}{2a}\n",
    "$$\n",
    "\n",
    "(a) use the program to compute the solution for $a=0.001$, $b=1000$ and $c=0.001$\n",
    "\n",
    "(b) re-express the standard solution formula by multiplying top and bottom by $-b\\mp\\sqrt{b^2-4ac}$ and again find the solution for $a=0.001$, $b=1000$ and $c=0.001$. How does it compare with what previously obtained? Why?\n",
    "\n",
    "(c) write a function that compute the roots of a quadratic equation accurately in all cases"
   ]
  },
  {
   "cell_type": "code",
   "execution_count": 6,
   "metadata": {},
   "outputs": [
    {
     "name": "stdout",
     "output_type": "stream",
     "text": [
      "x1 =  -999999.999999 x2 = -9.999894245993346e-07\n",
      "x1 =  -1000010.5755125057 x2 = -1.000000000001e-06\n",
      "x1 =  -999999.999999 x2 = -1.000000000001e-06\n"
     ]
    }
   ],
   "source": [
    "import math\n",
    "def quad1(a, b, c):\n",
    "    '''compute solutions in the first way'''\n",
    "    x1 = (-b - math.sqrt(b*b - 4*a*c)) / (2*a)\n",
    "    x2 = (-b + math.sqrt(b*b - 4*a*c)) / (2*a)\n",
    "    return x1, x2\n",
    "\n",
    "def quad2(a, b, c):\n",
    "    '''compute solutions in the second way'''\n",
    "    x1 = 2*c / (-b + math.sqrt(b*b - 4*a*c))\n",
    "    x2 = 2*c / (-b - math.sqrt(b*b - 4*a*c))\n",
    "    return x1, x2\n",
    "\n",
    "def quad3(a, b, c):\n",
    "    '''compute solutions in the best way'''\n",
    "    x1 = (-b - math.sqrt(b*b - 4*a*c)) / (2*a)\n",
    "    x2 = 2*c / (-b - math.sqrt(b*b - 4*a*c))\n",
    "    return x1, x2\n",
    "\n",
    "X1, X2 = quad1(0.001,1000,0.001)\n",
    "print('x1 = ',X1, 'x2 =', X2)\n",
    "#X1 accurate, X2 not accurate\n",
    "\n",
    "X1, X2 = quad2(0.001,1000,0.001)\n",
    "print('x1 = ',X1, 'x2 =', X2)\n",
    "#X1 not accurate, X2 accurate\n",
    "\n",
    "    \n",
    "X1, X2 = quad3(0.001,1000,0.001)\n",
    "print('x1 = ',X1, 'x2 =', X2)"
   ]
  },
  {
   "cell_type": "markdown",
   "metadata": {},
   "source": [
    "The problem is in the evalutation of \n",
    "$$\n",
    "-b + \\sqrt{b^2 - 4ac}\n",
    "$$\n",
    "that approaches to 0"
   ]
  },
  {
   "cell_type": "markdown",
   "metadata": {},
   "source": [
    "6\\. Write a program that implements the function $f(x)=x(x−1)$\n",
    "\n",
    "(a) Calculate the derivative of the function at the point $x = 1$ using the derivative definition:\n",
    "\n",
    "$$\n",
    "\\frac{{\\rm d}f}{{\\rm d}x} = \\lim_{\\delta\\to0} \\frac{f(x+\\delta)-f(x)}{\\delta}\n",
    "$$\n",
    "\n",
    "with $\\delta = 10^{−2}$. Calculate the true value of the same derivative analytically and compare with the answer your program gives. The two will not agree perfectly. Why not?\n",
    "\n",
    "(b) Repeat the calculation for $\\delta = 10^{−4}, 10^{−6}, 10^{−8}, 10^{−10}, 10^{−12}$ and $10^{−14}$. How does the accuracy scales with $\\delta$?"
   ]
  },
  {
   "cell_type": "code",
   "execution_count": 7,
   "metadata": {},
   "outputs": [
    {
     "name": "stdout",
     "output_type": "stream",
     "text": [
      "1.010000000000001\n",
      "1.010000000000001\n",
      "1.0000999999998899\n",
      "1.0000009999177333\n",
      "1.0000000039225287\n",
      "1.000000082840371\n",
      "1.0000889005833413\n",
      "0.9992007221626509\n",
      "\n",
      "Computed value for 𝛿 = 10e-14:  9.992007221626508e-15 different from the true value: 1.00000000000001e-14\n"
     ]
    },
    {
     "data": {
      "image/png": "[encoded data removed]",
      "text/plain": [
       "<Figure size 432x288 with 1 Axes>"
      ]
     },
     "metadata": {
      "needs_background": "light"
     },
     "output_type": "display_data"
    }
   ],
   "source": [
    "def f(x):\n",
    "    '''compute the function value'''\n",
    "    return x*(x-1)\n",
    "\n",
    "𝛿  = 10**(-2)\n",
    "df = (f(1+𝛿) - f(1)) / 𝛿\n",
    "print(df)\n",
    "\n",
    "l = [-2, -4, -6, -8, -10, -12, -14]\n",
    "m =[]\n",
    "for i in l:\n",
    "    𝛿 = 10**i\n",
    "    m.append((f(1+𝛿) - f(1)) / 𝛿 - 1)\n",
    "    print((f(1+𝛿) - f(1)) / 𝛿)\n",
    "\n",
    "print(\"\\nComputed value for 𝛿 = 10e-14: \", f(1+10**(-14)), \"different from the true value:\", 1.00000000000001e-14)\n",
    "\n",
    "import matplotlib.pyplot as plt\n",
    "\n",
    "#Print the difference from the true value\n",
    "plt.plot(l, m)\n",
    "plt.show()"
   ]
  },
  {
   "cell_type": "markdown",
   "metadata": {},
   "source": [
    "Mathematically the derivative compute goes progressively better decreasing the value of $\\delta$, hence the difference from the true value is better for $10^{-4}$ than $10^{-2}$.\n",
    "Reducing too much the value of $\\delta$ the accuracy goes worse because we are making operations beetwen numbers of very different magnitude."
   ]
  },
  {
   "cell_type": "markdown",
   "metadata": {},
   "source": [
    "7\\. Consider the integral of the semicircle of radius 1:\n",
    "$$\n",
    "I=\\int_{-1}^{1} \\sqrt(1-x^2) {\\rm d}x\n",
    "$$\n",
    "which it's known to be $I=\\frac{\\pi}{2}=1.57079632679...$.\n",
    "Alternatively we can use the Riemann definition of the integral:\n",
    "$$\n",
    "I=\\lim_{N\\to\\infty} \\sum_{k=1}^{N} h y_k \n",
    "$$\n",
    "\n",
    "with $h=2/N$ the width of each of the $N$ slices the domain is divided into and where\n",
    "$y_k$ is the value of the function at the $k-$th slice.\n",
    "\n",
    "(a) Write a programe to compute the integral with $N=100$. How does the result compares to the true value?\n",
    "\n",
    "(b) How much can $N$ be increased if the computation needs to be run in less than a second? What is the gain in running it for 1 minute? \n"
   ]
  },
  {
   "cell_type": "code",
   "execution_count": 14,
   "metadata": {},
   "outputs": [
    {
     "name": "stdout",
     "output_type": "stream",
     "text": [
      "True value =  1.5707963267948966\n",
      "\n",
      "N = 100 computation:  1.5712827762297958\n",
      "Delta =  0.00048644943489928316\n",
      "1.5708117284099565\n",
      "702 µs ± 10.6 µs per loop (mean ± std. dev. of 7 runs, 1000 loops each)\n",
      "1.5707968138960273\n",
      "7.09 ms ± 191 µs per loop (mean ± std. dev. of 7 runs, 100 loops each)\n",
      "1.5707963421985762\n",
      "73.4 ms ± 771 µs per loop (mean ± std. dev. of 7 runs, 10 loops each)\n",
      "1.570796327282045\n",
      "770 ms ± 9.77 ms per loop (mean ± std. dev. of 7 runs, 1 loop each)\n",
      "1.5707963268100595\n",
      "7.65 s ± 124 ms per loop (mean ± std. dev. of 7 runs, 1 loop each)\n",
      "\n",
      "1 s computation:  1.5707963271654952\n",
      "Delta =  3.7059866286881515e-10\n",
      "897 ms ± 5.2 ms per loop (mean ± std. dev. of 7 runs, 1 loop each)\n",
      "\n",
      "1 min computation:  1.570796326795324\n",
      "Delta =  4.2743586448068527e-13\n"
     ]
    }
   ],
   "source": [
    "value = math.pi/2\n",
    "print(\"True value = \", value)\n",
    "\n",
    "def func(x):\n",
    "    '''evaluate the function value'''\n",
    "    return math.sqrt(1-x**2)\n",
    "\n",
    "def integral(N):\n",
    "    '''evaluate the integral by Riemann definition'''\n",
    "    h = 2/N\n",
    "    l = [-1 + h/2 + i*h for i in range(N)]\n",
    "    Y = [h * func(i) for i in l]\n",
    "    return sum(Y)\n",
    "\n",
    "N = 100\n",
    "I = integral(N)\n",
    "print(\"\\nN = 100 computation: \", I)\n",
    "\n",
    "Delta = I - value\n",
    "print(\"Delta = \", Delta)\n",
    "\n",
    "l = [3, 4, 5, 6, 7]\n",
    "for i in l:\n",
    "    print(integral(10**i))\n",
    "    %timeit integral(10**i)\n",
    "\n",
    "# 1 second computation\n",
    "N = 12*10**5\n",
    "I = integral(N)\n",
    "print(\"\\n1 s computation: \", I)\n",
    "Delta = I - value\n",
    "print(\"Delta = \", Delta)\n",
    "#%timeit integral(N)\n",
    "\n",
    "# 1 minute computation\n",
    "N = 8*10**7\n",
    "I = integral(N)\n",
    "print(\"\\n1 min computation: \", I)\n",
    "Delta = I - value\n",
    "print(\"Delta = \", Delta)"
   ]
  },
  {
   "cell_type": "code",
   "execution_count": null,
   "metadata": {},
   "outputs": [],
   "source": []
  }
 ],
 "metadata": {
  "kernelspec": {
   "display_name": "Python 3 (ipykernel)",
   "language": "python",
   "name": "python3"
  },
  "language_info": {
   "codemirror_mode": {
    "name": "ipython",
    "version": 3
   },
   "file_extension": ".py",
   "mimetype": "text/x-python",
   "name": "python",
   "nbconvert_exporter": "python",
   "pygments_lexer": "ipython3",
   "version": "3.8.5"
  }
 },
 "nbformat": 4,
 "nbformat_minor": 2
}
